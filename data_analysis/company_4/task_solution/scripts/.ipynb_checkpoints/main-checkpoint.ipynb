{
 "cells": [
  {
   "cell_type": "code",
   "execution_count": null,
   "metadata": {},
   "outputs": [],
   "source": [
    "import pandas as pd\n",
    "import numpy as np\n",
    "from scipy.stats import norm"
   ]
  },
  {
   "cell_type": "code",
   "execution_count": null,
   "metadata": {},
   "outputs": [],
   "source": [
    "exp_data = pd.read_csv(\"data_analysis/company_4/Task_solution/data/experiment_raw.csv\",\n",
    "                       parse_dates=[\"date\"])"
   ]
  },
  {
   "cell_type": "code",
   "execution_count": null,
   "metadata": {},
   "outputs": [],
   "source": [
    "def get_confidence_ab(df):\n",
    "    rate_old = df.iloc[0, 0] / df.iloc[0, 1]\n",
    "    rate_new = df.iloc[1, 0] / df.iloc[1, 1]\n",
    "    std_old = np.sqrt(rate_old * (1 - rate_old) / df.iloc[0, 1])\n",
    "    std_new = np.sqrt(rate_new * (1 - rate_new) / df.iloc[1, 1])\n",
    "    z_score = (rate_new - rate_old) / np.sqrt(std_old**2 + std_new**2)\n",
    "    return norm.cdf(z_score)"
   ]
  },
  {
   "cell_type": "code",
   "execution_count": null,
   "metadata": {},
   "outputs": [],
   "source": [
    "def print_ab_results(data,\n",
    "                     key,\n",
    "                     strategy=\"periods\",\n",
    "                     freq=\"1M\",\n",
    "                     param_list=None):\n",
    "    if strategy == \"periods\":\n",
    "        groups = (data\n",
    "                  .groupby([\"experiment_mobile_checkout_theme\",\n",
    "                            pd.Grouper(key=\"date\", freq=freq)])[key])\n",
    "    elif strategy == \"features\":\n",
    "        groups = data.groupby(param_list)[key]\n",
    "\n",
    "    groupped = (groups\n",
    "                .agg([\"sum\", \"size\"])\n",
    "                .sort_index(level=-1,\n",
    "                            sort_remaining=True,\n",
    "                            ascending=False))\n",
    "\n",
    "    for idx, df_select in groupped.groupby(level=-1):\n",
    "        print(\"B's conversion as for '{}' estimated by '{}' is better with {:.1%} confidence\"\n",
    "              .format(idx, key, get_confidence_ab(df_select)))"
   ]
  },
  {
   "cell_type": "code",
   "execution_count": null,
   "metadata": {},
   "outputs": [],
   "source": [
    "print_ab_results(data=exp_data,\n",
    "                 key=\"transaction_success\")\n"
   ]
  }
 ],
 "metadata": {
  "anaconda-cloud": {},
  "kernelspec": {
   "display_name": "Python 3 (Spyder)",
   "language": "python3",
   "name": "python3"
  },
  "language_info": {
   "codemirror_mode": {
    "name": "ipython",
    "version": 3
   },
   "file_extension": ".py",
   "mimetype": "text/x-python",
   "name": "python",
   "nbconvert_exporter": "python",
   "pygments_lexer": "ipython3",
   "version": "3.6.1"
  }
 },
 "nbformat": 4,
 "nbformat_minor": 1
}
