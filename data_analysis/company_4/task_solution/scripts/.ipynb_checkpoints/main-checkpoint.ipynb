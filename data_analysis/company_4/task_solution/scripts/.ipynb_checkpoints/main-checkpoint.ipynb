{
 "cells": [
  {
   "cell_type": "code",
   "execution_count": 1,
   "metadata": {},
   "outputs": [],
   "source": [
    "import pandas as pd\n",
    "import numpy as np\n",
    "from scipy.stats import norm"
   ]
  },
  {
   "cell_type": "markdown",
   "metadata": {},
   "source": [
    "## Loading data"
   ]
  },
  {
   "cell_type": "code",
   "execution_count": 2,
   "metadata": {},
   "outputs": [],
   "source": [
    "exp_data = pd.read_csv(\"https://raw.githubusercontent.com/woldemarg/ds_tests/master/data_analysis/company_4/task_solution/data/experiment_raw.csv\",\n",
    "                       parse_dates=[\"date\"])"
   ]
  },
  {
   "cell_type": "markdown",
   "metadata": {},
   "source": [
    "## Get confidence score\n",
    "* [see reference #1](https://cosmiccoding.com.au/tutorials/ab_tests)\n",
    "* [see reference #2](https://towardsdatascience.com/the-math-behind-a-b-testing-with-example-code-part-1-of-2-7be752e1d06f)"
   ]
  },
  {
   "cell_type": "code",
   "execution_count": 11,
   "metadata": {},
   "outputs": [],
   "source": [
    "def get_confidence_ab(df):\n",
    "    rate_old = df.iloc[0, 0] / df.iloc[0, 1]\n",
    "    rate_new = df.iloc[1, 0] / df.iloc[1, 1]\n",
    "    std_old = np.sqrt(rate_old * (1 - rate_old) / df.iloc[0, 1])\n",
    "    std_new = np.sqrt(rate_new * (1 - rate_new) / df.iloc[1, 1])\n",
    "    z_score = (rate_new - rate_old) / np.sqrt(std_old**2 + std_new**2)\n",
    "    return norm.cdf(z_score)"
   ]
  },
  {
   "cell_type": "markdown",
   "metadata": {},
   "source": [
    "## Function to perform analysis with different params"
   ]
  },
  {
   "cell_type": "code",
   "execution_count": 4,
   "metadata": {},
   "outputs": [],
   "source": [
    "def print_ab_results(data,\n",
    "                     key,\n",
    "                     strategy=\"periods\",\n",
    "                     freq=\"1M\",\n",
    "                     param_list=[]):\n",
    "    if strategy == \"periods\":\n",
    "        groups = (data\n",
    "                  .groupby([\"experiment_mobile_checkout_theme\",\n",
    "                            pd.Grouper(key=\"date\", freq=freq)],\n",
    "                           sort=False)[key])\n",
    "    elif strategy == \"features\":\n",
    "        groups = data.groupby(param_list,\n",
    "                              sort=False)[key]\n",
    "\n",
    "    groupped = (groups\n",
    "                .agg([\"sum\", \"size\"])\n",
    "                .sort_index(level=-1,\n",
    "                            sort_remaining=True,\n",
    "                            ascending=False))\n",
    "\n",
    "    if len(param_list) == 0 or len(param_list) > 1:\n",
    "        for idx, df_select in groupped.groupby(level=-1, axis=0):\n",
    "            print(\"B's conversion as for '{}' estimated by '{}' is better with {:.1%} confidence\"\n",
    "                  .format(idx, key, get_confidence_ab(df_select)))\n",
    "    else:\n",
    "        print(\"B's conversion estimated by '{}' is better with {:.1%} confidence\"\n",
    "              .format(key, get_confidence_ab(groupped)))"
   ]
  },
  {
   "cell_type": "markdown",
   "metadata": {},
   "source": [
    "## Tasks"
   ]
  },
  {
   "cell_type": "markdown",
   "metadata": {},
   "source": [
    "1) Выбрать релевантный тест и определить есть ли статистически значимая разница между ветками эксперимента по уровню **попыток покупки** ..."
   ]
  },
  {
   "cell_type": "code",
   "execution_count": 5,
   "metadata": {},
   "outputs": [
    {
     "name": "stdout",
     "output_type": "stream",
     "text": [
      "B's conversion estimated by 'transaction_try' is better with 100.0% confidence\n"
     ]
    }
   ],
   "source": [
    "print_ab_results(data=exp_data,                 \n",
    "                 key=\"transaction_try\",\n",
    "                 strategy=\"features\",\n",
    "                param_list=[\"experiment_mobile_checkout_theme\"])\n"
   ]
  },
  {
   "cell_type": "markdown",
   "metadata": {},
   "source": [
    "... и уровню **успешных покупок**"
   ]
  },
  {
   "cell_type": "code",
   "execution_count": 6,
   "metadata": {},
   "outputs": [
    {
     "name": "stdout",
     "output_type": "stream",
     "text": [
      "B's conversion estimated by 'transaction_success' is better with 99.9% confidence\n"
     ]
    }
   ],
   "source": [
    "print_ab_results(data=exp_data,                 \n",
    "                 key=\"transaction_success\", #!\n",
    "                 strategy=\"features\",\n",
    "                param_list=[\"experiment_mobile_checkout_theme\"])"
   ]
  },
  {
   "cell_type": "markdown",
   "metadata": {},
   "source": [
    "2) Проверить эффект в разрезе операционных систем (**попытки покупки**)"
   ]
  },
  {
   "cell_type": "code",
   "execution_count": 7,
   "metadata": {},
   "outputs": [
    {
     "name": "stdout",
     "output_type": "stream",
     "text": [
      "B's conversion as for 'android' estimated by 'transaction_try' is better with 100.0% confidence\n",
      "B's conversion as for 'ios' estimated by 'transaction_try' is better with 100.0% confidence\n"
     ]
    }
   ],
   "source": [
    "print_ab_results(data=exp_data,                 \n",
    "                 key=\"transaction_try\",\n",
    "                 strategy=\"features\",\n",
    "                param_list=[\"experiment_mobile_checkout_theme\", \"os\"])"
   ]
  },
  {
   "cell_type": "markdown",
   "metadata": {},
   "source": [
    "2) Проверить эффект в разрезе операционных систем (**успешные покупки**)"
   ]
  },
  {
   "cell_type": "code",
   "execution_count": 8,
   "metadata": {},
   "outputs": [
    {
     "name": "stdout",
     "output_type": "stream",
     "text": [
      "B's conversion as for 'android' estimated by 'transaction_success' is better with 98.4% confidence\n",
      "B's conversion as for 'ios' estimated by 'transaction_success' is better with 98.9% confidence\n"
     ]
    }
   ],
   "source": [
    "print_ab_results(data=exp_data,                 \n",
    "                 key=\"transaction_success\",\n",
    "                 strategy=\"features\",\n",
    "                param_list=[\"experiment_mobile_checkout_theme\", \"os\"]) #!"
   ]
  },
  {
   "cell_type": "markdown",
   "metadata": {},
   "source": [
    "3) Проверить устойчивость эффекта во времени (**попытки покупки**)"
   ]
  },
  {
   "cell_type": "code",
   "execution_count": 9,
   "metadata": {},
   "outputs": [
    {
     "name": "stdout",
     "output_type": "stream",
     "text": [
      "B's conversion as for '2020-04-30 00:00:00' estimated by 'transaction_try' is better with 94.1% confidence\n",
      "B's conversion as for '2020-05-31 00:00:00' estimated by 'transaction_try' is better with 100.0% confidence\n"
     ]
    }
   ],
   "source": [
    "print_ab_results(data=exp_data,                 \n",
    "                 key=\"transaction_try\")"
   ]
  },
  {
   "cell_type": "markdown",
   "metadata": {},
   "source": [
    "3) Проверить устойчивость эффекта во времени (**успешные покупки**)"
   ]
  },
  {
   "cell_type": "code",
   "execution_count": 10,
   "metadata": {},
   "outputs": [
    {
     "name": "stdout",
     "output_type": "stream",
     "text": [
      "B's conversion as for '2020-04-30 00:00:00' estimated by 'transaction_success' is better with 36.3% confidence\n",
      "B's conversion as for '2020-05-31 00:00:00' estimated by 'transaction_success' is better with 99.9% confidence\n"
     ]
    }
   ],
   "source": [
    "print_ab_results(data=exp_data,                 \n",
    "                 key=\"transaction_success\") #!"
   ]
  },
  {
   "cell_type": "markdown",
   "metadata": {},
   "source": [
    "Похоже, в апреле эффект от дизайна \"B\" был менее значимым. Возможно, пользователи привыкали к новому интерфейсу"
   ]
  }
 ],
 "metadata": {
  "anaconda-cloud": {},
  "kernelspec": {
   "display_name": "Python 3 (Spyder)",
   "language": "python3",
   "name": "python3"
  },
  "language_info": {
   "codemirror_mode": {
    "name": "ipython",
    "version": 3
   },
   "file_extension": ".py",
   "mimetype": "text/x-python",
   "name": "python",
   "nbconvert_exporter": "python",
   "pygments_lexer": "ipython3",
   "version": "3.7.7"
  }
 },
 "nbformat": 4,
 "nbformat_minor": 1
}
