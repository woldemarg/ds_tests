{
 "cells": [
  {
   "cell_type": "code",
   "execution_count": 1,
   "metadata": {},
   "outputs": [],
   "source": [
    "import pandas as pd\n",
    "import numpy as np\n",
    "from scipy.stats import norm"
   ]
  },
  {
   "cell_type": "markdown",
   "metadata": {},
   "source": [
    "## Loading data"
   ]
  },
  {
   "cell_type": "code",
   "execution_count": 2,
   "metadata": {},
   "outputs": [],
   "source": [
    "exp_data = pd.read_csv(\"https://raw.githubusercontent.com/woldemarg/ds_tests/master/data_analysis/company_4/task_solution/data/experiment_raw.csv\",\n",
    "                       parse_dates=[\"date\"])"
   ]
  },
  {
   "cell_type": "code",
   "execution_count": 3,
   "metadata": {},
   "outputs": [
    {
     "data": {
      "text/plain": [
       "(27954, 7)"
      ]
     },
     "execution_count": 3,
     "metadata": {},
     "output_type": "execute_result"
    }
   ],
   "source": [
    "exp_data.shape"
   ]
  },
  {
   "cell_type": "code",
   "execution_count": 4,
   "metadata": {},
   "outputs": [
    {
     "data": {
      "text/html": [
       "<div>\n",
       "<style scoped>\n",
       "    .dataframe tbody tr th:only-of-type {\n",
       "        vertical-align: middle;\n",
       "    }\n",
       "\n",
       "    .dataframe tbody tr th {\n",
       "        vertical-align: top;\n",
       "    }\n",
       "\n",
       "    .dataframe thead th {\n",
       "        text-align: right;\n",
       "    }\n",
       "</style>\n",
       "<table border=\"1\" class=\"dataframe\">\n",
       "  <thead>\n",
       "    <tr style=\"text-align: right;\">\n",
       "      <th></th>\n",
       "      <th>id</th>\n",
       "      <th>date</th>\n",
       "      <th>country</th>\n",
       "      <th>os</th>\n",
       "      <th>experiment_mobile_checkout_theme</th>\n",
       "      <th>transaction_try</th>\n",
       "      <th>transaction_success</th>\n",
       "    </tr>\n",
       "  </thead>\n",
       "  <tbody>\n",
       "    <tr>\n",
       "      <th>0</th>\n",
       "      <td>10500155</td>\n",
       "      <td>2020-05-21</td>\n",
       "      <td>USA</td>\n",
       "      <td>android</td>\n",
       "      <td>mobile_checkout_theme_old</td>\n",
       "      <td>0</td>\n",
       "      <td>0</td>\n",
       "    </tr>\n",
       "    <tr>\n",
       "      <th>1</th>\n",
       "      <td>10500150</td>\n",
       "      <td>2020-05-21</td>\n",
       "      <td>USA</td>\n",
       "      <td>ios</td>\n",
       "      <td>mobile_checkout_theme_new</td>\n",
       "      <td>0</td>\n",
       "      <td>0</td>\n",
       "    </tr>\n",
       "    <tr>\n",
       "      <th>2</th>\n",
       "      <td>10500139</td>\n",
       "      <td>2020-05-21</td>\n",
       "      <td>USA</td>\n",
       "      <td>android</td>\n",
       "      <td>mobile_checkout_theme_new</td>\n",
       "      <td>0</td>\n",
       "      <td>0</td>\n",
       "    </tr>\n",
       "    <tr>\n",
       "      <th>3</th>\n",
       "      <td>10500135</td>\n",
       "      <td>2020-05-21</td>\n",
       "      <td>USA</td>\n",
       "      <td>ios</td>\n",
       "      <td>mobile_checkout_theme_new</td>\n",
       "      <td>0</td>\n",
       "      <td>0</td>\n",
       "    </tr>\n",
       "    <tr>\n",
       "      <th>4</th>\n",
       "      <td>10500134</td>\n",
       "      <td>2020-05-21</td>\n",
       "      <td>USA</td>\n",
       "      <td>android</td>\n",
       "      <td>mobile_checkout_theme_new</td>\n",
       "      <td>0</td>\n",
       "      <td>0</td>\n",
       "    </tr>\n",
       "  </tbody>\n",
       "</table>\n",
       "</div>"
      ],
      "text/plain": [
       "         id       date  ... transaction_try transaction_success\n",
       "0  10500155 2020-05-21  ...               0                   0\n",
       "1  10500150 2020-05-21  ...               0                   0\n",
       "2  10500139 2020-05-21  ...               0                   0\n",
       "3  10500135 2020-05-21  ...               0                   0\n",
       "4  10500134 2020-05-21  ...               0                   0\n",
       "\n",
       "[5 rows x 7 columns]"
      ]
     },
     "execution_count": 4,
     "metadata": {},
     "output_type": "execute_result"
    }
   ],
   "source": [
    "exp_data.head()"
   ]
  },
  {
   "cell_type": "markdown",
   "metadata": {},
   "source": [
    "## Get confidence score\n",
    "* [see reference #1](https://cosmiccoding.com.au/tutorials/ab_tests)\n",
    "* [see reference #2](https://towardsdatascience.com/the-math-behind-a-b-testing-with-example-code-part-1-of-2-7be752e1d06f)"
   ]
  },
  {
   "cell_type": "code",
   "execution_count": 5,
   "metadata": {},
   "outputs": [],
   "source": [
    "def get_confidence_ab(df):\n",
    "    rate_old = df.iloc[0, 0] / df.iloc[0, 1]\n",
    "    rate_new = df.iloc[1, 0] / df.iloc[1, 1]\n",
    "    std_old = np.sqrt(rate_old * (1 - rate_old) / df.iloc[0, 1])\n",
    "    std_new = np.sqrt(rate_new * (1 - rate_new) / df.iloc[1, 1])\n",
    "    z_score = (rate_new - rate_old) / np.sqrt(std_old**2 + std_new**2)\n",
    "    return rate_old, rate_new, norm.cdf(z_score)"
   ]
  },
  {
   "cell_type": "markdown",
   "metadata": {},
   "source": [
    "## Function to perform analysis with different params"
   ]
  },
  {
   "cell_type": "code",
   "execution_count": 6,
   "metadata": {},
   "outputs": [],
   "source": [
    "def print_ab_results(data,\n",
    "                     key,\n",
    "                     strategy=\"periods\",\n",
    "                     freq=\"1M\",\n",
    "                     param_list=[]):\n",
    "    if strategy == \"periods\":\n",
    "        groups = (data\n",
    "                  .groupby([\"experiment_mobile_checkout_theme\",\n",
    "                            pd.Grouper(key=\"date\", freq=freq)],\n",
    "                           sort=False)[key])\n",
    "    elif strategy == \"features\":\n",
    "        groups = data.groupby(param_list,\n",
    "                              sort=False)[key]\n",
    "\n",
    "    groupped = (groups\n",
    "                .agg([\"sum\", \"size\"])\n",
    "                .sort_index(level=-1,\n",
    "                            sort_remaining=True,\n",
    "                            ascending=False))\n",
    "\n",
    "    if len(param_list) == 0 or len(param_list) > 1:       \n",
    "        for idx, df_select in groupped.groupby(level=-1, axis=0):\n",
    "            rate_A, rate_B, conf = get_confidence_ab(df_select)\n",
    "            if rate_B <= rate_A:\n",
    "                print(\"Seems like B performs worser on {}\\n.\"\n",
    "                      .format(key))\n",
    "            else:\n",
    "                print(\"A conversion rate as for '{i}' estimated by '{k}' is {a:.3}.\\nB conversion rate as for '{i}' estimated by '{k}' is {b:.3}.\\nDifference is significant with {c:.2%} confidence.\\n\\n\"\"\"\n",
    "                      .format(i=idx, k=key, a=rate_A, b=rate_B, c=conf))\n",
    "    else:\n",
    "        rate_A, rate_B, conf = get_confidence_ab(groupped)\n",
    "        print(\"A conversion rate estimated by '{k}' is {a:.3}.\\nB conversion rate estimated by '{k}' is {b:.3}.\\nDifference is significant with {c:.2%} confidence.\\n\\n\"\"\"\n",
    "                      .format(k=key, a=rate_A, b=rate_B, c=conf))"
   ]
  },
  {
   "cell_type": "markdown",
   "metadata": {},
   "source": [
    "## Tasks"
   ]
  },
  {
   "cell_type": "markdown",
   "metadata": {},
   "source": [
    "1) Выбрать релевантный тест и определить есть ли статистически значимая разница между ветками эксперимента по уровню **попыток покупки** ..."
   ]
  },
  {
   "cell_type": "code",
   "execution_count": 7,
   "metadata": {},
   "outputs": [
    {
     "name": "stdout",
     "output_type": "stream",
     "text": [
      "A conversion rate estimated by 'transaction_try' is 0.262.\n",
      "B conversion rate estimated by 'transaction_try' is 0.3.\n",
      "Difference is significant with 100.00% confidence.\n",
      "\n",
      "\n"
     ]
    }
   ],
   "source": [
    "print_ab_results(data=exp_data,                 \n",
    "                 key=\"transaction_try\",\n",
    "                 strategy=\"features\",\n",
    "                param_list=[\"experiment_mobile_checkout_theme\"])\n"
   ]
  },
  {
   "cell_type": "markdown",
   "metadata": {},
   "source": [
    "... и уровню **успешных покупок**"
   ]
  },
  {
   "cell_type": "code",
   "execution_count": 8,
   "metadata": {},
   "outputs": [
    {
     "name": "stdout",
     "output_type": "stream",
     "text": [
      "A conversion rate estimated by 'transaction_success' is 0.0996.\n",
      "B conversion rate estimated by 'transaction_success' is 0.111.\n",
      "Difference is significant with 99.89% confidence.\n",
      "\n",
      "\n"
     ]
    }
   ],
   "source": [
    "print_ab_results(data=exp_data,                 \n",
    "                 key=\"transaction_success\", #!\n",
    "                 strategy=\"features\",\n",
    "                param_list=[\"experiment_mobile_checkout_theme\"])"
   ]
  },
  {
   "cell_type": "markdown",
   "metadata": {},
   "source": [
    "2) Проверить эффект в разрезе операционных систем (**попытки покупки**)"
   ]
  },
  {
   "cell_type": "code",
   "execution_count": 9,
   "metadata": {},
   "outputs": [
    {
     "name": "stdout",
     "output_type": "stream",
     "text": [
      "A conversion rate as for 'android' estimated by 'transaction_try' is 0.251.\n",
      "B conversion rate as for 'android' estimated by 'transaction_try' is 0.288.\n",
      "Difference is significant with 100.00% confidence.\n",
      "\n",
      "\n",
      "A conversion rate as for 'ios' estimated by 'transaction_try' is 0.273.\n",
      "B conversion rate as for 'ios' estimated by 'transaction_try' is 0.312.\n",
      "Difference is significant with 100.00% confidence.\n",
      "\n",
      "\n"
     ]
    }
   ],
   "source": [
    "print_ab_results(data=exp_data,                 \n",
    "                 key=\"transaction_try\",\n",
    "                 strategy=\"features\",\n",
    "                param_list=[\"experiment_mobile_checkout_theme\", \"os\"])"
   ]
  },
  {
   "cell_type": "markdown",
   "metadata": {},
   "source": [
    "2) Проверить эффект в разрезе операционных систем (**успешные покупки**)"
   ]
  },
  {
   "cell_type": "code",
   "execution_count": 10,
   "metadata": {},
   "outputs": [
    {
     "name": "stdout",
     "output_type": "stream",
     "text": [
      "A conversion rate as for 'android' estimated by 'transaction_success' is 0.0822.\n",
      "B conversion rate as for 'android' estimated by 'transaction_success' is 0.0923.\n",
      "Difference is significant with 98.38% confidence.\n",
      "\n",
      "\n",
      "A conversion rate as for 'ios' estimated by 'transaction_success' is 0.117.\n",
      "B conversion rate as for 'ios' estimated by 'transaction_success' is 0.13.\n",
      "Difference is significant with 98.87% confidence.\n",
      "\n",
      "\n"
     ]
    }
   ],
   "source": [
    "print_ab_results(data=exp_data,                 \n",
    "                 key=\"transaction_success\",\n",
    "                 strategy=\"features\",\n",
    "                param_list=[\"experiment_mobile_checkout_theme\", \"os\"]) #!"
   ]
  },
  {
   "cell_type": "markdown",
   "metadata": {},
   "source": [
    "3) Проверить устойчивость эффекта во времени (**попытки покупки**)"
   ]
  },
  {
   "cell_type": "code",
   "execution_count": 11,
   "metadata": {},
   "outputs": [
    {
     "name": "stdout",
     "output_type": "stream",
     "text": [
      "A conversion rate as for '2020-04-30 00:00:00' estimated by 'transaction_try' is 0.24.\n",
      "B conversion rate as for '2020-04-30 00:00:00' estimated by 'transaction_try' is 0.273.\n",
      "Difference is significant with 94.15% confidence.\n",
      "\n",
      "\n",
      "A conversion rate as for '2020-05-31 00:00:00' estimated by 'transaction_try' is 0.263.\n",
      "B conversion rate as for '2020-05-31 00:00:00' estimated by 'transaction_try' is 0.302.\n",
      "Difference is significant with 100.00% confidence.\n",
      "\n",
      "\n"
     ]
    }
   ],
   "source": [
    "print_ab_results(data=exp_data,                 \n",
    "                 key=\"transaction_try\")"
   ]
  },
  {
   "cell_type": "markdown",
   "metadata": {},
   "source": [
    "3) Проверить устойчивость эффекта во времени (**успешные покупки**)"
   ]
  },
  {
   "cell_type": "code",
   "execution_count": 12,
   "metadata": {},
   "outputs": [
    {
     "name": "stdout",
     "output_type": "stream",
     "text": [
      "Seems like B performs worser on transaction_success\n",
      ".\n",
      "A conversion rate as for '2020-05-31 00:00:00' estimated by 'transaction_success' is 0.0994.\n",
      "B conversion rate as for '2020-05-31 00:00:00' estimated by 'transaction_success' is 0.112.\n",
      "Difference is significant with 99.94% confidence.\n",
      "\n",
      "\n"
     ]
    }
   ],
   "source": [
    "print_ab_results(data=exp_data,               \n",
    "                 key=\"transaction_success\") #!"
   ]
  },
  {
   "cell_type": "code",
   "execution_count": 13,
   "metadata": {},
   "outputs": [
    {
     "name": "stdout",
     "output_type": "stream",
     "text": [
      "A conversion rate as for '2020-05-03 00:00:00' estimated by 'transaction_try' is 0.268.\n",
      "B conversion rate as for '2020-05-03 00:00:00' estimated by 'transaction_try' is 0.284.\n",
      "Difference is significant with 89.77% confidence.\n",
      "\n",
      "\n",
      "A conversion rate as for '2020-05-10 00:00:00' estimated by 'transaction_try' is 0.264.\n",
      "B conversion rate as for '2020-05-10 00:00:00' estimated by 'transaction_try' is 0.29.\n",
      "Difference is significant with 99.78% confidence.\n",
      "\n",
      "\n",
      "A conversion rate as for '2020-05-17 00:00:00' estimated by 'transaction_try' is 0.265.\n",
      "B conversion rate as for '2020-05-17 00:00:00' estimated by 'transaction_try' is 0.308.\n",
      "Difference is significant with 100.00% confidence.\n",
      "\n",
      "\n",
      "A conversion rate as for '2020-05-24 00:00:00' estimated by 'transaction_try' is 0.244.\n",
      "B conversion rate as for '2020-05-24 00:00:00' estimated by 'transaction_try' is 0.324.\n",
      "Difference is significant with 100.00% confidence.\n",
      "\n",
      "\n"
     ]
    }
   ],
   "source": [
    "print_ab_results(data=exp_data,\n",
    "                 freq=\"1W\", #!\n",
    "                 key=\"transaction_try\")"
   ]
  },
  {
   "cell_type": "code",
   "execution_count": 14,
   "metadata": {},
   "outputs": [
    {
     "name": "stdout",
     "output_type": "stream",
     "text": [
      "A conversion rate as for '2020-05-03 00:00:00' estimated by 'transaction_success' is 0.0993.\n",
      "B conversion rate as for '2020-05-03 00:00:00' estimated by 'transaction_success' is 0.103.\n",
      "Difference is significant with 67.99% confidence.\n",
      "\n",
      "\n",
      "A conversion rate as for '2020-05-10 00:00:00' estimated by 'transaction_success' is 0.0961.\n",
      "B conversion rate as for '2020-05-10 00:00:00' estimated by 'transaction_success' is 0.11.\n",
      "Difference is significant with 98.36% confidence.\n",
      "\n",
      "\n",
      "A conversion rate as for '2020-05-17 00:00:00' estimated by 'transaction_success' is 0.0999.\n",
      "B conversion rate as for '2020-05-17 00:00:00' estimated by 'transaction_success' is 0.11.\n",
      "Difference is significant with 94.78% confidence.\n",
      "\n",
      "\n",
      "A conversion rate as for '2020-05-24 00:00:00' estimated by 'transaction_success' is 0.106.\n",
      "B conversion rate as for '2020-05-24 00:00:00' estimated by 'transaction_success' is 0.123.\n",
      "Difference is significant with 96.06% confidence.\n",
      "\n",
      "\n"
     ]
    }
   ],
   "source": [
    "print_ab_results(data=exp_data,\n",
    "                 freq=\"1W\", #!\n",
    "                 key=\"transaction_success\")"
   ]
  },
  {
   "cell_type": "markdown",
   "metadata": {},
   "source": [
    "Похоже, в разница в конверсии между новым и старым дизайном вконце апреля-начале мая не подтверждается статистически. И только начиная с середины мая можно уверенно говорить об заметном положительном эффекте от нового дизайна по показателю \"попытки покупки\", но не \"успешные покупки\". "
   ]
  }
 ],
 "metadata": {
  "anaconda-cloud": {},
  "kernelspec": {
   "display_name": "Python 3 (Spyder)",
   "language": "python3",
   "name": "python3"
  },
  "language_info": {
   "codemirror_mode": {
    "name": "ipython",
    "version": 3
   },
   "file_extension": ".py",
   "mimetype": "text/x-python",
   "name": "python",
   "nbconvert_exporter": "python",
   "pygments_lexer": "ipython3",
   "version": "3.7.7"
  }
 },
 "nbformat": 4,
 "nbformat_minor": 1
}
