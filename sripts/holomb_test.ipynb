{
 "cells": [
  {
   "cell_type": "markdown",
   "metadata": {},
   "source": [
    "# Test assignment of Volodymyr Holomb\n",
    "Important notes:\n",
    "1. main folder with input and output data is on [github](https://github.com/woldemarg/lightit_test)\n",
    "2. original script is [here](https://github.com/woldemarg/lightit_test/blob/master/sripts/main.R)\n",
    "3. this notebook contains some minor inline comments, extended description is [here](https://github.com/woldemarg/lightit_test/blob/master/README.md) "
   ]
  },
  {
   "cell_type": "code",
   "execution_count": 1,
   "metadata": {},
   "outputs": [],
   "source": [
    "# install.packages(c(\n",
    "#     \"tidyverse\",\n",
    "#     \"lubridate\",\n",
    "#     \"geosphere\",\n",
    "#     \"randomForest\",\n",
    "#     \"glmnet\",\n",
    "#     \"fastDummies\",\n",
    "#     \"gbm\",\n",
    "#     \"xgboost\")\n",
    "# )"
   ]
  },
  {
   "cell_type": "code",
   "execution_count": 2,
   "metadata": {},
   "outputs": [
    {
     "name": "stderr",
     "output_type": "stream",
     "text": [
      "Warning message:\n",
      "\"package 'tidyverse' was built under R version 3.6.3\"-- Attaching packages --------------------------------------- tidyverse 1.3.0 --\n",
      "v ggplot2 3.3.0     v purrr   0.3.3\n",
      "v tibble  2.1.3     v dplyr   0.8.5\n",
      "v tidyr   1.0.2     v stringr 1.4.0\n",
      "v readr   1.3.1     v forcats 0.4.0\n",
      "Warning message:\n",
      "\"package 'tibble' was built under R version 3.6.2\"Warning message:\n",
      "\"package 'tidyr' was built under R version 3.6.3\"Warning message:\n",
      "\"package 'purrr' was built under R version 3.6.3\"-- Conflicts ------------------------------------------ tidyverse_conflicts() --\n",
      "x dplyr::filter() masks stats::filter()\n",
      "x dplyr::lag()    masks stats::lag()\n",
      "Warning message:\n",
      "\"package 'lubridate' was built under R version 3.6.3\"\n",
      "Attaching package: 'lubridate'\n",
      "\n",
      "The following object is masked from 'package:base':\n",
      "\n",
      "    date\n",
      "\n",
      "Warning message:\n",
      "\"package 'geosphere' was built under R version 3.6.3\"Warning message:\n",
      "\"package 'randomForest' was built under R version 3.6.3\"randomForest 4.6-14\n",
      "Type rfNews() to see new features/changes/bug fixes.\n",
      "\n",
      "Attaching package: 'randomForest'\n",
      "\n",
      "The following object is masked from 'package:dplyr':\n",
      "\n",
      "    combine\n",
      "\n",
      "The following object is masked from 'package:ggplot2':\n",
      "\n",
      "    margin\n",
      "\n",
      "Warning message:\n",
      "\"package 'glmnet' was built under R version 3.6.3\"Loading required package: Matrix\n",
      "\n",
      "Attaching package: 'Matrix'\n",
      "\n",
      "The following objects are masked from 'package:tidyr':\n",
      "\n",
      "    expand, pack, unpack\n",
      "\n",
      "Loaded glmnet 3.0-2\n",
      "\n",
      "Warning message:\n",
      "\"package 'gbm' was built under R version 3.6.3\"Loaded gbm 2.1.5\n",
      "Warning message:\n",
      "\"package 'xgboost' was built under R version 3.6.3\"\n",
      "Attaching package: 'xgboost'\n",
      "\n",
      "The following object is masked from 'package:dplyr':\n",
      "\n",
      "    slice\n",
      "\n"
     ]
    }
   ],
   "source": [
    "library(tidyverse)\n",
    "library(lubridate)    #parse dates\n",
    "library(geosphere)    #calculate distance to event location\n",
    "library(randomForest)\n",
    "library(glmnet)\n",
    "library(fastDummies)  #one-hot-encoding for ridge and xgb\n",
    "library(gbm)\n",
    "library(xgboost)"
   ]
  },
  {
   "cell_type": "markdown",
   "metadata": {},
   "source": [
    "## Data downloading and cleaning"
   ]
  },
  {
   "cell_type": "code",
   "execution_count": 3,
   "metadata": {},
   "outputs": [],
   "source": [
    "#all files were previously encoded to utf-8\n",
    "description <- read.csv(\"data/encoded/columns_description.csv\", encoding = \"utf-8\", stringsAsFactors = FALSE)\n",
    "events <- read.csv(\"data/encoded/events_Hokkaido.csv\", encoding = \"utf-8\", stringsAsFactors = FALSE)\n",
    "holidays <- read.csv(\"data/encoded/holidays_Japan.csv\", encoding = \"utf-8\", stringsAsFactors = FALSE)\n",
    "jalan <- read.csv(\"data/encoded/jalan_shinchitose.csv\", encoding = \"utf-8\", stringsAsFactors = FALSE)\n",
    "rakuten <- read.csv(\"data/encoded/rakuten_shinchitose.csv\", encoding = \"utf-8\", stringsAsFactors = FALSE)\n",
    "weather <- read.csv(\"data/encoded/weather_Hokkaido.csv\", encoding = \"utf-8\", stringsAsFactors = FALSE)\n",
    "\n",
    "names(rakuten) <- description$`Row.EN.`[1:48]\n",
    "names(jalan) <- description$`Row.EN.`[49:94]"
   ]
  },
  {
   "cell_type": "code",
   "execution_count": 4,
   "metadata": {},
   "outputs": [],
   "source": [
    "#parsing dates in all input data\n",
    "get_date <- function(timestamp, format = \"Y/m/d H:M\") {\n",
    "  return(date(parse_date_time(timestamp, format)))\n",
    "}\n",
    "\n",
    "holidays <- holidays %>%\n",
    "  mutate(day = get_date(day, \"Y/m/d\"))\n",
    "\n",
    "events <- events %>%\n",
    "  mutate(\n",
    "    start_date = get_date(start_date, \"Y/m/d\"),\n",
    "    end_date = get_date(end_date, \"Y/m/d\"),\n",
    "  )\n",
    "\n",
    "weather <- weather %>%\n",
    "  mutate(date = get_date(date, \"Y/m/d\"))"
   ]
  },
  {
   "cell_type": "code",
   "execution_count": 5,
   "metadata": {},
   "outputs": [],
   "source": [
    "#detecting \"identical\" columns within main datasets\n",
    "jalan_filtered <- jalan %>%\n",
    "  mutate(\n",
    "    company_name = \"jalan\",\n",
    "    request_date = get_date(request_date_time),\n",
    "    pickup_date = get_date(pickup_date_time),\n",
    "    return_date = get_date(return_date_time),\n",
    "    cancellation_date = get_date(cancellation_date_time),\n",
    "    is_cancelled = ifelse(!is.na(cancellation_date), 1, 0)\n",
    "    #num_of_passengers = as.numeric(str_extract_all(number_of_passengers, \"\\\\d+\")[[1]][1]),\n",
    "    #num_of_children = as.numeric(str_extract_all(number_of_passengers, \"\\\\d+\")[[1]][2])\n",
    "  ) %>%\n",
    "  select(\n",
    "    company_name,\n",
    "    request_date,\n",
    "    pickup_date,\n",
    "    return_date,\n",
    "    request_date,\n",
    "    cancellation_date,\n",
    "    is_cancelled\n",
    "    #num_of_passengers,\n",
    "    #num_of_children,\n",
    "    #arrival_flight,\n",
    "    #total_price\n",
    ")"
   ]
  },
  {
   "cell_type": "code",
   "execution_count": 6,
   "metadata": {},
   "outputs": [
    {
     "data": {
      "text/html": [
       "<table>\n",
       "<thead><tr><th scope=col>company_name</th><th scope=col>request_date</th><th scope=col>pickup_date</th><th scope=col>return_date</th><th scope=col>cancellation_date</th><th scope=col>is_cancelled</th></tr></thead>\n",
       "<tbody>\n",
       "\t<tr><td>jalan     </td><td>2016-02-17</td><td>2016-03-20</td><td>2016-03-22</td><td>NA        </td><td>0         </td></tr>\n",
       "\t<tr><td>jalan     </td><td>2016-02-23</td><td>2016-03-05</td><td>2016-03-07</td><td>NA        </td><td>0         </td></tr>\n",
       "\t<tr><td>jalan     </td><td>2016-02-25</td><td>2016-03-19</td><td>2016-03-22</td><td>NA        </td><td>0         </td></tr>\n",
       "\t<tr><td>jalan     </td><td>2016-02-27</td><td>2016-03-18</td><td>2016-03-20</td><td>NA        </td><td>0         </td></tr>\n",
       "\t<tr><td>jalan     </td><td>2016-03-01</td><td>2016-03-03</td><td>2016-03-05</td><td>2016-03-03</td><td>1         </td></tr>\n",
       "</tbody>\n",
       "</table>\n"
      ],
      "text/latex": [
       "\\begin{tabular}{r|llllll}\n",
       " company\\_name & request\\_date & pickup\\_date & return\\_date & cancellation\\_date & is\\_cancelled\\\\\n",
       "\\hline\n",
       "\t jalan      & 2016-02-17 & 2016-03-20 & 2016-03-22 & NA         & 0         \\\\\n",
       "\t jalan      & 2016-02-23 & 2016-03-05 & 2016-03-07 & NA         & 0         \\\\\n",
       "\t jalan      & 2016-02-25 & 2016-03-19 & 2016-03-22 & NA         & 0         \\\\\n",
       "\t jalan      & 2016-02-27 & 2016-03-18 & 2016-03-20 & NA         & 0         \\\\\n",
       "\t jalan      & 2016-03-01 & 2016-03-03 & 2016-03-05 & 2016-03-03 & 1         \\\\\n",
       "\\end{tabular}\n"
      ],
      "text/markdown": [
       "\n",
       "| company_name | request_date | pickup_date | return_date | cancellation_date | is_cancelled |\n",
       "|---|---|---|---|---|---|\n",
       "| jalan      | 2016-02-17 | 2016-03-20 | 2016-03-22 | NA         | 0          |\n",
       "| jalan      | 2016-02-23 | 2016-03-05 | 2016-03-07 | NA         | 0          |\n",
       "| jalan      | 2016-02-25 | 2016-03-19 | 2016-03-22 | NA         | 0          |\n",
       "| jalan      | 2016-02-27 | 2016-03-18 | 2016-03-20 | NA         | 0          |\n",
       "| jalan      | 2016-03-01 | 2016-03-03 | 2016-03-05 | 2016-03-03 | 1          |\n",
       "\n"
      ],
      "text/plain": [
       "  company_name request_date pickup_date return_date cancellation_date\n",
       "1 jalan        2016-02-17   2016-03-20  2016-03-22  <NA>             \n",
       "2 jalan        2016-02-23   2016-03-05  2016-03-07  <NA>             \n",
       "3 jalan        2016-02-25   2016-03-19  2016-03-22  <NA>             \n",
       "4 jalan        2016-02-27   2016-03-18  2016-03-20  <NA>             \n",
       "5 jalan        2016-03-01   2016-03-03  2016-03-05  2016-03-03       \n",
       "  is_cancelled\n",
       "1 0           \n",
       "2 0           \n",
       "3 0           \n",
       "4 0           \n",
       "5 1           "
      ]
     },
     "metadata": {},
     "output_type": "display_data"
    }
   ],
   "source": [
    "rakuten_filtered <- rakuten %>%\n",
    "  mutate(\n",
    "    company_name = \"rakuten\",\n",
    "    request_date = get_date(request_date_time),\n",
    "    pickup_date = get_date(pickup_date_time),\n",
    "    return_date = get_date(return_date_time),\n",
    "    cancellation_date = get_date(cancel_request_date_time),\n",
    "    is_cancelled = ifelse(!is.na(cancellation_date), 1, 0),\n",
    "  ) %>%\n",
    "  # rename(\n",
    "  #   car_class = company_car_class_code,\n",
    "  #   num_of_passengers = number_of_passengers,\n",
    "  #   num_of_children = number_of_children,\n",
    "  #   arrival_flight = flight_number,\n",
    "  #   total_price = taxable_amount\n",
    "  # ) %>%\n",
    "  select(\n",
    "    company_name,\n",
    "    request_date,\n",
    "    pickup_date,\n",
    "    return_date,\n",
    "    request_date,\n",
    "    cancellation_date,\n",
    "    is_cancelled,\n",
    "    #num_of_passengers, #leave these and above columns for further predicting improvement, \n",
    "    #num_of_children,   #as they may be useful for some feature engineering,  \n",
    "    #arrival_flight,    #such as assesing promotional offers of each company etc.\n",
    "    #total_price        \n",
    "  )\n",
    "\n",
    "\n",
    "df_joined <- bind_rows(jalan_filtered, rakuten_filtered)\n",
    "#df_joined$arrival_flight[df_joined$arrival_flight == \"0\"] <- NA\n",
    "\n",
    "#write_csv(df_joined, \"derived/df_joined.csv\")\n",
    "head(df_joined, 5)"
   ]
  },
  {
   "cell_type": "code",
   "execution_count": 7,
   "metadata": {},
   "outputs": [
    {
     "data": {
      "text/html": [
       "<table>\n",
       "<thead><tr><th scope=col>target</th><th scope=col>company_name</th><th scope=col>pickup_date</th></tr></thead>\n",
       "<tbody>\n",
       "\t<tr><td>0         </td><td>jalan     </td><td>2016-02-21</td></tr>\n",
       "\t<tr><td>2         </td><td>rakuten   </td><td>2016-02-21</td></tr>\n",
       "\t<tr><td>0         </td><td>jalan     </td><td>2016-02-27</td></tr>\n",
       "\t<tr><td>2         </td><td>rakuten   </td><td>2016-02-27</td></tr>\n",
       "\t<tr><td>0         </td><td>jalan     </td><td>2016-02-28</td></tr>\n",
       "</tbody>\n",
       "</table>\n"
      ],
      "text/latex": [
       "\\begin{tabular}{r|lll}\n",
       " target & company\\_name & pickup\\_date\\\\\n",
       "\\hline\n",
       "\t 0          & jalan      & 2016-02-21\\\\\n",
       "\t 2          & rakuten    & 2016-02-21\\\\\n",
       "\t 0          & jalan      & 2016-02-27\\\\\n",
       "\t 2          & rakuten    & 2016-02-27\\\\\n",
       "\t 0          & jalan      & 2016-02-28\\\\\n",
       "\\end{tabular}\n"
      ],
      "text/markdown": [
       "\n",
       "| target | company_name | pickup_date |\n",
       "|---|---|---|\n",
       "| 0          | jalan      | 2016-02-21 |\n",
       "| 2          | rakuten    | 2016-02-21 |\n",
       "| 0          | jalan      | 2016-02-27 |\n",
       "| 2          | rakuten    | 2016-02-27 |\n",
       "| 0          | jalan      | 2016-02-28 |\n",
       "\n"
      ],
      "text/plain": [
       "  target company_name pickup_date\n",
       "1 0      jalan        2016-02-21 \n",
       "2 2      rakuten      2016-02-21 \n",
       "3 0      jalan        2016-02-27 \n",
       "4 2      rakuten      2016-02-27 \n",
       "5 0      jalan        2016-02-28 "
      ]
     },
     "metadata": {},
     "output_type": "display_data"
    }
   ],
   "source": [
    "#preparing data in such a way to get a row with\n",
    "#target value for each company per each given date\n",
    "model_data <- df_joined %>%\n",
    "  filter(is_cancelled == 0) %>%\n",
    "  group_by(pickup_date, company_name) %>%\n",
    "  summarise(target = n()) %>%\n",
    "  ungroup() %>%\n",
    "  spread(key = \"pickup_date\", value = \"target\") %>% \n",
    "  gather(key = \"pickup_date\", value = \"target\", -company_name) %>%\n",
    "  select(target, everything())\n",
    "\n",
    "model_data[is.na(model_data)] <- 0\n",
    "model_data$pickup_date <- as_date(model_data$pickup_date)\n",
    "model_data$company_name <- as_factor(model_data$company_name)\n",
    "\n",
    "head(model_data, 5)"
   ]
  },
  {
   "cell_type": "code",
   "execution_count": 8,
   "metadata": {},
   "outputs": [
    {
     "data": {
      "image/png": "[encoded data removed]",
      "text/plain": [
       "plot without title"
      ]
     },
     "metadata": {},
     "output_type": "display_data"
    }
   ],
   "source": [
    "#as it was expected, rental statistics shows a severe seasonality,\n",
    "#so it is cruscial to preserve this characteristic for modelling\n",
    "ggplot(data = model_data, aes(x = pickup_date, y = target, color = company_name)) +\n",
    "  geom_bar(stat = \"identity\")"
   ]
  },
  {
   "cell_type": "markdown",
   "metadata": {},
   "source": [
    "## Simple mean approach\n",
    "We will try to predict target values via simple mean of day-of-week and month pair for each company"
   ]
  },
  {
   "cell_type": "code",
   "execution_count": 9,
   "metadata": {},
   "outputs": [],
   "source": [
    "#simple average approach\n",
    "get_cv_rmse_mean_model <- function(data,\n",
    "                                   k = 10,\n",
    "                                   seed = 1) {\n",
    "  set.seed(seed)\n",
    "  \n",
    "  data <- data %>%\n",
    "    mutate(dow = as.character(wday(pickup_date, label = TRUE)),\n",
    "           mon = month(pickup_date)) %>%\n",
    "    select(-pickup_date)\n",
    "  \n",
    "  data <- data[sample(nrow(data)),]\n",
    "  folds <- cut(seq(1, nrow(data)), breaks = k, labels = FALSE)\n",
    "  rmse <- c()\n",
    "  \n",
    "  for (i in 1:k) {\n",
    "    indices <- which(folds == i, arr.ind = TRUE)\n",
    "    test_data <- data[indices,]\n",
    "    train_data <- data[-indices,]\n",
    "    \n",
    "    mean_model <- train_data %>%\n",
    "      group_by(company_name, dow, mon) %>%\n",
    "      summarize(predicts = mean(target)) %>%\n",
    "      ungroup()\n",
    "    \n",
    "    test_data <- left_join(test_data, mean_model,\n",
    "                           by = c(\"company_name\", \"dow\", \"mon\"))\n",
    "    \n",
    "    rmse[i] <- sqrt(mean((\n",
    "      test_data$predicts - test_data$target\n",
    "    ) ^ 2))\n",
    "  }\n",
    "  \n",
    "  mean(rmse)\n",
    "}"
   ]
  },
  {
   "cell_type": "code",
   "execution_count": 10,
   "metadata": {},
   "outputs": [
    {
     "data": {
      "text/html": [
       "2.14759821670754"
      ],
      "text/latex": [
       "2.14759821670754"
      ],
      "text/markdown": [
       "2.14759821670754"
      ],
      "text/plain": [
       "[1] 2.147598"
      ]
     },
     "metadata": {},
     "output_type": "display_data"
    }
   ],
   "source": [
    "rmse_mean_model <- get_cv_rmse_mean_model(model_data)\n",
    "\n",
    "rmse_mean_model"
   ]
  },
  {
   "cell_type": "markdown",
   "metadata": {},
   "source": [
    "## Feature engineering"
   ]
  },
  {
   "cell_type": "code",
   "execution_count": 11,
   "metadata": {
    "scrolled": true
   },
   "outputs": [
    {
     "data": {
      "text/html": [
       "<table>\n",
       "<thead><tr><th scope=col>target</th><th scope=col>company_name</th><th scope=col>pickup_date</th><th scope=col>mon_dow_encoded</th></tr></thead>\n",
       "<tbody>\n",
       "\t<tr><td>0         </td><td>jalan     </td><td>2016-02-21</td><td>1.000000  </td></tr>\n",
       "\t<tr><td>2         </td><td>rakuten   </td><td>2016-02-21</td><td>1.000000  </td></tr>\n",
       "\t<tr><td>0         </td><td>jalan     </td><td>2016-02-27</td><td>1.666667  </td></tr>\n",
       "\t<tr><td>2         </td><td>rakuten   </td><td>2016-02-27</td><td>1.666667  </td></tr>\n",
       "\t<tr><td>0         </td><td>jalan     </td><td>2016-02-28</td><td>1.000000  </td></tr>\n",
       "</tbody>\n",
       "</table>\n"
      ],
      "text/latex": [
       "\\begin{tabular}{r|llll}\n",
       " target & company\\_name & pickup\\_date & mon\\_dow\\_encoded\\\\\n",
       "\\hline\n",
       "\t 0          & jalan      & 2016-02-21 & 1.000000  \\\\\n",
       "\t 2          & rakuten    & 2016-02-21 & 1.000000  \\\\\n",
       "\t 0          & jalan      & 2016-02-27 & 1.666667  \\\\\n",
       "\t 2          & rakuten    & 2016-02-27 & 1.666667  \\\\\n",
       "\t 0          & jalan      & 2016-02-28 & 1.000000  \\\\\n",
       "\\end{tabular}\n"
      ],
      "text/markdown": [
       "\n",
       "| target | company_name | pickup_date | mon_dow_encoded |\n",
       "|---|---|---|---|\n",
       "| 0          | jalan      | 2016-02-21 | 1.000000   |\n",
       "| 2          | rakuten    | 2016-02-21 | 1.000000   |\n",
       "| 0          | jalan      | 2016-02-27 | 1.666667   |\n",
       "| 2          | rakuten    | 2016-02-27 | 1.666667   |\n",
       "| 0          | jalan      | 2016-02-28 | 1.000000   |\n",
       "\n"
      ],
      "text/plain": [
       "  target company_name pickup_date mon_dow_encoded\n",
       "1 0      jalan        2016-02-21  1.000000       \n",
       "2 2      rakuten      2016-02-21  1.000000       \n",
       "3 0      jalan        2016-02-27  1.666667       \n",
       "4 2      rakuten      2016-02-27  1.666667       \n",
       "5 0      jalan        2016-02-28  1.000000       "
      ]
     },
     "metadata": {},
     "output_type": "display_data"
    }
   ],
   "source": [
    "#we are going to represent seasonality pattern in data through target encoding month-and-day-of-week feature \n",
    "model_data <- model_data %>%\n",
    "  mutate(mon_dow = paste(month(pickup_date, label = TRUE),\n",
    "                         as.character(wday(pickup_date, label = TRUE)),\n",
    "                         sep = \"_\"))\n",
    "\n",
    "mon_dow_lookup <- model_data %>%\n",
    "  group_by(mon_dow) %>%\n",
    "  summarise(mon_dow_encoded = mean(target))\n",
    "\n",
    "#target encoding\n",
    "model_data <-\n",
    "  left_join(model_data, mon_dow_lookup, by = \"mon_dow\") %>%\n",
    "  select(-mon_dow)\n",
    "\n",
    "head(model_data, 5)"
   ]
  },
  {
   "cell_type": "code",
   "execution_count": 12,
   "metadata": {
    "scrolled": true
   },
   "outputs": [
    {
     "data": {
      "text/html": [
       "<table>\n",
       "<thead><tr><th scope=col>target</th><th scope=col>company_name</th><th scope=col>pickup_date</th><th scope=col>mon_dow_encoded</th><th scope=col>is_start_long_we</th></tr></thead>\n",
       "<tbody>\n",
       "\t<tr><td>0         </td><td>jalan     </td><td>2016-02-21</td><td>1.000000  </td><td>0         </td></tr>\n",
       "\t<tr><td>2         </td><td>rakuten   </td><td>2016-02-21</td><td>1.000000  </td><td>0         </td></tr>\n",
       "\t<tr><td>0         </td><td>jalan     </td><td>2016-02-27</td><td>1.666667  </td><td>0         </td></tr>\n",
       "\t<tr><td>2         </td><td>rakuten   </td><td>2016-02-27</td><td>1.666667  </td><td>0         </td></tr>\n",
       "\t<tr><td>0         </td><td>jalan     </td><td>2016-02-28</td><td>1.000000  </td><td>0         </td></tr>\n",
       "</tbody>\n",
       "</table>\n"
      ],
      "text/latex": [
       "\\begin{tabular}{r|lllll}\n",
       " target & company\\_name & pickup\\_date & mon\\_dow\\_encoded & is\\_start\\_long\\_we\\\\\n",
       "\\hline\n",
       "\t 0          & jalan      & 2016-02-21 & 1.000000   & 0         \\\\\n",
       "\t 2          & rakuten    & 2016-02-21 & 1.000000   & 0         \\\\\n",
       "\t 0          & jalan      & 2016-02-27 & 1.666667   & 0         \\\\\n",
       "\t 2          & rakuten    & 2016-02-27 & 1.666667   & 0         \\\\\n",
       "\t 0          & jalan      & 2016-02-28 & 1.000000   & 0         \\\\\n",
       "\\end{tabular}\n"
      ],
      "text/markdown": [
       "\n",
       "| target | company_name | pickup_date | mon_dow_encoded | is_start_long_we |\n",
       "|---|---|---|---|---|\n",
       "| 0          | jalan      | 2016-02-21 | 1.000000   | 0          |\n",
       "| 2          | rakuten    | 2016-02-21 | 1.000000   | 0          |\n",
       "| 0          | jalan      | 2016-02-27 | 1.666667   | 0          |\n",
       "| 2          | rakuten    | 2016-02-27 | 1.666667   | 0          |\n",
       "| 0          | jalan      | 2016-02-28 | 1.000000   | 0          |\n",
       "\n"
      ],
      "text/plain": [
       "  target company_name pickup_date mon_dow_encoded is_start_long_we\n",
       "1 0      jalan        2016-02-21  1.000000        0               \n",
       "2 2      rakuten      2016-02-21  1.000000        0               \n",
       "3 0      jalan        2016-02-27  1.666667        0               \n",
       "4 2      rakuten      2016-02-27  1.666667        0               \n",
       "5 0      jalan        2016-02-28  1.000000        0               "
      ]
     },
     "metadata": {},
     "output_type": "display_data"
    }
   ],
   "source": [
    "#start of long weekend (first day of two or more holidays in a row)\n",
    "holidays <- holidays %>%\n",
    "  mutate(start_long_we = ifelse(\n",
    "    (lag(Japan) == 0 & Japan == 1 & lead(Japan) == 1) |\n",
    "      wday(day) == 6 & Japan == 1 |\n",
    "      wday(day) == 7 & lead(Japan, 2) == 1,\n",
    "    1,\n",
    "    0\n",
    "  ))\n",
    "\n",
    "\n",
    "model_data <- model_data %>%\n",
    "  mutate(is_start_long_we = holidays$start_long_we[match(pickup_date, holidays$day)])\n",
    "\n",
    "head(model_data, 5)"
   ]
  },
  {
   "cell_type": "markdown",
   "metadata": {},
   "source": [
    "## Modelling on base data (dates, holidays, events that are available for predicting)"
   ]
  },
  {
   "cell_type": "code",
   "execution_count": 13,
   "metadata": {
    "scrolled": true
   },
   "outputs": [
    {
     "data": {
      "text/html": [
       "<table>\n",
       "<thead><tr><th scope=col>target</th><th scope=col>company_name</th><th scope=col>pickup_date</th><th scope=col>mon_dow_encoded</th><th scope=col>is_start_long_we</th><th scope=col>events</th></tr></thead>\n",
       "<tbody>\n",
       "\t<tr><td>0         </td><td>jalan     </td><td>2016-02-21</td><td>1.000000  </td><td>0         </td><td>0         </td></tr>\n",
       "\t<tr><td>2         </td><td>rakuten   </td><td>2016-02-21</td><td>1.000000  </td><td>0         </td><td>0         </td></tr>\n",
       "\t<tr><td>0         </td><td>jalan     </td><td>2016-02-27</td><td>1.666667  </td><td>0         </td><td>0         </td></tr>\n",
       "\t<tr><td>2         </td><td>rakuten   </td><td>2016-02-27</td><td>1.666667  </td><td>0         </td><td>0         </td></tr>\n",
       "\t<tr><td>0         </td><td>jalan     </td><td>2016-02-28</td><td>1.000000  </td><td>0         </td><td>0         </td></tr>\n",
       "</tbody>\n",
       "</table>\n"
      ],
      "text/latex": [
       "\\begin{tabular}{r|llllll}\n",
       " target & company\\_name & pickup\\_date & mon\\_dow\\_encoded & is\\_start\\_long\\_we & events\\\\\n",
       "\\hline\n",
       "\t 0          & jalan      & 2016-02-21 & 1.000000   & 0          & 0         \\\\\n",
       "\t 2          & rakuten    & 2016-02-21 & 1.000000   & 0          & 0         \\\\\n",
       "\t 0          & jalan      & 2016-02-27 & 1.666667   & 0          & 0         \\\\\n",
       "\t 2          & rakuten    & 2016-02-27 & 1.666667   & 0          & 0         \\\\\n",
       "\t 0          & jalan      & 2016-02-28 & 1.000000   & 0          & 0         \\\\\n",
       "\\end{tabular}\n"
      ],
      "text/markdown": [
       "\n",
       "| target | company_name | pickup_date | mon_dow_encoded | is_start_long_we | events |\n",
       "|---|---|---|---|---|---|\n",
       "| 0          | jalan      | 2016-02-21 | 1.000000   | 0          | 0          |\n",
       "| 2          | rakuten    | 2016-02-21 | 1.000000   | 0          | 0          |\n",
       "| 0          | jalan      | 2016-02-27 | 1.666667   | 0          | 0          |\n",
       "| 2          | rakuten    | 2016-02-27 | 1.666667   | 0          | 0          |\n",
       "| 0          | jalan      | 2016-02-28 | 1.000000   | 0          | 0          |\n",
       "\n"
      ],
      "text/plain": [
       "  target company_name pickup_date mon_dow_encoded is_start_long_we events\n",
       "1 0      jalan        2016-02-21  1.000000        0                0     \n",
       "2 2      rakuten      2016-02-21  1.000000        0                0     \n",
       "3 0      jalan        2016-02-27  1.666667        0                0     \n",
       "4 2      rakuten      2016-02-27  1.666667        0                0     \n",
       "5 0      jalan        2016-02-28  1.000000        0                0     "
      ]
     },
     "metadata": {},
     "output_type": "display_data"
    }
   ],
   "source": [
    "#upcoming events\n",
    "avg_rent_duration <-\n",
    "  as.numeric(mean(df_joined$return_date[df_joined$is_cancelled != 0] - df_joined$pickup_date[df_joined$is_cancelled != 0]))\n",
    "\n",
    "get_events <- function(pickup_day) {\n",
    "  evs <- events %>%\n",
    "    filter(city_id != 1536 &\n",
    "             start_date == pickup_day + 1 &            #events, that start on the next day from pickup date\n",
    "             end_date - start_date < avg_rent_duration)\n",
    "  \n",
    "  evs$dist <-\n",
    "    apply(evs, 1, function(row)\n",
    "      distm(as.numeric(row[6:7]), c(141.650876, 42.8209577), fun = distHaversine) /\n",
    "        1000)\n",
    "  \n",
    "  nrow(subset(evs, dist > 60)) #manual adjustment\n",
    "}\n",
    "\n",
    "model_data$events <- sapply(model_data$pickup_date, get_events)\n",
    "\n",
    "#write_csv(model_data, \"derived/model_data.csv\")\n",
    "\n",
    "head(model_data, 5)"
   ]
  },
  {
   "cell_type": "code",
   "execution_count": 14,
   "metadata": {},
   "outputs": [],
   "source": [
    "#modelling\n",
    "get_cv_rmse_rf_model <- function(data,\n",
    "                                 k = 10,\n",
    "                                 seed = 1) {\n",
    "  set.seed(seed)\n",
    "  \n",
    "  data <- data %>%\n",
    "    select(-pickup_date)\n",
    "  \n",
    "  data <- data[sample(nrow(data)),]\n",
    "  folds <- cut(seq(1, nrow(data)), breaks = k, labels = FALSE)\n",
    "  rmse <- c()\n",
    "  \n",
    "  for (i in 1:k) {\n",
    "    indices <- which(folds == i, arr.ind = TRUE)\n",
    "    test_data <- data[indices,]\n",
    "    train_data <- data[-indices,]\n",
    "    \n",
    "    rf_mod = randomForest(target ~ . , data = train_data)\n",
    "    predicts <- predict(rf_mod, test_data[, -1])\n",
    "    \n",
    "    rmse[i] <- sqrt(mean((predicts - test_data$target) ^ 2))\n",
    "  }\n",
    "  mean(rmse)\n",
    "}"
   ]
  },
  {
   "cell_type": "code",
   "execution_count": 15,
   "metadata": {},
   "outputs": [],
   "source": [
    "get_cv_rmse_ridge_model <- function(data,\n",
    "                                    k = 10,\n",
    "                                    seed = 1) {\n",
    "  set.seed(seed)\n",
    "  \n",
    "  data <- data %>%\n",
    "    select(-pickup_date) %>%\n",
    "    dummy_cols(\n",
    "      select_columns = c(\"company_name\"),\n",
    "      remove_first_dummy = TRUE,\n",
    "      remove_selected_columns = TRUE\n",
    "    )\n",
    "  \n",
    "  data <- data[sample(nrow(data)),]\n",
    "  folds <- cut(seq(1, nrow(data)), breaks = k, labels = FALSE)\n",
    "  rmse <- c()\n",
    "  \n",
    "  for (i in 1:k) {\n",
    "    indices <- which(folds == i, arr.ind = TRUE)\n",
    "    test_data <- data[indices,]\n",
    "    train_data <- data[-indices,]\n",
    "    \n",
    "    cv_ridge <- cv.glmnet(\n",
    "      x = as.matrix(train_data[names(train_data) != \"target\"]),\n",
    "      y = train_data[[\"target\"]],\n",
    "      nfolds = 10,\n",
    "      standardize = TRUE,\n",
    "      alpha = 0\n",
    "    )\n",
    "    \n",
    "    predicts <-\n",
    "      predict(cv_ridge,\n",
    "              s = cv_ridge$lambda.min,\n",
    "              newx = as.matrix(test_data[, -1]))\n",
    "    \n",
    "    rmse[i] <- sqrt(mean((predicts - test_data$target) ^ 2))\n",
    "  }\n",
    "  mean(rmse)\n",
    "}"
   ]
  },
  {
   "cell_type": "code",
   "execution_count": 16,
   "metadata": {},
   "outputs": [
    {
     "data": {
      "text/html": [
       "2.1010239251347"
      ],
      "text/latex": [
       "2.1010239251347"
      ],
      "text/markdown": [
       "2.1010239251347"
      ],
      "text/plain": [
       "[1] 2.101024"
      ]
     },
     "metadata": {},
     "output_type": "display_data"
    }
   ],
   "source": [
    "rmse_rf_model <- get_cv_rmse_rf_model(model_data)\n",
    "\n",
    "rmse_rf_model"
   ]
  },
  {
   "cell_type": "code",
   "execution_count": 17,
   "metadata": {},
   "outputs": [
    {
     "data": {
      "text/html": [
       "2.0446954672918"
      ],
      "text/latex": [
       "2.0446954672918"
      ],
      "text/markdown": [
       "2.0446954672918"
      ],
      "text/plain": [
       "[1] 2.044695"
      ]
     },
     "metadata": {},
     "output_type": "display_data"
    }
   ],
   "source": [
    "rmse_ridge_model <- get_cv_rmse_ridge_model(model_data)\n",
    "\n",
    "rmse_ridge_model"
   ]
  },
  {
   "cell_type": "markdown",
   "metadata": {},
   "source": [
    "## Some more feature engineering for weather data"
   ]
  },
  {
   "cell_type": "code",
   "execution_count": 18,
   "metadata": {},
   "outputs": [
    {
     "data": {
      "text/html": [
       "<table>\n",
       "<thead><tr><th scope=col>target</th><th scope=col>company_name</th><th scope=col>pickup_date</th><th scope=col>mon_dow_encoded</th><th scope=col>is_start_long_we</th><th scope=col>events</th><th scope=col>drop</th></tr></thead>\n",
       "<tbody>\n",
       "\t<tr><td> 2        </td><td>jalan     </td><td>2017-07-11</td><td>2.538462  </td><td>0         </td><td>1         </td><td>0.0000000 </td></tr>\n",
       "\t<tr><td> 2        </td><td>rakuten   </td><td>2017-07-11</td><td>2.538462  </td><td>0         </td><td>1         </td><td>0.0000000 </td></tr>\n",
       "\t<tr><td> 4        </td><td>jalan     </td><td>2017-07-12</td><td>3.045455  </td><td>0         </td><td>2         </td><td>0.0280236 </td></tr>\n",
       "\t<tr><td> 3        </td><td>rakuten   </td><td>2017-07-12</td><td>3.045455  </td><td>0         </td><td>2         </td><td>0.0280236 </td></tr>\n",
       "\t<tr><td>10        </td><td>jalan     </td><td>2017-07-13</td><td>3.625000  </td><td>0         </td><td>2         </td><td>0.0000000 </td></tr>\n",
       "\t<tr><td> 6        </td><td>rakuten   </td><td>2017-07-13</td><td>3.625000  </td><td>0         </td><td>2         </td><td>0.0000000 </td></tr>\n",
       "</tbody>\n",
       "</table>\n"
      ],
      "text/latex": [
       "\\begin{tabular}{r|lllllll}\n",
       " target & company\\_name & pickup\\_date & mon\\_dow\\_encoded & is\\_start\\_long\\_we & events & drop\\\\\n",
       "\\hline\n",
       "\t  2         & jalan      & 2017-07-11 & 2.538462   & 0          & 1          & 0.0000000 \\\\\n",
       "\t  2         & rakuten    & 2017-07-11 & 2.538462   & 0          & 1          & 0.0000000 \\\\\n",
       "\t  4         & jalan      & 2017-07-12 & 3.045455   & 0          & 2          & 0.0280236 \\\\\n",
       "\t  3         & rakuten    & 2017-07-12 & 3.045455   & 0          & 2          & 0.0280236 \\\\\n",
       "\t 10         & jalan      & 2017-07-13 & 3.625000   & 0          & 2          & 0.0000000 \\\\\n",
       "\t  6         & rakuten    & 2017-07-13 & 3.625000   & 0          & 2          & 0.0000000 \\\\\n",
       "\\end{tabular}\n"
      ],
      "text/markdown": [
       "\n",
       "| target | company_name | pickup_date | mon_dow_encoded | is_start_long_we | events | drop |\n",
       "|---|---|---|---|---|---|---|\n",
       "|  2         | jalan      | 2017-07-11 | 2.538462   | 0          | 1          | 0.0000000  |\n",
       "|  2         | rakuten    | 2017-07-11 | 2.538462   | 0          | 1          | 0.0000000  |\n",
       "|  4         | jalan      | 2017-07-12 | 3.045455   | 0          | 2          | 0.0280236  |\n",
       "|  3         | rakuten    | 2017-07-12 | 3.045455   | 0          | 2          | 0.0280236  |\n",
       "| 10         | jalan      | 2017-07-13 | 3.625000   | 0          | 2          | 0.0000000  |\n",
       "|  6         | rakuten    | 2017-07-13 | 3.625000   | 0          | 2          | 0.0000000  |\n",
       "\n"
      ],
      "text/plain": [
       "  target company_name pickup_date mon_dow_encoded is_start_long_we events\n",
       "1  2     jalan        2017-07-11  2.538462        0                1     \n",
       "2  2     rakuten      2017-07-11  2.538462        0                1     \n",
       "3  4     jalan        2017-07-12  3.045455        0                2     \n",
       "4  3     rakuten      2017-07-12  3.045455        0                2     \n",
       "5 10     jalan        2017-07-13  3.625000        0                2     \n",
       "6  6     rakuten      2017-07-13  3.625000        0                2     \n",
       "  drop     \n",
       "1 0.0000000\n",
       "2 0.0000000\n",
       "3 0.0280236\n",
       "4 0.0280236\n",
       "5 0.0000000\n",
       "6 0.0000000"
      ]
     },
     "metadata": {},
     "output_type": "display_data"
    }
   ],
   "source": [
    "#trying to deal with weather forcast\n",
    "city_weather <- weather %>% filter(city_id == 1536) %>%\n",
    "  distinct(date, .keep_all = TRUE) %>%\n",
    "  mutate(avg_temp = (low_temp + high_temp) / 2) %>%\n",
    "  select(date, avg_temp) %>%\n",
    "  complete(date = seq(date[1], as_date(\"2019-02-28\"), by = \"1 day\")) %>%\n",
    "  fill(avg_temp)\n",
    "\n",
    "rented_cars <- df_joined %>%\n",
    "  filter(is_cancelled == 0) %>%\n",
    "  mutate(mon = month(pickup_date)) %>%\n",
    "  group_by(mon) %>%\n",
    "  summarise(rented = n()) %>%\n",
    "  ungroup()\n",
    "\n",
    "cancelled_orders <- df_joined %>%\n",
    "  filter(is_cancelled == 1 &\n",
    "           pickup_date - cancellation_date <= 1) %>%\n",
    "  mutate(mon = month(pickup_date)) %>%\n",
    "  group_by(mon) %>%\n",
    "  summarise(cancelled = n()) %>%\n",
    "  ungroup()\n",
    "\n",
    "rush_cancellations <- rented_cars %>%\n",
    "  left_join(cancelled_orders, by = \"mon\") %>%\n",
    "  mutate(rush_ratio = cancelled / (rented + cancelled)) %>%\n",
    "  select(mon, rush_ratio)\n",
    "\n",
    "temp_drop_days <-\n",
    "  tibble(drop = ifelse(diff(city_weather$avg_temp, 2) / na.omit(lag(\n",
    "    city_weather$avg_temp, 2\n",
    "  )) < 0, 1, 0),\n",
    "  date = city_weather$date[3:nrow(city_weather)])\n",
    "\n",
    "model_data_alt <- model_data %>%\n",
    "  inner_join(temp_drop_days, by = c(\"pickup_date\" = \"date\")) %>%\n",
    "  mutate(drop = ifelse(drop == 1,\n",
    "                       rush_cancellations$rush_ratio[match(month(pickup_date), rush_cancellations$mon)],\n",
    "                       0))\n",
    "\n",
    "#write_csv(model_data_alt, \"derived/model_data_alt.csv\")\n",
    "\n",
    "head(model_data_alt)"
   ]
  },
  {
   "cell_type": "markdown",
   "metadata": {},
   "source": [
    "## Modelling on extended data (same as above plus weather forecast)"
   ]
  },
  {
   "cell_type": "code",
   "execution_count": 19,
   "metadata": {},
   "outputs": [
    {
     "data": {
      "text/html": [
       "2.16353137801963"
      ],
      "text/latex": [
       "2.16353137801963"
      ],
      "text/markdown": [
       "2.16353137801963"
      ],
      "text/plain": [
       "[1] 2.163531"
      ]
     },
     "metadata": {},
     "output_type": "display_data"
    }
   ],
   "source": [
    "rmse_rf_model_alt_data <- get_cv_rmse_rf_model(model_data_alt)\n",
    "\n",
    "rmse_rf_model_alt_data"
   ]
  },
  {
   "cell_type": "code",
   "execution_count": 20,
   "metadata": {},
   "outputs": [
    {
     "data": {
      "text/html": [
       "2.08073192147741"
      ],
      "text/latex": [
       "2.08073192147741"
      ],
      "text/markdown": [
       "2.08073192147741"
      ],
      "text/plain": [
       "[1] 2.080732"
      ]
     },
     "metadata": {},
     "output_type": "display_data"
    }
   ],
   "source": [
    "rmse_ridge_model_alt_data <- get_cv_rmse_ridge_model(model_data_alt)\n",
    "\n",
    "rmse_ridge_model_alt_data"
   ]
  },
  {
   "cell_type": "markdown",
   "metadata": {},
   "source": [
    "## Gradient boosting machines"
   ]
  },
  {
   "cell_type": "code",
   "execution_count": 21,
   "metadata": {},
   "outputs": [
    {
     "data": {
      "text/html": [
       "<table>\n",
       "<thead><tr><th scope=col>shrinkage</th><th scope=col>interaction.depth</th><th scope=col>n.minobsinnode</th><th scope=col>bag.fraction</th><th scope=col>optimal_trees</th><th scope=col>min_RMSE</th></tr></thead>\n",
       "<tbody>\n",
       "\t<tr><td>0.3     </td><td>3       </td><td>10      </td><td>0.6     </td><td> 9      </td><td>2.350979</td></tr>\n",
       "\t<tr><td>0.3     </td><td>3       </td><td>15      </td><td>0.6     </td><td> 9      </td><td>2.350979</td></tr>\n",
       "\t<tr><td>0.3     </td><td>3       </td><td> 5      </td><td>0.5     </td><td>17      </td><td>2.353812</td></tr>\n",
       "\t<tr><td>0.3     </td><td>3       </td><td> 5      </td><td>0.6     </td><td>12      </td><td>2.355135</td></tr>\n",
       "\t<tr><td>0.3     </td><td>3       </td><td>10      </td><td>0.8     </td><td>17      </td><td>2.355691</td></tr>\n",
       "\t<tr><td>0.5     </td><td>3       </td><td> 5      </td><td>0.6     </td><td> 9      </td><td>2.360192</td></tr>\n",
       "\t<tr><td>0.5     </td><td>3       </td><td>15      </td><td>0.6     </td><td> 9      </td><td>2.360804</td></tr>\n",
       "\t<tr><td>0.3     </td><td>5       </td><td> 5      </td><td>0.6     </td><td> 9      </td><td>2.361544</td></tr>\n",
       "\t<tr><td>0.3     </td><td>5       </td><td>15      </td><td>0.8     </td><td>14      </td><td>2.361583</td></tr>\n",
       "\t<tr><td>0.3     </td><td>5       </td><td>10      </td><td>0.6     </td><td> 9      </td><td>2.363020</td></tr>\n",
       "</tbody>\n",
       "</table>\n"
      ],
      "text/latex": [
       "\\begin{tabular}{r|llllll}\n",
       " shrinkage & interaction.depth & n.minobsinnode & bag.fraction & optimal\\_trees & min\\_RMSE\\\\\n",
       "\\hline\n",
       "\t 0.3      & 3        & 10       & 0.6      &  9       & 2.350979\\\\\n",
       "\t 0.3      & 3        & 15       & 0.6      &  9       & 2.350979\\\\\n",
       "\t 0.3      & 3        &  5       & 0.5      & 17       & 2.353812\\\\\n",
       "\t 0.3      & 3        &  5       & 0.6      & 12       & 2.355135\\\\\n",
       "\t 0.3      & 3        & 10       & 0.8      & 17       & 2.355691\\\\\n",
       "\t 0.5      & 3        &  5       & 0.6      &  9       & 2.360192\\\\\n",
       "\t 0.5      & 3        & 15       & 0.6      &  9       & 2.360804\\\\\n",
       "\t 0.3      & 5        &  5       & 0.6      &  9       & 2.361544\\\\\n",
       "\t 0.3      & 5        & 15       & 0.8      & 14       & 2.361583\\\\\n",
       "\t 0.3      & 5        & 10       & 0.6      &  9       & 2.363020\\\\\n",
       "\\end{tabular}\n"
      ],
      "text/markdown": [
       "\n",
       "| shrinkage | interaction.depth | n.minobsinnode | bag.fraction | optimal_trees | min_RMSE |\n",
       "|---|---|---|---|---|---|\n",
       "| 0.3      | 3        | 10       | 0.6      |  9       | 2.350979 |\n",
       "| 0.3      | 3        | 15       | 0.6      |  9       | 2.350979 |\n",
       "| 0.3      | 3        |  5       | 0.5      | 17       | 2.353812 |\n",
       "| 0.3      | 3        |  5       | 0.6      | 12       | 2.355135 |\n",
       "| 0.3      | 3        | 10       | 0.8      | 17       | 2.355691 |\n",
       "| 0.5      | 3        |  5       | 0.6      |  9       | 2.360192 |\n",
       "| 0.5      | 3        | 15       | 0.6      |  9       | 2.360804 |\n",
       "| 0.3      | 5        |  5       | 0.6      |  9       | 2.361544 |\n",
       "| 0.3      | 5        | 15       | 0.8      | 14       | 2.361583 |\n",
       "| 0.3      | 5        | 10       | 0.6      |  9       | 2.363020 |\n",
       "\n"
      ],
      "text/plain": [
       "   shrinkage interaction.depth n.minobsinnode bag.fraction optimal_trees\n",
       "1  0.3       3                 10             0.6           9           \n",
       "2  0.3       3                 15             0.6           9           \n",
       "3  0.3       3                  5             0.5          17           \n",
       "4  0.3       3                  5             0.6          12           \n",
       "5  0.3       3                 10             0.8          17           \n",
       "6  0.5       3                  5             0.6           9           \n",
       "7  0.5       3                 15             0.6           9           \n",
       "8  0.3       5                  5             0.6           9           \n",
       "9  0.3       5                 15             0.8          14           \n",
       "10 0.3       5                 10             0.6           9           \n",
       "   min_RMSE\n",
       "1  2.350979\n",
       "2  2.350979\n",
       "3  2.353812\n",
       "4  2.355135\n",
       "5  2.355691\n",
       "6  2.360192\n",
       "7  2.360804\n",
       "8  2.361544\n",
       "9  2.361583\n",
       "10 2.363020"
      ]
     },
     "metadata": {},
     "output_type": "display_data"
    }
   ],
   "source": [
    "#gbm tuning via hyperparameter grid\n",
    "hyper_grid <- expand.grid(\n",
    "  shrinkage = c(.1, .3, .5),\n",
    "  interaction.depth = c(3, 5, 7),\n",
    "  n.minobsinnode = c(5, 10, 15),\n",
    "  bag.fraction = c(.5, .6, .8),\n",
    "  optimal_trees = 0,\n",
    "  min_RMSE = 0\n",
    ")\n",
    "\n",
    "#grid search\n",
    "for (i in 1:nrow(hyper_grid)) {\n",
    "  set.seed(1)\n",
    "  \n",
    "  gbm_tune <- gbm(\n",
    "    formula = target ~ .,\n",
    "    distribution = \"gaussian\",\n",
    "    data = model_data %>% select(-pickup_date),\n",
    "    n.trees = 1000,\n",
    "    interaction.depth = hyper_grid$interaction.depth[i],\n",
    "    shrinkage = hyper_grid$shrinkage[i],\n",
    "    n.minobsinnode = hyper_grid$n.minobsinnode[i],\n",
    "    bag.fraction = hyper_grid$bag.fraction[i],\n",
    "    train.fraction = .75,\n",
    "    n.cores = NULL,\n",
    "    verbose = FALSE\n",
    "  )\n",
    "  \n",
    "  hyper_grid$optimal_trees[i] <- which.min(gbm_tune$valid.error)\n",
    "  hyper_grid$min_RMSE[i] <- sqrt(min(gbm_tune$valid.error))\n",
    "}\n",
    "\n",
    "hyper_grid %>%\n",
    "  arrange(min_RMSE) %>%\n",
    "  head(10)"
   ]
  },
  {
   "cell_type": "code",
   "execution_count": 22,
   "metadata": {},
   "outputs": [],
   "source": [
    "get_cv_rmse_gbm_model <- function(data,\n",
    "                                  k = 10,\n",
    "                                  seed = 1) {\n",
    "  set.seed(seed)\n",
    "  \n",
    "  data <- data %>%\n",
    "    select(-pickup_date)\n",
    "  \n",
    "  data <- data[sample(nrow(data)),]\n",
    "  folds <- cut(seq(1, nrow(data)), breaks = k, labels = FALSE)\n",
    "  rmse <- c()\n",
    "  \n",
    "  for (i in 1:k) {\n",
    "    indices <- which(folds == i, arr.ind = TRUE)\n",
    "    test_data <- data[indices,]\n",
    "    train_data <- data[-indices,]\n",
    "    \n",
    "    gbm_best <- gbm(\n",
    "      formula = target ~ .,\n",
    "      distribution = \"gaussian\",\n",
    "      data = train_data,\n",
    "      n.trees = 10,\n",
    "      interaction.depth = 3,\n",
    "      shrinkage = .3,\n",
    "      n.minobsinnode = 10,\n",
    "      bag.fraction = .6,\n",
    "      train.fraction = .75,\n",
    "      n.cores = NULL,\n",
    "      verbose = FALSE\n",
    "    )\n",
    "    \n",
    "    predicts <- predict(gbm_best, test_data[, -1])\n",
    "    \n",
    "    rmse[i] <- sqrt(mean((predicts - test_data$target) ^ 2))\n",
    "  }\n",
    "  mean(rmse)\n",
    "}"
   ]
  },
  {
   "cell_type": "code",
   "execution_count": 23,
   "metadata": {},
   "outputs": [
    {
     "name": "stdout",
     "output_type": "stream",
     "text": [
      "Using 10 trees...\n",
      "Using 10 trees...\n",
      "Using 10 trees...\n",
      "Using 9 trees...\n",
      "Using 9 trees...\n",
      "Using 9 trees...\n",
      "Using 10 trees...\n",
      "Using 8 trees...\n",
      "Using 7 trees...\n",
      "Using 4 trees...\n"
     ]
    },
    {
     "data": {
      "text/html": [
       "2.06071234067046"
      ],
      "text/latex": [
       "2.06071234067046"
      ],
      "text/markdown": [
       "2.06071234067046"
      ],
      "text/plain": [
       "[1] 2.060712"
      ]
     },
     "metadata": {},
     "output_type": "display_data"
    }
   ],
   "source": [
    "rmse_gbm_model <- get_cv_rmse_gbm_model(model_data)\n",
    "\n",
    "rmse_gbm_model"
   ]
  },
  {
   "cell_type": "code",
   "execution_count": 24,
   "metadata": {},
   "outputs": [
    {
     "name": "stdout",
     "output_type": "stream",
     "text": [
      "Using 8 trees...\n",
      "Using 10 trees...\n",
      "Using 7 trees...\n",
      "Using 10 trees...\n",
      "Using 10 trees...\n",
      "Using 10 trees...\n",
      "Using 10 trees...\n",
      "Using 10 trees...\n",
      "Using 10 trees...\n",
      "Using 6 trees...\n"
     ]
    },
    {
     "data": {
      "text/html": [
       "2.09589273736298"
      ],
      "text/latex": [
       "2.09589273736298"
      ],
      "text/markdown": [
       "2.09589273736298"
      ],
      "text/plain": [
       "[1] 2.095893"
      ]
     },
     "metadata": {},
     "output_type": "display_data"
    }
   ],
   "source": [
    "rmse_gbm_model_alt_data <- get_cv_rmse_gbm_model(model_data_alt)\n",
    "\n",
    "rmse_gbm_model_alt_data"
   ]
  },
  {
   "cell_type": "markdown",
   "metadata": {},
   "source": [
    "## XGBoost"
   ]
  },
  {
   "cell_type": "code",
   "execution_count": 25,
   "metadata": {},
   "outputs": [
    {
     "data": {
      "text/html": [
       "<table>\n",
       "<thead><tr><th scope=col>eta</th><th scope=col>max_depth</th><th scope=col>min_child_weight</th><th scope=col>subsample</th><th scope=col>colsample_bytree</th><th scope=col>optimal_trees</th><th scope=col>min_RMSE</th></tr></thead>\n",
       "<tbody>\n",
       "\t<tr><td>0.3     </td><td>3       </td><td>7       </td><td>0.8     </td><td>1.0     </td><td>13      </td><td>2.021410</td></tr>\n",
       "\t<tr><td>0.3     </td><td>3       </td><td>5       </td><td>0.8     </td><td>1.0     </td><td>16      </td><td>2.023387</td></tr>\n",
       "\t<tr><td>0.3     </td><td>3       </td><td>5       </td><td>0.6     </td><td>1.0     </td><td>14      </td><td>2.030863</td></tr>\n",
       "\t<tr><td>0.1     </td><td>3       </td><td>5       </td><td>0.6     </td><td>1.0     </td><td>25      </td><td>2.032185</td></tr>\n",
       "\t<tr><td>0.1     </td><td>3       </td><td>7       </td><td>0.6     </td><td>1.0     </td><td>26      </td><td>2.032598</td></tr>\n",
       "\t<tr><td>0.1     </td><td>3       </td><td>5       </td><td>0.8     </td><td>1.0     </td><td>34      </td><td>2.033243</td></tr>\n",
       "\t<tr><td>0.1     </td><td>3       </td><td>5       </td><td>0.6     </td><td>0.8     </td><td>34      </td><td>2.033837</td></tr>\n",
       "\t<tr><td>0.1     </td><td>3       </td><td>7       </td><td>0.8     </td><td>1.0     </td><td>30      </td><td>2.033870</td></tr>\n",
       "\t<tr><td>0.1     </td><td>3       </td><td>7       </td><td>0.6     </td><td>0.8     </td><td>34      </td><td>2.033904</td></tr>\n",
       "\t<tr><td>0.3     </td><td>3       </td><td>7       </td><td>0.6     </td><td>1.0     </td><td>12      </td><td>2.035511</td></tr>\n",
       "</tbody>\n",
       "</table>\n"
      ],
      "text/latex": [
       "\\begin{tabular}{r|lllllll}\n",
       " eta & max\\_depth & min\\_child\\_weight & subsample & colsample\\_bytree & optimal\\_trees & min\\_RMSE\\\\\n",
       "\\hline\n",
       "\t 0.3      & 3        & 7        & 0.8      & 1.0      & 13       & 2.021410\\\\\n",
       "\t 0.3      & 3        & 5        & 0.8      & 1.0      & 16       & 2.023387\\\\\n",
       "\t 0.3      & 3        & 5        & 0.6      & 1.0      & 14       & 2.030863\\\\\n",
       "\t 0.1      & 3        & 5        & 0.6      & 1.0      & 25       & 2.032185\\\\\n",
       "\t 0.1      & 3        & 7        & 0.6      & 1.0      & 26       & 2.032598\\\\\n",
       "\t 0.1      & 3        & 5        & 0.8      & 1.0      & 34       & 2.033243\\\\\n",
       "\t 0.1      & 3        & 5        & 0.6      & 0.8      & 34       & 2.033837\\\\\n",
       "\t 0.1      & 3        & 7        & 0.8      & 1.0      & 30       & 2.033870\\\\\n",
       "\t 0.1      & 3        & 7        & 0.6      & 0.8      & 34       & 2.033904\\\\\n",
       "\t 0.3      & 3        & 7        & 0.6      & 1.0      & 12       & 2.035511\\\\\n",
       "\\end{tabular}\n"
      ],
      "text/markdown": [
       "\n",
       "| eta | max_depth | min_child_weight | subsample | colsample_bytree | optimal_trees | min_RMSE |\n",
       "|---|---|---|---|---|---|---|\n",
       "| 0.3      | 3        | 7        | 0.8      | 1.0      | 13       | 2.021410 |\n",
       "| 0.3      | 3        | 5        | 0.8      | 1.0      | 16       | 2.023387 |\n",
       "| 0.3      | 3        | 5        | 0.6      | 1.0      | 14       | 2.030863 |\n",
       "| 0.1      | 3        | 5        | 0.6      | 1.0      | 25       | 2.032185 |\n",
       "| 0.1      | 3        | 7        | 0.6      | 1.0      | 26       | 2.032598 |\n",
       "| 0.1      | 3        | 5        | 0.8      | 1.0      | 34       | 2.033243 |\n",
       "| 0.1      | 3        | 5        | 0.6      | 0.8      | 34       | 2.033837 |\n",
       "| 0.1      | 3        | 7        | 0.8      | 1.0      | 30       | 2.033870 |\n",
       "| 0.1      | 3        | 7        | 0.6      | 0.8      | 34       | 2.033904 |\n",
       "| 0.3      | 3        | 7        | 0.6      | 1.0      | 12       | 2.035511 |\n",
       "\n"
      ],
      "text/plain": [
       "   eta max_depth min_child_weight subsample colsample_bytree optimal_trees\n",
       "1  0.3 3         7                0.8       1.0              13           \n",
       "2  0.3 3         5                0.8       1.0              16           \n",
       "3  0.3 3         5                0.6       1.0              14           \n",
       "4  0.1 3         5                0.6       1.0              25           \n",
       "5  0.1 3         7                0.6       1.0              26           \n",
       "6  0.1 3         5                0.8       1.0              34           \n",
       "7  0.1 3         5                0.6       0.8              34           \n",
       "8  0.1 3         7                0.8       1.0              30           \n",
       "9  0.1 3         7                0.6       0.8              34           \n",
       "10 0.3 3         7                0.6       1.0              12           \n",
       "   min_RMSE\n",
       "1  2.021410\n",
       "2  2.023387\n",
       "3  2.030863\n",
       "4  2.032185\n",
       "5  2.032598\n",
       "6  2.033243\n",
       "7  2.033837\n",
       "8  2.033870\n",
       "9  2.033904\n",
       "10 2.035511"
      ]
     },
     "metadata": {},
     "output_type": "display_data"
    }
   ],
   "source": [
    "#hyperparameter grid for xgboost\n",
    "hyper_grid_xgb <- expand.grid(\n",
    "  eta = c(.1, .3),\n",
    "  max_depth = c(3, 5),\n",
    "  min_child_weight = c(5, 7),\n",
    "  subsample = c(.6, .8),\n",
    "  colsample_bytree = c(.8, 1),\n",
    "  optimal_trees = 0,\n",
    "  min_RMSE = 0\n",
    ")\n",
    "\n",
    "xgb_data <- model_data %>%\n",
    "  select(-pickup_date) %>%\n",
    "  dummy_cols(\n",
    "    select_columns = c(\"company_name\"),\n",
    "    remove_first_dummy = TRUE,\n",
    "    remove_selected_columns = TRUE\n",
    "  )\n",
    "\n",
    "#grid search\n",
    "for (i in 1:nrow(hyper_grid_xgb)) {\n",
    "  #create parameter list\n",
    "  params <- list(\n",
    "    eta = hyper_grid_xgb$eta[i],\n",
    "    max_depth = hyper_grid_xgb$max_depth[i],\n",
    "    min_child_weight = hyper_grid_xgb$min_child_weight[i],\n",
    "    subsample = hyper_grid_xgb$subsample[i],\n",
    "    colsample_bytree = hyper_grid_xgb$colsample_bytree[i]\n",
    "  )\n",
    "  \n",
    "  set.seed(1)\n",
    "  \n",
    "  #train model\n",
    "  xgb_tune <- xgb.cv(\n",
    "    params = params,\n",
    "    data = as.matrix(xgb_data[names(xgb_data) != \"target\"]),\n",
    "    label = xgb_data[[\"target\"]],\n",
    "    nrounds = 100,\n",
    "    nfold = 5,\n",
    "    objective = \"reg:linear\",\n",
    "    verbose = 0,\n",
    "    early_stopping_rounds = 10 #stop if no improvement for 10 consecutive trees\n",
    "  )\n",
    "  \n",
    "  hyper_grid_xgb$optimal_trees[i] <-\n",
    "    which.min(xgb_tune$evaluation_log$test_rmse_mean)\n",
    "  hyper_grid_xgb$min_RMSE[i] <-\n",
    "    min(xgb_tune$evaluation_log$test_rmse_mean)\n",
    "}\n",
    "\n",
    "hyper_grid_xgb %>%\n",
    "  arrange(min_RMSE) %>%\n",
    "  head(10)"
   ]
  },
  {
   "cell_type": "code",
   "execution_count": 26,
   "metadata": {},
   "outputs": [],
   "source": [
    "get_cv_rmse_xgb_model <- function(data,\n",
    "                                  k = 10,\n",
    "                                  seed = 1) {\n",
    "  set.seed(seed)\n",
    "  \n",
    "  data <- data %>%\n",
    "    select(-pickup_date) %>%\n",
    "    dummy_cols(\n",
    "      select_columns = c(\"company_name\"),\n",
    "      remove_first_dummy = TRUE,\n",
    "      remove_selected_columns = TRUE\n",
    "    )\n",
    "  \n",
    "  data <- data[sample(nrow(data)),]\n",
    "  folds <- cut(seq(1, nrow(data)), breaks = k, labels = FALSE)\n",
    "  \n",
    "  params_final <- list(\n",
    "    eta = 0.3,\n",
    "    max_depth = 3,\n",
    "    min_child_weight = 7,\n",
    "    subsample = 0.8,\n",
    "    colsample_bytree = 1\n",
    "  )\n",
    "  \n",
    "  rmse <- c()\n",
    "  \n",
    "  for (i in 1:k) {\n",
    "    indices <- which(folds == i, arr.ind = TRUE)\n",
    "    test_data <- data[indices,]\n",
    "    train_data <- data[-indices,]\n",
    "    \n",
    "    xgb_mod <- xgboost(\n",
    "      params = params_final,\n",
    "      data = as.matrix(train_data[names(train_data) != \"target\"]),\n",
    "      label = train_data[[\"target\"]],\n",
    "      nrounds = 15,\n",
    "      objective = \"reg:linear\",\n",
    "      verbose = 0\n",
    "    )\n",
    "    \n",
    "    predicts <-\n",
    "      predict(xgb_mod,\n",
    "              as.matrix(test_data[, -1]))\n",
    "    \n",
    "    rmse[i] <- sqrt(mean((predicts - test_data$target) ^ 2))\n",
    "  }\n",
    "  mean(rmse)\n",
    "}"
   ]
  },
  {
   "cell_type": "code",
   "execution_count": 27,
   "metadata": {},
   "outputs": [
    {
     "data": {
      "text/html": [
       "2.04547642972975"
      ],
      "text/latex": [
       "2.04547642972975"
      ],
      "text/markdown": [
       "2.04547642972975"
      ],
      "text/plain": [
       "[1] 2.045476"
      ]
     },
     "metadata": {},
     "output_type": "display_data"
    }
   ],
   "source": [
    "rmse_xgb_model <- get_cv_rmse_xgb_model(model_data)\n",
    "\n",
    "rmse_xgb_model"
   ]
  },
  {
   "cell_type": "code",
   "execution_count": 28,
   "metadata": {},
   "outputs": [
    {
     "data": {
      "text/html": [
       "2.1039712442029"
      ],
      "text/latex": [
       "2.1039712442029"
      ],
      "text/markdown": [
       "2.1039712442029"
      ],
      "text/plain": [
       "[1] 2.103971"
      ]
     },
     "metadata": {},
     "output_type": "display_data"
    }
   ],
   "source": [
    "rmse_xgb_model_alt_data <- get_cv_rmse_xgb_model(model_data_alt)\n",
    "\n",
    "rmse_xgb_model_alt_data"
   ]
  },
  {
   "cell_type": "markdown",
   "metadata": {},
   "source": [
    "## Training XGB and alternative models on full train data "
   ]
  },
  {
   "cell_type": "code",
   "execution_count": 29,
   "metadata": {},
   "outputs": [],
   "source": [
    "#parameter list\n",
    "params_final <- list(\n",
    "    eta = 0.3,\n",
    "    max_depth = 3,\n",
    "    min_child_weight = 7,\n",
    "    subsample = 0.8,\n",
    "    colsample_bytree = 1\n",
    "  )\n",
    "\n",
    "#train final model for xgb\n",
    "xgb_fit_final <- xgboost(\n",
    "  params = params_final,\n",
    "  data = as.matrix(xgb_data[names(xgb_data) != \"target\"]),\n",
    "  label = xgb_data[[\"target\"]],\n",
    "  nrounds = 15,\n",
    "  objective = \"reg:linear\",\n",
    "  verbose = 0\n",
    ")\n",
    "\n",
    "\n",
    "#train final model for ridge on model_data_alt\n",
    "\n",
    "#despite of fact that model_data_alt (with weather feature) set shows somewhat worse performance\n",
    "#in terms of picked comparable metrics (i.e. RMSE), I decided to give it a try, especially with\n",
    "#regard to given below feture importance plots \n",
    "ridge_data_alt <- model_data_alt %>%\n",
    "  select(-pickup_date) %>%\n",
    "  dummy_cols(\n",
    "    select_columns = c(\"company_name\"),\n",
    "    remove_first_dummy = TRUE,\n",
    "    remove_selected_columns = TRUE\n",
    "  )\n",
    "\n",
    "ridge_fit_final_alt <- cv.glmnet(\n",
    "  x = as.matrix(ridge_data_alt[names(ridge_data_alt) != \"target\"]),\n",
    "  y = ridge_data_alt[[\"target\"]],\n",
    "  nfolds = 10,\n",
    "  standardize = TRUE,\n",
    "  alpha = 0\n",
    ")\n",
    "\n",
    "#saveRDS(params_final, \"results/models/xgb_param.rds\")\n",
    "#saveRDS(xgb_fit_final, \"results/models/xgb_model.rds\")\n",
    "#saveRDS(ridge_fit_final_alt, \"results/models/ridge_model_alt.rds\")"
   ]
  },
  {
   "cell_type": "markdown",
   "metadata": {},
   "source": [
    "## Feature importance for models on base and extended data sets"
   ]
  },
  {
   "cell_type": "code",
   "execution_count": 30,
   "metadata": {},
   "outputs": [
    {
     "data": {
      "image/png": "[encoded data removed]",
      "text/plain": [
       "plot without title"
      ]
     },
     "metadata": {},
     "output_type": "display_data"
    }
   ],
   "source": [
    "#features importance\n",
    "importance_matrix <- xgb.importance(model = xgb_fit_final)\n",
    "xgb.plot.importance(importance_matrix, measure = \"Gain\")"
   ]
  },
  {
   "cell_type": "code",
   "execution_count": 31,
   "metadata": {},
   "outputs": [
    {
     "data": {
      "image/png": "[encoded data removed]",
      "text/plain": [
       "Plot with title \"rf_mod_alt\""
      ]
     },
     "metadata": {},
     "output_type": "display_data"
    }
   ],
   "source": [
    "rf_mod_alt <-\n",
    "  randomForest(target ~ . , data = model_data_alt %>% select(-pickup_date))\n",
    "\n",
    "varImpPlot(rf_mod_alt)"
   ]
  },
  {
   "cell_type": "markdown",
   "metadata": {},
   "source": [
    "## Create new data set for task assignment"
   ]
  },
  {
   "cell_type": "code",
   "execution_count": 33,
   "metadata": {},
   "outputs": [],
   "source": [
    "#new data for Jan-Feb 2019\n",
    "new_data <- tibble(date = rep(seq(\n",
    "  as_date(\"2019-01-01\"), as_date(\"2019-02-28\"), by = \"1 day\"\n",
    "), each = 2),\n",
    "company_name = rep(c(\"rakuten\", \"jalan\"), length(date) / 2)) %>%\n",
    "  mutate(\n",
    "    mon_dow = paste(month(date, label = TRUE),\n",
    "                    as.character(wday(date, label = TRUE)),\n",
    "                    sep = \"_\"),\n",
    "    mon_dow_encoded = mon_dow_lookup$mon_dow_encoded[match(mon_dow, mon_dow_lookup$mon_dow)],\n",
    "    is_start_long_we = holidays$start_long_we[match(date, holidays$day)],\n",
    "    events = sapply(date, get_events),\n",
    "    is_drop_temp = temp_drop_days$drop[match(date, temp_drop_days$date)],\n",
    "    drop = ifelse(is_drop_temp == 1,\n",
    "                  rush_cancellations$rush_ratio[match(month(date), rush_cancellations$mon)],\n",
    "                  0)\n",
    "  ) %>%\n",
    "  dummy_cols(\n",
    "    select_columns = c(\"company_name\"),\n",
    "    remove_first_dummy = TRUE,\n",
    "    remove_selected_columns = TRUE\n",
    "  ) %>%\n",
    "  select(-mon_dow,-is_drop_temp)"
   ]
  },
  {
   "cell_type": "markdown",
   "metadata": {},
   "source": [
    "## Final prediction and results for both models and data sets (base vs extended)"
   ]
  },
  {
   "cell_type": "code",
   "execution_count": 34,
   "metadata": {},
   "outputs": [],
   "source": [
    "#make final predictions\n",
    "xgb_new_data_preds <-\n",
    "  predict(xgb_fit_final,\n",
    "          as.matrix(new_data[,-c(1, 5)]))\n",
    "\n",
    "ridge_new_data_preds_alt <-\n",
    "  c(predict(\n",
    "    ridge_fit_final_alt,\n",
    "    s = ridge_fit_final_alt$lambda.min,\n",
    "    newx = as.matrix(new_data[,-1])\n",
    "  ))"
   ]
  },
  {
   "cell_type": "code",
   "execution_count": 38,
   "metadata": {},
   "outputs": [],
   "source": [
    "#saving results\n",
    "results <-\n",
    "  cbind(new_data[, c(1, 6)], xgb_new_data_preds, ridge_new_data_preds_alt)  %>%\n",
    "  mutate(\n",
    "    xgb_rounded = round(xgb_new_data_preds, 0),\n",
    "    ridge_rounded = round(ridge_new_data_preds_alt, 0)\n",
    "  )\n",
    "\n",
    "results_jalan <- subset(results, company_name_rakuten == 0)\n",
    "results_rakuten <- subset(results, company_name_rakuten == 1)\n",
    "\n",
    "\n",
    "#write_csv(results_rakuten[, c(1, 3)], \"results/predictions/rakuten_xgb_raw.csv\")\n",
    "#write_csv(results_rakuten[, c(1, 5)], \"results/predictions/rakuten_xgb_rounded.csv\")\n",
    "#write_csv(results_rakuten[, c(1, 4)], \"results/predictions/rakuten_alt_raw.csv\")\n",
    "#write_csv(results_rakuten[, c(1, 6)], \"results/predictions/rakuten_alt_rounded.csv\")\n",
    "\n",
    "#write_csv(results_jalan[, c(1, 3)], \"results/predictions/jalan_xgb_raw.csv\")\n",
    "#write_csv(results_jalan[, c(1, 5)], \"results/predictions/jalan_xgb_rounded.csv\")\n",
    "#write_csv(results_jalan[, c(1, 4)], \"results/predictions/jalan_alt_raw.csv\")\n",
    "#write_csv(results_jalan[, c(1, 6)], \"results/predictions/jalan_alt_rounded.csv\")"
   ]
  },
  {
   "cell_type": "code",
   "execution_count": 39,
   "metadata": {},
   "outputs": [
    {
     "data": {
      "text/html": [
       "<table>\n",
       "<thead><tr><th scope=col>date</th><th scope=col>company_name_rakuten</th><th scope=col>xgb_new_data_preds</th><th scope=col>ridge_new_data_preds_alt</th><th scope=col>xgb_rounded</th><th scope=col>ridge_rounded</th></tr></thead>\n",
       "<tbody>\n",
       "\t<tr><td>2019-01-01</td><td>1         </td><td>1.7225789 </td><td>2.2538005 </td><td>2         </td><td>2         </td></tr>\n",
       "\t<tr><td>2019-01-01</td><td>0         </td><td>0.5776951 </td><td>0.4899393 </td><td>1         </td><td>0         </td></tr>\n",
       "\t<tr><td>2019-01-02</td><td>1         </td><td>1.9008294 </td><td>2.3476396 </td><td>2         </td><td>2         </td></tr>\n",
       "\t<tr><td>2019-01-02</td><td>0         </td><td>0.6498736 </td><td>0.5837784 </td><td>1         </td><td>1         </td></tr>\n",
       "\t<tr><td>2019-01-03</td><td>1         </td><td>1.7225789 </td><td>2.1847061 </td><td>2         </td><td>2         </td></tr>\n",
       "\t<tr><td>2019-01-03</td><td>0         </td><td>0.5776951 </td><td>0.4208449 </td><td>1         </td><td>0         </td></tr>\n",
       "</tbody>\n",
       "</table>\n"
      ],
      "text/latex": [
       "\\begin{tabular}{r|llllll}\n",
       " date & company\\_name\\_rakuten & xgb\\_new\\_data\\_preds & ridge\\_new\\_data\\_preds\\_alt & xgb\\_rounded & ridge\\_rounded\\\\\n",
       "\\hline\n",
       "\t 2019-01-01 & 1          & 1.7225789  & 2.2538005  & 2          & 2         \\\\\n",
       "\t 2019-01-01 & 0          & 0.5776951  & 0.4899393  & 1          & 0         \\\\\n",
       "\t 2019-01-02 & 1          & 1.9008294  & 2.3476396  & 2          & 2         \\\\\n",
       "\t 2019-01-02 & 0          & 0.6498736  & 0.5837784  & 1          & 1         \\\\\n",
       "\t 2019-01-03 & 1          & 1.7225789  & 2.1847061  & 2          & 2         \\\\\n",
       "\t 2019-01-03 & 0          & 0.5776951  & 0.4208449  & 1          & 0         \\\\\n",
       "\\end{tabular}\n"
      ],
      "text/markdown": [
       "\n",
       "| date | company_name_rakuten | xgb_new_data_preds | ridge_new_data_preds_alt | xgb_rounded | ridge_rounded |\n",
       "|---|---|---|---|---|---|\n",
       "| 2019-01-01 | 1          | 1.7225789  | 2.2538005  | 2          | 2          |\n",
       "| 2019-01-01 | 0          | 0.5776951  | 0.4899393  | 1          | 0          |\n",
       "| 2019-01-02 | 1          | 1.9008294  | 2.3476396  | 2          | 2          |\n",
       "| 2019-01-02 | 0          | 0.6498736  | 0.5837784  | 1          | 1          |\n",
       "| 2019-01-03 | 1          | 1.7225789  | 2.1847061  | 2          | 2          |\n",
       "| 2019-01-03 | 0          | 0.5776951  | 0.4208449  | 1          | 0          |\n",
       "\n"
      ],
      "text/plain": [
       "  date       company_name_rakuten xgb_new_data_preds ridge_new_data_preds_alt\n",
       "1 2019-01-01 1                    1.7225789          2.2538005               \n",
       "2 2019-01-01 0                    0.5776951          0.4899393               \n",
       "3 2019-01-02 1                    1.9008294          2.3476396               \n",
       "4 2019-01-02 0                    0.6498736          0.5837784               \n",
       "5 2019-01-03 1                    1.7225789          2.1847061               \n",
       "6 2019-01-03 0                    0.5776951          0.4208449               \n",
       "  xgb_rounded ridge_rounded\n",
       "1 2           2            \n",
       "2 1           0            \n",
       "3 2           2            \n",
       "4 1           1            \n",
       "5 2           2            \n",
       "6 1           0            "
      ]
     },
     "metadata": {},
     "output_type": "display_data"
    }
   ],
   "source": [
    "head(results)"
   ]
  }
 ],
 "metadata": {
  "kernelspec": {
   "display_name": "R",
   "language": "R",
   "name": "ir"
  },
  "language_info": {
   "codemirror_mode": "r",
   "file_extension": ".r",
   "mimetype": "text/x-r-source",
   "name": "R",
   "pygments_lexer": "r",
   "version": "3.6.1"
  }
 },
 "nbformat": 4,
 "nbformat_minor": 4
}
