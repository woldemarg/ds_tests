{
  "cells": [
    {
      "cell_type": "code",
      "metadata": {},
      "source": [
        "from sklearn.metrics import roc_auc_score\n",
        "from xgboost import XGBClassifier\n",
        "\n",
        "import pandas as pd\n",
        "import numpy as np"
      ],
      "outputs": [],
      "execution_count": null
    },
    {
      "cell_type": "code",
      "metadata": {},
      "source": [
        "apps = pd.read_csv(\"kaggle_solutions/home_credit_default_risk/data/samples/app_samp.csv.gz\",\n",
        "                   index_col=0,\n",
        "                   compression=\"gzip\")"
      ],
      "outputs": [],
      "execution_count": null
    },
    {
      "cell_type": "code",
      "metadata": {},
      "source": [
        "desc = pd.read_csv(\"kaggle_solutions/home_credit_default_risk/data/raw/HomeCredit_columns_description.csv\",\n",
        "                   index_col=0,\n",
        "                   quotechar='\"')"
      ],
      "outputs": [],
      "execution_count": null
    },
    {
      "cell_type": "code",
      "metadata": {},
      "source": [
        "bureau = pd.read_csv(\"kaggle_solutions/home_credit_default_risk/data/samples/bur_samp.csv.gz\",\n",
        "                     index_col=0)"
      ],
      "outputs": [],
      "execution_count": null
    },
    {
      "cell_type": "code",
      "metadata": {},
      "source": [
        "bureau_balance = pd.read_csv(\"kaggle_solutions/home_credit_default_risk/data/samples/bur_bal_samp.csv.gz\",\n",
        "                             index_col=0)"
      ],
      "outputs": [],
      "execution_count": null
    },
    {
      "cell_type": "code",
      "metadata": {},
      "source": [
        "pos_cash_balance = pd.read_csv(\"kaggle_solutions/home_credit_default_risk/data/samples/ps_bal_samp.csv.gz\",\n",
        "                               index_col=0)"
      ],
      "outputs": [],
      "execution_count": null
    },
    {
      "cell_type": "code",
      "metadata": {},
      "source": [
        "credit_card_balance = pd.read_csv(\"kaggle_solutions/home_credit_default_risk/data/samples/cc_bal_samp.csv.gz\",\n",
        "                                  index_col=0)"
      ],
      "outputs": [],
      "execution_count": null
    },
    {
      "cell_type": "code",
      "metadata": {},
      "source": [
        "previous_application = pd.read_csv(\"kaggle_solutions/home_credit_default_risk/data/samples/prev_app_samp.csv.gz\",\n",
        "                                   index_col=0)"
      ],
      "outputs": [],
      "execution_count": null
    },
    {
      "cell_type": "code",
      "metadata": {},
      "source": [
        "installments_payments = pd.read_csv(\"kaggle_solutions/home_credit_default_risk/data/samples/in_pay_samp.csv.gz\",\n",
        "                                    index_col=0)"
      ],
      "outputs": [],
      "execution_count": null
    },
    {
      "cell_type": "code",
      "metadata": {},
      "source": [
        "def get_stats(df):\n",
        "    univ = pd.Series(data=[df[col].nunique()\n",
        "                           if df[col].dtype == \"object\"\n",
        "                           else np.nan\n",
        "                           for col in df.columns],\n",
        "                     index=df.columns)\n",
        "    stats = pd.concat([df.dtypes,\n",
        "                       univ,\n",
        "                       df.isna().mean().round(4)],\n",
        "                      axis=1)\n",
        "    stats.columns = [\"type\", \"univ\", \"pct_nan\"]\n",
        "    return stats"
      ],
      "outputs": [],
      "execution_count": null
    },
    {
      "cell_type": "code",
      "metadata": {},
      "source": [
        "bureau_stats = get_stats(bureau)"
      ],
      "outputs": [],
      "execution_count": null
    },
    {
      "cell_type": "code",
      "metadata": {},
      "source": [
        "bureau_mod = bureau.copy()\n",
        "\n",
        "closed = (bureau_balance\n",
        "          .groupby(\"SK_ID_BUREAU\")\n",
        "          .filter(lambda d: (d[\"STATUS\"] == \"C\").any())[\"SK_ID_BUREAU\"]\n",
        "          .unique())\n",
        "\n",
        "bureau_mod[\"CREDIT_ACTIVE\"] = [v if v != \"Active\" or i not in closed\n",
        "                               else \"Closed\" for v, i in\n",
        "                               list(zip(bureau_mod[\"CREDIT_ACTIVE\"],\n",
        "                                        bureau_mod[\"SK_ID_BUREAU\"]))]"
      ],
      "outputs": [],
      "execution_count": null
    },
    {
      "cell_type": "code",
      "metadata": {},
      "source": [
        "(bureau_mod[\"DAYS_CREDIT_ENDDATE\"]\n",
        " .fillna(bureau_mod[\"DAYS_ENDDATE_FACT\"],\n",
        "         inplace=True))\n",
        "\n",
        "#(bureau_mod\n",
        "# .dropna(subset=[\"DAYS_CREDIT_ENDDATE\"],\n",
        "#         inplace=True))"
      ],
      "outputs": [],
      "execution_count": null
    },
    {
      "cell_type": "code",
      "metadata": {},
      "source": [
        "def get_loan_balance(df):\n",
        "    out = df.loc[(df[\"CREDIT_ACTIVE\"] == \"Active\") &\n",
        "                 (df[\"DAYS_CREDIT_ENDDATE\"] > 0), :].copy()\n",
        "\n",
        "    return ((out[\"DAYS_CREDIT_ENDDATE\"] /\n",
        "             (out[\"DAYS_CREDIT\"].abs() +\n",
        "              out[\"DAYS_CREDIT_ENDDATE\"]) *\n",
        "             out[\"AMT_CREDIT_SUM\"]).sum())\n",
        "\n",
        "\n",
        "bureau_mod_gr = bureau_mod.groupby(\"SK_ID_CURR\")\n",
        "\n",
        "bureau_curr = pd.DataFrame(index=apps[\"SK_ID_CURR\"])\n",
        "\n",
        "bureau_curr[\"loan_num\"] = bureau_mod_gr.size()\n",
        "\n",
        "bureau_curr[\"loan_act\"] = (bureau_mod_gr\n",
        "                           .apply(lambda d:\n",
        "                                  len(d.loc[d[\"CREDIT_ACTIVE\"] == \"Active\",\n",
        "                                            :]) / len(d)))\n",
        "\n",
        "bureau_curr[\"loan_ovd\"] = (bureau_mod_gr\n",
        "                           .apply(lambda d:\n",
        "                                  len(d.loc[d[\"CREDIT_DAY_OVERDUE\"] != 0,\n",
        "                                            :]) / len(d)))\n",
        "\n",
        "bureau_curr[\"loan_bal\"] = (bureau_mod_gr\n",
        "                           .apply(get_loan_balance))\n",
        "\n",
        "bureau_curr.fillna(0,\n",
        "                   axis=0,\n",
        "                   inplace=True)\n",
        "\n",
        "bureau_curr.to_csv(\"kaggle_solutions/home_credit_default_risk/derived/bureau_curr.csv\")"
      ],
      "outputs": [],
      "execution_count": null
    },
    {
      "cell_type": "code",
      "metadata": {},
      "source": [
        "X_train = pd.read_csv(\"kaggle_solutions/home_credit_default_risk/derived/X_train.csv\",\n",
        "                      index_col=0)\n",
        "\n",
        "X_test = pd.read_csv(\"kaggle_solutions/home_credit_default_risk/derived/X_test.csv\",\n",
        "                     index_col=0)\n",
        "\n",
        "y_train = pd.read_csv(\"kaggle_solutions/home_credit_default_risk/derived/y_train.csv\",\n",
        "                      index_col=0)\n",
        "\n",
        "y_test = pd.read_csv(\"kaggle_solutions/home_credit_default_risk/derived/y_test.csv\",\n",
        "                     index_col=0)"
      ],
      "outputs": [],
      "execution_count": null
    },
    {
      "cell_type": "code",
      "metadata": {},
      "source": [
        "X_train_plus = X_train.join(bureau_curr)\n",
        "X_test_plus = X_test.join(bureau_curr)\n",
        "\n",
        "target = y_train[\"TARGET\"].value_counts()\n",
        "spw = target[0] / target[1]\n",
        "\n",
        "xgb_model = XGBClassifier(random_state=1234,\n",
        "                          objective=\"binary:logistic\",\n",
        "                          scale_pos_weight=spw,\n",
        "                          n_jobs=-1)\n",
        "\n",
        "xgb_model.fit(X_train_plus, y_train[\"TARGET\"])\n",
        "\n",
        "y_pred = xgb_model.predict(X_test_plus)\n",
        "\n",
        "print(\"ROC-AUC on test: {}\".format(roc_auc_score(y_test, y_pred)))\n"
      ],
      "outputs": [],
      "execution_count": null
    }
  ],
  "metadata": {
    "anaconda-cloud": {},
    "kernelspec": {
      "display_name": "Python 3",
      "language": "python",
      "name": "python3"
    },
    "language_info": {
      "codemirror_mode": {
        "name": "ipython",
        "version": 3
      },
      "file_extension": ".py",
      "mimetype": "text/x-python",
      "name": "python",
      "nbconvert_exporter": "python",
      "pygments_lexer": "ipython3",
      "version": "3.6.1"
    }
  },
  "nbformat": 4,
  "nbformat_minor": 1
}