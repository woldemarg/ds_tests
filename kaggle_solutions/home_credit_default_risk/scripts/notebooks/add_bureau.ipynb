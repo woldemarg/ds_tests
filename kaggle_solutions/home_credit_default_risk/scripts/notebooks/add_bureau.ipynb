{
 "cells": [
  {
   "cell_type": "code",
   "execution_count": 1,
   "metadata": {},
   "outputs": [],
   "source": [
    "from sklearn.metrics import roc_auc_score\n",
    "from xgboost import XGBClassifier\n",
    "\n",
    "import pandas as pd\n",
    "import numpy as np"
   ]
  },
  {
   "cell_type": "code",
   "execution_count": 2,
   "metadata": {},
   "outputs": [],
   "source": [
    "apps = pd.read_csv(\"https://github.com/woldemarg/ds_tests/blob/master/kaggle_solutions/home_credit_default_risk/data/samples/app_samp.csv.gz?raw=true\",\n",
    "                   index_col=0,\n",
    "                   compression=\"gzip\")"
   ]
  },
  {
   "cell_type": "markdown",
   "metadata": {},
   "source": [
    "Берем в работу две новых таблицы "
   ]
  },
  {
   "cell_type": "code",
   "execution_count": 3,
   "metadata": {},
   "outputs": [],
   "source": [
    "bureau = pd.read_csv(\"https://github.com/woldemarg/ds_tests/blob/master/kaggle_solutions/home_credit_default_risk/data/samples/bur_samp.csv.gz?raw=true\",\n",
    "                     compression=\"gzip\",\n",
    "                     index_col=0)"
   ]
  },
  {
   "cell_type": "code",
   "execution_count": 4,
   "metadata": {},
   "outputs": [],
   "source": [
    "bureau_balance = pd.read_csv(\"https://github.com/woldemarg/ds_tests/blob/master/kaggle_solutions/home_credit_default_risk/data/samples/bur_bal_samp.csv.gz?raw=true\",\n",
    "                             compression=\"gzip\",\n",
    "                             index_col=0)"
   ]
  },
  {
   "cell_type": "markdown",
   "metadata": {},
   "source": [
    "Немного общей статистики по таблице bureau"
   ]
  },
  {
   "cell_type": "code",
   "execution_count": 5,
   "metadata": {},
   "outputs": [],
   "source": [
    "def get_stats(df):\n",
    "    univ = pd.Series(data=[df[col].nunique()\n",
    "                           if df[col].dtype == \"object\"\n",
    "                           else np.nan\n",
    "                           for col in df.columns],\n",
    "                     index=df.columns)\n",
    "    stats = pd.concat([df.dtypes,\n",
    "                       univ,\n",
    "                       df.isna().mean().round(4)],\n",
    "                      axis=1)\n",
    "    stats.columns = [\"type\", \"univ\", \"pct_nan\"]\n",
    "    return stats"
   ]
  },
  {
   "cell_type": "code",
   "execution_count": 6,
   "metadata": {},
   "outputs": [
    {
     "name": "stdout",
     "output_type": "stream",
     "text": [
      "                           type  univ  pct_nan\n",
      "SK_ID_CURR                int64   NaN   0.0000\n",
      "SK_ID_BUREAU              int64   NaN   0.0000\n",
      "CREDIT_ACTIVE            object   3.0   0.0000\n",
      "CREDIT_CURRENCY          object   2.0   0.0000\n",
      "DAYS_CREDIT               int64   NaN   0.0000\n",
      "CREDIT_DAY_OVERDUE        int64   NaN   0.0000\n",
      "DAYS_CREDIT_ENDDATE     float64   NaN   0.0619\n",
      "DAYS_ENDDATE_FACT       float64   NaN   0.3739\n",
      "AMT_CREDIT_MAX_OVERDUE  float64   NaN   0.6564\n",
      "CNT_CREDIT_PROLONG        int64   NaN   0.0000\n",
      "AMT_CREDIT_SUM          float64   NaN   0.0000\n",
      "AMT_CREDIT_SUM_DEBT     float64   NaN   0.1425\n",
      "AMT_CREDIT_SUM_LIMIT    float64   NaN   0.3274\n",
      "AMT_CREDIT_SUM_OVERDUE  float64   NaN   0.0000\n",
      "CREDIT_TYPE              object   9.0   0.0000\n",
      "DAYS_CREDIT_UPDATE        int64   NaN   0.0000\n",
      "AMT_ANNUITY             float64   NaN   0.7544\n"
     ]
    }
   ],
   "source": [
    "bureau_stats = get_stats(bureau)\n",
    "\n",
    "print(bureau_stats)"
   ]
  },
  {
   "cell_type": "markdown",
   "metadata": {},
   "source": [
    "Из таблицы bureau  мы сможем вытянуть \"кредитную историю клиента\". Здесь есть записи по текущим и закрытым кредитам, которые мы будем использовать для подсчета стат. показателей далее. Жаль, что AMT_ANNUITY имеет так много пропусков - расчитывал ее использовать для определения совокупной \"долговой нагрузки\" (отношение платежей по открытым кредитам к головому доходу).\n",
    "\n",
    "Хуже дела обстоят с таблицей bureau_balance. Долго не мог найти ей достойного применения.\n",
    "\n",
    "Во-первых, если я правильно понимаю, то *CREDIT_DAY_OVERDUE | Number of days past due on CB credit at the time of application for related loan in our sample* из bureau фактически дублирует *MONTHS_BALANCE | Month of balance relative to application date (-1 means the freshest balance date)...* из bureau_balance, т.е. вроде не несет новой информации\n",
    "\n",
    "Во-вторых,в bureau_balance, все-таки не все кредиты из bureau.\n",
    "\n",
    "В-третьх, как оказалось, две таблицы даже противоречат друг другу:"
   ]
  },
  {
   "cell_type": "code",
   "execution_count": 7,
   "metadata": {},
   "outputs": [
    {
     "data": {
      "text/html": [
       "<div>\n",
       "<style scoped>\n",
       "    .dataframe tbody tr th:only-of-type {\n",
       "        vertical-align: middle;\n",
       "    }\n",
       "\n",
       "    .dataframe tbody tr th {\n",
       "        vertical-align: top;\n",
       "    }\n",
       "\n",
       "    .dataframe thead th {\n",
       "        text-align: right;\n",
       "    }\n",
       "</style>\n",
       "<table border=\"1\" class=\"dataframe\">\n",
       "  <thead>\n",
       "    <tr style=\"text-align: right;\">\n",
       "      <th></th>\n",
       "      <th>SK_ID_CURR</th>\n",
       "      <th>SK_ID_BUREAU</th>\n",
       "      <th>CREDIT_ACTIVE</th>\n",
       "      <th>CREDIT_CURRENCY</th>\n",
       "      <th>DAYS_CREDIT</th>\n",
       "      <th>CREDIT_DAY_OVERDUE</th>\n",
       "      <th>DAYS_CREDIT_ENDDATE</th>\n",
       "      <th>DAYS_ENDDATE_FACT</th>\n",
       "      <th>AMT_CREDIT_MAX_OVERDUE</th>\n",
       "      <th>CNT_CREDIT_PROLONG</th>\n",
       "      <th>AMT_CREDIT_SUM</th>\n",
       "      <th>AMT_CREDIT_SUM_DEBT</th>\n",
       "      <th>AMT_CREDIT_SUM_LIMIT</th>\n",
       "      <th>AMT_CREDIT_SUM_OVERDUE</th>\n",
       "      <th>CREDIT_TYPE</th>\n",
       "      <th>DAYS_CREDIT_UPDATE</th>\n",
       "      <th>AMT_ANNUITY</th>\n",
       "    </tr>\n",
       "  </thead>\n",
       "  <tbody>\n",
       "    <tr>\n",
       "      <th>69163</th>\n",
       "      <td>327899</td>\n",
       "      <td>5009147</td>\n",
       "      <td>Active</td>\n",
       "      <td>currency 1</td>\n",
       "      <td>-367</td>\n",
       "      <td>0</td>\n",
       "      <td>1459.0</td>\n",
       "      <td>NaN</td>\n",
       "      <td>NaN</td>\n",
       "      <td>0</td>\n",
       "      <td>3159607.5</td>\n",
       "      <td>2820298.5</td>\n",
       "      <td>0.0</td>\n",
       "      <td>0.0</td>\n",
       "      <td>Consumer credit</td>\n",
       "      <td>-40</td>\n",
       "      <td>0.0</td>\n",
       "    </tr>\n",
       "  </tbody>\n",
       "</table>\n",
       "</div>"
      ],
      "text/plain": [
       "       SK_ID_CURR  SK_ID_BUREAU  ... DAYS_CREDIT_UPDATE AMT_ANNUITY\n",
       "69163      327899       5009147  ...                -40         0.0\n",
       "\n",
       "[1 rows x 17 columns]"
      ]
     },
     "execution_count": 7,
     "metadata": {},
     "output_type": "execute_result"
    }
   ],
   "source": [
    "bureau.loc[bureau[\"SK_ID_BUREAU\"] == 5009147, :]"
   ]
  },
  {
   "cell_type": "code",
   "execution_count": 8,
   "metadata": {},
   "outputs": [
    {
     "data": {
      "text/html": [
       "<div>\n",
       "<style scoped>\n",
       "    .dataframe tbody tr th:only-of-type {\n",
       "        vertical-align: middle;\n",
       "    }\n",
       "\n",
       "    .dataframe tbody tr th {\n",
       "        vertical-align: top;\n",
       "    }\n",
       "\n",
       "    .dataframe thead th {\n",
       "        text-align: right;\n",
       "    }\n",
       "</style>\n",
       "<table border=\"1\" class=\"dataframe\">\n",
       "  <thead>\n",
       "    <tr style=\"text-align: right;\">\n",
       "      <th></th>\n",
       "      <th>SK_ID_BUREAU</th>\n",
       "      <th>MONTHS_BALANCE</th>\n",
       "      <th>STATUS</th>\n",
       "    </tr>\n",
       "  </thead>\n",
       "  <tbody>\n",
       "    <tr>\n",
       "      <th>5012541</th>\n",
       "      <td>5009147</td>\n",
       "      <td>0</td>\n",
       "      <td>C</td>\n",
       "    </tr>\n",
       "    <tr>\n",
       "      <th>5012542</th>\n",
       "      <td>5009147</td>\n",
       "      <td>-1</td>\n",
       "      <td>C</td>\n",
       "    </tr>\n",
       "    <tr>\n",
       "      <th>5012543</th>\n",
       "      <td>5009147</td>\n",
       "      <td>-2</td>\n",
       "      <td>C</td>\n",
       "    </tr>\n",
       "    <tr>\n",
       "      <th>5012544</th>\n",
       "      <td>5009147</td>\n",
       "      <td>-3</td>\n",
       "      <td>C</td>\n",
       "    </tr>\n",
       "    <tr>\n",
       "      <th>5012545</th>\n",
       "      <td>5009147</td>\n",
       "      <td>-4</td>\n",
       "      <td>C</td>\n",
       "    </tr>\n",
       "    <tr>\n",
       "      <th>5012546</th>\n",
       "      <td>5009147</td>\n",
       "      <td>-5</td>\n",
       "      <td>C</td>\n",
       "    </tr>\n",
       "    <tr>\n",
       "      <th>5012547</th>\n",
       "      <td>5009147</td>\n",
       "      <td>-6</td>\n",
       "      <td>C</td>\n",
       "    </tr>\n",
       "    <tr>\n",
       "      <th>5012548</th>\n",
       "      <td>5009147</td>\n",
       "      <td>-7</td>\n",
       "      <td>C</td>\n",
       "    </tr>\n",
       "    <tr>\n",
       "      <th>5012549</th>\n",
       "      <td>5009147</td>\n",
       "      <td>-8</td>\n",
       "      <td>0</td>\n",
       "    </tr>\n",
       "    <tr>\n",
       "      <th>5012550</th>\n",
       "      <td>5009147</td>\n",
       "      <td>-9</td>\n",
       "      <td>0</td>\n",
       "    </tr>\n",
       "    <tr>\n",
       "      <th>5012551</th>\n",
       "      <td>5009147</td>\n",
       "      <td>-10</td>\n",
       "      <td>0</td>\n",
       "    </tr>\n",
       "    <tr>\n",
       "      <th>5012552</th>\n",
       "      <td>5009147</td>\n",
       "      <td>-11</td>\n",
       "      <td>0</td>\n",
       "    </tr>\n",
       "    <tr>\n",
       "      <th>5012553</th>\n",
       "      <td>5009147</td>\n",
       "      <td>-12</td>\n",
       "      <td>0</td>\n",
       "    </tr>\n",
       "  </tbody>\n",
       "</table>\n",
       "</div>"
      ],
      "text/plain": [
       "         SK_ID_BUREAU  MONTHS_BALANCE STATUS\n",
       "5012541       5009147               0      C\n",
       "5012542       5009147              -1      C\n",
       "5012543       5009147              -2      C\n",
       "5012544       5009147              -3      C\n",
       "5012545       5009147              -4      C\n",
       "5012546       5009147              -5      C\n",
       "5012547       5009147              -6      C\n",
       "5012548       5009147              -7      C\n",
       "5012549       5009147              -8      0\n",
       "5012550       5009147              -9      0\n",
       "5012551       5009147             -10      0\n",
       "5012552       5009147             -11      0\n",
       "5012553       5009147             -12      0"
      ]
     },
     "execution_count": 8,
     "metadata": {},
     "output_type": "execute_result"
    }
   ],
   "source": [
    "bureau_balance.loc[bureau_balance[\"SK_ID_BUREAU\"] == 5009147, :]"
   ]
  },
  {
   "cell_type": "markdown",
   "metadata": {},
   "source": [
    "Судя из *bureau* кредит 5009147 еще не закрыт, а информация там обновлена за 40 дней до заявки в Home Credit, тогда как из *bureau_balance* следует, что кредит закрыт 7 мес. назад!?\n",
    "\n",
    "В итоге решил использовать *bureau_balance* как источник актуализации информации по открытым кредитам в *bureau* (такой подход себя оправдал небольшим ростом метрики на тесте) "
   ]
  },
  {
   "cell_type": "code",
   "execution_count": 9,
   "metadata": {},
   "outputs": [],
   "source": [
    "bureau_mod = bureau.copy()\n",
    "\n",
    "closed = (bureau_balance\n",
    "          .groupby(\"SK_ID_BUREAU\")\n",
    "          .filter(lambda d: (d[\"STATUS\"] == \"C\").any())[\"SK_ID_BUREAU\"]\n",
    "          .unique())\n",
    "\n",
    "bureau_mod[\"CREDIT_ACTIVE\"] = [v if v != \"Active\" or i not in closed\n",
    "                               else \"Closed\" for v, i in\n",
    "                               list(zip(bureau_mod[\"CREDIT_ACTIVE\"],\n",
    "                                        bureau_mod[\"SK_ID_BUREAU\"]))]"
   ]
  },
  {
   "cell_type": "code",
   "execution_count": 10,
   "metadata": {},
   "outputs": [],
   "source": [
    "(bureau_mod[\"DAYS_CREDIT_ENDDATE\"]\n",
    " .fillna(bureau_mod[\"DAYS_ENDDATE_FACT\"],\n",
    "         inplace=True))\n",
    "\n",
    "#(bureau_mod\n",
    "# .dropna(subset=[\"DAYS_CREDIT_ENDDATE\"],\n",
    "#         inplace=True))"
   ]
  },
  {
   "cell_type": "markdown",
   "metadata": {},
   "source": [
    "Собственно, из *bureau* расчитываем такие показатели по каждому клиенту:\n",
    "* общее количество кредитов\n",
    "* доля открытых кредитов\n",
    "* доля просроченных кредитов\n",
    "* сумма \"непогашенных\" кредитов, которая \"висит\" на клиентепо состоянию на дату заявки в Home Credit (отношение срока до конца конца кредита к общейпродолжительности кредита, умноженное на сумму кредита)"
   ]
  },
  {
   "cell_type": "code",
   "execution_count": 11,
   "metadata": {},
   "outputs": [],
   "source": [
    "def get_loan_balance(df):\n",
    "    out = df.loc[(df[\"CREDIT_ACTIVE\"] == \"Active\") &\n",
    "                 (df[\"DAYS_CREDIT_ENDDATE\"] > 0), :].copy()\n",
    "\n",
    "    return ((out[\"DAYS_CREDIT_ENDDATE\"] /\n",
    "             (out[\"DAYS_CREDIT\"].abs() +\n",
    "              out[\"DAYS_CREDIT_ENDDATE\"]) *\n",
    "             out[\"AMT_CREDIT_SUM\"]).sum())\n",
    "\n",
    "\n",
    "bureau_mod_gr = bureau_mod.groupby(\"SK_ID_CURR\")\n",
    "\n",
    "bureau_curr = pd.DataFrame(index=apps[\"SK_ID_CURR\"])\n",
    "\n",
    "bureau_curr[\"loan_num\"] = bureau_mod_gr.size()\n",
    "\n",
    "bureau_curr[\"loan_act\"] = (bureau_mod_gr\n",
    "                           .apply(lambda d:\n",
    "                                  len(d.loc[d[\"CREDIT_ACTIVE\"] == \"Active\",\n",
    "                                            :]) / len(d)))\n",
    "\n",
    "bureau_curr[\"loan_ovd\"] = (bureau_mod_gr\n",
    "                           .apply(lambda d:\n",
    "                                  len(d.loc[d[\"CREDIT_DAY_OVERDUE\"] != 0,\n",
    "                                            :]) / len(d)))\n",
    "\n",
    "bureau_curr[\"loan_bal\"] = (bureau_mod_gr\n",
    "                           .apply(get_loan_balance))\n",
    "\n",
    "bureau_curr.fillna(0,\n",
    "                   axis=0,\n",
    "                   inplace=True)"
   ]
  },
  {
   "cell_type": "markdown",
   "metadata": {},
   "source": [
    "Тренировочная и тестовая выборки по основной таблице из [ноутбука](https://github.com/woldemarg/ds_tests/blob/master/kaggle_solutions/home_credit_default_risk/scripts/notebooks/baseline_model.ipynb)  "
   ]
  },
  {
   "cell_type": "code",
   "execution_count": 12,
   "metadata": {},
   "outputs": [],
   "source": [
    "X_train = pd.read_csv(\"https://media.githubusercontent.com/media/woldemarg/ds_tests/master/kaggle_solutions/home_credit_default_risk/derived/X_train.csv\",\n",
    "                      index_col=0)\n",
    "\n",
    "X_test = pd.read_csv(\"https://media.githubusercontent.com/media/woldemarg/ds_tests/master/kaggle_solutions/home_credit_default_risk/derived/X_test.csv\",\n",
    "                     index_col=0)\n",
    "\n",
    "y_train = pd.read_csv(\"https://media.githubusercontent.com/media/woldemarg/ds_tests/master/kaggle_solutions/home_credit_default_risk/derived/y_train.csv\",\n",
    "                      index_col=0)\n",
    "\n",
    "y_test = pd.read_csv(\"https://media.githubusercontent.com/media/woldemarg/ds_tests/master/kaggle_solutions/home_credit_default_risk/derived/y_test.csv\",\n",
    "                     index_col=0)"
   ]
  },
  {
   "cell_type": "code",
   "execution_count": 13,
   "metadata": {},
   "outputs": [
    {
     "name": "stdout",
     "output_type": "stream",
     "text": [
      "ROC-AUC on test: 0.6484098939929329\n"
     ]
    }
   ],
   "source": [
    "X_train_plus = X_train.join(bureau_curr)\n",
    "X_test_plus = X_test.join(bureau_curr)\n",
    "\n",
    "target = y_train[\"TARGET\"].value_counts()\n",
    "spw = target[0] / target[1]\n",
    "\n",
    "xgb_model = XGBClassifier(random_state=1234,\n",
    "                          objective=\"binary:logistic\",\n",
    "                          scale_pos_weight=spw,\n",
    "                          n_jobs=-1)\n",
    "\n",
    "xgb_model.fit(X_train_plus, y_train[\"TARGET\"])\n",
    "\n",
    "y_pred = xgb_model.predict(X_test_plus)\n",
    "\n",
    "print(\"ROC-AUC on test: {}\".format(roc_auc_score(y_test, y_pred)))\n"
   ]
  },
  {
   "cell_type": "markdown",
   "metadata": {},
   "source": [
    "За счет добавления новых предикторов (4):\n",
    "* метрика на тесте - 0,65\n",
    "* метрика на сv - 0,69\n",
    "* метрика на kaggle - "
   ]
  }
 ],
 "metadata": {
  "anaconda-cloud": {},
  "kernelspec": {
   "display_name": "Python 3 (Spyder)",
   "language": "python3",
   "name": "python3"
  },
  "language_info": {
   "codemirror_mode": {
    "name": "ipython",
    "version": 3
   },
   "file_extension": ".py",
   "mimetype": "text/x-python",
   "name": "python",
   "nbconvert_exporter": "python",
   "pygments_lexer": "ipython3",
   "version": "3.7.7"
  }
 },
 "nbformat": 4,
 "nbformat_minor": 1
}
