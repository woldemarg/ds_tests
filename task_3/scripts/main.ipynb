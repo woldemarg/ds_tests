{
  "nbformat": 4,
  "nbformat_minor": 0,
  "metadata": {
    "anaconda-cloud": {},
    "kernelspec": {
      "display_name": "Python 3",
      "language": "python",
      "name": "python3"
    },
    "language_info": {
      "codemirror_mode": {
        "name": "ipython",
        "version": 3
      },
      "file_extension": ".py",
      "mimetype": "text/x-python",
      "name": "python",
      "nbconvert_exporter": "python",
      "pygments_lexer": "ipython3",
      "version": "3.6.1"
    },
    "colab": {
      "name": "main.ipynb",
      "provenance": [],
      "collapsed_sections": []
    }
  },
  "cells": [
    {
      "cell_type": "code",
      "metadata": {
        "id": "N1RIqVGKT6Dg",
        "colab_type": "code",
        "colab": {}
      },
      "source": [
        "import numpy as np\n",
        "import pandas as pd\n",
        "import matplotlib.pyplot as plt\n",
        "\n",
        "from sklearn.preprocessing import OneHotEncoder\n",
        "from sklearn.preprocessing import StandardScaler\n",
        "\n",
        "from sklearn.cluster import KMeans\n",
        "\n",
        "from sklearn.metrics import silhouette_score\n",
        "from sklearn.metrics import calinski_harabasz_score\n",
        "\n",
        "from sklearn.decomposition import PCA\n",
        "\n",
        "from sklearn.ensemble import RandomForestClassifier"
      ],
      "execution_count": 0,
      "outputs": []
    },
    {
      "cell_type": "markdown",
      "metadata": {
        "id": "y0XgQaa86iyR",
        "colab_type": "text"
      },
      "source": [
        "## Downloading data"
      ]
    },
    {
      "cell_type": "code",
      "metadata": {
        "id": "IZ1Qqb9cT6EC",
        "colab_type": "code",
        "outputId": "13130e74-9174-433c-e0c1-8ee30e72daf0",
        "colab": {
          "base_uri": "https://localhost:8080/",
          "height": 292
        }
      },
      "source": [
        "url = \"https://raw.githubusercontent.com/woldemarg/nix_solutions_test/master/task_3/data/Data%20for%20the%20Churn%20task%20_%20BDA%20homework.csv\"\n",
        "data = pd.read_csv(url)\n",
        "\n",
        "data.head()"
      ],
      "execution_count": 0,
      "outputs": [
        {
          "output_type": "execute_result",
          "data": {
            "text/html": [
              "<div>\n",
              "<style scoped>\n",
              "    .dataframe tbody tr th:only-of-type {\n",
              "        vertical-align: middle;\n",
              "    }\n",
              "\n",
              "    .dataframe tbody tr th {\n",
              "        vertical-align: top;\n",
              "    }\n",
              "\n",
              "    .dataframe thead th {\n",
              "        text-align: right;\n",
              "    }\n",
              "</style>\n",
              "<table border=\"1\" class=\"dataframe\">\n",
              "  <thead>\n",
              "    <tr style=\"text-align: right;\">\n",
              "      <th></th>\n",
              "      <th>customerID</th>\n",
              "      <th>gender</th>\n",
              "      <th>SeniorCitizen</th>\n",
              "      <th>Partner</th>\n",
              "      <th>Dependents</th>\n",
              "      <th>tenure</th>\n",
              "      <th>PhoneService</th>\n",
              "      <th>MultipleLines</th>\n",
              "      <th>InternetService</th>\n",
              "      <th>OnlineSecurity</th>\n",
              "      <th>OnlineBackup</th>\n",
              "      <th>DeviceProtection</th>\n",
              "      <th>TechSupport</th>\n",
              "      <th>StreamingTV</th>\n",
              "      <th>StreamingMovies</th>\n",
              "      <th>Contract</th>\n",
              "      <th>PaperlessBilling</th>\n",
              "      <th>PaymentMethod</th>\n",
              "      <th>MonthlyCharges</th>\n",
              "      <th>TotalCharges</th>\n",
              "      <th>Churn</th>\n",
              "    </tr>\n",
              "  </thead>\n",
              "  <tbody>\n",
              "    <tr>\n",
              "      <th>0</th>\n",
              "      <td>7590-VHVEG</td>\n",
              "      <td>Female</td>\n",
              "      <td>0</td>\n",
              "      <td>Yes</td>\n",
              "      <td>No</td>\n",
              "      <td>1</td>\n",
              "      <td>No</td>\n",
              "      <td>No phone service</td>\n",
              "      <td>DSL</td>\n",
              "      <td>No</td>\n",
              "      <td>Yes</td>\n",
              "      <td>No</td>\n",
              "      <td>No</td>\n",
              "      <td>No</td>\n",
              "      <td>No</td>\n",
              "      <td>Month-to-month</td>\n",
              "      <td>Yes</td>\n",
              "      <td>Electronic check</td>\n",
              "      <td>29.85</td>\n",
              "      <td>29.85</td>\n",
              "      <td>No</td>\n",
              "    </tr>\n",
              "    <tr>\n",
              "      <th>1</th>\n",
              "      <td>5575-GNVDE</td>\n",
              "      <td>Male</td>\n",
              "      <td>0</td>\n",
              "      <td>No</td>\n",
              "      <td>No</td>\n",
              "      <td>34</td>\n",
              "      <td>Yes</td>\n",
              "      <td>No</td>\n",
              "      <td>DSL</td>\n",
              "      <td>Yes</td>\n",
              "      <td>No</td>\n",
              "      <td>Yes</td>\n",
              "      <td>No</td>\n",
              "      <td>No</td>\n",
              "      <td>No</td>\n",
              "      <td>One year</td>\n",
              "      <td>No</td>\n",
              "      <td>Mailed check</td>\n",
              "      <td>56.95</td>\n",
              "      <td>1889.5</td>\n",
              "      <td>No</td>\n",
              "    </tr>\n",
              "    <tr>\n",
              "      <th>2</th>\n",
              "      <td>3668-QPYBK</td>\n",
              "      <td>Male</td>\n",
              "      <td>0</td>\n",
              "      <td>No</td>\n",
              "      <td>No</td>\n",
              "      <td>2</td>\n",
              "      <td>Yes</td>\n",
              "      <td>No</td>\n",
              "      <td>DSL</td>\n",
              "      <td>Yes</td>\n",
              "      <td>Yes</td>\n",
              "      <td>No</td>\n",
              "      <td>No</td>\n",
              "      <td>No</td>\n",
              "      <td>No</td>\n",
              "      <td>Month-to-month</td>\n",
              "      <td>Yes</td>\n",
              "      <td>Mailed check</td>\n",
              "      <td>53.85</td>\n",
              "      <td>108.15</td>\n",
              "      <td>Yes</td>\n",
              "    </tr>\n",
              "    <tr>\n",
              "      <th>3</th>\n",
              "      <td>7795-CFOCW</td>\n",
              "      <td>Male</td>\n",
              "      <td>0</td>\n",
              "      <td>No</td>\n",
              "      <td>No</td>\n",
              "      <td>45</td>\n",
              "      <td>No</td>\n",
              "      <td>No phone service</td>\n",
              "      <td>DSL</td>\n",
              "      <td>Yes</td>\n",
              "      <td>No</td>\n",
              "      <td>Yes</td>\n",
              "      <td>Yes</td>\n",
              "      <td>No</td>\n",
              "      <td>No</td>\n",
              "      <td>One year</td>\n",
              "      <td>No</td>\n",
              "      <td>Bank transfer (automatic)</td>\n",
              "      <td>42.30</td>\n",
              "      <td>1840.75</td>\n",
              "      <td>No</td>\n",
              "    </tr>\n",
              "    <tr>\n",
              "      <th>4</th>\n",
              "      <td>9237-HQITU</td>\n",
              "      <td>Female</td>\n",
              "      <td>0</td>\n",
              "      <td>No</td>\n",
              "      <td>No</td>\n",
              "      <td>2</td>\n",
              "      <td>Yes</td>\n",
              "      <td>No</td>\n",
              "      <td>Fiber optic</td>\n",
              "      <td>No</td>\n",
              "      <td>No</td>\n",
              "      <td>No</td>\n",
              "      <td>No</td>\n",
              "      <td>No</td>\n",
              "      <td>No</td>\n",
              "      <td>Month-to-month</td>\n",
              "      <td>Yes</td>\n",
              "      <td>Electronic check</td>\n",
              "      <td>70.70</td>\n",
              "      <td>151.65</td>\n",
              "      <td>Yes</td>\n",
              "    </tr>\n",
              "  </tbody>\n",
              "</table>\n",
              "</div>"
            ],
            "text/plain": [
              "   customerID  gender  SeniorCitizen  ... MonthlyCharges TotalCharges  Churn\n",
              "0  7590-VHVEG  Female              0  ...          29.85        29.85     No\n",
              "1  5575-GNVDE    Male              0  ...          56.95       1889.5     No\n",
              "2  3668-QPYBK    Male              0  ...          53.85       108.15    Yes\n",
              "3  7795-CFOCW    Male              0  ...          42.30      1840.75     No\n",
              "4  9237-HQITU  Female              0  ...          70.70       151.65    Yes\n",
              "\n",
              "[5 rows x 21 columns]"
            ]
          },
          "metadata": {
            "tags": []
          },
          "execution_count": 2
        }
      ]
    },
    {
      "cell_type": "markdown",
      "metadata": {
        "id": "hKJwqD0O6vma",
        "colab_type": "text"
      },
      "source": [
        "## Data cleaning\n",
        "\n",
        "Here we perform some data cleaning (mainly transforming categorical features) in order to apply further some ML algorithms to it. "
      ]
    },
    {
      "cell_type": "code",
      "metadata": {
        "id": "lI_ME_IaT6E0",
        "colab_type": "code",
        "colab": {}
      },
      "source": [
        "data_mod = data.drop([\"customerID\",\n",
        "                      \"TotalCharges\"],\n",
        "                     axis=1)\n",
        "\n",
        "binary_cols = (data_mod.columns[(data_mod.nunique() == 2) &\n",
        "                                (data_mod.apply(\n",
        "                                    lambda s: all(s.str.contains(\"Yes|No\"))))]\n",
        "               .tolist())\n",
        "\n",
        "data_mod.loc[:, binary_cols] = (data_mod[binary_cols]\n",
        "                                .replace([\"Yes\", \"No\"], [1, 0]))\n",
        "\n",
        "threesome_cols = (data_mod.columns[(data_mod.nunique() == 3) &\n",
        "                                   (data_mod.apply(\n",
        "                                       lambda s:\n",
        "                                       all(s.str.contains(\"Yes|No\"))))]\n",
        "                  .tolist())\n",
        "\n",
        "data_mod.loc[:, threesome_cols] = (data_mod[threesome_cols]\n",
        "                                   .replace({\n",
        "                                       \"Yes\": 1,\n",
        "                                       \"No\": 0,\n",
        "                                       \"No phone service\": 0,\n",
        "                                       \"No internet service\": 0}))\n",
        "\n",
        "# ordered categorical variable\n",
        "data_mod.loc[:, \"InternetService\"] = (data_mod.InternetService\n",
        "                                      .replace({\n",
        "                                          \"No\": 0,\n",
        "                                          \"DSL\": 1,\n",
        "                                          \"Fiber optic\": 2}))"
      ],
      "execution_count": 0,
      "outputs": []
    },
    {
      "cell_type": "code",
      "metadata": {
        "id": "Z51gMyWCT6FG",
        "colab_type": "code",
        "outputId": "3f619423-cb28-472a-d1df-1b4f1c21adfc",
        "colab": {
          "base_uri": "https://localhost:8080/",
          "height": 241
        }
      },
      "source": [
        "cat_cols_left = [col for col in data_mod\n",
        "                 if data_mod[col].dtype == \"object\"]\n",
        "\n",
        "OH_encoder = OneHotEncoder(handle_unknown=\"error\",\n",
        "                           drop=\"first\", sparse=False)\n",
        "\n",
        "OH_cols = pd.DataFrame(OH_encoder.fit_transform(data_mod[cat_cols_left]))\n",
        "\n",
        "OH_cols_names = OH_encoder.get_feature_names(cat_cols_left)\n",
        "OH_cols.columns = OH_cols_names\n",
        "\n",
        "data_num = pd.concat([data_mod.drop(cat_cols_left, axis=1), OH_cols],\n",
        "                     axis=1)\n",
        "\n",
        "data_num.head()"
      ],
      "execution_count": 0,
      "outputs": [
        {
          "output_type": "execute_result",
          "data": {
            "text/html": [
              "<div>\n",
              "<style scoped>\n",
              "    .dataframe tbody tr th:only-of-type {\n",
              "        vertical-align: middle;\n",
              "    }\n",
              "\n",
              "    .dataframe tbody tr th {\n",
              "        vertical-align: top;\n",
              "    }\n",
              "\n",
              "    .dataframe thead th {\n",
              "        text-align: right;\n",
              "    }\n",
              "</style>\n",
              "<table border=\"1\" class=\"dataframe\">\n",
              "  <thead>\n",
              "    <tr style=\"text-align: right;\">\n",
              "      <th></th>\n",
              "      <th>SeniorCitizen</th>\n",
              "      <th>Partner</th>\n",
              "      <th>Dependents</th>\n",
              "      <th>tenure</th>\n",
              "      <th>PhoneService</th>\n",
              "      <th>MultipleLines</th>\n",
              "      <th>InternetService</th>\n",
              "      <th>OnlineSecurity</th>\n",
              "      <th>OnlineBackup</th>\n",
              "      <th>DeviceProtection</th>\n",
              "      <th>TechSupport</th>\n",
              "      <th>StreamingTV</th>\n",
              "      <th>StreamingMovies</th>\n",
              "      <th>PaperlessBilling</th>\n",
              "      <th>MonthlyCharges</th>\n",
              "      <th>Churn</th>\n",
              "      <th>gender_Male</th>\n",
              "      <th>Contract_One year</th>\n",
              "      <th>Contract_Two year</th>\n",
              "      <th>PaymentMethod_Credit card (automatic)</th>\n",
              "      <th>PaymentMethod_Electronic check</th>\n",
              "      <th>PaymentMethod_Mailed check</th>\n",
              "    </tr>\n",
              "  </thead>\n",
              "  <tbody>\n",
              "    <tr>\n",
              "      <th>0</th>\n",
              "      <td>0</td>\n",
              "      <td>1</td>\n",
              "      <td>0</td>\n",
              "      <td>1</td>\n",
              "      <td>0</td>\n",
              "      <td>0</td>\n",
              "      <td>1</td>\n",
              "      <td>0</td>\n",
              "      <td>1</td>\n",
              "      <td>0</td>\n",
              "      <td>0</td>\n",
              "      <td>0</td>\n",
              "      <td>0</td>\n",
              "      <td>1</td>\n",
              "      <td>29.85</td>\n",
              "      <td>0</td>\n",
              "      <td>0.0</td>\n",
              "      <td>0.0</td>\n",
              "      <td>0.0</td>\n",
              "      <td>0.0</td>\n",
              "      <td>1.0</td>\n",
              "      <td>0.0</td>\n",
              "    </tr>\n",
              "    <tr>\n",
              "      <th>1</th>\n",
              "      <td>0</td>\n",
              "      <td>0</td>\n",
              "      <td>0</td>\n",
              "      <td>34</td>\n",
              "      <td>1</td>\n",
              "      <td>0</td>\n",
              "      <td>1</td>\n",
              "      <td>1</td>\n",
              "      <td>0</td>\n",
              "      <td>1</td>\n",
              "      <td>0</td>\n",
              "      <td>0</td>\n",
              "      <td>0</td>\n",
              "      <td>0</td>\n",
              "      <td>56.95</td>\n",
              "      <td>0</td>\n",
              "      <td>1.0</td>\n",
              "      <td>1.0</td>\n",
              "      <td>0.0</td>\n",
              "      <td>0.0</td>\n",
              "      <td>0.0</td>\n",
              "      <td>1.0</td>\n",
              "    </tr>\n",
              "    <tr>\n",
              "      <th>2</th>\n",
              "      <td>0</td>\n",
              "      <td>0</td>\n",
              "      <td>0</td>\n",
              "      <td>2</td>\n",
              "      <td>1</td>\n",
              "      <td>0</td>\n",
              "      <td>1</td>\n",
              "      <td>1</td>\n",
              "      <td>1</td>\n",
              "      <td>0</td>\n",
              "      <td>0</td>\n",
              "      <td>0</td>\n",
              "      <td>0</td>\n",
              "      <td>1</td>\n",
              "      <td>53.85</td>\n",
              "      <td>1</td>\n",
              "      <td>1.0</td>\n",
              "      <td>0.0</td>\n",
              "      <td>0.0</td>\n",
              "      <td>0.0</td>\n",
              "      <td>0.0</td>\n",
              "      <td>1.0</td>\n",
              "    </tr>\n",
              "    <tr>\n",
              "      <th>3</th>\n",
              "      <td>0</td>\n",
              "      <td>0</td>\n",
              "      <td>0</td>\n",
              "      <td>45</td>\n",
              "      <td>0</td>\n",
              "      <td>0</td>\n",
              "      <td>1</td>\n",
              "      <td>1</td>\n",
              "      <td>0</td>\n",
              "      <td>1</td>\n",
              "      <td>1</td>\n",
              "      <td>0</td>\n",
              "      <td>0</td>\n",
              "      <td>0</td>\n",
              "      <td>42.30</td>\n",
              "      <td>0</td>\n",
              "      <td>1.0</td>\n",
              "      <td>1.0</td>\n",
              "      <td>0.0</td>\n",
              "      <td>0.0</td>\n",
              "      <td>0.0</td>\n",
              "      <td>0.0</td>\n",
              "    </tr>\n",
              "    <tr>\n",
              "      <th>4</th>\n",
              "      <td>0</td>\n",
              "      <td>0</td>\n",
              "      <td>0</td>\n",
              "      <td>2</td>\n",
              "      <td>1</td>\n",
              "      <td>0</td>\n",
              "      <td>2</td>\n",
              "      <td>0</td>\n",
              "      <td>0</td>\n",
              "      <td>0</td>\n",
              "      <td>0</td>\n",
              "      <td>0</td>\n",
              "      <td>0</td>\n",
              "      <td>1</td>\n",
              "      <td>70.70</td>\n",
              "      <td>1</td>\n",
              "      <td>0.0</td>\n",
              "      <td>0.0</td>\n",
              "      <td>0.0</td>\n",
              "      <td>0.0</td>\n",
              "      <td>1.0</td>\n",
              "      <td>0.0</td>\n",
              "    </tr>\n",
              "  </tbody>\n",
              "</table>\n",
              "</div>"
            ],
            "text/plain": [
              "   SeniorCitizen  ...  PaymentMethod_Mailed check\n",
              "0              0  ...                         0.0\n",
              "1              0  ...                         1.0\n",
              "2              0  ...                         1.0\n",
              "3              0  ...                         0.0\n",
              "4              0  ...                         0.0\n",
              "\n",
              "[5 rows x 22 columns]"
            ]
          },
          "metadata": {
            "tags": []
          },
          "execution_count": 6
        }
      ]
    },
    {
      "cell_type": "markdown",
      "metadata": {
        "id": "0RjdKEBM7_fG",
        "colab_type": "text"
      },
      "source": [
        "## Answering customer questions"
      ]
    },
    {
      "cell_type": "markdown",
      "metadata": {
        "id": "0hgaNOfF8EJx",
        "colab_type": "text"
      },
      "source": [
        "### What is the average revenue per user, which has only Internet services?"
      ]
    },
    {
      "cell_type": "code",
      "metadata": {
        "id": "gPovoVHXT6FU",
        "colab_type": "code",
        "outputId": "102ab47d-5ebb-43bc-88ac-676b6f8638d4",
        "colab": {
          "base_uri": "https://localhost:8080/",
          "height": 85
        }
      },
      "source": [
        "(data_num[(data_num.PhoneService == 0) &\n",
        "         (data_num.InternetService != 0)][\"MonthlyCharges\"]\n",
        " .agg([\"min\", \"mean\", \"max\"]))"
      ],
      "execution_count": 0,
      "outputs": [
        {
          "output_type": "execute_result",
          "data": {
            "text/plain": [
              "min     23.450000\n",
              "mean    42.028592\n",
              "max     67.200000\n",
              "Name: MonthlyCharges, dtype: float64"
            ]
          },
          "metadata": {
            "tags": []
          },
          "execution_count": 7
        }
      ]
    },
    {
      "cell_type": "markdown",
      "metadata": {
        "id": "3t850L0s8SfO",
        "colab_type": "text"
      },
      "source": [
        "### Split these users by different types of payment"
      ]
    },
    {
      "cell_type": "code",
      "metadata": {
        "id": "tZm8tBgLT6Fm",
        "colab_type": "code",
        "outputId": "0d5d6607-4223-4ebf-e62c-6d92a9ef5d08",
        "colab": {
          "base_uri": "https://localhost:8080/",
          "height": 204
        }
      },
      "source": [
        "(data[(data.PhoneService == \"No\") &\n",
        "         (data.InternetService != \"No\")]\n",
        " .groupby(\"PaymentMethod\")[\"MonthlyCharges\"]\n",
        " .agg([\"min\", \"mean\", \"max\", \"count\"]))"
      ],
      "execution_count": 0,
      "outputs": [
        {
          "output_type": "execute_result",
          "data": {
            "text/html": [
              "<div>\n",
              "<style scoped>\n",
              "    .dataframe tbody tr th:only-of-type {\n",
              "        vertical-align: middle;\n",
              "    }\n",
              "\n",
              "    .dataframe tbody tr th {\n",
              "        vertical-align: top;\n",
              "    }\n",
              "\n",
              "    .dataframe thead th {\n",
              "        text-align: right;\n",
              "    }\n",
              "</style>\n",
              "<table border=\"1\" class=\"dataframe\">\n",
              "  <thead>\n",
              "    <tr style=\"text-align: right;\">\n",
              "      <th></th>\n",
              "      <th>min</th>\n",
              "      <th>mean</th>\n",
              "      <th>max</th>\n",
              "      <th>count</th>\n",
              "    </tr>\n",
              "    <tr>\n",
              "      <th>PaymentMethod</th>\n",
              "      <th></th>\n",
              "      <th></th>\n",
              "      <th></th>\n",
              "      <th></th>\n",
              "    </tr>\n",
              "  </thead>\n",
              "  <tbody>\n",
              "    <tr>\n",
              "      <th>Bank transfer (automatic)</th>\n",
              "      <td>24.10</td>\n",
              "      <td>46.131119</td>\n",
              "      <td>66.8</td>\n",
              "      <td>143</td>\n",
              "    </tr>\n",
              "    <tr>\n",
              "      <th>Credit card (automatic)</th>\n",
              "      <td>24.35</td>\n",
              "      <td>44.860390</td>\n",
              "      <td>67.2</td>\n",
              "      <td>154</td>\n",
              "    </tr>\n",
              "    <tr>\n",
              "      <th>Electronic check</th>\n",
              "      <td>23.45</td>\n",
              "      <td>40.748673</td>\n",
              "      <td>64.7</td>\n",
              "      <td>226</td>\n",
              "    </tr>\n",
              "    <tr>\n",
              "      <th>Mailed check</th>\n",
              "      <td>24.20</td>\n",
              "      <td>37.415409</td>\n",
              "      <td>63.4</td>\n",
              "      <td>159</td>\n",
              "    </tr>\n",
              "  </tbody>\n",
              "</table>\n",
              "</div>"
            ],
            "text/plain": [
              "                             min       mean   max  count\n",
              "PaymentMethod                                           \n",
              "Bank transfer (automatic)  24.10  46.131119  66.8    143\n",
              "Credit card (automatic)    24.35  44.860390  67.2    154\n",
              "Electronic check           23.45  40.748673  64.7    226\n",
              "Mailed check               24.20  37.415409  63.4    159"
            ]
          },
          "metadata": {
            "tags": []
          },
          "execution_count": 8
        }
      ]
    },
    {
      "cell_type": "markdown",
      "metadata": {
        "id": "2OkdxT3-8sUH",
        "colab_type": "text"
      },
      "source": [
        "It is no wonder that internet users prefer to use online (automatic) methods of payment."
      ]
    },
    {
      "cell_type": "markdown",
      "metadata": {
        "id": "iXwisuV79LUN",
        "colab_type": "text"
      },
      "source": [
        "### Display the ratio of revenue between clients that left last month and clients that are still with us"
      ]
    },
    {
      "cell_type": "code",
      "metadata": {
        "id": "lTpuPf1yT6F1",
        "colab_type": "code",
        "outputId": "7972ba9c-5b0f-4273-c7f3-7095e7c3a7ed",
        "colab": {
          "base_uri": "https://localhost:8080/",
          "height": 85
        }
      },
      "source": [
        "(data_num\n",
        " .groupby(\"Churn\")[\"MonthlyCharges\"]\n",
        " .sum() / data_num[\"MonthlyCharges\"].sum() * 100)"
      ],
      "execution_count": 0,
      "outputs": [
        {
          "output_type": "execute_result",
          "data": {
            "text/plain": [
              "Churn\n",
              "0    69.496648\n",
              "1    30.503352\n",
              "Name: MonthlyCharges, dtype: float64"
            ]
          },
          "metadata": {
            "tags": []
          },
          "execution_count": 9
        }
      ]
    },
    {
      "cell_type": "markdown",
      "metadata": {
        "id": "ofEUcDrP9Wgy",
        "colab_type": "text"
      },
      "source": [
        "It seems like our customer has lost almost one-third of its monthly revenue with churn users."
      ]
    },
    {
      "cell_type": "markdown",
      "metadata": {
        "id": "y9VzjdbJ9xfG",
        "colab_type": "text"
      },
      "source": [
        "### What types of contract do prefer people that churn?"
      ]
    },
    {
      "cell_type": "code",
      "metadata": {
        "id": "GD2x43PfT6GI",
        "colab_type": "code",
        "outputId": "df733a34-e8ae-47dd-b37a-964a8b8c195e",
        "colab": {
          "base_uri": "https://localhost:8080/",
          "height": 102
        }
      },
      "source": [
        "(data[data.Churn == \"Yes\"]\n",
        " .groupby(\"Contract\")[\"Churn\"]\n",
        " .count())"
      ],
      "execution_count": 0,
      "outputs": [
        {
          "output_type": "execute_result",
          "data": {
            "text/plain": [
              "Contract\n",
              "Month-to-month    1655\n",
              "One year           166\n",
              "Two year            48\n",
              "Name: Churn, dtype: int64"
            ]
          },
          "metadata": {
            "tags": []
          },
          "execution_count": 10
        }
      ]
    },
    {
      "cell_type": "markdown",
      "metadata": {
        "id": "rFM81gw690qq",
        "colab_type": "text"
      },
      "source": [
        "As expected a vast majority of churn users were on month-to-month payment basis: easycom, easy go."
      ]
    },
    {
      "cell_type": "markdown",
      "metadata": {
        "id": "Alp0F9_T-JvE",
        "colab_type": "text"
      },
      "source": [
        "### Who brings more revenue, clients with the duration of cooperation less than 10 months, 10- 30 months, 30- 50 months, more than 50 months?"
      ]
    },
    {
      "cell_type": "code",
      "metadata": {
        "id": "oVzWqzGdT6GW",
        "colab_type": "code",
        "outputId": "3c112fe0-6089-415b-9213-961d88bdf6fa",
        "colab": {
          "base_uri": "https://localhost:8080/",
          "height": 119
        }
      },
      "source": [
        "(data\n",
        " .assign(tenure_bins=pd.cut(data[\"tenure\"],\n",
        "                            [0, 10, 30, 50, 72], #72 is a max of tenure column\n",
        "                            include_lowest=True,\n",
        "                            precision=0))\n",
        " .groupby(\"tenure_bins\")[\"MonthlyCharges\"]\n",
        " .sum() / data[\"MonthlyCharges\"].sum() *100)"
      ],
      "execution_count": 0,
      "outputs": [
        {
          "output_type": "execute_result",
          "data": {
            "text/plain": [
              "tenure_bins\n",
              "(-1, 10]    24.158538\n",
              "(10, 30]    22.542964\n",
              "(30, 50]    19.122007\n",
              "(50, 72]    34.176491\n",
              "Name: MonthlyCharges, dtype: float64"
            ]
          },
          "metadata": {
            "tags": []
          },
          "execution_count": 11
        }
      ]
    },
    {
      "cell_type": "markdown",
      "metadata": {
        "id": "ISpH_77L-U9s",
        "colab_type": "text"
      },
      "source": [
        "The above numbers are percents of the total monthly revenue. As we see, they are almost equal within given time ranges, exept for category 50+, which share is slightly bigger. "
      ]
    },
    {
      "cell_type": "markdown",
      "metadata": {
        "id": "MKbjpKUW_XLP",
        "colab_type": "text"
      },
      "source": [
        "## Churn rate: dive deeper\n",
        "Hereafter we are going to perform deeperanalysisof churn users, based on somewhat unexpected overlapping of two ML algorithns: clustering and classification. "
      ]
    },
    {
      "cell_type": "markdown",
      "metadata": {
        "id": "AoGNcZOyAYGq",
        "colab_type": "text"
      },
      "source": [
        "## Scaling and splitting beforehand preprocessing data"
      ]
    },
    {
      "cell_type": "code",
      "metadata": {
        "id": "Wcu4unQoT6Gq",
        "colab_type": "code",
        "colab": {}
      },
      "source": [
        "y = data_num.Churn\n",
        "X = data_num.drop([\"Churn\"], axis=1)"
      ],
      "execution_count": 0,
      "outputs": []
    },
    {
      "cell_type": "code",
      "metadata": {
        "id": "JXD208x6T6G7",
        "colab_type": "code",
        "colab": {}
      },
      "source": [
        "scaler = StandardScaler()\n",
        "\n",
        "X_scaled = pd.DataFrame(scaler.fit_transform(X))\n",
        "X_scaled.columns = X.columns"
      ],
      "execution_count": 0,
      "outputs": []
    },
    {
      "cell_type": "markdown",
      "metadata": {
        "id": "YCdf8il6Ajv_",
        "colab_type": "text"
      },
      "source": [
        "## Searching for clusters in a given dataset\n",
        "We assume that churn problem is specific to a certain extend for some particular group (-s) of users. "
      ]
    },
    {
      "cell_type": "code",
      "metadata": {
        "id": "q2hHctOCT6HI",
        "colab_type": "code",
        "colab": {}
      },
      "source": [
        "# detecting optimal numof clusters\n",
        "# with the help of SH and CH scores \n",
        "sl_scores = []\n",
        "ch_scores = []\n",
        "k_means_res = {}\n",
        "\n",
        "num_clusters = range(2, 11)\n",
        "\n",
        "\n",
        "for k in num_clusters:\n",
        "    k_means = KMeans(n_clusters=k).fit(X_scaled)\n",
        "\n",
        "    sl_scores.append(silhouette_score(X_scaled,\n",
        "                                      k_means.labels_,\n",
        "                                      metric='euclidean'))\n",
        "\n",
        "    ch_scores.append(calinski_harabasz_score(X_scaled,\n",
        "                                             k_means.labels_))\n",
        "\n",
        "    k_means_res.update({k: k_means.__dict__})"
      ],
      "execution_count": 0,
      "outputs": []
    },
    {
      "cell_type": "code",
      "metadata": {
        "id": "icb_g2g7T6HY",
        "colab_type": "code",
        "outputId": "88451731-ab01-4cad-9a12-4c55dfd337e3",
        "colab": {
          "base_uri": "https://localhost:8080/",
          "height": 313
        }
      },
      "source": [
        "fig, ax1 = plt.subplots()\n",
        "\n",
        "color = \"tab:red\"\n",
        "ax1.set_xlabel(\"num of clusters\")\n",
        "ax1.set_ylabel(\"CH scores\", color=color)\n",
        "ax1.plot(num_clusters, ch_scores, color=color)\n",
        "ax1.tick_params(axis='y', labelcolor=color)\n",
        "ax1.axvline(x=4, linestyle=\"--\", color=\"tab:grey\", linewidth=0.75)\n",
        "ax2 = ax1.twinx()\n",
        "\n",
        "color = 'tab:blue'\n",
        "ax2.set_ylabel(\"silhouette scores\", color=color)\n",
        "ax2.plot(num_clusters, sl_scores, color=color)\n",
        "ax2.tick_params(axis='y', labelcolor=color)\n",
        "\n",
        "fig.tight_layout()\n",
        "plt.title(\"Potential number of clusters\")\n",
        "plt.show()"
      ],
      "execution_count": 0,
      "outputs": [
        {
          "output_type": "display_data",
          "data": {
            "image/png": "[encoded data removed]",
            "text/plain": [
              "<Figure size 432x288 with 2 Axes>"
            ]
          },
          "metadata": {
            "tags": [],
            "needs_background": "light"
          }
        }
      ]
    },
    {
      "cell_type": "markdown",
      "metadata": {
        "id": "86P9GegcB78C",
        "colab_type": "text"
      },
      "source": [
        "Based on some ML alchemy we depict 4 as the optimal num of users' clusters in our data, though it is not so obvious as we might expected.   "
      ]
    },
    {
      "cell_type": "markdown",
      "metadata": {
        "id": "3_G-EKFTCze-",
        "colab_type": "text"
      },
      "source": [
        "## Visualizing clusters in a 2D features' space (PCA-analysis) "
      ]
    },
    {
      "cell_type": "code",
      "metadata": {
        "id": "6z_amgSVT6H1",
        "colab_type": "code",
        "outputId": "f4b831a2-9864-45f5-e1b4-2dbde8d69d7b",
        "colab": {
          "base_uri": "https://localhost:8080/",
          "height": 297
        }
      },
      "source": [
        "k_best = 4\n",
        "\n",
        "pca = PCA(n_components=2)\n",
        "\n",
        "principal_components = pca.fit_transform(X_scaled)\n",
        "\n",
        "principal_df = pd.DataFrame(data=principal_components,\n",
        "                            columns=[\"PC_1\", \"PC_2\"])\n",
        "\n",
        "data_pca = pd.concat([principal_df,\n",
        "                      pd.Series(k_means_res[k_best][\"labels_\"],\n",
        "                                name=\"cluster_labels\"),\n",
        "                      y], axis=1)\n",
        "\n",
        "\n",
        "clusters = np.unique(data_pca.cluster_labels)\n",
        "colors = [\"tab:blue\", \"tab:orange\", \"tab:green\", \"tab:red\"]\n",
        "colors_dict = dict(zip(clusters, colors))\n",
        "data_pca[\"cluster_colors\"] = (data_pca.cluster_labels\n",
        "                              .apply(lambda x: colors_dict[x]))\n",
        "\n",
        "\n",
        "data_pca.plot.scatter(x=\"PC_1\",\n",
        "                      y=\"PC_2\",\n",
        "                      c=data_pca.cluster_colors,\n",
        "                      s=3,\n",
        "                      alpha=0.5)"
      ],
      "execution_count": 0,
      "outputs": [
        {
          "output_type": "execute_result",
          "data": {
            "text/plain": [
              "<matplotlib.axes._subplots.AxesSubplot at 0x7f70586be470>"
            ]
          },
          "metadata": {
            "tags": []
          },
          "execution_count": 16
        },
        {
          "output_type": "display_data",
          "data": {
            "image/png": "[encoded data removed]",
            "text/plain": [
              "<Figure size 432x288 with 1 Axes>"
            ]
          },
          "metadata": {
            "tags": [],
            "needs_background": "light"
          }
        }
      ]
    },
    {
      "cell_type": "markdown",
      "metadata": {
        "id": "mbpTbzLzDJFE",
        "colab_type": "text"
      },
      "source": [
        "## Trying to understand obtained clusters "
      ]
    },
    {
      "cell_type": "markdown",
      "metadata": {
        "id": "tkT-qxbgDgHO",
        "colab_type": "text"
      },
      "source": [
        "### Internet users\n",
        "Class labels are chosen randomly by Kmeans algorithms.\n",
        "Type of Internet connection as we have defined thereinbefore:\n",
        "0 - no Internet\n",
        "1 - DSL\n",
        "2 - Fiber optic  "
      ]
    },
    {
      "cell_type": "code",
      "metadata": {
        "id": "4xX70KyxT6IG",
        "colab_type": "code",
        "outputId": "c3ccb9ab-1d67-4830-e39e-431db016eb8b",
        "colab": {
          "base_uri": "https://localhost:8080/",
          "height": 235
        }
      },
      "source": [
        "data_clusters = pd.concat([X, data_pca.cluster_labels], axis=1)\n",
        "\n",
        "internet = (data_clusters\n",
        "            .groupby([\"cluster_labels\", \"InternetService\"])\n",
        "            .agg({\"InternetService\": \"count\"})\n",
        "            .unstack(level=-1, fill_value=0))\n",
        "\n",
        "internet"
      ],
      "execution_count": 0,
      "outputs": [
        {
          "output_type": "execute_result",
          "data": {
            "text/html": [
              "<div>\n",
              "<style scoped>\n",
              "    .dataframe tbody tr th:only-of-type {\n",
              "        vertical-align: middle;\n",
              "    }\n",
              "\n",
              "    .dataframe tbody tr th {\n",
              "        vertical-align: top;\n",
              "    }\n",
              "\n",
              "    .dataframe thead tr th {\n",
              "        text-align: left;\n",
              "    }\n",
              "\n",
              "    .dataframe thead tr:last-of-type th {\n",
              "        text-align: right;\n",
              "    }\n",
              "</style>\n",
              "<table border=\"1\" class=\"dataframe\">\n",
              "  <thead>\n",
              "    <tr>\n",
              "      <th></th>\n",
              "      <th colspan=\"3\" halign=\"left\">InternetService</th>\n",
              "    </tr>\n",
              "    <tr>\n",
              "      <th>InternetService</th>\n",
              "      <th>0</th>\n",
              "      <th>1</th>\n",
              "      <th>2</th>\n",
              "    </tr>\n",
              "    <tr>\n",
              "      <th>cluster_labels</th>\n",
              "      <th></th>\n",
              "      <th></th>\n",
              "      <th></th>\n",
              "    </tr>\n",
              "  </thead>\n",
              "  <tbody>\n",
              "    <tr>\n",
              "      <th>0</th>\n",
              "      <td>0</td>\n",
              "      <td>682</td>\n",
              "      <td>0</td>\n",
              "    </tr>\n",
              "    <tr>\n",
              "      <th>1</th>\n",
              "      <td>1525</td>\n",
              "      <td>473</td>\n",
              "      <td>25</td>\n",
              "    </tr>\n",
              "    <tr>\n",
              "      <th>2</th>\n",
              "      <td>1</td>\n",
              "      <td>460</td>\n",
              "      <td>1908</td>\n",
              "    </tr>\n",
              "    <tr>\n",
              "      <th>3</th>\n",
              "      <td>0</td>\n",
              "      <td>806</td>\n",
              "      <td>1163</td>\n",
              "    </tr>\n",
              "  </tbody>\n",
              "</table>\n",
              "</div>"
            ],
            "text/plain": [
              "                InternetService           \n",
              "InternetService               0    1     2\n",
              "cluster_labels                            \n",
              "0                             0  682     0\n",
              "1                          1525  473    25\n",
              "2                             1  460  1908\n",
              "3                             0  806  1163"
            ]
          },
          "metadata": {
            "tags": []
          },
          "execution_count": 17
        }
      ]
    },
    {
      "cell_type": "markdown",
      "metadata": {
        "id": "MTNoMQIiEmBW",
        "colab_type": "text"
      },
      "source": [
        "As shown in table, we have two groups of \"heavy\" Internet users within our clusters (those with bigger numbers for \"1\" and \"2\" of InternetService). Other clients naturally fall into a group of (almost) no-Internet users (i.e. phone service subscribers) and another group of dummy \"moderate\" Internet-users (with DSL only). "
      ]
    },
    {
      "cell_type": "code",
      "metadata": {
        "id": "bJHL6gSZT6Ic",
        "colab_type": "code",
        "outputId": "f2bdea00-dc54-459f-a7d9-39854ebac96b",
        "colab": {
          "base_uri": "https://localhost:8080/",
          "height": 313
        }
      },
      "source": [
        "i_services = data_clusters.iloc[:, [7, 8, 9, 10, 11, 12, 21]]\n",
        "\n",
        "i_services_share = (i_services\n",
        "                    .groupby(\"cluster_labels\")\n",
        "                    .apply(lambda df: df.sum() / df.count() * 100)\n",
        "                    .drop(\"cluster_labels\", axis=1))\n",
        "\n",
        "\n",
        "def draw_heatmap(d, x_ticks, y_ticks, title, x_label=None, y_label=None):\n",
        "    fig_hm, ax = plt.subplots()\n",
        "    hm = plt.pcolor(d)\n",
        "    ax.set_xticks(np.arange(d.shape[1]) + 0.5)\n",
        "    ax.set_yticks(np.arange(d.shape[0]) + 0.5)\n",
        "    ax.set_xticklabels(x_ticks)\n",
        "    ax.set_yticklabels(y_ticks)\n",
        "    ax.set_xlabel(x_label)\n",
        "    ax.set_ylabel(y_label)\n",
        "    plt.setp(ax.get_xticklabels(),\n",
        "             rotation=45,\n",
        "             ha=\"right\",\n",
        "             rotation_mode=\"anchor\")\n",
        "    for i in range(d.shape[0]):\n",
        "        for j in range(d.shape[1]):\n",
        "            plt.text(j + 0.5, i + 0.5, '%.1f' % d.iloc[i, j],\n",
        "                     horizontalalignment='center',\n",
        "                     verticalalignment='center')\n",
        "    plt.colorbar(hm)\n",
        "    fig_hm.tight_layout()\n",
        "    ax.set_title(title)\n",
        "    plt.show()\n",
        "\n",
        "\n",
        "draw_heatmap(i_services_share,\n",
        "             i_services_share.columns,\n",
        "             range(4),\n",
        "             \"% of users by received Internet services per cluster\")"
      ],
      "execution_count": 0,
      "outputs": [
        {
          "output_type": "display_data",
          "data": {
            "image/png": "[encoded data removed]",
            "text/plain": [
              "<Figure size 432x288 with 2 Axes>"
            ]
          },
          "metadata": {
            "tags": [],
            "needs_background": "light"
          }
        }
      ]
    },
    {
      "cell_type": "markdown",
      "metadata": {
        "id": "_iIygNsOFbzf",
        "colab_type": "text"
      },
      "source": [
        "The above heatmap suggests for a huge dissimilarity between clusters of so called \"heavy\" Internet users: in one group we observe far more intensive \"consumption\" of almost all available online services (by more than 60% of users within group on average), while another group of Internet users is notable for its members' specific interest in online streaming services.    "
      ]
    },
    {
      "cell_type": "markdown",
      "metadata": {
        "id": "-3ettFIPHyqk",
        "colab_type": "text"
      },
      "source": [
        "### Distribution (share) of monthly revenue by clusters\n",
        "... in total:"
      ]
    },
    {
      "cell_type": "code",
      "metadata": {
        "id": "sI83_7NOT6I1",
        "colab_type": "code",
        "outputId": "65c703df-82a6-4e9b-e881-7ffa03f381ea",
        "colab": {
          "base_uri": "https://localhost:8080/",
          "height": 119
        }
      },
      "source": [
        "mon_income = (data_clusters\n",
        "              .groupby(\"cluster_labels\")[\"MonthlyCharges\"].sum()\n",
        "              .apply(lambda x:\n",
        "                     x / data_clusters[\"MonthlyCharges\"].sum() * 100))\n",
        "mon_income"
      ],
      "execution_count": 0,
      "outputs": [
        {
          "output_type": "execute_result",
          "data": {
            "text/plain": [
              "cluster_labels\n",
              "0     6.284248\n",
              "1    12.836038\n",
              "2    41.514790\n",
              "3    39.364923\n",
              "Name: MonthlyCharges, dtype: float64"
            ]
          },
          "metadata": {
            "tags": []
          },
          "execution_count": 19
        }
      ]
    },
    {
      "cell_type": "markdown",
      "metadata": {
        "id": "XopR-P26H-Oz",
        "colab_type": "text"
      },
      "source": [
        "... per user:"
      ]
    },
    {
      "cell_type": "code",
      "metadata": {
        "id": "ArJ_fwYLT6JB",
        "colab_type": "code",
        "outputId": "d40eeaa1-d2cc-4137-cdec-c285273c6eac",
        "colab": {
          "base_uri": "https://localhost:8080/",
          "height": 119
        }
      },
      "source": [
        "mon_income_avg = (data_clusters\n",
        "                  .groupby(\"cluster_labels\")[\"MonthlyCharges\"].mean())\n",
        "\n",
        "mon_income_avg"
      ],
      "execution_count": 0,
      "outputs": [
        {
          "output_type": "execute_result",
          "data": {
            "text/plain": [
              "cluster_labels\n",
              "0    42.028592\n",
              "1    28.940830\n",
              "2    79.930709\n",
              "3    91.188395\n",
              "Name: MonthlyCharges, dtype: float64"
            ]
          },
          "metadata": {
            "tags": []
          },
          "execution_count": 20
        }
      ]
    },
    {
      "cell_type": "markdown",
      "metadata": {
        "id": "BI8K2puyIdNx",
        "colab_type": "text"
      },
      "source": [
        "It is obvious that those \"streaming-lovers\" group is one of a cash cows in our client's business."
      ]
    },
    {
      "cell_type": "code",
      "metadata": {
        "id": "fq-NI-5ST6JN",
        "colab_type": "code",
        "outputId": "9821101a-1fa9-4b1c-ad24-14cba1b04f30",
        "colab": {
          "base_uri": "https://localhost:8080/",
          "height": 328
        }
      },
      "source": [
        "churn_per_cluster = (data_pca\n",
        "                     .groupby([\"cluster_labels\", \"Churn\"])\n",
        "                     .agg({\"Churn\": \"count\"}))\n",
        "\n",
        "churn_per_cluster[\"ratio\"] = (churn_per_cluster\n",
        "                              .groupby(level=0)\n",
        "                              .apply(lambda x:\n",
        "                                     100 * x / x.sum()))\n",
        "\n",
        "churn_per_cluster"
      ],
      "execution_count": 0,
      "outputs": [
        {
          "output_type": "execute_result",
          "data": {
            "text/html": [
              "<div>\n",
              "<style scoped>\n",
              "    .dataframe tbody tr th:only-of-type {\n",
              "        vertical-align: middle;\n",
              "    }\n",
              "\n",
              "    .dataframe tbody tr th {\n",
              "        vertical-align: top;\n",
              "    }\n",
              "\n",
              "    .dataframe thead th {\n",
              "        text-align: right;\n",
              "    }\n",
              "</style>\n",
              "<table border=\"1\" class=\"dataframe\">\n",
              "  <thead>\n",
              "    <tr style=\"text-align: right;\">\n",
              "      <th></th>\n",
              "      <th></th>\n",
              "      <th>Churn</th>\n",
              "      <th>ratio</th>\n",
              "    </tr>\n",
              "    <tr>\n",
              "      <th>cluster_labels</th>\n",
              "      <th>Churn</th>\n",
              "      <th></th>\n",
              "      <th></th>\n",
              "    </tr>\n",
              "  </thead>\n",
              "  <tbody>\n",
              "    <tr>\n",
              "      <th rowspan=\"2\" valign=\"top\">0</th>\n",
              "      <th>0</th>\n",
              "      <td>512</td>\n",
              "      <td>75.073314</td>\n",
              "    </tr>\n",
              "    <tr>\n",
              "      <th>1</th>\n",
              "      <td>170</td>\n",
              "      <td>24.926686</td>\n",
              "    </tr>\n",
              "    <tr>\n",
              "      <th rowspan=\"2\" valign=\"top\">1</th>\n",
              "      <th>0</th>\n",
              "      <td>1787</td>\n",
              "      <td>88.334157</td>\n",
              "    </tr>\n",
              "    <tr>\n",
              "      <th>1</th>\n",
              "      <td>236</td>\n",
              "      <td>11.665843</td>\n",
              "    </tr>\n",
              "    <tr>\n",
              "      <th rowspan=\"2\" valign=\"top\">2</th>\n",
              "      <th>0</th>\n",
              "      <td>1164</td>\n",
              "      <td>49.134656</td>\n",
              "    </tr>\n",
              "    <tr>\n",
              "      <th>1</th>\n",
              "      <td>1205</td>\n",
              "      <td>50.865344</td>\n",
              "    </tr>\n",
              "    <tr>\n",
              "      <th rowspan=\"2\" valign=\"top\">3</th>\n",
              "      <th>0</th>\n",
              "      <td>1711</td>\n",
              "      <td>86.896902</td>\n",
              "    </tr>\n",
              "    <tr>\n",
              "      <th>1</th>\n",
              "      <td>258</td>\n",
              "      <td>13.103098</td>\n",
              "    </tr>\n",
              "  </tbody>\n",
              "</table>\n",
              "</div>"
            ],
            "text/plain": [
              "                      Churn      ratio\n",
              "cluster_labels Churn                  \n",
              "0              0        512  75.073314\n",
              "               1        170  24.926686\n",
              "1              0       1787  88.334157\n",
              "               1        236  11.665843\n",
              "2              0       1164  49.134656\n",
              "               1       1205  50.865344\n",
              "3              0       1711  86.896902\n",
              "               1        258  13.103098"
            ]
          },
          "metadata": {
            "tags": []
          },
          "execution_count": 24
        }
      ]
    },
    {
      "cell_type": "markdown",
      "metadata": {
        "id": "3NGTV4_CJSV1",
        "colab_type": "text"
      },
      "source": [
        "But alas, we have a biggest churn rate in there!"
      ]
    },
    {
      "cell_type": "markdown",
      "metadata": {
        "id": "O7OJUA4rJkDQ",
        "colab_type": "text"
      },
      "source": [
        "## Selecting features for criss-cross analysis\n",
        "What we are going to do next - is to enchane several features, that contbibuted the most to distinguishing churn and non-churn users, as well as users between clusters. "
      ]
    },
    {
      "cell_type": "markdown",
      "metadata": {
        "id": "vAPzNKHzKwox",
        "colab_type": "text"
      },
      "source": [
        "#### Churn-classification feature importance"
      ]
    },
    {
      "cell_type": "code",
      "metadata": {
        "id": "61v_smXLT6JW",
        "colab_type": "code",
        "outputId": "bf39e286-ea87-4ab5-9c54-b09e0dda20b2",
        "colab": {
          "base_uri": "https://localhost:8080/",
          "height": 265
        }
      },
      "source": [
        "rf_mod = RandomForestClassifier(class_weight=\"balanced_subsample\")\n",
        "\n",
        "rf_mod_churn = rf_mod.fit(X, y)\n",
        "\n",
        "f_imp_churn = pd.Series(rf_mod_churn.feature_importances_,\n",
        "                        index=X.columns)\n",
        "\n",
        "\n",
        "plt.figure()\n",
        "f_imp_churn.nlargest(5).plot(kind=\"barh\")\n",
        "plt.show()"
      ],
      "execution_count": 0,
      "outputs": [
        {
          "output_type": "display_data",
          "data": {
            "image/png": "[encoded data removed]",
            "text/plain": [
              "<Figure size 432x288 with 1 Axes>"
            ]
          },
          "metadata": {
            "tags": [],
            "needs_background": "light"
          }
        }
      ]
    },
    {
      "cell_type": "markdown",
      "metadata": {
        "id": "8McDjOasK5J6",
        "colab_type": "text"
      },
      "source": [
        "#### Cluster-classification feature imporatnce\n",
        "To perform this we simply fed clusters labels as target feature to RF model.  "
      ]
    },
    {
      "cell_type": "code",
      "metadata": {
        "id": "1q-VzXU8T6Jl",
        "colab_type": "code",
        "outputId": "f14f2654-c1b2-4ce3-fb5c-4454a54d7b54",
        "colab": {
          "base_uri": "https://localhost:8080/",
          "height": 265
        }
      },
      "source": [
        "rf_mod_clusters = rf_mod.fit(X, data_pca[\"cluster_labels\"])\n",
        "\n",
        "f_imp_clusters = pd.Series(rf_mod_clusters.feature_importances_,\n",
        "                           index=X.columns)\n",
        "\n",
        "\n",
        "plt.figure()\n",
        "f_imp_clusters.nlargest(5).plot(kind=\"barh\")\n",
        "plt.show()"
      ],
      "execution_count": 0,
      "outputs": [
        {
          "output_type": "display_data",
          "data": {
            "image/png": "[encoded data removed]",
            "text/plain": [
              "<Figure size 432x288 with 1 Axes>"
            ]
          },
          "metadata": {
            "tags": [],
            "needs_background": "light"
          }
        }
      ]
    },
    {
      "cell_type": "markdown",
      "metadata": {
        "id": "NcXuKshxEGdA",
        "colab_type": "text"
      },
      "source": [
        "Obviously, we have few features serving equally well to distinguish churn from loyal users and to separate them between clusters based on behaviour patterns. For further analysis we will consider only \"MonthlyCharges\" and \"tenure\", though in real life we should try some more combinations of top features from both models to look for insights.  "
      ]
    },
    {
      "cell_type": "code",
      "metadata": {
        "id": "yC9CE9JuT6Jv",
        "colab_type": "code",
        "outputId": "4e9eb6aa-6f0c-4f2f-afab-ab7084835713",
        "colab": {
          "base_uri": "https://localhost:8080/",
          "height": 309
        }
      },
      "source": [
        "# transform continious features to discrete for simplicy\n",
        "data_clusters[\"MonthlyCharges_desc\"] = pd.qcut(data_clusters.MonthlyCharges,\n",
        "                                              q=5,\n",
        "                                              precision=0)\n",
        "\n",
        "data_clusters[\"tenure_desc\"] = pd.qcut(data_clusters.tenure,\n",
        "                                      q=5,\n",
        "                                      precision=0)\n",
        "\n",
        "data_clusters_churn = pd.concat([data_clusters, y], axis=1)\n",
        "\n",
        "# clusters' labels are assign by KMeans algorithm randomly,\n",
        "# so we need to ensure we are dealing with the most problematic\n",
        "# cluster (of \"streaming-lovers\" in this case) \n",
        "task_cluster = (data_clusters_churn\n",
        "                .loc[data_clusters.cluster_labels == churn_per_cluster\n",
        "                     .unstack(level=1)[\"ratio\"][1]\n",
        "                     .idxmax(), :])\n",
        "\n",
        "cluster_grouped = (task_cluster\n",
        "                   .groupby([\"MonthlyCharges_desc\",\n",
        "                               \"tenure_desc\",\n",
        "                               \"Churn\"])\n",
        "                    .agg({\"Churn\": \"count\"})\n",
        "                    .unstack(level=2))\n",
        "\n",
        "\n",
        "def get_churn_ratio(row):\n",
        "    row[\"ratio\"] = row[1] / row.sum() * 100 if row[1] != 0 else 0\n",
        "    return row\n",
        "\n",
        "\n",
        "cluster_churn_ratio = (cluster_grouped\n",
        "                       .apply(get_churn_ratio, axis=1)[\"ratio\"]\n",
        "                       .unstack(level=1))\n",
        "\n",
        "draw_heatmap(cluster_churn_ratio,\n",
        "             cluster_churn_ratio.columns,\n",
        "             cluster_churn_ratio.index,\n",
        "             \"Churn rate in a given cluster per tenure and charge\",\n",
        "             \"tenure range (months)\",\n",
        "             \"monthly charge range (USD)\")\n"
      ],
      "execution_count": 0,
      "outputs": [
        {
          "output_type": "display_data",
          "data": {
            "image/png": "[encoded data removed]",
            "text/plain": [
              "<Figure size 432x288 with 2 Axes>"
            ]
          },
          "metadata": {
            "tags": [],
            "needs_background": "light"
          }
        }
      ]
    },
    {
      "cell_type": "markdown",
      "metadata": {
        "id": "xnYU9u-LHswr",
        "colab_type": "text"
      },
      "source": [
        "There it is! What we are looking at - is the matrix of **distribution of churn rates per tenure and monthly charge ranges** for the most problematic cluster of users with the overall churn rate above 50%. The trend is quite obvious (except for odd value in the bottom left corner caused by some not-detected outliers): **the affection of new users (with the duration of cooperation for up to 6 months) to leave increases rapidly with the growth of monthly charge above 60 USD**. In other words, we can assume that this kind of users quit freely (with their month-to-month payment basis!) at the end of the promotional period or with exceeded traffic limits if any (which is quite expected concerning their addiction to online streaming). Both mentioned cases suggest increasing of monthly charges.  "
      ]
    }
  ]
}