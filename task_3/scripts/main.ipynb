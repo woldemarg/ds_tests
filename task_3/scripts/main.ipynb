{
  "cells": [
    {
      "cell_type": "code",
      "metadata": {},
      "source": [
        "import numpy as np\n",
        "import pandas as pd\n",
        "import matplotlib.pyplot as plt\n",
        "\n",
        "from sklearn.preprocessing import OneHotEncoder\n",
        "from sklearn.preprocessing import StandardScaler\n",
        "\n",
        "from sklearn.cluster import KMeans\n",
        "\n",
        "from sklearn.metrics import silhouette_score\n",
        "from sklearn.metrics import calinski_harabasz_score\n",
        "\n",
        "from sklearn.decomposition import PCA\n",
        "\n",
        "from sklearn.ensemble import RandomForestClassifier"
      ],
      "outputs": [],
      "execution_count": null
    },
    {
      "cell_type": "code",
      "metadata": {},
      "source": [
        "url = \"https://raw.githubusercontent.com/woldemarg/nix_solutions_test/master/task_3/data/Data%20for%20the%20Churn%20task%20_%20BDA%20homework.csv\"\n",
        "data = pd.read_csv(url)\n",
        "\n",
        "data.head()"
      ],
      "outputs": [],
      "execution_count": null
    },
    {
      "cell_type": "code",
      "metadata": {},
      "source": [
        "data.isnull().sum()"
      ],
      "outputs": [],
      "execution_count": null
    },
    {
      "cell_type": "code",
      "metadata": {},
      "source": [
        "data.nunique()"
      ],
      "outputs": [],
      "execution_count": null
    },
    {
      "cell_type": "code",
      "metadata": {},
      "source": [
        "data_mod = data.drop([\"customerID\",\n",
        "                      \"TotalCharges\"],\n",
        "                     axis=1)\n",
        "\n",
        "binary_cols = (data_mod.columns[(data_mod.nunique() == 2) &\n",
        "                                (data_mod.apply(\n",
        "                                    lambda s: all(s.str.contains(\"Yes|No\"))))]\n",
        "               .tolist())\n",
        "\n",
        "data_mod.loc[:, binary_cols] = (data_mod[binary_cols]\n",
        "                                .replace([\"Yes\", \"No\"], [1, 0]))\n",
        "\n",
        "threesome_cols = (data_mod.columns[(data_mod.nunique() == 3) &\n",
        "                                   (data_mod.apply(\n",
        "                                       lambda s:\n",
        "                                       all(s.str.contains(\"Yes|No\"))))]\n",
        "                  .tolist())\n",
        "\n",
        "data_mod.loc[:, threesome_cols] = (data_mod[threesome_cols]\n",
        "                                   .replace({\n",
        "                                       \"Yes\": 1,\n",
        "                                       \"No\": 0,\n",
        "                                       \"No phone service\": 0,\n",
        "                                       \"No internet service\": 0}))\n",
        "\n",
        "data_mod.loc[:, \"InternetService\"] = (data_mod.InternetService\n",
        "                                      .replace({\n",
        "                                          \"No\": 0,\n",
        "                                          \"DSL\": 1,\n",
        "                                          \"Fiber optic\": 2}))"
      ],
      "outputs": [],
      "execution_count": null
    },
    {
      "cell_type": "code",
      "metadata": {},
      "source": [
        "cat_cols_left = [col for col in data_mod\n",
        "                 if data_mod[col].dtype == \"object\"]\n",
        "\n",
        "OH_encoder = OneHotEncoder(handle_unknown=\"error\",\n",
        "                           drop=\"first\", sparse=False)\n",
        "\n",
        "OH_cols = pd.DataFrame(OH_encoder.fit_transform(data_mod[cat_cols_left]))\n",
        "\n",
        "OH_cols_names = OH_encoder.get_feature_names(cat_cols_left)\n",
        "OH_cols.columns = OH_cols_names\n",
        "\n",
        "data_num = pd.concat([data_mod.drop(cat_cols_left, axis=1), OH_cols],\n",
        "                     axis=1)\n",
        "\n",
        "data_num.head()"
      ],
      "outputs": [],
      "execution_count": null
    },
    {
      "cell_type": "code",
      "metadata": {},
      "source": [
        "(data_num[(data_num.PhoneService == 0) &\n",
        "         (data_num.InternetService != 0)][\"MonthlyCharges\"]\n",
        " .agg([\"min\", \"mean\", \"max\"]))"
      ],
      "outputs": [],
      "execution_count": null
    },
    {
      "cell_type": "code",
      "metadata": {},
      "source": [
        "(data[(data.PhoneService == \"No\") &\n",
        "         (data.InternetService != \"No\")]\n",
        " .groupby(\"PaymentMethod\")[\"MonthlyCharges\"]\n",
        " .agg([\"min\", \"mean\", \"max\", \"count\"]))"
      ],
      "outputs": [],
      "execution_count": null
    },
    {
      "cell_type": "code",
      "metadata": {},
      "source": [
        "(data_num\n",
        " .groupby(\"Churn\")[\"MonthlyCharges\"]\n",
        " .sum() / data_num[\"MonthlyCharges\"].sum() * 100)"
      ],
      "outputs": [],
      "execution_count": null
    },
    {
      "cell_type": "code",
      "metadata": {},
      "source": [
        "(data[data.Churn == \"Yes\"]\n",
        " .groupby(\"Contract\")[\"Churn\"]\n",
        " .count())"
      ],
      "outputs": [],
      "execution_count": null
    },
    {
      "cell_type": "code",
      "metadata": {},
      "source": [
        "(data\n",
        " .assign(tenure_bins=pd.cut(data[\"tenure\"],\n",
        "                            [0, 10, 30, 50, 72],\n",
        "                            include_lowest=True,\n",
        "                            precision=0))\n",
        " .groupby(\"tenure_bins\")[\"MonthlyCharges\"]\n",
        " .sum() / data[\"MonthlyCharges\"].sum() *100)"
      ],
      "outputs": [],
      "execution_count": null
    },
    {
      "cell_type": "code",
      "metadata": {},
      "source": [
        "y = data_num.Churn\n",
        "X = data_num.drop([\"Churn\"], axis=1)"
      ],
      "outputs": [],
      "execution_count": null
    },
    {
      "cell_type": "code",
      "metadata": {},
      "source": [
        "scaler = StandardScaler()\n",
        "\n",
        "X_scaled = pd.DataFrame(scaler.fit_transform(X))\n",
        "X_scaled.columns = X.columns"
      ],
      "outputs": [],
      "execution_count": null
    },
    {
      "cell_type": "code",
      "metadata": {},
      "source": [
        "sl_scores = []\n",
        "ch_scores = []\n",
        "k_means_res = {}\n",
        "\n",
        "num_clusters = range(2, 11)\n",
        "\n",
        "\n",
        "for k in num_clusters:\n",
        "    k_means = KMeans(n_clusters=k).fit(X_scaled)\n",
        "\n",
        "    sl_scores.append(silhouette_score(X_scaled,\n",
        "                                      k_means.labels_,\n",
        "                                      metric='euclidean'))\n",
        "\n",
        "    ch_scores.append(calinski_harabasz_score(X_scaled,\n",
        "                                             k_means.labels_))\n",
        "\n",
        "    k_means_res.update({k: k_means.__dict__})"
      ],
      "outputs": [],
      "execution_count": null
    },
    {
      "cell_type": "code",
      "metadata": {},
      "source": [
        "fig, ax1 = plt.subplots()\n",
        "\n",
        "color = \"tab:red\"\n",
        "ax1.set_xlabel(\"num of clusters\")\n",
        "ax1.set_ylabel(\"CH scores\", color=color)\n",
        "ax1.plot(num_clusters, ch_scores, color=color)\n",
        "ax1.tick_params(axis='y', labelcolor=color)\n",
        "ax1.axvline(x=4, linestyle=\"--\", color=\"tab:grey\", linewidth=0.75)\n",
        "ax2 = ax1.twinx()\n",
        "\n",
        "color = 'tab:blue'\n",
        "ax2.set_ylabel(\"silhouette scores\", color=color)\n",
        "ax2.plot(num_clusters, sl_scores, color=color)\n",
        "ax2.tick_params(axis='y', labelcolor=color)\n",
        "\n",
        "fig.tight_layout()\n",
        "plt.title(\"Potential number of clusters\")\n",
        "plt.show()"
      ],
      "outputs": [],
      "execution_count": null
    },
    {
      "cell_type": "code",
      "metadata": {},
      "source": [
        "k_best = 4\n",
        "\n",
        "pca = PCA(n_components=2)\n",
        "\n",
        "principal_components = pca.fit_transform(X_scaled)\n",
        "\n",
        "principal_df = pd.DataFrame(data=principal_components,\n",
        "                            columns=[\"PC_1\", \"PC_2\"])\n",
        "\n",
        "data_pca = pd.concat([principal_df,\n",
        "                      pd.Series(k_means_res[k_best][\"labels_\"],\n",
        "                                name=\"cluster_labels\"),\n",
        "                      y], axis=1)\n",
        "\n",
        "\n",
        "clusters = np.unique(data_pca.cluster_labels)\n",
        "colors = [\"tab:blue\", \"tab:orange\", \"tab:green\", \"tab:red\"]\n",
        "colors_dict = dict(zip(clusters, colors))\n",
        "data_pca[\"cluster_colors\"] = (data_pca.cluster_labels\n",
        "                              .apply(lambda x: colors_dict[x]))\n",
        "\n",
        "\n",
        "data_pca.plot.scatter(x=\"PC_1\",\n",
        "                      y=\"PC_2\",\n",
        "                      c=data_pca.cluster_colors,\n",
        "                      s=3,\n",
        "                      alpha=0.5)"
      ],
      "outputs": [],
      "execution_count": null
    },
    {
      "cell_type": "code",
      "metadata": {},
      "source": [
        "data_clusters = pd.concat([X, data_pca.cluster_labels], axis=1)\n",
        "\n",
        "internet = (data_clusters\n",
        "            .groupby([\"cluster_labels\", \"InternetService\"])\n",
        "            .agg({\"InternetService\": \"count\"})\n",
        "            .unstack(level=-1, fill_value=0))\n",
        "\n",
        "internet"
      ],
      "outputs": [],
      "execution_count": null
    },
    {
      "cell_type": "code",
      "metadata": {},
      "source": [
        "i_services = data_clusters.iloc[:, [7, 8, 9, 10, 11, 12, 21]]\n",
        "\n",
        "i_services_share = (i_services\n",
        "                    .groupby(\"cluster_labels\")\n",
        "                    .apply(lambda df: df.sum() / df.count() * 100)\n",
        "                    .drop(\"cluster_labels\", axis=1))\n",
        "\n",
        "\n",
        "def draw_heatmap(d, x_ticks, y_ticks, title, x_label=None, y_label=None):\n",
        "    fig_hm, ax = plt.subplots()\n",
        "    hm = plt.pcolor(d)\n",
        "    ax.set_xticks(np.arange(d.shape[1]) + 0.5)\n",
        "    ax.set_yticks(np.arange(d.shape[0]) + 0.5)\n",
        "    ax.set_xticklabels(x_ticks)\n",
        "    ax.set_yticklabels(y_ticks)\n",
        "    ax.set_xlabel(x_label)\n",
        "    ax.set_ylabel(y_label)\n",
        "    plt.setp(ax.get_xticklabels(),\n",
        "             rotation=45,\n",
        "             ha=\"right\",\n",
        "             rotation_mode=\"anchor\")\n",
        "    for i in range(d.shape[0]):\n",
        "        for j in range(d.shape[1]):\n",
        "            plt.text(j + 0.5, i + 0.5, '%.1f' % d.iloc[i, j],\n",
        "                     horizontalalignment='center',\n",
        "                     verticalalignment='center')\n",
        "    plt.colorbar(hm)\n",
        "    fig_hm.tight_layout()\n",
        "    ax.set_title(title)\n",
        "    plt.show()\n",
        "\n",
        "\n",
        "draw_heatmap(i_services_share,\n",
        "             i_services_share.columns,\n",
        "             range(4),\n",
        "             \"% of users by received Internet services per cluster\")"
      ],
      "outputs": [],
      "execution_count": null
    },
    {
      "cell_type": "code",
      "metadata": {},
      "source": [
        "mon_income = (data_clusters\n",
        "              .groupby(\"cluster_labels\")[\"MonthlyCharges\"].sum()\n",
        "              .apply(lambda x:\n",
        "                     x / data_clusters[\"MonthlyCharges\"].sum() * 100))\n",
        "mon_income"
      ],
      "outputs": [],
      "execution_count": null
    },
    {
      "cell_type": "code",
      "metadata": {},
      "source": [
        "mon_income_avg = (data_clusters\n",
        "                  .groupby(\"cluster_labels\")[\"MonthlyCharges\"].mean())\n",
        "\n",
        "mon_income_avg"
      ],
      "outputs": [],
      "execution_count": null
    },
    {
      "cell_type": "code",
      "metadata": {},
      "source": [
        "churn_per_cluster = (data_pca\n",
        "                     .groupby([\"cluster_labels\", \"Churn\"])\n",
        "                     .agg({\"Churn\": \"count\"}))\n",
        "\n",
        "churn_per_cluster[\"ratio\"] = (churn_per_cluster\n",
        "                              .groupby(level=0)\n",
        "                              .apply(lambda x:\n",
        "                                     100 * x / x.sum()))"
      ],
      "outputs": [],
      "execution_count": null
    },
    {
      "cell_type": "code",
      "metadata": {},
      "source": [
        "rf_mod = RandomForestClassifier(class_weight=\"balanced_subsample\")\n",
        "\n",
        "rf_mod_churn = rf_mod.fit(X, y)\n",
        "\n",
        "f_imp_churn = pd.Series(rf_mod_churn.feature_importances_,\n",
        "                        index=X.columns)\n",
        "\n",
        "\n",
        "plt.figure()\n",
        "f_imp_churn.nlargest(5).plot(kind=\"barh\")\n",
        "plt.show()"
      ],
      "outputs": [],
      "execution_count": null
    },
    {
      "cell_type": "code",
      "metadata": {},
      "source": [
        "rf_mod_clusters = rf_mod.fit(X, data_pca[\"cluster_labels\"])\n",
        "\n",
        "f_imp_clusters = pd.Series(rf_mod_clusters.feature_importances_,\n",
        "                           /index=X.columns)\n",
        "\n",
        "\n",
        "plt.figure()\n",
        "f_imp_clusters.nlargest(5).plot(kind=\"barh\")\n",
        "plt.show()"
      ],
      "outputs": [],
      "execution_count": null
    },
    {
      "cell_type": "code",
      "metadata": {},
      "source": [
        "data_clusters[\"MonthlyCharges_desc\"] = pd.qcut(data_clusters.MonthlyCharges,\n",
        "                                              q=5,\n",
        "                                              precision=0)\n",
        "\n",
        "data_clusters[\"tenure_desc\"] = pd.qcut(data_clusters.tenure,\n",
        "                                      q=5,\n",
        "                                      precision=0)\n",
        "\n",
        "data_clusters_churn = pd.concat([data_clusters, y], axis=1)\n",
        "\n",
        "task_cluster = (data_clusters_churn\n",
        "                .loc[data_clusters.cluster_labels == churn_per_cluster\n",
        "                     .unstack(level=1)[\"ratio\"][1]\n",
        "                     .idxmax(), :])\n",
        "\n",
        "cluster_grouped = (task_cluster\n",
        "                   .groupby([\"MonthlyCharges_desc\",\n",
        "                               \"tenure_desc\",\n",
        "                               \"Churn\"])\n",
        "                    .agg({\"Churn\": \"count\"})\n",
        "                    .unstack(level=2))\n",
        "\n",
        "\n",
        "def get_churn_ratio(row):\n",
        "    row[\"ratio\"] = row[1] / row.sum() * 100 if row[1] != 0 else 0\n",
        "    return row\n",
        "\n",
        "\n",
        "cluster_churn_ratio = (cluster_grouped\n",
        "                       .apply(get_churn_ratio, axis=1)[\"ratio\"]\n",
        "                       .unstack(level=1))\n",
        "\n",
        "draw_heatmap(cluster_churn_ratio,\n",
        "             cluster_churn_ratio.columns,\n",
        "             cluster_churn_ratio.index,\n",
        "             \"Churn rate in a given cluster per tenure and charge\",\n",
        "             \"tenure range (months)\",\n",
        "             \"monthly charge range (USD)\")\n"
      ],
      "outputs": [],
      "execution_count": null
    }
  ],
  "metadata": {
    "anaconda-cloud": {},
    "kernelspec": {
      "display_name": "Python 3",
      "language": "python",
      "name": "python3"
    },
    "language_info": {
      "codemirror_mode": {
        "name": "ipython",
        "version": 3
      },
      "file_extension": ".py",
      "mimetype": "text/x-python",
      "name": "python",
      "nbconvert_exporter": "python",
      "pygments_lexer": "ipython3",
      "version": "3.6.1"
    }
  },
  "nbformat": 4,
  "nbformat_minor": 1
}