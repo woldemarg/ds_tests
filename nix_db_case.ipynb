{
  "cells": [
    {
      "cell_type": "code",
      "metadata": {},
      "source": [
        "import sqlite3\n",
        "import pandas as pd\n",
        "\n",
        "# %% [markdown]\n",
        "# ## Setup dbase in RAM"
      ],
      "outputs": [],
      "execution_count": 1
    },
    {
      "cell_type": "code",
      "metadata": {},
      "source": [
        "con = sqlite3.connect(':memory:')\n",
        "cur = con.cursor()"
      ],
      "outputs": [],
      "execution_count": 2
    },
    {
      "cell_type": "code",
      "metadata": {},
      "source": [
        "sql_dump = open(r\"db_sql\\db_dmp.sql\",\"r\")\n",
        "sql_statements = (sql_dump\n",
        "                    .read()\n",
        "                    .split(\";\"))\n",
        "sql_dump.close()\n",
        "                \n",
        "for st in sql_statements:\n",
        "    try:\n",
        "        cur.execute(st)\n",
        "    except sqlite3.Error as e:\n",
        "        print(e)              \n",
        "\n",
        "# %% [markdown]\n",
        "# ## Check DB (via list of tables)"
      ],
      "outputs": [],
      "execution_count": 3
    },
    {
      "cell_type": "code",
      "metadata": {},
      "source": [
        "pd.read_sql_query(\n",
        "    \"\"\" SELECT name\n",
        "        FROM sqlite_master \n",
        "        WHERE type ='table'\n",
        "        AND name NOT LIKE 'sqlite_%'; \"\"\",\n",
        "        con)\n",
        "\n",
        "# %% [markdown]\n",
        "# ## Run queries\n",
        "# a. РќР°РїРёС€РёС‚Рµ Р·Р°РїСЂРѕСЃ, РєРѕС‚РѕСЂС‹Р№ РІС‹РІРѕРґРёС‚ РЅР°Р·РІР°РЅРёРµ РїРѕР·РёС†РёР№ (Р±РµР· РїРѕРІС‚РѕСЂРµРЅРёР№),\n",
        "# С…РѕС‚СЏ Р±С‹ РѕРґРёРЅ РїСЂРµРґСЃС‚Р°РІРёС‚РµР»СЊ РєРѕС‚РѕСЂРѕР№ РїРѕР»СѓС‡Р°РµС‚ Р·Р°СЂРїР»Р°С‚Сѓ РІ РїСЂРѕРјРµР¶СѓС‚РєРµ 400-600"
      ],
      "outputs": [
        {
          "output_type": "execute_result",
          "data": {
            "text/plain": "        name\n0   medicine\n1  diagnosis\n2        job\n3    workers\n4   contacts",
            "text/html": "<div>\n<style scoped>\n    .dataframe tbody tr th:only-of-type {\n        vertical-align: middle;\n    }\n\n    .dataframe tbody tr th {\n        vertical-align: top;\n    }\n\n    .dataframe thead th {\n        text-align: right;\n    }\n</style>\n<table border=\"1\" class=\"dataframe\">\n  <thead>\n    <tr style=\"text-align: right;\">\n      <th></th>\n      <th>name</th>\n    </tr>\n  </thead>\n  <tbody>\n    <tr>\n      <th>0</th>\n      <td>medicine</td>\n    </tr>\n    <tr>\n      <th>1</th>\n      <td>diagnosis</td>\n    </tr>\n    <tr>\n      <th>2</th>\n      <td>job</td>\n    </tr>\n    <tr>\n      <th>3</th>\n      <td>workers</td>\n    </tr>\n    <tr>\n      <th>4</th>\n      <td>contacts</td>\n    </tr>\n  </tbody>\n</table>\n</div>"
          },
          "metadata": {},
          "execution_count": 4
        }
      ],
      "execution_count": 4
    },
    {
      "cell_type": "code",
      "metadata": {},
      "source": [
        "pd.read_sql_query(\n",
        "    \"\"\" SELECT DISTINCT(POSITION)\n",
        "        FROM job\n",
        "        WHERE SALARY BETWEEN 400 AND 600; \"\"\",\n",
        "        con)\n",
        "\n",
        "# %% [markdown]\n",
        "# b. РќР°РїРёС€РёС‚Рµ Р·Р°РїСЂРѕСЃ, РєРѕС‚РѕСЂС‹Р№ РІС‹РїРѕР»РЅСЏРµС‚ РІС‹РІРѕРґ СЃРїРёСЃРєР° РѕС„РёСЃРѕРІ,\n",
        "# СЂР°СЃРїРѕР»РѕР¶РµРЅРЅС‹С… РІ SEBEWAING Рё ELECTRON, РєРѕР»РёС‡РµСЃС‚РІРѕ СЂР°Р±РѕС‡РёС… Рё\n",
        "# СЃСЂРµРґРЅРµР№ Р·Р°СЂРїР»Р°С‚С‹ СЂР°Р±РѕС‡РёС… РІ РєР°Р¶РґРѕРј РѕС„РёСЃРµ"
      ],
      "outputs": [
        {
          "output_type": "execute_result",
          "data": {
            "text/plain": "                 POSITION\n0            C# DEVELOPER\n1  AUTOMATION QA ENGINEER\n2          JAVA DEVELOPER",
            "text/html": "<div>\n<style scoped>\n    .dataframe tbody tr th:only-of-type {\n        vertical-align: middle;\n    }\n\n    .dataframe tbody tr th {\n        vertical-align: top;\n    }\n\n    .dataframe thead th {\n        text-align: right;\n    }\n</style>\n<table border=\"1\" class=\"dataframe\">\n  <thead>\n    <tr style=\"text-align: right;\">\n      <th></th>\n      <th>POSITION</th>\n    </tr>\n  </thead>\n  <tbody>\n    <tr>\n      <th>0</th>\n      <td>C# DEVELOPER</td>\n    </tr>\n    <tr>\n      <th>1</th>\n      <td>AUTOMATION QA ENGINEER</td>\n    </tr>\n    <tr>\n      <th>2</th>\n      <td>JAVA DEVELOPER</td>\n    </tr>\n  </tbody>\n</table>\n</div>"
          },
          "metadata": {},
          "execution_count": 5
        }
      ],
      "execution_count": 5
    },
    {
      "cell_type": "code",
      "metadata": {},
      "source": [
        "pd.read_sql_query(\n",
        "    \"\"\" SELECT OFFICE, count(WORKER_ID), avg(SALARY) as MEAN_SALARY\n",
        "        FROM job\n",
        "        WHERE OFFICE_CITY IN (\"SEBEWAING\", \"ELECTRON\")\n",
        "        GROUP BY OFFICE; \"\"\",\n",
        "        con)\n",
        "\n",
        "# %% [markdown]\n",
        "# c. РќР°РїРёС€РёС‚Рµ Р·Р°РїСЂРѕСЃ, РєРѕС‚РѕСЂС‹Р№ РІС‹РІРѕРґРёС‚ РЅР°Р·РІР°РЅРёРµ РїСЂРѕС„РµСЃСЃРёР№ (Р±РµР· РїРѕРІС‚РѕСЂРµРЅРёР№),\n",
        "# РІСЃРµ РїСЂРµРґСЃС‚Р°РІРёС‚РµР»Рё РєРѕС‚РѕСЂРѕР№ РїРѕР»СѓС‡Р°СЋС‚ Р·Р°СЂРїР»Р°С‚Сѓ РІ РїСЂРѕРјРµР¶СѓС‚РєРµ 400-700"
      ],
      "outputs": [
        {
          "output_type": "execute_result",
          "data": {
            "text/plain": "          OFFICE  count(WORKER_ID)  MEAN_SALARY\n0  TIME IS MONEY                 7   725.958571",
            "text/html": "<div>\n<style scoped>\n    .dataframe tbody tr th:only-of-type {\n        vertical-align: middle;\n    }\n\n    .dataframe tbody tr th {\n        vertical-align: top;\n    }\n\n    .dataframe thead th {\n        text-align: right;\n    }\n</style>\n<table border=\"1\" class=\"dataframe\">\n  <thead>\n    <tr style=\"text-align: right;\">\n      <th></th>\n      <th>OFFICE</th>\n      <th>count(WORKER_ID)</th>\n      <th>MEAN_SALARY</th>\n    </tr>\n  </thead>\n  <tbody>\n    <tr>\n      <th>0</th>\n      <td>TIME IS MONEY</td>\n      <td>7</td>\n      <td>725.958571</td>\n    </tr>\n  </tbody>\n</table>\n</div>"
          },
          "metadata": {},
          "execution_count": 6
        }
      ],
      "execution_count": 6
    },
    {
      "cell_type": "code",
      "metadata": {},
      "source": [
        "pd.read_sql_query(\n",
        "    \"\"\" SELECT DISTINCT(POSITION)\n",
        "        FROM job\n",
        "        WHERE POSITION NOT IN\n",
        "            (SELECT POSITION\n",
        "            FROM job\n",
        "            WHERE SALARY NOT BETWEEN 400 AND 700); \"\"\",\n",
        "        con)\n",
        "\n",
        "# %% [markdown]\n",
        "# d. РќР°РїРёС€РёС‚Рµ Р·Р°РїСЂРѕСЃ, РєРѕС‚РѕСЂС‹Р№ РІС‹РІРѕРґРёС‚ СЃСЂРµРґРЅСЋСЋ Р·Р°СЂРїР»Р°С‚Сѓ СЂР°Р±РѕС‚РЅРёРєРѕРІ,\n",
        "# РєРѕС‚РѕСЂС‹Рµ СЃС‚Р°СЂС€Рµ 30 Р»РµС‚, РіСЂСѓРїРїРёСЂСѓСЏ РїРѕ РїРѕР»Сѓ Рё РІРѕР·СЂР°СЃС‚Сѓ,\n",
        "# РЅРѕ РїСЂРё РІС‹РІРѕРґРµ СѓРІРµР»РёС‡РёРІР°СЋС‰РёР№ РґР°РЅРЅС‹Рµ Рѕ РІРµР»РёС‡РёРЅРµ Р·Р°СЂРїР»Р°С‚С‹ РЅР° 20%"
      ],
      "outputs": [
        {
          "output_type": "execute_result",
          "data": {
            "text/plain": "                 POSITION\n0  AUTOMATION QA ENGINEER\n1          JAVA DEVELOPER",
            "text/html": "<div>\n<style scoped>\n    .dataframe tbody tr th:only-of-type {\n        vertical-align: middle;\n    }\n\n    .dataframe tbody tr th {\n        vertical-align: top;\n    }\n\n    .dataframe thead th {\n        text-align: right;\n    }\n</style>\n<table border=\"1\" class=\"dataframe\">\n  <thead>\n    <tr style=\"text-align: right;\">\n      <th></th>\n      <th>POSITION</th>\n    </tr>\n  </thead>\n  <tbody>\n    <tr>\n      <th>0</th>\n      <td>AUTOMATION QA ENGINEER</td>\n    </tr>\n    <tr>\n      <th>1</th>\n      <td>JAVA DEVELOPER</td>\n    </tr>\n  </tbody>\n</table>\n</div>"
          },
          "metadata": {},
          "execution_count": 7
        }
      ],
      "execution_count": 7
    },
    {
      "cell_type": "code",
      "metadata": {},
      "source": [
        "pd.read_sql_query(\n",
        "    \"\"\" SELECT  substr(date(),1,4) - 19||substr(DOB,8,2) AS AGE,\n",
        "                GENDER,\n",
        "                AVG(SALARY) * 1.2 AS AVG_SALARY\n",
        "        FROM workers t1\n",
        "        INNER JOIN job t2\n",
        "        ON t1.WORKER_ID = t2.WORKER_ID\n",
        "        WHERE AGE > 30\n",
        "        GROUP BY AGE, GENDER; \"\"\",\n",
        "        con)"
      ],
      "outputs": [
        {
          "output_type": "execute_result",
          "data": {
            "text/plain": "   AGE GENDER  AVG_SALARY\n0   34      F    1052.370\n1   34      M     691.544\n2   35      F    1175.004\n3   39      F     665.244",
            "text/html": "<div>\n<style scoped>\n    .dataframe tbody tr th:only-of-type {\n        vertical-align: middle;\n    }\n\n    .dataframe tbody tr th {\n        vertical-align: top;\n    }\n\n    .dataframe thead th {\n        text-align: right;\n    }\n</style>\n<table border=\"1\" class=\"dataframe\">\n  <thead>\n    <tr style=\"text-align: right;\">\n      <th></th>\n      <th>AGE</th>\n      <th>GENDER</th>\n      <th>AVG_SALARY</th>\n    </tr>\n  </thead>\n  <tbody>\n    <tr>\n      <th>0</th>\n      <td>34</td>\n      <td>F</td>\n      <td>1052.370</td>\n    </tr>\n    <tr>\n      <th>1</th>\n      <td>34</td>\n      <td>M</td>\n      <td>691.544</td>\n    </tr>\n    <tr>\n      <th>2</th>\n      <td>35</td>\n      <td>F</td>\n      <td>1175.004</td>\n    </tr>\n    <tr>\n      <th>3</th>\n      <td>39</td>\n      <td>F</td>\n      <td>665.244</td>\n    </tr>\n  </tbody>\n</table>\n</div>"
          },
          "metadata": {},
          "execution_count": 8
        }
      ],
      "execution_count": 8
    },
    {
      "cell_type": "code",
      "metadata": {},
      "source": [],
      "outputs": [],
      "execution_count": null
    }
  ],
  "metadata": {
    "anaconda-cloud": {},
    "kernelspec": {
      "display_name": "Python 3",
      "language": "python",
      "name": "python3"
    },
    "language_info": {
      "codemirror_mode": {
        "name": "ipython",
        "version": 3
      },
      "file_extension": ".py",
      "mimetype": "text/x-python",
      "name": "python",
      "nbconvert_exporter": "python",
      "pygments_lexer": "ipython3",
      "version": "3.7.7-final"
    }
  },
  "nbformat": 4,
  "nbformat_minor": 1
}