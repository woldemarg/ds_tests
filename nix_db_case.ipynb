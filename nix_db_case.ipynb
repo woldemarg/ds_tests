{
  "cells": [
    {
      "cell_type": "code",
      "metadata": {},
      "source": [
        "import sqlite3\n",
        "import pandas as pd"
      ],
      "outputs": [],
      "execution_count": 1
    },
    {
      "cell_type": "markdown",
      "metadata": {},
      "source": [
        "## Setup dbase in RAM"
      ]
    },
    {
      "cell_type": "code",
      "metadata": {},
      "source": [
        "con = sqlite3.connect(':memory:')\n",
        "cur = con.cursor()"
      ],
      "outputs": [],
      "execution_count": 2
    },
    {
      "cell_type": "code",
      "metadata": {},
      "source": [
        "sql_dump = open(r\"db_sql\\db_dmp.sql\",\"r\")\n",
        "sql_statements = (sql_dump\n",
        "                    .read()\n",
        "                    .split(\";\"))\n",
        "sql_dump.close()\n",
        "                \n",
        "for st in sql_statements:\n",
        "    try:\n",
        "        cur.execute(st)\n",
        "    except sqlite3.Error as e:\n",
        "        print(e)              "
      ],
      "outputs": [],
      "execution_count": 3
    },
    {
      "cell_type": "markdown",
      "metadata": {},
      "source": [
        "## Check DB (get list of tables)"
      ]
    },
    {
      "cell_type": "code",
      "metadata": {},
      "source": [
        "pd.read_sql_query(\n",
        "    \"\"\" SELECT name\n",
        "        FROM sqlite_master \n",
        "        WHERE type ='table'\n",
        "        AND name NOT LIKE 'sqlite_%'; \"\"\",\n",
        "        con)"
      ],
      "outputs": [
        {
          "output_type": "execute_result",
          "data": {
            "text/plain": "        name\n0   medicine\n1  diagnosis\n2        job\n3    workers\n4   contacts",
            "text/html": "<div>\n<style scoped>\n    .dataframe tbody tr th:only-of-type {\n        vertical-align: middle;\n    }\n\n    .dataframe tbody tr th {\n        vertical-align: top;\n    }\n\n    .dataframe thead th {\n        text-align: right;\n    }\n</style>\n<table border=\"1\" class=\"dataframe\">\n  <thead>\n    <tr style=\"text-align: right;\">\n      <th></th>\n      <th>name</th>\n    </tr>\n  </thead>\n  <tbody>\n    <tr>\n      <th>0</th>\n      <td>medicine</td>\n    </tr>\n    <tr>\n      <th>1</th>\n      <td>diagnosis</td>\n    </tr>\n    <tr>\n      <th>2</th>\n      <td>job</td>\n    </tr>\n    <tr>\n      <th>3</th>\n      <td>workers</td>\n    </tr>\n    <tr>\n      <th>4</th>\n      <td>contacts</td>\n    </tr>\n  </tbody>\n</table>\n</div>"
          },
          "metadata": {},
          "execution_count": 4
        }
      ],
      "execution_count": 4
    },
    {
      "cell_type": "markdown",
      "metadata": {},
      "source": [
        "## Run queries in SQL\n",
        "a. Напишите запрос,который выводит название позиций(без повторений), хотя бы один представитель которой получает зарплату в промежутке 400-600"
      ]
    },
    {
      "cell_type": "code",
      "metadata": {},
      "source": [
        "pd.read_sql_query(\n",
        "    \"\"\" SELECT DISTINCT(POSITION)\n",
        "        FROM job\n",
        "        WHERE SALARY BETWEEN 400 AND 600; \"\"\",\n",
        "        con)"
      ],
      "outputs": [
        {
          "output_type": "execute_result",
          "data": {
            "text/plain": "                 POSITION\n0            C# DEVELOPER\n1  AUTOMATION QA ENGINEER\n2          JAVA DEVELOPER",
            "text/html": "<div>\n<style scoped>\n    .dataframe tbody tr th:only-of-type {\n        vertical-align: middle;\n    }\n\n    .dataframe tbody tr th {\n        vertical-align: top;\n    }\n\n    .dataframe thead th {\n        text-align: right;\n    }\n</style>\n<table border=\"1\" class=\"dataframe\">\n  <thead>\n    <tr style=\"text-align: right;\">\n      <th></th>\n      <th>POSITION</th>\n    </tr>\n  </thead>\n  <tbody>\n    <tr>\n      <th>0</th>\n      <td>C# DEVELOPER</td>\n    </tr>\n    <tr>\n      <th>1</th>\n      <td>AUTOMATION QA ENGINEER</td>\n    </tr>\n    <tr>\n      <th>2</th>\n      <td>JAVA DEVELOPER</td>\n    </tr>\n  </tbody>\n</table>\n</div>"
          },
          "metadata": {},
          "execution_count": 5
        }
      ],
      "execution_count": 5
    },
    {
      "cell_type": "markdown",
      "metadata": {},
      "source": [
        "b. Напишите запрос, который выполняет вывод списка офисов, расположенных в SEBEWAING и ELECTRON, количество рабочих и средней зарплаты рабочих в каждом офисе"
      ]
    },
    {
      "cell_type": "code",
      "metadata": {},
      "source": [
        "pd.read_sql_query(\n",
        "    \"\"\" SELECT OFFICE, count(WORKER_ID), avg(SALARY) as MEAN_SALARY\n",
        "        FROM job\n",
        "        WHERE OFFICE_CITY IN (\"SEBEWAING\", \"ELECTRON\")\n",
        "        GROUP BY OFFICE; \"\"\",\n",
        "        con)"
      ],
      "outputs": [
        {
          "output_type": "execute_result",
          "data": {
            "text/plain": "          OFFICE  count(WORKER_ID)  MEAN_SALARY\n0  TIME IS MONEY                 7   725.958571",
            "text/html": "<div>\n<style scoped>\n    .dataframe tbody tr th:only-of-type {\n        vertical-align: middle;\n    }\n\n    .dataframe tbody tr th {\n        vertical-align: top;\n    }\n\n    .dataframe thead th {\n        text-align: right;\n    }\n</style>\n<table border=\"1\" class=\"dataframe\">\n  <thead>\n    <tr style=\"text-align: right;\">\n      <th></th>\n      <th>OFFICE</th>\n      <th>count(WORKER_ID)</th>\n      <th>MEAN_SALARY</th>\n    </tr>\n  </thead>\n  <tbody>\n    <tr>\n      <th>0</th>\n      <td>TIME IS MONEY</td>\n      <td>7</td>\n      <td>725.958571</td>\n    </tr>\n  </tbody>\n</table>\n</div>"
          },
          "metadata": {},
          "execution_count": 6
        }
      ],
      "execution_count": 6
    },
    {
      "cell_type": "markdown",
      "metadata": {},
      "source": [
        "c. Напишите запрос, который выводит название профессий (без повторений), все представители которой получают зарплату в промежутке 400-700"
      ]
    },
    {
      "cell_type": "code",
      "metadata": {},
      "source": [
        "pd.read_sql_query(\n",
        "    \"\"\" SELECT DISTINCT(POSITION)\n",
        "        FROM job\n",
        "        WHERE POSITION NOT IN\n",
        "            (SELECT POSITION\n",
        "            FROM job\n",
        "            WHERE SALARY NOT BETWEEN 400 AND 700); \"\"\",\n",
        "        con)"
      ],
      "outputs": [
        {
          "output_type": "execute_result",
          "data": {
            "text/plain": "                 POSITION\n0  AUTOMATION QA ENGINEER\n1          JAVA DEVELOPER",
            "text/html": "<div>\n<style scoped>\n    .dataframe tbody tr th:only-of-type {\n        vertical-align: middle;\n    }\n\n    .dataframe tbody tr th {\n        vertical-align: top;\n    }\n\n    .dataframe thead th {\n        text-align: right;\n    }\n</style>\n<table border=\"1\" class=\"dataframe\">\n  <thead>\n    <tr style=\"text-align: right;\">\n      <th></th>\n      <th>POSITION</th>\n    </tr>\n  </thead>\n  <tbody>\n    <tr>\n      <th>0</th>\n      <td>AUTOMATION QA ENGINEER</td>\n    </tr>\n    <tr>\n      <th>1</th>\n      <td>JAVA DEVELOPER</td>\n    </tr>\n  </tbody>\n</table>\n</div>"
          },
          "metadata": {},
          "execution_count": 7
        }
      ],
      "execution_count": 7
    },
    {
      "cell_type": "markdown",
      "metadata": {},
      "source": [
        "d. Напишите запрос, который выводит среднюю зарплату работников, которые старше 30 лет, группируя по полу и возрасту, но при выводе увеличивающий данные о величине зарплаты на 20%"
      ]
    },
    {
      "cell_type": "code",
      "metadata": {},
      "source": [
        "pd.read_sql_query(\n",
        "    \"\"\" SELECT  substr(date(),1,4) - 19||substr(DOB,8,2) AS AGE,\n",
        "                GENDER,\n",
        "                AVG(SALARY) * 1.2 AS AVG_SALARY_UP\n",
        "        FROM workers t1\n",
        "        INNER JOIN job t2\n",
        "        ON t1.WORKER_ID = t2.WORKER_ID\n",
        "        WHERE AGE > 30\n",
        "        GROUP BY AGE, GENDER; \"\"\",\n",
        "        con)"
      ],
      "outputs": [
        {
          "output_type": "execute_result",
          "data": {
            "text/plain": "   AGE GENDER  AVG_SALARY_UP\n0   34      F       1052.370\n1   34      M        691.544\n2   35      F       1175.004\n3   39      F        665.244",
            "text/html": "<div>\n<style scoped>\n    .dataframe tbody tr th:only-of-type {\n        vertical-align: middle;\n    }\n\n    .dataframe tbody tr th {\n        vertical-align: top;\n    }\n\n    .dataframe thead th {\n        text-align: right;\n    }\n</style>\n<table border=\"1\" class=\"dataframe\">\n  <thead>\n    <tr style=\"text-align: right;\">\n      <th></th>\n      <th>AGE</th>\n      <th>GENDER</th>\n      <th>AVG_SALARY_UP</th>\n    </tr>\n  </thead>\n  <tbody>\n    <tr>\n      <th>0</th>\n      <td>34</td>\n      <td>F</td>\n      <td>1052.370</td>\n    </tr>\n    <tr>\n      <th>1</th>\n      <td>34</td>\n      <td>M</td>\n      <td>691.544</td>\n    </tr>\n    <tr>\n      <th>2</th>\n      <td>35</td>\n      <td>F</td>\n      <td>1175.004</td>\n    </tr>\n    <tr>\n      <th>3</th>\n      <td>39</td>\n      <td>F</td>\n      <td>665.244</td>\n    </tr>\n  </tbody>\n</table>\n</div>"
          },
          "metadata": {},
          "execution_count": 8
        }
      ],
      "execution_count": 8
    },
    {
      "cell_type": "markdown",
      "metadata": {},
      "source": [
        "e. Напишите запрос, который выведет накопленную зарплату по месяцам для Николы Теслы начиная с его приему на работу до сегодняшнего дня."
      ]
    },
    {
      "cell_type": "code",
      "execution_count": 9,
      "metadata": {},
      "outputs": [
        {
          "output_type": "execute_result",
          "data": {
            "text/plain": "    year_month  CUM_SALARY\n0      2009-06      621.44\n1      2009-07     1242.88\n2      2009-08     1864.32\n3      2009-09     2485.76\n4      2009-10     3107.20\n..         ...         ...\n127    2020-01    79544.32\n128    2020-02    80165.76\n129    2020-03    80787.20\n130    2020-04    81408.64\n131    2020-05    82030.08\n\n[132 rows x 2 columns]",
            "text/html": "<div>\n<style scoped>\n    .dataframe tbody tr th:only-of-type {\n        vertical-align: middle;\n    }\n\n    .dataframe tbody tr th {\n        vertical-align: top;\n    }\n\n    .dataframe thead th {\n        text-align: right;\n    }\n</style>\n<table border=\"1\" class=\"dataframe\">\n  <thead>\n    <tr style=\"text-align: right;\">\n      <th></th>\n      <th>year_month</th>\n      <th>CUM_SALARY</th>\n    </tr>\n  </thead>\n  <tbody>\n    <tr>\n      <th>0</th>\n      <td>2009-06</td>\n      <td>621.44</td>\n    </tr>\n    <tr>\n      <th>1</th>\n      <td>2009-07</td>\n      <td>1242.88</td>\n    </tr>\n    <tr>\n      <th>2</th>\n      <td>2009-08</td>\n      <td>1864.32</td>\n    </tr>\n    <tr>\n      <th>3</th>\n      <td>2009-09</td>\n      <td>2485.76</td>\n    </tr>\n    <tr>\n      <th>4</th>\n      <td>2009-10</td>\n      <td>3107.20</td>\n    </tr>\n    <tr>\n      <th>...</th>\n      <td>...</td>\n      <td>...</td>\n    </tr>\n    <tr>\n      <th>127</th>\n      <td>2020-01</td>\n      <td>79544.32</td>\n    </tr>\n    <tr>\n      <th>128</th>\n      <td>2020-02</td>\n      <td>80165.76</td>\n    </tr>\n    <tr>\n      <th>129</th>\n      <td>2020-03</td>\n      <td>80787.20</td>\n    </tr>\n    <tr>\n      <th>130</th>\n      <td>2020-04</td>\n      <td>81408.64</td>\n    </tr>\n    <tr>\n      <th>131</th>\n      <td>2020-05</td>\n      <td>82030.08</td>\n    </tr>\n  </tbody>\n</table>\n<p>132 rows × 2 columns</p>\n</div>"
          },
          "metadata": {},
          "execution_count": 9
        }
      ],
      "source": [
        "pd.read_sql_query(\"\"\"\n",
        "WITH RECURSIVE dates AS\n",
        "  (SELECT min(CASE substr(FROM_DATE, 4, 3)\n",
        "                  WHEN 'Jan' THEN 20||substr(FROM_DATE, 8, 2)||'-01'\n",
        "                  WHEN 'Feb' THEN 20||substr(FROM_DATE, 8, 2)||'-02'\n",
        "                  WHEN 'Mar' THEN 20||substr(FROM_DATE, 8, 2)||'-03'\n",
        "                  WHEN 'Apr' THEN 20||substr(FROM_DATE, 8, 2)||'-04'\n",
        "                  WHEN 'May' THEN 20||substr(FROM_DATE, 8, 2)||'-05'\n",
        "                  WHEN 'Jun' THEN 20||substr(FROM_DATE, 8, 2)||'-06'\n",
        "                  WHEN 'Jul' THEN 20||substr(FROM_DATE, 8, 2)||'-07'\n",
        "                  WHEN 'Aug' THEN 20||substr(FROM_DATE, 8, 2)||'-08'\n",
        "                  WHEN 'Sep' THEN 20||substr(FROM_DATE, 8, 2)||'-09'\n",
        "                  WHEN 'Oct' THEN 20||substr(FROM_DATE, 8, 2)||'-10'\n",
        "                  WHEN 'Nov' THEN 20||substr(FROM_DATE, 8, 2)||'-11'\n",
        "                  WHEN 'Dec' THEN 20||substr(FROM_DATE, 8, 2)||'-12'\n",
        "              END) AS year_month\n",
        "   FROM job\n",
        "   UNION ALL SELECT strftime('%Y-%m', date(year_month||'-01', '+1 month'))\n",
        "   FROM dates\n",
        "   WHERE year_month < date('now', '-1 month'))\n",
        "SELECT year_month,\n",
        "       SUM(SALARY) OVER (ROWS UNBOUNDED PRECEDING) AS CUM_SALARY\n",
        "FROM\n",
        "  (SELECT year_month,\n",
        "          SALARY\n",
        "   FROM dates\n",
        "   INNER JOIN\n",
        "     (SELECT SALARY,\n",
        "             CASE substr(FROM_DATE, 4, 3)\n",
        "                 WHEN 'Jan' THEN 20||substr(FROM_DATE, 8, 2)||'-01'\n",
        "                 WHEN 'Feb' THEN 20||substr(FROM_DATE, 8, 2)||'-02'\n",
        "                 WHEN 'Mar' THEN 20||substr(FROM_DATE, 8, 2)||'-03'\n",
        "                 WHEN 'Apr' THEN 20||substr(FROM_DATE, 8, 2)||'-04'\n",
        "                 WHEN 'May' THEN 20||substr(FROM_DATE, 8, 2)||'-05'\n",
        "                 WHEN 'Jun' THEN 20||substr(FROM_DATE, 8, 2)||'-06'\n",
        "                 WHEN 'Jul' THEN 20||substr(FROM_DATE, 8, 2)||'-07'\n",
        "                 WHEN 'Aug' THEN 20||substr(FROM_DATE, 8, 2)||'-08'\n",
        "                 WHEN 'Sep' THEN 20||substr(FROM_DATE, 8, 2)||'-09'\n",
        "                 WHEN 'Oct' THEN 20||substr(FROM_DATE, 8, 2)||'-10'\n",
        "                 WHEN 'Nov' THEN 20||substr(FROM_DATE, 8, 2)||'-11'\n",
        "                 WHEN 'Dec' THEN 20||substr(FROM_DATE, 8, 2)||'-12'\n",
        "             END AS start_date\n",
        "      FROM job t1\n",
        "      INNER JOIN workers t2 ON t1.WORKER_ID = t2.WORKER_ID\n",
        "      WHERE FIRST_NAME = 'NIKOLA'\n",
        "        AND LAST_NAME = 'TESLA') t3 ON t3.start_date <= dates.year_month);\n",
        "        \"\"\", con)"
      ]
    },
    {
      "cell_type": "markdown",
      "metadata": {},
      "source": [
        "f. Напишите запрос, который выведет накопленную зарплату по месяцам, разбитую по позициям, за 2014 год"
      ]
    },
    {
      "cell_type": "code",
      "execution_count": 10,
      "metadata": {},
      "outputs": [
        {
          "output_type": "execute_result",
          "data": {
            "text/plain": "   year_month                POSITION  CUM_SALARY\n0     2014-01  AUTOMATION QA ENGINEER     2849.37\n1     2014-02  AUTOMATION QA ENGINEER     5698.74\n2     2014-03  AUTOMATION QA ENGINEER     8548.11\n3     2014-04  AUTOMATION QA ENGINEER    11397.48\n4     2014-05  AUTOMATION QA ENGINEER    14246.85\n..        ...                     ...         ...\n79    2014-08            WEB DESIGNER    16993.60\n80    2014-09            WEB DESIGNER    19117.80\n81    2014-10            WEB DESIGNER    21242.00\n82    2014-11            WEB DESIGNER    23366.20\n83    2014-12            WEB DESIGNER    25490.40\n\n[84 rows x 3 columns]",
            "text/html": "<div>\n<style scoped>\n    .dataframe tbody tr th:only-of-type {\n        vertical-align: middle;\n    }\n\n    .dataframe tbody tr th {\n        vertical-align: top;\n    }\n\n    .dataframe thead th {\n        text-align: right;\n    }\n</style>\n<table border=\"1\" class=\"dataframe\">\n  <thead>\n    <tr style=\"text-align: right;\">\n      <th></th>\n      <th>year_month</th>\n      <th>POSITION</th>\n      <th>CUM_SALARY</th>\n    </tr>\n  </thead>\n  <tbody>\n    <tr>\n      <th>0</th>\n      <td>2014-01</td>\n      <td>AUTOMATION QA ENGINEER</td>\n      <td>2849.37</td>\n    </tr>\n    <tr>\n      <th>1</th>\n      <td>2014-02</td>\n      <td>AUTOMATION QA ENGINEER</td>\n      <td>5698.74</td>\n    </tr>\n    <tr>\n      <th>2</th>\n      <td>2014-03</td>\n      <td>AUTOMATION QA ENGINEER</td>\n      <td>8548.11</td>\n    </tr>\n    <tr>\n      <th>3</th>\n      <td>2014-04</td>\n      <td>AUTOMATION QA ENGINEER</td>\n      <td>11397.48</td>\n    </tr>\n    <tr>\n      <th>4</th>\n      <td>2014-05</td>\n      <td>AUTOMATION QA ENGINEER</td>\n      <td>14246.85</td>\n    </tr>\n    <tr>\n      <th>...</th>\n      <td>...</td>\n      <td>...</td>\n      <td>...</td>\n    </tr>\n    <tr>\n      <th>79</th>\n      <td>2014-08</td>\n      <td>WEB DESIGNER</td>\n      <td>16993.60</td>\n    </tr>\n    <tr>\n      <th>80</th>\n      <td>2014-09</td>\n      <td>WEB DESIGNER</td>\n      <td>19117.80</td>\n    </tr>\n    <tr>\n      <th>81</th>\n      <td>2014-10</td>\n      <td>WEB DESIGNER</td>\n      <td>21242.00</td>\n    </tr>\n    <tr>\n      <th>82</th>\n      <td>2014-11</td>\n      <td>WEB DESIGNER</td>\n      <td>23366.20</td>\n    </tr>\n    <tr>\n      <th>83</th>\n      <td>2014-12</td>\n      <td>WEB DESIGNER</td>\n      <td>25490.40</td>\n    </tr>\n  </tbody>\n</table>\n<p>84 rows × 3 columns</p>\n</div>"
          },
          "metadata": {},
          "execution_count": 10
        }
      ],
      "source": [
        "pd.read_sql_query(\"\"\"\n",
        "WITH RECURSIVE dates AS\n",
        "  (SELECT '2014-01' AS year_month\n",
        "   UNION ALL SELECT strftime('%Y-%m', date(year_month||'-01', '+1 month'))\n",
        "   FROM dates\n",
        "   WHERE year_month < date('2014-12-01', '-1 month'))\n",
        "SELECT year_month,\n",
        "       POSITION,\n",
        "       SUM(SUM_SALARY) OVER (PARTITION BY POSITION\n",
        "                             ORDER BY year_month) AS CUM_SALARY\n",
        "FROM\n",
        "  (SELECT year_month,\n",
        "          POSITION,\n",
        "          SUM_SALARY\n",
        "   FROM dates\n",
        "   INNER JOIN\n",
        "     (SELECT POSITION,\n",
        "             SUM(SALARY) AS SUM_SALARY,\n",
        "             '2014-01' AS mon\n",
        "      FROM job\n",
        "      GROUP BY POSITION) t1 ON dates.year_month >= t1.mon);\n",
        "      \"\"\", con)"
      ]
    }
  ],
  "metadata": {
    "anaconda-cloud": {},
    "kernelspec": {
      "display_name": "Python 3",
      "language": "python",
      "name": "python3"
    },
    "language_info": {
      "codemirror_mode": {
        "name": "ipython",
        "version": 3
      },
      "file_extension": ".py",
      "mimetype": "text/x-python",
      "name": "python",
      "nbconvert_exporter": "python",
      "pygments_lexer": "ipython3",
      "version": "3.7.7-final"
    }
  },
  "nbformat": 4,
  "nbformat_minor": 1
}