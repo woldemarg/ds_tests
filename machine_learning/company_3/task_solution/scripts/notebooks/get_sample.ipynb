{
  "cells": [
    {
      "cell_type": "code",
      "metadata": {},
      "source": [
        "import pandas as pd\n",
        "from sklearn.model_selection import StratifiedShuffleSplit"
      ],
      "outputs": [],
      "execution_count": null
    },
    {
      "cell_type": "code",
      "metadata": {},
      "source": [
        "train_df = (pd.read_csv(\"machine_learning/company_3/task_solution/data/train_df.csv\",\n",
        "                        sep=\"\\t\",\n",
        "                        index_col=0)\n",
        "            .reset_index(drop=True))"
      ],
      "outputs": [],
      "execution_count": null
    },
    {
      "cell_type": "code",
      "metadata": {},
      "source": [
        "train_df[\"gb\"].value_counts()"
      ],
      "outputs": [],
      "execution_count": null
    },
    {
      "cell_type": "code",
      "metadata": {},
      "source": [
        "strata_split = StratifiedShuffleSplit(n_splits=1,\n",
        "                                      test_size=0.25,\n",
        "                                      random_state=1234)\n",
        "\n",
        "for train_idx, test_idx in strata_split.split(train_df,\n",
        "                                              train_df[\"gb\"]):\n",
        "    strata_sample = train_df.reindex(test_idx)"
      ],
      "outputs": [],
      "execution_count": null
    },
    {
      "cell_type": "code",
      "metadata": {},
      "source": [
        "strata_sample[\"gb\"].value_counts()"
      ],
      "outputs": [],
      "execution_count": null
    },
    {
      "cell_type": "code",
      "metadata": {},
      "source": [
        "strata_sample.to_csv(\"machine_learning/company_3/task_solution/derived/sample.csv\",\n",
        "                    index=False)\n"
      ],
      "outputs": [],
      "execution_count": null
    }
  ],
  "metadata": {
    "anaconda-cloud": {},
    "kernelspec": {
      "display_name": "Python 3",
      "language": "python",
      "name": "python3"
    },
    "language_info": {
      "codemirror_mode": {
        "name": "ipython",
        "version": 3
      },
      "file_extension": ".py",
      "mimetype": "text/x-python",
      "name": "python",
      "nbconvert_exporter": "python",
      "pygments_lexer": "ipython3",
      "version": "3.6.1"
    }
  },
  "nbformat": 4,
  "nbformat_minor": 1
}