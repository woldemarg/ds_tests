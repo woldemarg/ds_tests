{
  "cells": [
    {
      "cell_type": "code",
      "metadata": {},
      "source": [
        "import sys\n",
        "sys.path.append(\"machine_learning/company_3/task_solution/scripts\")\n",
        "\n",
        "import pandas as pd\n",
        "import joblib\n",
        "import matplotlib.pyplot as plt\n",
        "import transformers as tr\n",
        "\n",
        "from sklearn.model_selection import GridSearchCV\n",
        "from sklearn.model_selection import learning_curve"
      ],
      "outputs": [],
      "execution_count": null
    },
    {
      "cell_type": "code",
      "metadata": {},
      "source": [
        "sample = (pd.read_csv(\"machine_learning/company_3/task_solution/derived/sample.csv\")\n",
        "          .drop([\"id\"], axis=1))"
      ],
      "outputs": [],
      "execution_count": null
    },
    {
      "cell_type": "code",
      "metadata": {},
      "source": [
        "cat_cols = sample.columns[sample.columns.str.startswith(\"cat\")]\n",
        "sample.loc[:, cat_cols] = sample[cat_cols].astype(str)"
      ],
      "outputs": [],
      "execution_count": null
    },
    {
      "cell_type": "code",
      "metadata": {},
      "source": [
        "y_sample = sample[\"gb\"]\n",
        "X_sample = sample.copy()"
      ],
      "outputs": [],
      "execution_count": null
    },
    {
      "cell_type": "code",
      "metadata": {},
      "source": [
        "model_pipe = joblib.load(\"machine_learning/company_3/task_solution/derived/model_pipe.sav\")"
      ],
      "outputs": [],
      "execution_count": null
    },
    {
      "cell_type": "code",
      "metadata": {},
      "source": [
        "param_grid = {\"xgb_model__n_estimators\": [500, 750, 1000],\n",
        "              \"xgb_model__learning_rate\": [0.001, 0.01, 0.1]}\n",
        "\n",
        "search_cv = GridSearchCV(model_pipe,\n",
        "                         param_grid=param_grid,\n",
        "                         scoring=\"roc_auc\",\n",
        "                         n_jobs=-1)\n",
        "\n",
        "search_cv.fit(X_sample, y_sample)\n",
        "\n",
        "print(\"Best ROC-AUC on CV: {}:\".format(search_cv.best_score_))\n",
        "print(search_cv.best_params_)"
      ],
      "outputs": [],
      "execution_count": null
    },
    {
      "cell_type": "code",
      "metadata": {},
      "source": [
        "model_pipe.set_params(xgb_model__n_estimators=1000,\n",
        "                      xgb_model__learning_rate=0.1)"
      ],
      "outputs": [],
      "execution_count": null
    },
    {
      "cell_type": "code",
      "metadata": {},
      "source": [
        "train_sizes, train_scores, validation_scores = learning_curve(\n",
        "    estimator=model_pipe,\n",
        "    X=X_sample,\n",
        "    y=y_sample,\n",
        "    scoring=\"roc_auc\",\n",
        "    n_jobs=-1,\n",
        "    random_state=1234)\n",
        "\n",
        "train_scores_mean = train_scores.mean(axis=1)\n",
        "validation_scores_mean = validation_scores.mean(axis=1)\n",
        "\n",
        "plt.figure()\n",
        "plt.plot(train_sizes,\n",
        "         train_scores_mean,\n",
        "         label=\"train\")\n",
        "plt.plot(train_sizes,\n",
        "         validation_scores_mean,\n",
        "         label=\"test\")\n",
        "plt.legend()\n",
        "plt.xlabel(\"training set size\")\n",
        "plt.ylabel(\"ROC-AUC\")\n",
        "plt.ylim(0.8, 1.05)\n",
        "plt.show()\n",
        "\n",
        "plt.savefig(\"machine_learning/company_3/task_solution/derived/model_learning_curve.png\")"
      ],
      "outputs": [],
      "execution_count": null
    },
    {
      "cell_type": "code",
      "metadata": {},
      "source": [
        "joblib.dump(model_pipe, \"machine_learning/company_3/task_solution/results/model_pipe_tuned.sav\")\n"
      ],
      "outputs": [],
      "execution_count": null
    }
  ],
  "metadata": {
    "anaconda-cloud": {},
    "kernelspec": {
      "display_name": "Python 3",
      "language": "python",
      "name": "python3"
    },
    "language_info": {
      "codemirror_mode": {
        "name": "ipython",
        "version": 3
      },
      "file_extension": ".py",
      "mimetype": "text/x-python",
      "name": "python",
      "nbconvert_exporter": "python",
      "pygments_lexer": "ipython3",
      "version": "3.6.1"
    }
  },
  "nbformat": 4,
  "nbformat_minor": 1
}