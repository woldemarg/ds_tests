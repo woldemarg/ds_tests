{
 "cells": [
  {
   "cell_type": "code",
   "execution_count": 1,
   "metadata": {},
   "outputs": [],
   "source": [
    "import tempfile\n",
    "import urllib.request\n",
    "\n",
    "import sys\n",
    "sys.path.append(\"../\")\n",
    "\n",
    "import pandas as pd\n",
    "import joblib\n",
    "\n",
    "%matplotlib inline\n",
    "import matplotlib.pyplot as plt\n",
    "\n",
    "import transformers as tr #custom ad-hoc classes for pipeline\n",
    "\n",
    "from sklearn.model_selection import GridSearchCV\n",
    "from sklearn.model_selection import learning_curve"
   ]
  },
  {
   "cell_type": "markdown",
   "metadata": {},
   "source": [
    "## Reading and preparing stratified sample\n",
    "from [notebook](https://github.com/woldemarg/ds_tests/blob/master/machine_learning/company_3/task_solution/scripts/notebooks/get_sample.ipynb)"
   ]
  },
  {
   "cell_type": "code",
   "execution_count": 2,
   "metadata": {},
   "outputs": [],
   "source": [
    "sample = (pd.read_csv(\"https://raw.githubusercontent.com/woldemarg/ds_tests/master/machine_learning/company_3/task_solution/derived/sample.csv\")\n",
    "          .drop([\"id\"], axis=1))"
   ]
  },
  {
   "cell_type": "code",
   "execution_count": 3,
   "metadata": {},
   "outputs": [],
   "source": [
    "cat_cols = sample.columns[sample.columns.str.startswith(\"cat\")]\n",
    "sample.loc[:, cat_cols] = sample[cat_cols].astype(str)"
   ]
  },
  {
   "cell_type": "code",
   "execution_count": 4,
   "metadata": {},
   "outputs": [],
   "source": [
    "y_sample = sample[\"gb\"]\n",
    "X_sample = sample.copy()"
   ]
  },
  {
   "cell_type": "markdown",
   "metadata": {},
   "source": [
    "## Reading base pipeline\n",
    "from [notebook](https://github.com/woldemarg/ds_tests/blob/master/machine_learning/company_3/task_solution/scripts/notebooks/model_pipeline.ipynb)"
   ]
  },
  {
   "cell_type": "code",
   "execution_count": 5,
   "metadata": {},
   "outputs": [],
   "source": [
    "temp_dir_path = tempfile.mkstemp()\n",
    "file_path = (urllib\n",
    "             .request\n",
    "             .urlretrieve(\"https://github.com/woldemarg/ds_tests/raw/master/machine_learning/company_3/task_solution/derived/model_pipe.sav\",\n",
    "                          temp_dir_path[1]))\n",
    "\n",
    "model_pipe = joblib.load(file_path[0])"
   ]
  },
  {
   "cell_type": "markdown",
   "metadata": {},
   "source": [
    "## Implementing illustrative grid search with pipeline\n",
    "pipeline from [notebook](https://github.com/woldemarg/ds_tests/blob/master/machine_learning/company_3/task_solution/scripts/notebooks/model_pipeline.ipynb)"
   ]
  },
  {
   "cell_type": "code",
   "execution_count": 6,
   "metadata": {},
   "outputs": [
    {
     "name": "stdout",
     "output_type": "stream",
     "text": [
      "Best ROC-AUC on CV: 0.9143318376113612:\n",
      "{'xgb_model__learning_rate': 0.1, 'xgb_model__n_estimators': 1000}\n"
     ]
    }
   ],
   "source": [
    "param_grid = {\"xgb_model__n_estimators\": [500, 750, 1000],\n",
    "              \"xgb_model__learning_rate\": [0.001, 0.01, 0.1]}\n",
    "\n",
    "search_cv = GridSearchCV(model_pipe,\n",
    "                         param_grid=param_grid,\n",
    "                         scoring=\"roc_auc\",\n",
    "                         n_jobs=-1)\n",
    "\n",
    "search_cv.fit(X_sample, y_sample)\n",
    "\n",
    "print(\"Best ROC-AUC on CV: {}:\".format(search_cv.best_score_))\n",
    "print(search_cv.best_params_)"
   ]
  },
  {
   "cell_type": "code",
   "execution_count": 7,
   "metadata": {},
   "outputs": [
    {
     "data": {
      "text/plain": [
       "Pipeline(memory=None,\n",
       "         steps=[('f_selection',\n",
       "                 Pipeline(memory=None,\n",
       "                          steps=[('drop_initial',\n",
       "                                  <transformers.DropColumnsTransformer object at 0x000001BFDDE81B48>),\n",
       "                                 ('impute_cats',\n",
       "                                  <transformers.CustomImputer object at 0x000001BFDDE81788>),\n",
       "                                 ('impute_nums',\n",
       "                                  <transformers.CustomImputer object at 0x000001BFDDE81E48>),\n",
       "                                 ('encode_oh',\n",
       "                                  <transformers.CustomOHEncoder object at 0x0000...\n",
       "                               colsample_bylevel=1, colsample_bynode=1,\n",
       "                               colsample_bytree=1, gamma=0, learning_rate=0.1,\n",
       "                               max_delta_step=0, max_depth=3,\n",
       "                               min_child_weight=1, missing=nan,\n",
       "                               n_estimators=1000, n_jobs=-1, nthread=None,\n",
       "                               objective='binary:logistic', random_state=1234,\n",
       "                               reg_alpha=0, reg_lambda=1,\n",
       "                               scale_pos_weight=44.45762711864407, seed=None,\n",
       "                               silent=None, subsample=1, verbosity=1))],\n",
       "         verbose=False)"
      ]
     },
     "execution_count": 7,
     "metadata": {},
     "output_type": "execute_result"
    }
   ],
   "source": [
    "model_pipe.set_params(xgb_model__n_estimators=1000,\n",
    "                      xgb_model__learning_rate=0.1)"
   ]
  },
  {
   "cell_type": "markdown",
   "metadata": {},
   "source": [
    "Hmm... Pretty close to defaults with *the bigger, the better*-logic as to the number of estimators! It seems like we ended up with a mild rise in ROC-AUC score: **0,91**.  "
   ]
  },
  {
   "cell_type": "markdown",
   "metadata": {},
   "source": [
    "## Drawing learning curves"
   ]
  },
  {
   "cell_type": "code",
   "execution_count": 8,
   "metadata": {},
   "outputs": [
    {
     "data": {
      "text/plain": [
       "(0.8, 1.05)"
      ]
     },
     "execution_count": 8,
     "metadata": {},
     "output_type": "execute_result"
    },
    {
     "data": {
      "image/png": "[encoded data removed]",
      "text/plain": [
       "<Figure size 432x288 with 1 Axes>"
      ]
     },
     "metadata": {},
     "output_type": "display_data"
    }
   ],
   "source": [
    "train_sizes, train_scores, validation_scores = learning_curve(\n",
    "    estimator=model_pipe,\n",
    "    X=X_sample,\n",
    "    y=y_sample,\n",
    "    scoring=\"roc_auc\",\n",
    "    n_jobs=-1,\n",
    "    random_state=1234)\n",
    "\n",
    "train_scores_mean = train_scores.mean(axis=1)\n",
    "validation_scores_mean = validation_scores.mean(axis=1)\n",
    "\n",
    "plt.plot(train_sizes,\n",
    "         train_scores_mean,\n",
    "         label=\"train\")\n",
    "plt.plot(train_sizes,\n",
    "         validation_scores_mean,\n",
    "         label=\"test\")\n",
    "plt.legend()\n",
    "plt.xlabel(\"training set size\")\n",
    "plt.ylabel(\"ROC-AUC\")\n",
    "plt.ylim(0.8, 1.05)\n",
    "\n",
    "# plt.savefig(\"machine_learning/company_3/task_solution/derived/model_learning_curve.png\")"
   ]
  },
  {
   "cell_type": "markdown",
   "metadata": {},
   "source": [
    "The plot suggests that validation (test) curve could converge towards the training curve if more training instances were added. Luckily we have them to train our model! - see [next notebook](https://github.com/woldemarg/ds_tests/blob/master/machine_learning/company_3/task_solution/scripts/notebooks/pipeline_predict.ipynb)\n"
   ]
  },
  {
   "cell_type": "code",
   "execution_count": 9,
   "metadata": {},
   "outputs": [],
   "source": [
    "# joblib.dump(model_pipe, \"machine_learning/company_3/task_solution/results/model_pipe_tuned.sav\")"
   ]
  }
 ],
 "metadata": {
  "anaconda-cloud": {},
  "kernelspec": {
   "display_name": "Python 3 (Spyder)",
   "language": "python3",
   "name": "python3"
  },
  "language_info": {
   "codemirror_mode": {
    "name": "ipython",
    "version": 3
   },
   "file_extension": ".py",
   "mimetype": "text/x-python",
   "name": "python",
   "nbconvert_exporter": "python",
   "pygments_lexer": "ipython3",
   "version": "3.7.7"
  }
 },
 "nbformat": 4,
 "nbformat_minor": 1
}
