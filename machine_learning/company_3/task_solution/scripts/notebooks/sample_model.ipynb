{
  "cells": [
    {
      "cell_type": "code",
      "metadata": {},
      "source": [
        "import numpy as np\n",
        "import pandas as pd\n",
        "import joblib\n",
        "\n",
        "from xgboost import XGBClassifier\n",
        "from sklearn.metrics import roc_auc_score\n",
        "from sklearn.metrics import confusion_matrix\n",
        "from sklearn.model_selection import train_test_split"
      ],
      "outputs": [],
      "execution_count": null
    },
    {
      "cell_type": "code",
      "metadata": {},
      "source": [
        "sample = (pd.read_csv(\"machine_learning/company_3/task_solution/derived/sample.csv\")\n",
        "          .drop([\"id\"], axis=1))\n",
        "\n",
        "y_sample = sample[\"gb\"]\n",
        "X_sample = sample.copy()"
      ],
      "outputs": [],
      "execution_count": null
    },
    {
      "cell_type": "code",
      "metadata": {},
      "source": [
        "X_train, X_test, y_train, y_test = train_test_split(X_sample,\n",
        "                                                    y_sample,\n",
        "                                                    test_size=0.2,\n",
        "                                                    random_state=1234,\n",
        "                                                    stratify=y_sample)"
      ],
      "outputs": [],
      "execution_count": null
    },
    {
      "cell_type": "code",
      "metadata": {},
      "source": [
        "th_nans = 0.35\n",
        "th_high_cardinality = 10\n",
        "th_low_variance = 0.1\n",
        "th_corr = 0.05"
      ],
      "outputs": [],
      "execution_count": null
    },
    {
      "cell_type": "code",
      "metadata": {},
      "source": [
        "cols_nans = (X_train\n",
        "            .columns[X_train.isna().mean() > th_nans]\n",
        "            .tolist())"
      ],
      "outputs": [],
      "execution_count": null
    },
    {
      "cell_type": "code",
      "metadata": {},
      "source": [
        "cats = X_train.columns[X_train.columns.str.startswith(\"cat\")]\n",
        "\n",
        "X_train.loc[:, cats] = X_train[cats].astype(str)\n",
        "X_test.loc[:, cats] = X_test[cats].astype(str)"
      ],
      "outputs": [],
      "execution_count": null
    },
    {
      "cell_type": "code",
      "metadata": {},
      "source": [
        "cols_high_cardinality = (cats[X_train[cats]\n",
        "                              .nunique() > th_high_cardinality]\n",
        "                         .tolist())"
      ],
      "outputs": [],
      "execution_count": null
    },
    {
      "cell_type": "code",
      "metadata": {},
      "source": [
        "cols_to_drop_init = list(set(cols_nans) | set(cols_high_cardinality))"
      ],
      "outputs": [],
      "execution_count": null
    },
    {
      "cell_type": "code",
      "metadata": {},
      "source": [
        "X_train = X_train.drop(cols_to_drop_init, axis=1)\n",
        "X_test = X_test.drop(cols_to_drop_init, axis=1)"
      ],
      "outputs": [],
      "execution_count": null
    },
    {
      "cell_type": "code",
      "metadata": {},
      "source": [
        "cats_left = X_train.select_dtypes(include=\"object\").columns.tolist()\n",
        "nums_left = X_train.select_dtypes(include=np.number).columns.tolist()"
      ],
      "outputs": [],
      "execution_count": null
    },
    {
      "cell_type": "code",
      "metadata": {},
      "source": [
        "X_train.loc[:, cats_left] = (X_train[cats_left]\n",
        "                             .fillna(X_train[cats_left].mode()))\n",
        "\n",
        "X_test.loc[:, cats_left] = (X_test[cats_left]\n",
        "                             .fillna(X_train[cats_left].mode()))"
      ],
      "outputs": [],
      "execution_count": null
    },
    {
      "cell_type": "code",
      "metadata": {},
      "source": [
        "X_train.loc[:, nums_left] = (X_train[nums_left]\n",
        "                             .fillna(X_train[nums_left].mean()))\n",
        "\n",
        "X_test.loc[:, nums_left] = (X_test[nums_left]\n",
        "                             .fillna(X_train[nums_left].mean()))"
      ],
      "outputs": [],
      "execution_count": null
    },
    {
      "cell_type": "code",
      "metadata": {},
      "source": [
        "print(X_train.isna().sum().sum())\n",
        "print(X_test.isna().sum().sum())"
      ],
      "outputs": [],
      "execution_count": null
    },
    {
      "cell_type": "code",
      "metadata": {},
      "source": [
        "X_train = pd.get_dummies(X_train)\n",
        "X_test = pd.get_dummies(X_test)\n",
        "\n",
        "X_train, X_test = X_train.align(X_test,\n",
        "                                join=\"left\",\n",
        "                                axis=1,\n",
        "                                fill_value=0)"
      ],
      "outputs": [],
      "execution_count": null
    },
    {
      "cell_type": "code",
      "metadata": {},
      "source": [
        "cols_low_std = (X_train\n",
        "                .columns[(X_train.std() < th_low_variance) &\n",
        "                         (X_train.columns != \"gb\")]\n",
        "                .tolist())"
      ],
      "outputs": [],
      "execution_count": null
    },
    {
      "cell_type": "code",
      "metadata": {},
      "source": [
        "cols_low_corr = (X_train\n",
        "                .columns[(X_train.corr().abs()[\"gb\"] < th_corr) &\n",
        "                         (X_train.columns != \"gb\")]\n",
        "                .tolist())"
      ],
      "outputs": [],
      "execution_count": null
    },
    {
      "cell_type": "code",
      "metadata": {},
      "source": [
        "cols_to_drop_final = list(set(cols_low_std) | set(cols_low_corr))\n",
        "cols_to_drop_final.append(\"gb\")"
      ],
      "outputs": [],
      "execution_count": null
    },
    {
      "cell_type": "code",
      "metadata": {},
      "source": [
        "X_train = X_train.drop(cols_to_drop_final, axis=1)\n",
        "X_test = X_test.drop(cols_to_drop_final, axis=1)"
      ],
      "outputs": [],
      "execution_count": null
    },
    {
      "cell_type": "code",
      "metadata": {},
      "source": [
        "target = y_train.value_counts()\n",
        "spw = target[0] / target[1]\n",
        "\n",
        "xgb_model = XGBClassifier(random_state=1234,\n",
        "                          objective=\"binary:logistic\",\n",
        "                          scale_pos_weight=spw,\n",
        "                          n_jobs=-1)\n",
        "\n",
        "xgb_model.fit(X_train, y_train)\n",
        "\n",
        "y_pred = xgb_model.predict(X_test)\n",
        "\n",
        "print(\"ROC-AUC on test: {}\".format(roc_auc_score(y_test, y_pred)))\n",
        "print(\"Confusion matrix:\")\n",
        "print(confusion_matrix(y_test, y_pred))"
      ],
      "outputs": [],
      "execution_count": null
    },
    {
      "cell_type": "code",
      "metadata": {},
      "source": [
        "joblib.dump(xgb_model, \"machine_learning/company_3/task_solution/derived/base_model.sav\")\n"
      ],
      "outputs": [],
      "execution_count": null
    }
  ],
  "metadata": {
    "anaconda-cloud": {},
    "kernelspec": {
      "display_name": "Python 3",
      "language": "python",
      "name": "python3"
    },
    "language_info": {
      "codemirror_mode": {
        "name": "ipython",
        "version": 3
      },
      "file_extension": ".py",
      "mimetype": "text/x-python",
      "name": "python",
      "nbconvert_exporter": "python",
      "pygments_lexer": "ipython3",
      "version": "3.6.1"
    }
  },
  "nbformat": 4,
  "nbformat_minor": 1
}