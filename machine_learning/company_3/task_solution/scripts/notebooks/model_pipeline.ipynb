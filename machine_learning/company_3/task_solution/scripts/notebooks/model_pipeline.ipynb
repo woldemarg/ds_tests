{
  "cells": [
    {
      "cell_type": "code",
      "metadata": {},
      "source": [
        "import sys\n",
        "sys.path.append(\"machine_learning/company_3/task_solution/scripts\")\n",
        "\n",
        "import pandas as pd\n",
        "import joblib\n",
        "import transformers as tr\n",
        "\n",
        "from xgboost import XGBClassifier\n",
        "from sklearn.model_selection import cross_val_score\n",
        "from sklearn.pipeline import Pipeline"
      ],
      "outputs": [],
      "execution_count": null
    },
    {
      "cell_type": "code",
      "metadata": {},
      "source": [
        "sample = (pd.read_csv(\"machine_learning/company_3/task_solution/derived/sample.csv\")\n",
        "          .drop([\"id\"], axis=1))"
      ],
      "outputs": [],
      "execution_count": null
    },
    {
      "cell_type": "code",
      "metadata": {},
      "source": [
        "cat_cols = sample.columns[sample.columns.str.startswith(\"cat\")]\n",
        "sample.loc[:, cat_cols] = sample[cat_cols].astype(str)"
      ],
      "outputs": [],
      "execution_count": null
    },
    {
      "cell_type": "code",
      "metadata": {},
      "source": [
        "y_sample = sample[\"gb\"]\n",
        "X_sample = sample.copy()"
      ],
      "outputs": [],
      "execution_count": null
    },
    {
      "cell_type": "code",
      "metadata": {},
      "source": [
        "xgb_model = joblib.load(\"machine_learning/company_3/task_solution/derived/base_model.sav\")"
      ],
      "outputs": [],
      "execution_count": null
    },
    {
      "cell_type": "code",
      "metadata": {},
      "source": [
        "feature_selection = Pipeline(\n",
        "    steps=[\n",
        "        (\"drop_initial\", tr.DropColumnsTransformer()),\n",
        "        (\"impute_cats\", tr.CustomImputer(strategy=\"mode\")),\n",
        "        (\"impute_nums\", tr.CustomImputer(strategy=\"mean\")),\n",
        "        (\"encode_oh\", tr.CustomOHEncoder()),\n",
        "        (\"drop_low_corr\", tr.CorrelationTransformer())])\n",
        "\n",
        "model_pipe = Pipeline(\n",
        "    steps=[\n",
        "        (\"f_selection\", feature_selection),\n",
        "        (\"xgb_model\", xgb_model)])"
      ],
      "outputs": [],
      "execution_count": null
    },
    {
      "cell_type": "code",
      "metadata": {},
      "source": [
        "roc_auc_sample = cross_val_score(model_pipe,\n",
        "                                 X_sample,\n",
        "                                 y_sample,\n",
        "                                 scoring=\"roc_auc\",\n",
        "                                 n_jobs=-1)\n",
        "\n",
        "print(\"ROC_AUC on CV: {} ({})\".format(roc_auc_sample.mean(),\n",
        "                                      roc_auc_sample.std()))"
      ],
      "outputs": [],
      "execution_count": null
    },
    {
      "cell_type": "code",
      "metadata": {},
      "source": [
        "joblib.dump(model_pipe, \"machine_learning/company_3/task_solution/derived/model_pipe.sav\")\n"
      ],
      "outputs": [],
      "execution_count": null
    }
  ],
  "metadata": {
    "anaconda-cloud": {},
    "kernelspec": {
      "display_name": "Python 3",
      "language": "python",
      "name": "python3"
    },
    "language_info": {
      "codemirror_mode": {
        "name": "ipython",
        "version": 3
      },
      "file_extension": ".py",
      "mimetype": "text/x-python",
      "name": "python",
      "nbconvert_exporter": "python",
      "pygments_lexer": "ipython3",
      "version": "3.6.1"
    }
  },
  "nbformat": 4,
  "nbformat_minor": 1
}