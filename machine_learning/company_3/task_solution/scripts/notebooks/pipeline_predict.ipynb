{
  "cells": [
    {
      "cell_type": "code",
      "metadata": {},
      "source": [
        "import sys\n",
        "sys.path.append(\"machine_learning/company_3/task_solution/scripts\")\n",
        "\n",
        "import pandas as pd\n",
        "import joblib\n",
        "import transformers as tr"
      ],
      "outputs": [],
      "execution_count": null
    },
    {
      "cell_type": "code",
      "metadata": {},
      "source": [
        "train_df = (pd.read_csv(\"machine_learning/company_3/task_solution/data/train_df.csv\",\n",
        "                        sep=\"\\t\",\n",
        "                        index_col=0)\n",
        "            .reset_index(drop=True))\n",
        "\n",
        "delay_df = pd.read_csv(\"machine_learning/company_3/task_solution/data/delay_df.csv\",\n",
        "                       sep=\"\\t\",\n",
        "                       index_col=0)"
      ],
      "outputs": [],
      "execution_count": null
    },
    {
      "cell_type": "code",
      "metadata": {},
      "source": [
        "def cats_to_obj(*dfs):\n",
        "    out = []\n",
        "    for df in dfs:\n",
        "        cat_cols = df.columns[df.columns.str.startswith(\"cat\")]\n",
        "        df.loc[:, cat_cols] = df[cat_cols].astype(str)\n",
        "        out.append(df)\n",
        "    return tuple(out)\n",
        "\n",
        "train_mod, delay_mod = cats_to_obj(train_df, delay_df)"
      ],
      "outputs": [],
      "execution_count": null
    },
    {
      "cell_type": "code",
      "metadata": {},
      "source": [
        "y_train = train_mod[\"gb\"]\n",
        "X_train = (train_mod\n",
        "           .drop([\"id\"], axis=1)\n",
        "           .copy())\n",
        "\n",
        "X_delay = (delay_mod\n",
        "           .drop([\"id\"], axis=1)\n",
        "           .copy())"
      ],
      "outputs": [],
      "execution_count": null
    },
    {
      "cell_type": "code",
      "metadata": {},
      "source": [
        "model_pipe = joblib.load(\"machine_learning/company_3/task_solution/results/model_pipe_tuned.sav\")"
      ],
      "outputs": [],
      "execution_count": null
    },
    {
      "cell_type": "code",
      "metadata": {},
      "source": [
        "model_pipe.fit(X_train, y_train)\n",
        "\n",
        "delay_pred = (delay_df\n",
        "              .assign(gb=model_pipe.\n",
        "                      predict_proba(X_delay)[:, 1]))\n"
      ],
      "outputs": [],
      "execution_count": null
    }
  ],
  "metadata": {
    "anaconda-cloud": {},
    "kernelspec": {
      "display_name": "Python 3",
      "language": "python",
      "name": "python3"
    },
    "language_info": {
      "codemirror_mode": {
        "name": "ipython",
        "version": 3
      },
      "file_extension": ".py",
      "mimetype": "text/x-python",
      "name": "python",
      "nbconvert_exporter": "python",
      "pygments_lexer": "ipython3",
      "version": "3.6.1"
    }
  },
  "nbformat": 4,
  "nbformat_minor": 1
}