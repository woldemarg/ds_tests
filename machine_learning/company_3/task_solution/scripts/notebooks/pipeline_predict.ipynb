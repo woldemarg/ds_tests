{
 "cells": [
  {
   "cell_type": "code",
   "execution_count": 1,
   "metadata": {},
   "outputs": [],
   "source": [
    "import tempfile\n",
    "import urllib.request\n",
    "\n",
    "import sys\n",
    "sys.path.append(\"../\")\n",
    "\n",
    "import pandas as pd\n",
    "import joblib\n",
    "import transformers as tr #custom ad-hoc classes for pipeline"
   ]
  },
  {
   "cell_type": "markdown",
   "metadata": {},
   "source": [
    "## Reading general data"
   ]
  },
  {
   "cell_type": "code",
   "execution_count": 2,
   "metadata": {},
   "outputs": [],
   "source": [
    "train_df = pd.read_csv(\"https://raw.githubusercontent.com/woldemarg/ds_tests/master/machine_learning/company_3/task_solution/data/train_df.csv\",\n",
    "                        sep=\"\\t\",\n",
    "                        index_col=0)\n",
    "\n",
    "delay_df = pd.read_csv(\"https://raw.githubusercontent.com/woldemarg/ds_tests/master/machine_learning/company_3/task_solution/data/delay_df.csv\",\n",
    "                       sep=\"\\t\",\n",
    "                       index_col=0)"
   ]
  },
  {
   "cell_type": "markdown",
   "metadata": {},
   "source": [
    "## Performing batch categoricals' transformation"
   ]
  },
  {
   "cell_type": "code",
   "execution_count": 3,
   "metadata": {},
   "outputs": [],
   "source": [
    "def cats_to_obj(*dfs):\n",
    "    out = []\n",
    "    for df in dfs:\n",
    "        cat_cols = df.columns[df.columns.str.startswith(\"cat\")]\n",
    "        df.loc[:, cat_cols] = df[cat_cols].astype(str)\n",
    "        out.append(df)\n",
    "    return tuple(out)\n",
    "\n",
    "train_mod, delay_mod = cats_to_obj(train_df, delay_df)"
   ]
  },
  {
   "cell_type": "code",
   "execution_count": 4,
   "metadata": {},
   "outputs": [],
   "source": [
    "y_train = train_mod[\"gb\"]\n",
    "X_train = (train_mod\n",
    "           .drop([\"id\"], axis=1)\n",
    "           .copy())\n",
    "\n",
    "X_delay = (delay_mod\n",
    "           .drop([\"id\"], axis=1)\n",
    "           .copy())"
   ]
  },
  {
   "cell_type": "code",
   "execution_count": 5,
   "metadata": {},
   "outputs": [],
   "source": [
    "temp_dir_path = tempfile.mkstemp()\n",
    "file_path = (urllib\n",
    "             .request\n",
    "             .urlretrieve(\"https://github.com/woldemarg/ds_tests/raw/master/machine_learning/company_3/task_solution/results/model_pipe_tuned.sav\",\n",
    "                          temp_dir_path[1]))\n",
    "model_pipe = joblib.load(file_path[0])"
   ]
  },
  {
   "cell_type": "markdown",
   "metadata": {},
   "source": [
    "## Preparing data, training model and predicting in a pipe\n",
    "* pipe steps defining in [notebook](https://github.com/woldemarg/ds_tests/blob/master/machine_learning/company_3/task_solution/scripts/notebooks/sample_model.ipynb)\n",
    "* pipe building in [notebook](https://github.com/woldemarg/ds_tests/blob/master/machine_learning/company_3/task_solution/scripts/notebooks/model_pipeline.ipynb)\n",
    "* model hyper-Tuning in [notebook](https://github.com/woldemarg/ds_tests/blob/master/machine_learning/company_3/task_solution/scripts/notebooks/pipeline_tuning.ipynb)"
   ]
  },
  {
   "cell_type": "code",
   "execution_count": 6,
   "metadata": {},
   "outputs": [
    {
     "data": {
      "text/plain": [
       "(9922, 553)"
      ]
     },
     "execution_count": 6,
     "metadata": {},
     "output_type": "execute_result"
    }
   ],
   "source": [
    "model_pipe.fit(X_train, y_train)\n",
    "\n",
    "delay_pred = (delay_df\n",
    "              .assign(gb=model_pipe.\n",
    "                      predict_proba(X_delay)[:, 1]))\n",
    "\n",
    "delay_pred.shape"
   ]
  },
  {
   "cell_type": "code",
   "execution_count": 7,
   "metadata": {},
   "outputs": [],
   "source": [
    "# delay_pred.to_csv(\"machine_learning/company_3/task_solution/results/delay_df.csv\",\n",
    "#                     index=False)"
   ]
  }
 ],
 "metadata": {
  "anaconda-cloud": {},
  "kernelspec": {
   "display_name": "Python 3 (Spyder)",
   "language": "python3",
   "name": "python3"
  },
  "language_info": {
   "codemirror_mode": {
    "name": "ipython",
    "version": 3
   },
   "file_extension": ".py",
   "mimetype": "text/x-python",
   "name": "python",
   "nbconvert_exporter": "python",
   "pygments_lexer": "ipython3",
   "version": "3.7.7"
  }
 },
 "nbformat": 4,
 "nbformat_minor": 1
}
