{
 "cells": [
  {
   "cell_type": "code",
   "execution_count": null,
   "metadata": {},
   "outputs": [],
   "source": [
    "import sys\n",
    "sys.path.append(\"machine_learning/company_3/task_solution/scripts\")\n",
    "\n",
    "import pandas as pd\n",
    "import joblib\n",
    "import transformers as tr\n",
    "\n",
    "from xgboost import XGBClassifier\n",
    "from sklearn.model_selection import cross_val_score\n",
    "from sklearn.pipeline import Pipeline"
   ]
  },
  {
   "cell_type": "code",
   "execution_count": null,
   "metadata": {},
   "outputs": [],
   "source": [
    "sample = (pd.read_csv(\"machine_learning/company_3/task_solution/derived/sample.csv\")\n",
    "          .drop([\"id\"], axis=1))"
   ]
  },
  {
   "cell_type": "code",
   "execution_count": null,
   "metadata": {},
   "outputs": [],
   "source": [
    "cat_cols = sample.columns[sample.columns.str.startswith(\"cat\")]\n",
    "sample.loc[:, cat_cols] = sample[cat_cols].astype(str)"
   ]
  },
  {
   "cell_type": "code",
   "execution_count": null,
   "metadata": {},
   "outputs": [],
   "source": [
    "y_sample = sample[\"gb\"]\n",
    "X_sample = sample.copy()"
   ]
  },
  {
   "cell_type": "code",
   "execution_count": null,
   "metadata": {},
   "outputs": [],
   "source": [
    "xgb_model = joblib.load(\"machine_learning/company_3/task_solution/derived/base_model.sav\")"
   ]
  },
  {
   "cell_type": "code",
   "execution_count": null,
   "metadata": {},
   "outputs": [],
   "source": [
    "feature_selection = Pipeline(\n",
    "    steps=[\n",
    "        (\"drop_initial\", tr.DropColumnsTransformer()),\n",
    "        (\"impute_cats\", tr.CustomImputer(strategy=\"mode\")),\n",
    "        (\"impute_nums\", tr.CustomImputer(strategy=\"mean\")),\n",
    "        (\"encode_oh\", tr.CustomOHEncoder()),\n",
    "        (\"drop_low_corr\", tr.CorrelationTransformer())])\n",
    "\n",
    "model_pipe = Pipeline(\n",
    "    steps=[\n",
    "        (\"f_selection\", feature_selection),\n",
    "        (\"xgb_model\", xgb_model)])"
   ]
  },
  {
   "cell_type": "code",
   "execution_count": null,
   "metadata": {},
   "outputs": [],
   "source": [
    "roc_auc_sample = cross_val_score(model_pipe,\n",
    "                                 X_sample,\n",
    "                                 y_sample,\n",
    "                                 scoring=\"roc_auc\",\n",
    "                                 n_jobs=-1)\n",
    "\n",
    "print(\"ROC_AUC on CV: {} ({})\".format(roc_auc_sample.mean(),\n",
    "                                      roc_auc_sample.std()))"
   ]
  },
  {
   "cell_type": "code",
   "execution_count": null,
   "metadata": {},
   "outputs": [],
   "source": [
    "joblib.dump(model_pipe, \"machine_learning/company_3/task_solution/derived/model_pipe.sav\")\n"
   ]
  }
 ],
 "metadata": {
  "anaconda-cloud": {},
  "kernelspec": {
   "display_name": "Python 3 (Spyder)",
   "language": "python3",
   "name": "python3"
  },
  "language_info": {
   "codemirror_mode": {
    "name": "ipython",
    "version": 3
   },
   "file_extension": ".py",
   "mimetype": "text/x-python",
   "name": "python",
   "nbconvert_exporter": "python",
   "pygments_lexer": "ipython3",
   "version": "3.7.7"
  }
 },
 "nbformat": 4,
 "nbformat_minor": 1
}
