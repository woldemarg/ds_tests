{
 "cells": [
  {
   "cell_type": "code",
   "execution_count": 1,
   "metadata": {},
   "outputs": [],
   "source": [
    "import tempfile\n",
    "import urllib.request\n",
    "\n",
    "import sys\n",
    "sys.path.append(\"../\")\n",
    "\n",
    "import pandas as pd\n",
    "import joblib\n",
    "import transformers as tr #custom ad-hoc classes for pipeline\n",
    "\n",
    "from xgboost import XGBClassifier\n",
    "from sklearn.model_selection import cross_val_score\n",
    "from sklearn.pipeline import Pipeline"
   ]
  },
  {
   "cell_type": "markdown",
   "metadata": {},
   "source": [
    "## Reading and preparing stratified sample\n",
    "from [notebook](https://github.com/woldemarg/ds_tests/blob/master/machine_learning/company_3/task_solution/scripts/notebooks/get_sample.ipynb)"
   ]
  },
  {
   "cell_type": "code",
   "execution_count": 2,
   "metadata": {},
   "outputs": [],
   "source": [
    "sample = (pd.read_csv(\"https://raw.githubusercontent.com/woldemarg/ds_tests/master/machine_learning/company_3/task_solution/derived/sample.csv\")\n",
    "          .drop([\"id\"], axis=1))"
   ]
  },
  {
   "cell_type": "code",
   "execution_count": 3,
   "metadata": {},
   "outputs": [],
   "source": [
    "cat_cols = sample.columns[sample.columns.str.startswith(\"cat\")]\n",
    "sample.loc[:, cat_cols] = sample.loc[:, cat_cols].astype(str)"
   ]
  },
  {
   "cell_type": "code",
   "execution_count": 4,
   "metadata": {},
   "outputs": [],
   "source": [
    "y_sample = sample[\"gb\"]\n",
    "X_sample = sample.copy()"
   ]
  },
  {
   "cell_type": "markdown",
   "metadata": {},
   "source": [
    "## Reading baseline model\n",
    "from [notebook](https://github.com/woldemarg/ds_tests/blob/master/machine_learning/company_3/task_solution/scripts/notebooks/sample_model.ipynb)"
   ]
  },
  {
   "cell_type": "code",
   "execution_count": 5,
   "metadata": {},
   "outputs": [],
   "source": [
    "temp_dir_path = tempfile.mkstemp()\n",
    "file_path = (urllib\n",
    "             .request\n",
    "             .urlretrieve(\"https://github.com/woldemarg/ds_tests/raw/master/machine_learning/company_3/task_solution/derived/base_model.sav\",\n",
    "                          temp_dir_path[1]))\n",
    "xgb_model = joblib.load(file_path[0])"
   ]
  },
  {
   "cell_type": "markdown",
   "metadata": {},
   "source": [
    "## Making simple pipeline\n",
    "* pipeline steps previously defined in [notebook](https://github.com/woldemarg/ds_tests/blob/master/machine_learning/company_3/task_solution/scripts/notebooks/sample_model.ipynb)\n",
    "* all custom ad-hoc transformers from [file](https://github.com/woldemarg/ds_tests/blob/master/machine_learning/company_3/task_solution/scripts/transformers.py)"
   ]
  },
  {
   "cell_type": "code",
   "execution_count": 6,
   "metadata": {},
   "outputs": [],
   "source": [
    "feature_selection = Pipeline(\n",
    "    steps=[\n",
    "        (\"drop_initial\", tr.DropColumnsTransformer()),\n",
    "        (\"impute_cats\", tr.CustomImputer(strategy=\"mode\")),\n",
    "        (\"impute_nums\", tr.CustomImputer(strategy=\"mean\")),\n",
    "        (\"encode_oh\", tr.CustomOHEncoder()),\n",
    "        (\"drop_low_corr\", tr.CorrelationTransformer())])\n",
    "\n",
    "model_pipe = Pipeline(\n",
    "    steps=[\n",
    "        (\"f_selection\", feature_selection),\n",
    "        (\"xgb_model\", xgb_model)])"
   ]
  },
  {
   "cell_type": "markdown",
   "metadata": {},
   "source": [
    "## Evaluating model on CV\n",
    "Via applying automated pipeline to each fold we prevent data leakage on nan's imputing step"
   ]
  },
  {
   "cell_type": "code",
   "execution_count": 7,
   "metadata": {},
   "outputs": [
    {
     "name": "stdout",
     "output_type": "stream",
     "text": [
      "ROC_AUC on CV: 0.88963869303581 (0.018753906806245037)\n"
     ]
    }
   ],
   "source": [
    "roc_auc_sample = cross_val_score(model_pipe,\n",
    "                                 X_sample,\n",
    "                                 y_sample,\n",
    "                                 scoring=\"roc_auc\",\n",
    "                                 n_jobs=-1)\n",
    "\n",
    "print(\"ROC_AUC on CV: {} ({})\".format(roc_auc_sample.mean(),\n",
    "                                      roc_auc_sample.std()))"
   ]
  },
  {
   "cell_type": "code",
   "execution_count": 8,
   "metadata": {},
   "outputs": [],
   "source": [
    "# joblib.dump(model_pipe, \"machine_learning/company_3/task_solution/derived/model_pipe.sav\")"
   ]
  },
  {
   "cell_type": "markdown",
   "metadata": {},
   "source": [
    "Looking good! With an automated pipeline at our disposal we can safely continue to model hyper-parameters tuning - see [next notebook](https://github.com/woldemarg/ds_tests/blob/master/machine_learning/company_3/task_solution/scripts/notebooks/pipeline_tuning.ipynb) "
   ]
  }
 ],
 "metadata": {
  "anaconda-cloud": {},
  "kernelspec": {
   "display_name": "Python 3 (Spyder)",
   "language": "python3",
   "name": "python3"
  },
  "language_info": {
   "codemirror_mode": {
    "name": "ipython",
    "version": 3
   },
   "file_extension": ".py",
   "mimetype": "text/x-python",
   "name": "python",
   "nbconvert_exporter": "python",
   "pygments_lexer": "ipython3",
   "version": "3.7.7"
  }
 },
 "nbformat": 4,
 "nbformat_minor": 1
}
