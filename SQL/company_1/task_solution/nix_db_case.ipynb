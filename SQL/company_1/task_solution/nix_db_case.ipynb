{
  "cells": [
    {
      "cell_type": "code",
      "metadata": {},
      "source": [
        "import sqlite3\n",
        "import numpy as np\n",
        "import pandas as pd"
      ],
      "outputs": [],
      "execution_count": 83
    },
    {
      "cell_type": "markdown",
      "metadata": {},
      "source": [
        "## Setup dbase in RAM"
      ]
    },
    {
      "cell_type": "code",
      "metadata": {},
      "source": [
        "con = sqlite3.connect(':memory:')\n",
        "cur = con.cursor()"
      ],
      "outputs": [],
      "execution_count": 84
    },
    {
      "cell_type": "code",
      "metadata": {},
      "source": [
        "sql_dump = open(r\"db_sql\\db_dmp.sql\",\"r\")\n",
        "sql_statements = (sql_dump\n",
        "                    .read()\n",
        "                    .split(\";\"))\n",
        "sql_dump.close()\n",
        "                \n",
        "for st in sql_statements:\n",
        "    try:\n",
        "        cur.execute(st)\n",
        "    except sqlite3.Error as e:\n",
        "        print(e)              "
      ],
      "outputs": [],
      "execution_count": 85
    },
    {
      "cell_type": "markdown",
      "metadata": {},
      "source": [
        "## Check DB (get list of tables)"
      ]
    },
    {
      "cell_type": "code",
      "metadata": {},
      "source": [
        "pd.read_sql_query(\n",
        "    \"\"\" SELECT name\n",
        "        FROM sqlite_master \n",
        "        WHERE type ='table'\n",
        "        AND name NOT LIKE 'sqlite_%'; \"\"\",\n",
        "        con)"
      ],
      "outputs": [
        {
          "output_type": "execute_result",
          "data": {
            "text/plain": "        name\n0   medicine\n1  diagnosis\n2        job\n3    workers\n4   contacts",
            "text/html": "<div>\n<style scoped>\n    .dataframe tbody tr th:only-of-type {\n        vertical-align: middle;\n    }\n\n    .dataframe tbody tr th {\n        vertical-align: top;\n    }\n\n    .dataframe thead th {\n        text-align: right;\n    }\n</style>\n<table border=\"1\" class=\"dataframe\">\n  <thead>\n    <tr style=\"text-align: right;\">\n      <th></th>\n      <th>name</th>\n    </tr>\n  </thead>\n  <tbody>\n    <tr>\n      <th>0</th>\n      <td>medicine</td>\n    </tr>\n    <tr>\n      <th>1</th>\n      <td>diagnosis</td>\n    </tr>\n    <tr>\n      <th>2</th>\n      <td>job</td>\n    </tr>\n    <tr>\n      <th>3</th>\n      <td>workers</td>\n    </tr>\n    <tr>\n      <th>4</th>\n      <td>contacts</td>\n    </tr>\n  </tbody>\n</table>\n</div>"
          },
          "metadata": {},
          "execution_count": 86
        }
      ],
      "execution_count": 86
    },
    {
      "cell_type": "markdown",
      "metadata": {},
      "source": [
        "## Run queries in SQL\n",
        "a. Напишите запрос,который выводит название позиций(без повторений), хотя бы один представитель которой получает зарплату в промежутке 400-600"
      ]
    },
    {
      "cell_type": "code",
      "metadata": {},
      "source": [
        "pd.read_sql_query(\n",
        "    \"\"\" SELECT DISTINCT(POSITION)\n",
        "        FROM job\n",
        "        WHERE SALARY BETWEEN 400 AND 600; \"\"\",\n",
        "        con)"
      ],
      "outputs": [
        {
          "output_type": "execute_result",
          "data": {
            "text/plain": "                 POSITION\n0            C# DEVELOPER\n1  AUTOMATION QA ENGINEER\n2          JAVA DEVELOPER",
            "text/html": "<div>\n<style scoped>\n    .dataframe tbody tr th:only-of-type {\n        vertical-align: middle;\n    }\n\n    .dataframe tbody tr th {\n        vertical-align: top;\n    }\n\n    .dataframe thead th {\n        text-align: right;\n    }\n</style>\n<table border=\"1\" class=\"dataframe\">\n  <thead>\n    <tr style=\"text-align: right;\">\n      <th></th>\n      <th>POSITION</th>\n    </tr>\n  </thead>\n  <tbody>\n    <tr>\n      <th>0</th>\n      <td>C# DEVELOPER</td>\n    </tr>\n    <tr>\n      <th>1</th>\n      <td>AUTOMATION QA ENGINEER</td>\n    </tr>\n    <tr>\n      <th>2</th>\n      <td>JAVA DEVELOPER</td>\n    </tr>\n  </tbody>\n</table>\n</div>"
          },
          "metadata": {},
          "execution_count": 87
        }
      ],
      "execution_count": 87
    },
    {
      "cell_type": "markdown",
      "metadata": {},
      "source": [
        "b. Напишите запрос, который выполняет вывод списка офисов, расположенных в SEBEWAING и ELECTRON, количество рабочих и средней зарплаты рабочих в каждом офисе"
      ]
    },
    {
      "cell_type": "code",
      "metadata": {},
      "source": [
        "pd.read_sql_query(\n",
        "    \"\"\" SELECT OFFICE, count(WORKER_ID), avg(SALARY) as MEAN_SALARY\n",
        "        FROM job\n",
        "        WHERE OFFICE_CITY IN (\"SEBEWAING\", \"ELECTRON\")\n",
        "        GROUP BY OFFICE; \"\"\",\n",
        "        con)"
      ],
      "outputs": [
        {
          "output_type": "execute_result",
          "data": {
            "text/plain": "          OFFICE  count(WORKER_ID)  MEAN_SALARY\n0  TIME IS MONEY                 7   725.958571",
            "text/html": "<div>\n<style scoped>\n    .dataframe tbody tr th:only-of-type {\n        vertical-align: middle;\n    }\n\n    .dataframe tbody tr th {\n        vertical-align: top;\n    }\n\n    .dataframe thead th {\n        text-align: right;\n    }\n</style>\n<table border=\"1\" class=\"dataframe\">\n  <thead>\n    <tr style=\"text-align: right;\">\n      <th></th>\n      <th>OFFICE</th>\n      <th>count(WORKER_ID)</th>\n      <th>MEAN_SALARY</th>\n    </tr>\n  </thead>\n  <tbody>\n    <tr>\n      <th>0</th>\n      <td>TIME IS MONEY</td>\n      <td>7</td>\n      <td>725.958571</td>\n    </tr>\n  </tbody>\n</table>\n</div>"
          },
          "metadata": {},
          "execution_count": 88
        }
      ],
      "execution_count": 88
    },
    {
      "cell_type": "markdown",
      "metadata": {},
      "source": [
        "c. Напишите запрос, который выводит название профессий (без повторений), все представители которой получают зарплату в промежутке 400-700"
      ]
    },
    {
      "cell_type": "code",
      "metadata": {},
      "source": [
        "pd.read_sql_query(\n",
        "    \"\"\" SELECT DISTINCT(POSITION)\n",
        "        FROM job\n",
        "        WHERE POSITION NOT IN\n",
        "            (SELECT POSITION\n",
        "            FROM job\n",
        "            WHERE SALARY NOT BETWEEN 400 AND 700); \"\"\",\n",
        "        con)"
      ],
      "outputs": [
        {
          "output_type": "execute_result",
          "data": {
            "text/plain": "                 POSITION\n0  AUTOMATION QA ENGINEER\n1          JAVA DEVELOPER",
            "text/html": "<div>\n<style scoped>\n    .dataframe tbody tr th:only-of-type {\n        vertical-align: middle;\n    }\n\n    .dataframe tbody tr th {\n        vertical-align: top;\n    }\n\n    .dataframe thead th {\n        text-align: right;\n    }\n</style>\n<table border=\"1\" class=\"dataframe\">\n  <thead>\n    <tr style=\"text-align: right;\">\n      <th></th>\n      <th>POSITION</th>\n    </tr>\n  </thead>\n  <tbody>\n    <tr>\n      <th>0</th>\n      <td>AUTOMATION QA ENGINEER</td>\n    </tr>\n    <tr>\n      <th>1</th>\n      <td>JAVA DEVELOPER</td>\n    </tr>\n  </tbody>\n</table>\n</div>"
          },
          "metadata": {},
          "execution_count": 89
        }
      ],
      "execution_count": 89
    },
    {
      "cell_type": "markdown",
      "metadata": {},
      "source": [
        "d. Напишите запрос, который выводит среднюю зарплату работников, которые старше 30 лет, группируя по полу и возрасту, но при выводе увеличивающий данные о величине зарплаты на 20%"
      ]
    },
    {
      "cell_type": "code",
      "metadata": {},
      "source": [
        "pd.read_sql_query(\n",
        "    \"\"\" SELECT  substr(date(),1,4) - 19||substr(DOB,8,2) AS AGE,\n",
        "                GENDER,\n",
        "                AVG(SALARY) * 1.2 AS AVG_SALARY_UP\n",
        "        FROM workers t1\n",
        "        INNER JOIN job t2\n",
        "        ON t1.WORKER_ID = t2.WORKER_ID\n",
        "        WHERE AGE > 30\n",
        "        GROUP BY AGE, GENDER; \"\"\",\n",
        "        con)"
      ],
      "outputs": [
        {
          "output_type": "execute_result",
          "data": {
            "text/plain": "   AGE GENDER  AVG_SALARY_UP\n0   34      F       1052.370\n1   34      M        691.544\n2   35      F       1175.004\n3   39      F        665.244",
            "text/html": "<div>\n<style scoped>\n    .dataframe tbody tr th:only-of-type {\n        vertical-align: middle;\n    }\n\n    .dataframe tbody tr th {\n        vertical-align: top;\n    }\n\n    .dataframe thead th {\n        text-align: right;\n    }\n</style>\n<table border=\"1\" class=\"dataframe\">\n  <thead>\n    <tr style=\"text-align: right;\">\n      <th></th>\n      <th>AGE</th>\n      <th>GENDER</th>\n      <th>AVG_SALARY_UP</th>\n    </tr>\n  </thead>\n  <tbody>\n    <tr>\n      <th>0</th>\n      <td>34</td>\n      <td>F</td>\n      <td>1052.370</td>\n    </tr>\n    <tr>\n      <th>1</th>\n      <td>34</td>\n      <td>M</td>\n      <td>691.544</td>\n    </tr>\n    <tr>\n      <th>2</th>\n      <td>35</td>\n      <td>F</td>\n      <td>1175.004</td>\n    </tr>\n    <tr>\n      <th>3</th>\n      <td>39</td>\n      <td>F</td>\n      <td>665.244</td>\n    </tr>\n  </tbody>\n</table>\n</div>"
          },
          "metadata": {},
          "execution_count": 90
        }
      ],
      "execution_count": 90
    },
    {
      "cell_type": "markdown",
      "metadata": {},
      "source": [
        "e. Напишите запрос, который выведет накопленную зарплату по месяцам для Николы Теслы начиная с его приему на работу до сегодняшнего дня."
      ]
    },
    {
      "cell_type": "code",
      "execution_count": 91,
      "metadata": {},
      "outputs": [
        {
          "output_type": "execute_result",
          "data": {
            "text/plain": "    year_month  CUM_SALARY\n0      2009-07      621.44\n1      2009-08     1242.88\n2      2009-09     1864.32\n3      2009-10     2485.76\n4      2009-11     3107.20\n..         ...         ...\n126    2020-01    78922.88\n127    2020-02    79544.32\n128    2020-03    80165.76\n129    2020-04    80787.20\n130    2020-05    81408.64\n\n[131 rows x 2 columns]",
            "text/html": "<div>\n<style scoped>\n    .dataframe tbody tr th:only-of-type {\n        vertical-align: middle;\n    }\n\n    .dataframe tbody tr th {\n        vertical-align: top;\n    }\n\n    .dataframe thead th {\n        text-align: right;\n    }\n</style>\n<table border=\"1\" class=\"dataframe\">\n  <thead>\n    <tr style=\"text-align: right;\">\n      <th></th>\n      <th>year_month</th>\n      <th>CUM_SALARY</th>\n    </tr>\n  </thead>\n  <tbody>\n    <tr>\n      <th>0</th>\n      <td>2009-07</td>\n      <td>621.44</td>\n    </tr>\n    <tr>\n      <th>1</th>\n      <td>2009-08</td>\n      <td>1242.88</td>\n    </tr>\n    <tr>\n      <th>2</th>\n      <td>2009-09</td>\n      <td>1864.32</td>\n    </tr>\n    <tr>\n      <th>3</th>\n      <td>2009-10</td>\n      <td>2485.76</td>\n    </tr>\n    <tr>\n      <th>4</th>\n      <td>2009-11</td>\n      <td>3107.20</td>\n    </tr>\n    <tr>\n      <th>...</th>\n      <td>...</td>\n      <td>...</td>\n    </tr>\n    <tr>\n      <th>126</th>\n      <td>2020-01</td>\n      <td>78922.88</td>\n    </tr>\n    <tr>\n      <th>127</th>\n      <td>2020-02</td>\n      <td>79544.32</td>\n    </tr>\n    <tr>\n      <th>128</th>\n      <td>2020-03</td>\n      <td>80165.76</td>\n    </tr>\n    <tr>\n      <th>129</th>\n      <td>2020-04</td>\n      <td>80787.20</td>\n    </tr>\n    <tr>\n      <th>130</th>\n      <td>2020-05</td>\n      <td>81408.64</td>\n    </tr>\n  </tbody>\n</table>\n<p>131 rows × 2 columns</p>\n</div>"
          },
          "metadata": {},
          "execution_count": 91
        }
      ],
      "source": [
        "pd.read_sql_query(\"\"\"\n",
        "WITH RECURSIVE dates AS\n",
        "  (SELECT min(CASE substr(FROM_DATE, 4, 3)\n",
        "                  WHEN 'Jan' THEN 20||substr(FROM_DATE, 8, 2)||'-01'\n",
        "                  WHEN 'Feb' THEN 20||substr(FROM_DATE, 8, 2)||'-02'\n",
        "                  WHEN 'Mar' THEN 20||substr(FROM_DATE, 8, 2)||'-03'\n",
        "                  WHEN 'Apr' THEN 20||substr(FROM_DATE, 8, 2)||'-04'\n",
        "                  WHEN 'May' THEN 20||substr(FROM_DATE, 8, 2)||'-05'\n",
        "                  WHEN 'Jun' THEN 20||substr(FROM_DATE, 8, 2)||'-06'\n",
        "                  WHEN 'Jul' THEN 20||substr(FROM_DATE, 8, 2)||'-07'\n",
        "                  WHEN 'Aug' THEN 20||substr(FROM_DATE, 8, 2)||'-08'\n",
        "                  WHEN 'Sep' THEN 20||substr(FROM_DATE, 8, 2)||'-09'\n",
        "                  WHEN 'Oct' THEN 20||substr(FROM_DATE, 8, 2)||'-10'\n",
        "                  WHEN 'Nov' THEN 20||substr(FROM_DATE, 8, 2)||'-11'\n",
        "                  WHEN 'Dec' THEN 20||substr(FROM_DATE, 8, 2)||'-12'\n",
        "              END) AS year_month\n",
        "   FROM job\n",
        "   UNION ALL SELECT strftime('%Y-%m', date(year_month||'-01', '+1 month'))\n",
        "   FROM dates\n",
        "   WHERE year_month < date('now', '-1 month'))\n",
        "SELECT year_month,\n",
        "       SUM(SALARY) OVER (ROWS UNBOUNDED PRECEDING) AS CUM_SALARY\n",
        "FROM\n",
        "  (SELECT year_month,\n",
        "          SALARY\n",
        "   FROM dates\n",
        "   INNER JOIN\n",
        "     (SELECT SALARY,\n",
        "             CASE substr(FROM_DATE, 4, 3)\n",
        "                 WHEN 'Jan' THEN 20||substr(FROM_DATE, 8, 2)||'-01'\n",
        "                 WHEN 'Feb' THEN 20||substr(FROM_DATE, 8, 2)||'-02'\n",
        "                 WHEN 'Mar' THEN 20||substr(FROM_DATE, 8, 2)||'-03'\n",
        "                 WHEN 'Apr' THEN 20||substr(FROM_DATE, 8, 2)||'-04'\n",
        "                 WHEN 'May' THEN 20||substr(FROM_DATE, 8, 2)||'-05'\n",
        "                 WHEN 'Jun' THEN 20||substr(FROM_DATE, 8, 2)||'-06'\n",
        "                 WHEN 'Jul' THEN 20||substr(FROM_DATE, 8, 2)||'-07'\n",
        "                 WHEN 'Aug' THEN 20||substr(FROM_DATE, 8, 2)||'-08'\n",
        "                 WHEN 'Sep' THEN 20||substr(FROM_DATE, 8, 2)||'-09'\n",
        "                 WHEN 'Oct' THEN 20||substr(FROM_DATE, 8, 2)||'-10'\n",
        "                 WHEN 'Nov' THEN 20||substr(FROM_DATE, 8, 2)||'-11'\n",
        "                 WHEN 'Dec' THEN 20||substr(FROM_DATE, 8, 2)||'-12'\n",
        "             END AS start_date\n",
        "      FROM job t1\n",
        "      INNER JOIN workers t2 ON t1.WORKER_ID = t2.WORKER_ID\n",
        "      WHERE FIRST_NAME = 'NIKOLA'\n",
        "        AND LAST_NAME = 'TESLA') t3 ON t3.start_date < dates.year_month);\n",
        "        \"\"\", con)"
      ]
    },
    {
      "cell_type": "markdown",
      "metadata": {},
      "source": [
        "f. Напишите запрос, который выведет накопленную зарплату по месяцам, разбитую по позициям, за 2014 год"
      ]
    },
    {
      "cell_type": "code",
      "execution_count": 92,
      "metadata": {},
      "outputs": [
        {
          "output_type": "execute_result",
          "data": {
            "text/plain": "                 POSITION  2014-01  2014-02  2014-03   2014-04   2014-05  \\\n0  AUTOMATION QA ENGINEER  2849.37  5698.74  8548.11  11397.48  14246.85   \n1  AUTOMATION QA TEAMLEAD   979.17  1958.34  2937.51   3916.68   4895.85   \n2            C# DEVELOPER  2315.91  4631.82  6947.73   9263.64  11579.55   \n3   C# DEVELOPER TEAMLEAD  1021.77  2043.54  3065.31   4087.08   5108.85   \n4          JAVA DEVELOPER   554.37  1108.74  1663.11   2217.48   2771.85   \n5         PRODUCT MANAGER  1132.78  2265.56  3398.34   4531.12   5663.90   \n6            WEB DESIGNER  2124.20  4248.40  6372.60   8496.80  10621.00   \n\n    2014-06   2014-07   2014-08   2014-09  2014-10   2014-11   2014-12  \n0  17096.22  19945.59  22794.96  25644.33  28493.7  31343.07  34192.44  \n1   5875.02   6854.19   7833.36   8812.53   9791.7  10770.87  11750.04  \n2  13895.46  16211.37  18527.28  20843.19  23159.1  25475.01  27790.92  \n3   6130.62   7152.39   8174.16   9195.93  10217.7  11239.47  12261.24  \n4   3326.22   3880.59   4434.96   4989.33   5543.7   6098.07   6652.44  \n5   6796.68   7929.46   9062.24  10195.02  11327.8  12460.58  13593.36  \n6  12745.20  14869.40  16993.60  19117.80  21242.0  23366.20  25490.40  ",
            "text/html": "<div>\n<style scoped>\n    .dataframe tbody tr th:only-of-type {\n        vertical-align: middle;\n    }\n\n    .dataframe tbody tr th {\n        vertical-align: top;\n    }\n\n    .dataframe thead th {\n        text-align: right;\n    }\n</style>\n<table border=\"1\" class=\"dataframe\">\n  <thead>\n    <tr style=\"text-align: right;\">\n      <th></th>\n      <th>POSITION</th>\n      <th>2014-01</th>\n      <th>2014-02</th>\n      <th>2014-03</th>\n      <th>2014-04</th>\n      <th>2014-05</th>\n      <th>2014-06</th>\n      <th>2014-07</th>\n      <th>2014-08</th>\n      <th>2014-09</th>\n      <th>2014-10</th>\n      <th>2014-11</th>\n      <th>2014-12</th>\n    </tr>\n  </thead>\n  <tbody>\n    <tr>\n      <th>0</th>\n      <td>AUTOMATION QA ENGINEER</td>\n      <td>2849.37</td>\n      <td>5698.74</td>\n      <td>8548.11</td>\n      <td>11397.48</td>\n      <td>14246.85</td>\n      <td>17096.22</td>\n      <td>19945.59</td>\n      <td>22794.96</td>\n      <td>25644.33</td>\n      <td>28493.7</td>\n      <td>31343.07</td>\n      <td>34192.44</td>\n    </tr>\n    <tr>\n      <th>1</th>\n      <td>AUTOMATION QA TEAMLEAD</td>\n      <td>979.17</td>\n      <td>1958.34</td>\n      <td>2937.51</td>\n      <td>3916.68</td>\n      <td>4895.85</td>\n      <td>5875.02</td>\n      <td>6854.19</td>\n      <td>7833.36</td>\n      <td>8812.53</td>\n      <td>9791.7</td>\n      <td>10770.87</td>\n      <td>11750.04</td>\n    </tr>\n    <tr>\n      <th>2</th>\n      <td>C# DEVELOPER</td>\n      <td>2315.91</td>\n      <td>4631.82</td>\n      <td>6947.73</td>\n      <td>9263.64</td>\n      <td>11579.55</td>\n      <td>13895.46</td>\n      <td>16211.37</td>\n      <td>18527.28</td>\n      <td>20843.19</td>\n      <td>23159.1</td>\n      <td>25475.01</td>\n      <td>27790.92</td>\n    </tr>\n    <tr>\n      <th>3</th>\n      <td>C# DEVELOPER TEAMLEAD</td>\n      <td>1021.77</td>\n      <td>2043.54</td>\n      <td>3065.31</td>\n      <td>4087.08</td>\n      <td>5108.85</td>\n      <td>6130.62</td>\n      <td>7152.39</td>\n      <td>8174.16</td>\n      <td>9195.93</td>\n      <td>10217.7</td>\n      <td>11239.47</td>\n      <td>12261.24</td>\n    </tr>\n    <tr>\n      <th>4</th>\n      <td>JAVA DEVELOPER</td>\n      <td>554.37</td>\n      <td>1108.74</td>\n      <td>1663.11</td>\n      <td>2217.48</td>\n      <td>2771.85</td>\n      <td>3326.22</td>\n      <td>3880.59</td>\n      <td>4434.96</td>\n      <td>4989.33</td>\n      <td>5543.7</td>\n      <td>6098.07</td>\n      <td>6652.44</td>\n    </tr>\n    <tr>\n      <th>5</th>\n      <td>PRODUCT MANAGER</td>\n      <td>1132.78</td>\n      <td>2265.56</td>\n      <td>3398.34</td>\n      <td>4531.12</td>\n      <td>5663.90</td>\n      <td>6796.68</td>\n      <td>7929.46</td>\n      <td>9062.24</td>\n      <td>10195.02</td>\n      <td>11327.8</td>\n      <td>12460.58</td>\n      <td>13593.36</td>\n    </tr>\n    <tr>\n      <th>6</th>\n      <td>WEB DESIGNER</td>\n      <td>2124.20</td>\n      <td>4248.40</td>\n      <td>6372.60</td>\n      <td>8496.80</td>\n      <td>10621.00</td>\n      <td>12745.20</td>\n      <td>14869.40</td>\n      <td>16993.60</td>\n      <td>19117.80</td>\n      <td>21242.0</td>\n      <td>23366.20</td>\n      <td>25490.40</td>\n    </tr>\n  </tbody>\n</table>\n</div>"
          },
          "metadata": {},
          "execution_count": 92
        }
      ],
      "source": [
        "pd.read_sql_query(\"\"\"\n",
        "WITH RECURSIVE dates AS\n",
        "  (SELECT '2014-01' AS year_month\n",
        "   UNION ALL SELECT strftime('%Y-%m', date(year_month||'-01', '+1 month'))\n",
        "   FROM dates\n",
        "   WHERE year_month < date('2014-12-01', '-1 month'))\n",
        "SELECT POSITION,\n",
        "       SUM(CASE\n",
        "               WHEN year_month = '2014-01' THEN CUM_SALARY\n",
        "           END) AS '2014-01',\n",
        "       SUM(CASE\n",
        "               WHEN year_month = '2014-02' THEN CUM_SALARY\n",
        "           END) AS '2014-02',\n",
        "       SUM(CASE\n",
        "               WHEN year_month = '2014-03' THEN CUM_SALARY\n",
        "           END) AS '2014-03',\n",
        "       SUM(CASE\n",
        "               WHEN year_month = '2014-04' THEN CUM_SALARY\n",
        "           END) AS '2014-04',\n",
        "       SUM(CASE\n",
        "               WHEN year_month = '2014-05' THEN CUM_SALARY\n",
        "           END) AS '2014-05',\n",
        "       SUM(CASE\n",
        "               WHEN year_month = '2014-06' THEN CUM_SALARY\n",
        "           END) AS '2014-06',\n",
        "       SUM(CASE\n",
        "               WHEN year_month = '2014-07' THEN CUM_SALARY\n",
        "           END) AS '2014-07',\n",
        "       SUM(CASE\n",
        "               WHEN year_month = '2014-08' THEN CUM_SALARY\n",
        "           END) AS '2014-08',\n",
        "       SUM(CASE\n",
        "               WHEN year_month = '2014-09' THEN CUM_SALARY\n",
        "           END) AS '2014-09',\n",
        "       SUM(CASE\n",
        "               WHEN year_month = '2014-10' THEN CUM_SALARY\n",
        "           END) AS '2014-10',\n",
        "       SUM(CASE\n",
        "               WHEN year_month = '2014-11' THEN CUM_SALARY\n",
        "           END) AS '2014-11',\n",
        "       SUM(CASE\n",
        "               WHEN year_month = '2014-12' THEN CUM_SALARY\n",
        "           END) AS '2014-12'\n",
        "FROM\n",
        "  (SELECT year_month,\n",
        "          POSITION,\n",
        "          SUM(SUM_SALARY) OVER (PARTITION BY POSITION\n",
        "                                ORDER BY year_month) AS CUM_SALARY\n",
        "   FROM\n",
        "     (SELECT year_month,\n",
        "             POSITION,\n",
        "             SUM_SALARY\n",
        "      FROM dates\n",
        "      INNER JOIN\n",
        "        (SELECT POSITION,\n",
        "                SUM(SALARY) AS SUM_SALARY,\n",
        "                '2014-01' AS mon\n",
        "         FROM job\n",
        "         GROUP BY POSITION) t1 ON dates.year_month >= t1.mon))\n",
        "GROUP BY POSITION;\n",
        "      \"\"\", con)"
      ]
    },
    {
      "cell_type": "markdown",
      "metadata": {},
      "source": [
        "## Same queries in pandas"
      ]
    },
    {
      "cell_type": "code",
      "execution_count": 93,
      "metadata": {},
      "outputs": [],
      "source": [
        "job = pd.read_sql_query(\"SELECT * FROM job\", con)\n",
        "workers = pd.read_sql_query(\"SELECT * FROM workers\", con)\n",
        "con.close()"
      ]
    },
    {
      "cell_type": "code",
      "execution_count": 94,
      "metadata": {},
      "outputs": [
        {
          "output_type": "execute_result",
          "data": {
            "text/plain": "array(['C# DEVELOPER', 'AUTOMATION QA ENGINEER', 'JAVA DEVELOPER'],\n      dtype=object)"
          },
          "metadata": {},
          "execution_count": 94
        }
      ],
      "source": [
        "job.loc[(job[\"SALARY\"] >= 400) & (job[\"SALARY\"] <= 600), \"POSITION\"].unique()"
      ]
    },
    {
      "cell_type": "code",
      "execution_count": 95,
      "metadata": {},
      "outputs": [
        {
          "output_type": "execute_result",
          "data": {
            "text/plain": "               WORKER_ID      SALARY\nOFFICE                              \nTIME IS MONEY          7  725.958571",
            "text/html": "<div>\n<style scoped>\n    .dataframe tbody tr th:only-of-type {\n        vertical-align: middle;\n    }\n\n    .dataframe tbody tr th {\n        vertical-align: top;\n    }\n\n    .dataframe thead th {\n        text-align: right;\n    }\n</style>\n<table border=\"1\" class=\"dataframe\">\n  <thead>\n    <tr style=\"text-align: right;\">\n      <th></th>\n      <th>WORKER_ID</th>\n      <th>SALARY</th>\n    </tr>\n    <tr>\n      <th>OFFICE</th>\n      <th></th>\n      <th></th>\n    </tr>\n  </thead>\n  <tbody>\n    <tr>\n      <th>TIME IS MONEY</th>\n      <td>7</td>\n      <td>725.958571</td>\n    </tr>\n  </tbody>\n</table>\n</div>"
          },
          "metadata": {},
          "execution_count": 95
        }
      ],
      "source": [
        "(job[job[\"OFFICE_CITY\"].isin([\"SEBEWAING\", \"ELECTRON\"])]\n",
        ".groupby(\"OFFICE\")\n",
        ".agg({\"WORKER_ID\": \"count\", \"SALARY\": \"mean\"}))"
      ]
    },
    {
      "cell_type": "code",
      "execution_count": 96,
      "metadata": {},
      "outputs": [
        {
          "output_type": "execute_result",
          "data": {
            "text/plain": "array(['AUTOMATION QA ENGINEER', 'JAVA DEVELOPER'], dtype=object)"
          },
          "metadata": {},
          "execution_count": 96
        }
      ],
      "source": [
        "(job\n",
        ".groupby(\"POSITION\")\n",
        ".filter(lambda g: all((g[\"SALARY\"] <= 700) & (g[\"SALARY\"] >= 400)))[\"POSITION\"]\n",
        ".unique())"
      ]
    },
    {
      "cell_type": "code",
      "execution_count": 97,
      "metadata": {},
      "outputs": [
        {
          "output_type": "execute_result",
          "data": {
            "text/plain": "              SALARY\nGENDER AGE          \nF      33   1052.370\n       34   1175.004\n       38    665.244\nM      33    691.544",
            "text/html": "<div>\n<style scoped>\n    .dataframe tbody tr th:only-of-type {\n        vertical-align: middle;\n    }\n\n    .dataframe tbody tr th {\n        vertical-align: top;\n    }\n\n    .dataframe thead th {\n        text-align: right;\n    }\n</style>\n<table border=\"1\" class=\"dataframe\">\n  <thead>\n    <tr style=\"text-align: right;\">\n      <th></th>\n      <th></th>\n      <th>SALARY</th>\n    </tr>\n    <tr>\n      <th>GENDER</th>\n      <th>AGE</th>\n      <th></th>\n    </tr>\n  </thead>\n  <tbody>\n    <tr>\n      <th rowspan=\"3\" valign=\"top\">F</th>\n      <th>33</th>\n      <td>1052.370</td>\n    </tr>\n    <tr>\n      <th>34</th>\n      <td>1175.004</td>\n    </tr>\n    <tr>\n      <th>38</th>\n      <td>665.244</td>\n    </tr>\n    <tr>\n      <th>M</th>\n      <th>33</th>\n      <td>691.544</td>\n    </tr>\n  </tbody>\n</table>\n</div>"
          },
          "metadata": {},
          "execution_count": 97
        }
      ],
      "source": [
        "workers_new = (workers\n",
        "                .assign(AGE=(pd.to_datetime(\"today\") -\n",
        "                                pd.to_datetime(workers[\"DOB\"], format=\"%d-%b-%y\")) //\n",
        "                                np.timedelta64(1, \"Y\")))\n",
        "\n",
        "workers_merged = pd.merge(workers_new, job, on=\"WORKER_ID\")\n",
        "\n",
        "(workers_merged\n",
        ".query(\"AGE > 30\")\n",
        ".groupby([\"GENDER\", \"AGE\"])\n",
        ".agg(SALARY=pd.NamedAgg(column=\"SALARY\", aggfunc=(lambda x: np.mean(x) * 1.2))))"
      ]
    },
    {
      "cell_type": "code",
      "execution_count": 98,
      "metadata": {},
      "outputs": [
        {
          "output_type": "execute_result",
          "data": {
            "text/plain": "              SALARY\nrange               \n2009-06-30    621.44\n2009-07-31   1242.88\n2009-08-31   1864.32\n2009-09-30   2485.76\n2009-10-31   3107.20\n...              ...\n2019-12-31  78922.88\n2020-01-31  79544.32\n2020-02-29  80165.76\n2020-03-31  80787.20\n2020-04-30  81408.64\n\n[131 rows x 1 columns]",
            "text/html": "<div>\n<style scoped>\n    .dataframe tbody tr th:only-of-type {\n        vertical-align: middle;\n    }\n\n    .dataframe tbody tr th {\n        vertical-align: top;\n    }\n\n    .dataframe thead th {\n        text-align: right;\n    }\n</style>\n<table border=\"1\" class=\"dataframe\">\n  <thead>\n    <tr style=\"text-align: right;\">\n      <th></th>\n      <th>SALARY</th>\n    </tr>\n    <tr>\n      <th>range</th>\n      <th></th>\n    </tr>\n  </thead>\n  <tbody>\n    <tr>\n      <th>2009-06-30</th>\n      <td>621.44</td>\n    </tr>\n    <tr>\n      <th>2009-07-31</th>\n      <td>1242.88</td>\n    </tr>\n    <tr>\n      <th>2009-08-31</th>\n      <td>1864.32</td>\n    </tr>\n    <tr>\n      <th>2009-09-30</th>\n      <td>2485.76</td>\n    </tr>\n    <tr>\n      <th>2009-10-31</th>\n      <td>3107.20</td>\n    </tr>\n    <tr>\n      <th>...</th>\n      <td>...</td>\n    </tr>\n    <tr>\n      <th>2019-12-31</th>\n      <td>78922.88</td>\n    </tr>\n    <tr>\n      <th>2020-01-31</th>\n      <td>79544.32</td>\n    </tr>\n    <tr>\n      <th>2020-02-29</th>\n      <td>80165.76</td>\n    </tr>\n    <tr>\n      <th>2020-03-31</th>\n      <td>80787.20</td>\n    </tr>\n    <tr>\n      <th>2020-04-30</th>\n      <td>81408.64</td>\n    </tr>\n  </tbody>\n</table>\n<p>131 rows × 1 columns</p>\n</div>"
          },
          "metadata": {},
          "execution_count": 98
        }
      ],
      "source": [
        "d_range = (pd.Series(pd.date_range(start=min(pd.to_datetime(job[\"FROM_DATE\"],\n",
        "                                            format=\"%d-%b-%y\")),\n",
        "                                  end=pd.to_datetime(\"now\"),\n",
        "                                  freq=\"M\"))\n",
        "                    .to_frame(name=\"range\")\n",
        "                    .set_index(\"range\"))\n",
        "\n",
        "\n",
        "job_filtered = (job\n",
        "                .loc[job[\"WORKER_ID\"] == workers\n",
        "                                        .loc[(workers[\"FIRST_NAME\"] == \"NIKOLA\") &\n",
        "                                            (workers[\"LAST_NAME\"] == \"TESLA\"), \"WORKER_ID\"]\n",
        "                                        .values[0],\n",
        "                    [\"SALARY\", \"FROM_DATE\"]]\n",
        "    .assign(FROM_DATE=pd.to_datetime(job[\"FROM_DATE\"],\n",
        "                                    format=\"%d-%b-%y\"))\n",
        "    .set_index(\"FROM_DATE\"))\n",
        "\n",
        "\n",
        "(pd.merge_asof(d_range,\n",
        "              job_filtered,\n",
        "              left_index=True,\n",
        "              right_index=True)\n",
        ".dropna(axis=0)\n",
        ".cumsum())"
      ]
    }
  ],
  "metadata": {
    "anaconda-cloud": {},
    "kernelspec": {
      "display_name": "Python 3",
      "language": "python",
      "name": "python3"
    },
    "language_info": {
      "codemirror_mode": {
        "name": "ipython",
        "version": 3
      },
      "file_extension": ".py",
      "mimetype": "text/x-python",
      "name": "python",
      "nbconvert_exporter": "python",
      "pygments_lexer": "ipython3",
      "version": "3.7.7-final"
    }
  },
  "nbformat": 4,
  "nbformat_minor": 1
}