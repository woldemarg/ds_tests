{
 "cells": [
  {
   "cell_type": "markdown",
   "metadata": {
    "collapsed": true
   },
   "source": [
    "# Виконайте завдання в цьому файлі і надішліть його у відповідь на пошту"
   ]
  },
  {
   "cell_type": "code",
   "execution_count": 1,
   "metadata": {},
   "outputs": [],
   "source": [
    "# !pip install pandasql"
   ]
  },
  {
   "cell_type": "code",
   "execution_count": 2,
   "metadata": {},
   "outputs": [],
   "source": [
    "from pandasql import sqldf"
   ]
  },
  {
   "cell_type": "code",
   "execution_count": 3,
   "metadata": {},
   "outputs": [],
   "source": [
    "import pandas as pd"
   ]
  },
  {
   "cell_type": "code",
   "execution_count": 4,
   "metadata": {},
   "outputs": [],
   "source": [
    "querydf = lambda q: sqldf(q, globals())"
   ]
  },
  {
   "cell_type": "markdown",
   "metadata": {},
   "source": [
    "# Pandas"
   ]
  },
  {
   "cell_type": "markdown",
   "metadata": {},
   "source": [
    "### 1. Для даних з файлу Task1.csv знайдіть всі мед. випадки, що стосуються новонароджених (діагноз починається з латинської \"P\"). Для них перевірте, чи в них коректно заповнений вік (до 1 року включно).\n",
    "#### Створіть колонку isneonatal, яку заповніть значеннями True для валідних випадків з новонародженими і False в іншому разі.\n",
    "У Task1.csv: id - ідентифікатор мед. випадку, age - вік пацієнта у роках, diagnosis_code - код діагноза"
   ]
  },
  {
   "cell_type": "code",
   "execution_count": 5,
   "metadata": {},
   "outputs": [
    {
     "data": {
      "text/html": [
       "<div>\n",
       "<style scoped>\n",
       "    .dataframe tbody tr th:only-of-type {\n",
       "        vertical-align: middle;\n",
       "    }\n",
       "\n",
       "    .dataframe tbody tr th {\n",
       "        vertical-align: top;\n",
       "    }\n",
       "\n",
       "    .dataframe thead th {\n",
       "        text-align: right;\n",
       "    }\n",
       "</style>\n",
       "<table border=\"1\" class=\"dataframe\">\n",
       "  <thead>\n",
       "    <tr style=\"text-align: right;\">\n",
       "      <th></th>\n",
       "      <th>id</th>\n",
       "      <th>age</th>\n",
       "      <th>diagnosis_code</th>\n",
       "      <th>isneonatal</th>\n",
       "    </tr>\n",
       "  </thead>\n",
       "  <tbody>\n",
       "    <tr>\n",
       "      <th>227</th>\n",
       "      <td>a57acdbf-b82f-4a7c-b1ac-80e47d38dac8</td>\n",
       "      <td>67.0</td>\n",
       "      <td>P91.63</td>\n",
       "      <td>False</td>\n",
       "    </tr>\n",
       "    <tr>\n",
       "      <th>1138</th>\n",
       "      <td>23ba50e7-6d40-48d8-99e9-8b279fa9c370</td>\n",
       "      <td>48.0</td>\n",
       "      <td>P91.4</td>\n",
       "      <td>False</td>\n",
       "    </tr>\n",
       "    <tr>\n",
       "      <th>874</th>\n",
       "      <td>11c6214c-459c-4d2a-acf3-178eef1a6c31</td>\n",
       "      <td>40.0</td>\n",
       "      <td>P96.4</td>\n",
       "      <td>False</td>\n",
       "    </tr>\n",
       "    <tr>\n",
       "      <th>353</th>\n",
       "      <td>37dededa-b459-4e37-adea-9e5a327d220e</td>\n",
       "      <td>34.0</td>\n",
       "      <td>P01.9</td>\n",
       "      <td>False</td>\n",
       "    </tr>\n",
       "    <tr>\n",
       "      <th>833</th>\n",
       "      <td>eeb400ed-a970-4d73-8e53-218ae6857854</td>\n",
       "      <td>34.0</td>\n",
       "      <td>P96.0</td>\n",
       "      <td>False</td>\n",
       "    </tr>\n",
       "    <tr>\n",
       "      <th>221</th>\n",
       "      <td>b69180ba-ab71-408a-a263-a5fe94000982</td>\n",
       "      <td>30.0</td>\n",
       "      <td>P27.8</td>\n",
       "      <td>False</td>\n",
       "    </tr>\n",
       "    <tr>\n",
       "      <th>42</th>\n",
       "      <td>08585e77-58b8-4dfb-80f4-683935d5674b</td>\n",
       "      <td>27.0</td>\n",
       "      <td>P21.1</td>\n",
       "      <td>False</td>\n",
       "    </tr>\n",
       "    <tr>\n",
       "      <th>657</th>\n",
       "      <td>e8a90a8d-a291-4a8e-a466-469c1a501105</td>\n",
       "      <td>25.0</td>\n",
       "      <td>P91.4</td>\n",
       "      <td>False</td>\n",
       "    </tr>\n",
       "    <tr>\n",
       "      <th>845</th>\n",
       "      <td>6fcc4ec8-a6e9-40f2-b529-85471fffbd79</td>\n",
       "      <td>23.0</td>\n",
       "      <td>P55.1</td>\n",
       "      <td>False</td>\n",
       "    </tr>\n",
       "    <tr>\n",
       "      <th>0</th>\n",
       "      <td>27f8009e-6b7c-4280-8b62-7a0b83b22159</td>\n",
       "      <td>9.0</td>\n",
       "      <td>P14.0</td>\n",
       "      <td>False</td>\n",
       "    </tr>\n",
       "    <tr>\n",
       "      <th>572</th>\n",
       "      <td>3f927108-86ac-4623-95fe-b6c3ee5e9602</td>\n",
       "      <td>6.0</td>\n",
       "      <td>P83.5</td>\n",
       "      <td>False</td>\n",
       "    </tr>\n",
       "    <tr>\n",
       "      <th>585</th>\n",
       "      <td>799f040c-b428-4ab9-92b6-6976ee3717b0</td>\n",
       "      <td>4.0</td>\n",
       "      <td>P91.60</td>\n",
       "      <td>False</td>\n",
       "    </tr>\n",
       "    <tr>\n",
       "      <th>146</th>\n",
       "      <td>49474dda-4fac-4b31-9110-3004fcc1dcac</td>\n",
       "      <td>3.0</td>\n",
       "      <td>P29.3</td>\n",
       "      <td>False</td>\n",
       "    </tr>\n",
       "    <tr>\n",
       "      <th>900</th>\n",
       "      <td>c79bdd53-6b8e-4ac1-a9ec-c1ff65cdd829</td>\n",
       "      <td>2.0</td>\n",
       "      <td>P20.9</td>\n",
       "      <td>False</td>\n",
       "    </tr>\n",
       "    <tr>\n",
       "      <th>437</th>\n",
       "      <td>e42a8fb0-552c-4d75-9403-df9ea67da850</td>\n",
       "      <td>2.0</td>\n",
       "      <td>P94.2</td>\n",
       "      <td>False</td>\n",
       "    </tr>\n",
       "    <tr>\n",
       "      <th>1170</th>\n",
       "      <td>fcdbad45-56f8-47da-a16a-13415be493cc</td>\n",
       "      <td>1.0</td>\n",
       "      <td>P94.2</td>\n",
       "      <td>True</td>\n",
       "    </tr>\n",
       "    <tr>\n",
       "      <th>815</th>\n",
       "      <td>ae96c7a6-dd21-42df-acfb-c408620eabba</td>\n",
       "      <td>0.0</td>\n",
       "      <td>P07.22</td>\n",
       "      <td>True</td>\n",
       "    </tr>\n",
       "    <tr>\n",
       "      <th>825</th>\n",
       "      <td>85893d1e-5387-4263-9ace-4dcb05fc7f88</td>\n",
       "      <td>0.0</td>\n",
       "      <td>P37.9</td>\n",
       "      <td>True</td>\n",
       "    </tr>\n",
       "    <tr>\n",
       "      <th>812</th>\n",
       "      <td>b2367764-2013-4863-9315-85220c42af8f</td>\n",
       "      <td>0.0</td>\n",
       "      <td>P39.1</td>\n",
       "      <td>True</td>\n",
       "    </tr>\n",
       "    <tr>\n",
       "      <th>929</th>\n",
       "      <td>b0d20a34-2c66-495a-a7c1-d3ba2373818e</td>\n",
       "      <td>0.0</td>\n",
       "      <td>P91.8</td>\n",
       "      <td>True</td>\n",
       "    </tr>\n",
       "  </tbody>\n",
       "</table>\n",
       "</div>"
      ],
      "text/plain": [
       "                                        id   age diagnosis_code  isneonatal\n",
       "227   a57acdbf-b82f-4a7c-b1ac-80e47d38dac8  67.0         P91.63       False\n",
       "1138  23ba50e7-6d40-48d8-99e9-8b279fa9c370  48.0          P91.4       False\n",
       "874   11c6214c-459c-4d2a-acf3-178eef1a6c31  40.0          P96.4       False\n",
       "353   37dededa-b459-4e37-adea-9e5a327d220e  34.0          P01.9       False\n",
       "833   eeb400ed-a970-4d73-8e53-218ae6857854  34.0          P96.0       False\n",
       "221   b69180ba-ab71-408a-a263-a5fe94000982  30.0          P27.8       False\n",
       "42    08585e77-58b8-4dfb-80f4-683935d5674b  27.0          P21.1       False\n",
       "657   e8a90a8d-a291-4a8e-a466-469c1a501105  25.0          P91.4       False\n",
       "845   6fcc4ec8-a6e9-40f2-b529-85471fffbd79  23.0          P55.1       False\n",
       "0     27f8009e-6b7c-4280-8b62-7a0b83b22159   9.0          P14.0       False\n",
       "572   3f927108-86ac-4623-95fe-b6c3ee5e9602   6.0          P83.5       False\n",
       "585   799f040c-b428-4ab9-92b6-6976ee3717b0   4.0         P91.60       False\n",
       "146   49474dda-4fac-4b31-9110-3004fcc1dcac   3.0          P29.3       False\n",
       "900   c79bdd53-6b8e-4ac1-a9ec-c1ff65cdd829   2.0          P20.9       False\n",
       "437   e42a8fb0-552c-4d75-9403-df9ea67da850   2.0          P94.2       False\n",
       "1170  fcdbad45-56f8-47da-a16a-13415be493cc   1.0          P94.2        True\n",
       "815   ae96c7a6-dd21-42df-acfb-c408620eabba   0.0         P07.22        True\n",
       "825   85893d1e-5387-4263-9ace-4dcb05fc7f88   0.0          P37.9        True\n",
       "812   b2367764-2013-4863-9315-85220c42af8f   0.0          P39.1        True\n",
       "929   b0d20a34-2c66-495a-a7c1-d3ba2373818e   0.0          P91.8        True"
      ]
     },
     "execution_count": 5,
     "metadata": {},
     "output_type": "execute_result"
    }
   ],
   "source": [
    "t1 = pd.read_csv(\"data/Task1.csv\")\n",
    "neonatal = t1.loc[t1[\"diagnosis_code\"].str.startswith(\"P\"), :].copy()\n",
    "neonatal[\"isneonatal\"] = (neonatal[\"age\"] <= 1)\n",
    "neonatal.sort_values(by=\"age\", ascending=False).head(20)"
   ]
  },
  {
   "cell_type": "markdown",
   "metadata": {},
   "source": [
    "### 2. Мед. заклади, що лікують туберкульоз, отримують щомісячне фінансування за наперед визначеним договором. Але умовою договору є наявність ліцензії на мед. практику, тому НСЗУ оплачує тільки ті дні, в які була дійсна ліцензія.\n",
    "\n",
    "У Task2.csv: edrpou - код ЄДРПОУ заклада, date - дата, has_practice - індикатор, чи була в цей день у цього закладу дійсна мед. ліцензія\n",
    "#### Порахуйте для кожного закладу частку днів, в які була дійсна ліцензія"
   ]
  },
  {
   "cell_type": "code",
   "execution_count": 6,
   "metadata": {},
   "outputs": [
    {
     "data": {
      "text/plain": [
       "edrpou\n",
       "583867      0.903226\n",
       "710206      0.580645\n",
       "28924380    0.806452\n",
       "36183874    0.129032\n",
       "48270532    0.580645\n",
       "60203807    0.903226\n",
       "87493988    0.129032\n",
       "98730183    0.354839\n",
       "98890137    0.806452\n",
       "99900152    1.000000\n",
       "Name: has_practice, dtype: float64"
      ]
     },
     "execution_count": 6,
     "metadata": {},
     "output_type": "execute_result"
    }
   ],
   "source": [
    "t2 = pd.read_csv(\"data/Task2.csv\", parse_dates=[\"date\"])\n",
    "t2.groupby(\"edrpou\")[\"has_practice\"].mean()"
   ]
  },
  {
   "cell_type": "markdown",
   "metadata": {},
   "source": [
    "_На виході має вийти наступне:_"
   ]
  },
  {
   "cell_type": "code",
   "execution_count": 7,
   "metadata": {},
   "outputs": [
    {
     "data": {
      "text/plain": [
       "edrpou\n",
       "583867      0.903226\n",
       "710206      0.580645\n",
       "28924380    0.806452\n",
       "36183874    0.129032\n",
       "48270532    0.580645\n",
       "60203807    0.903226\n",
       "87493988    0.129032\n",
       "98730183    0.354839\n",
       "98890137    0.806452\n",
       "99900152    1.000000\n",
       "Name: has_practice, dtype: float64"
      ]
     },
     "execution_count": 7,
     "metadata": {},
     "output_type": "execute_result"
    }
   ],
   "source": []
  },
  {
   "cell_type": "markdown",
   "metadata": {},
   "source": [
    "# SQL"
   ]
  },
  {
   "cell_type": "markdown",
   "metadata": {},
   "source": [
    "## Для виконання завдань по SQL використайте функцію querydf з аргументом q"
   ]
  },
  {
   "cell_type": "markdown",
   "metadata": {},
   "source": [
    "_Приклад використання для даних з_ **Task3.csv**:"
   ]
  },
  {
   "cell_type": "code",
   "execution_count": 8,
   "metadata": {},
   "outputs": [],
   "source": [
    "df = pd.read_csv('Task3.csv')"
   ]
  },
  {
   "cell_type": "code",
   "execution_count": 9,
   "metadata": {},
   "outputs": [
    {
     "data": {
      "text/html": [
       "<div>\n",
       "<style scoped>\n",
       "    .dataframe tbody tr th:only-of-type {\n",
       "        vertical-align: middle;\n",
       "    }\n",
       "\n",
       "    .dataframe tbody tr th {\n",
       "        vertical-align: top;\n",
       "    }\n",
       "\n",
       "    .dataframe thead th {\n",
       "        text-align: right;\n",
       "    }\n",
       "</style>\n",
       "<table border=\"1\" class=\"dataframe\">\n",
       "  <thead>\n",
       "    <tr style=\"text-align: right;\">\n",
       "      <th></th>\n",
       "      <th>id</th>\n",
       "      <th>date</th>\n",
       "      <th>diagnosis_code</th>\n",
       "    </tr>\n",
       "  </thead>\n",
       "  <tbody>\n",
       "    <tr>\n",
       "      <th>0</th>\n",
       "      <td>a775f995-cc76-43d2-b0f9-62a2cf4b878d</td>\n",
       "      <td>2020-05-15 05:49:48+00:00</td>\n",
       "      <td>N40</td>\n",
       "    </tr>\n",
       "    <tr>\n",
       "      <th>1</th>\n",
       "      <td>79a6b980-dde2-48f3-8785-4b6b99dab440</td>\n",
       "      <td>2020-06-11 09:06:34+00:00</td>\n",
       "      <td>N40</td>\n",
       "    </tr>\n",
       "    <tr>\n",
       "      <th>2</th>\n",
       "      <td>9bdab22e-e2aa-4cf1-acbc-c7c634b31221</td>\n",
       "      <td>2020-06-12 09:51:04+00:00</td>\n",
       "      <td>N40</td>\n",
       "    </tr>\n",
       "    <tr>\n",
       "      <th>3</th>\n",
       "      <td>71fb7bd8-12e4-42cd-888e-b96258bfd748</td>\n",
       "      <td>2020-05-25 13:58:33+00:00</td>\n",
       "      <td>N40</td>\n",
       "    </tr>\n",
       "    <tr>\n",
       "      <th>4</th>\n",
       "      <td>1507571e-346d-40dc-9af4-8414818b4d8c</td>\n",
       "      <td>2020-06-10 08:09:00+00:00</td>\n",
       "      <td>N40</td>\n",
       "    </tr>\n",
       "    <tr>\n",
       "      <th>5</th>\n",
       "      <td>2e0df61b-ced9-44e8-b0fe-0ff8996d9730</td>\n",
       "      <td>2020-05-27 14:29:17+00:00</td>\n",
       "      <td>N40</td>\n",
       "    </tr>\n",
       "    <tr>\n",
       "      <th>6</th>\n",
       "      <td>6f585b9b-2627-4360-b844-69f016c116d1</td>\n",
       "      <td>2020-05-15 05:56:27+00:00</td>\n",
       "      <td>N40</td>\n",
       "    </tr>\n",
       "    <tr>\n",
       "      <th>7</th>\n",
       "      <td>79399d3a-73e0-42d1-ab7a-c313a5e3e429</td>\n",
       "      <td>2020-05-04 07:58:00+00:00</td>\n",
       "      <td>N40</td>\n",
       "    </tr>\n",
       "    <tr>\n",
       "      <th>8</th>\n",
       "      <td>1d96b6b1-4f64-4df2-b03e-4c20e9e955ef</td>\n",
       "      <td>2020-06-22 12:55:21+00:00</td>\n",
       "      <td>N40</td>\n",
       "    </tr>\n",
       "    <tr>\n",
       "      <th>9</th>\n",
       "      <td>188f67ca-8c39-4c89-88a1-3ca8ae50b0f4</td>\n",
       "      <td>2020-06-16 11:03:00+00:00</td>\n",
       "      <td>N40</td>\n",
       "    </tr>\n",
       "    <tr>\n",
       "      <th>10</th>\n",
       "      <td>b5f041dc-87fd-4067-8468-1dd48630b109</td>\n",
       "      <td>2020-05-26 10:22:53+00:00</td>\n",
       "      <td>N40</td>\n",
       "    </tr>\n",
       "    <tr>\n",
       "      <th>11</th>\n",
       "      <td>f1ba1a0e-a229-4782-914a-420bb8f28527</td>\n",
       "      <td>2020-06-10 15:18:00+00:00</td>\n",
       "      <td>N40</td>\n",
       "    </tr>\n",
       "    <tr>\n",
       "      <th>12</th>\n",
       "      <td>5a9f4630-990b-4b10-ac5a-54d5565351d9</td>\n",
       "      <td>2020-05-27 13:29:42+00:00</td>\n",
       "      <td>N40</td>\n",
       "    </tr>\n",
       "    <tr>\n",
       "      <th>13</th>\n",
       "      <td>e411ebe7-f9f6-44cb-8c13-853bf13a6724</td>\n",
       "      <td>2020-06-09 05:08:47+00:00</td>\n",
       "      <td>N40</td>\n",
       "    </tr>\n",
       "  </tbody>\n",
       "</table>\n",
       "</div>"
      ],
      "text/plain": [
       "                                      id  ... diagnosis_code\n",
       "0   a775f995-cc76-43d2-b0f9-62a2cf4b878d  ...            N40\n",
       "1   79a6b980-dde2-48f3-8785-4b6b99dab440  ...            N40\n",
       "2   9bdab22e-e2aa-4cf1-acbc-c7c634b31221  ...            N40\n",
       "3   71fb7bd8-12e4-42cd-888e-b96258bfd748  ...            N40\n",
       "4   1507571e-346d-40dc-9af4-8414818b4d8c  ...            N40\n",
       "5   2e0df61b-ced9-44e8-b0fe-0ff8996d9730  ...            N40\n",
       "6   6f585b9b-2627-4360-b844-69f016c116d1  ...            N40\n",
       "7   79399d3a-73e0-42d1-ab7a-c313a5e3e429  ...            N40\n",
       "8   1d96b6b1-4f64-4df2-b03e-4c20e9e955ef  ...            N40\n",
       "9   188f67ca-8c39-4c89-88a1-3ca8ae50b0f4  ...            N40\n",
       "10  b5f041dc-87fd-4067-8468-1dd48630b109  ...            N40\n",
       "11  f1ba1a0e-a229-4782-914a-420bb8f28527  ...            N40\n",
       "12  5a9f4630-990b-4b10-ac5a-54d5565351d9  ...            N40\n",
       "13  e411ebe7-f9f6-44cb-8c13-853bf13a6724  ...            N40\n",
       "\n",
       "[14 rows x 3 columns]"
      ]
     },
     "execution_count": 9,
     "metadata": {},
     "output_type": "execute_result"
    }
   ],
   "source": [
    "q = \"select * from df where diagnosis_code = 'N40'\"\n",
    "querydf(q)"
   ]
  },
  {
   "cell_type": "markdown",
   "metadata": {},
   "source": [
    "### 3. Напишіть sql запит, щоб відфільтрувати серед мед. записів з Task3.csv всі записи за травень\n",
    "\n",
    "У Task3.csv: id - ідентифікатор мед. запису, date - дата випадку, diagnosis_code - код діагноза"
   ]
  },
  {
   "cell_type": "code",
   "execution_count": 10,
   "metadata": {},
   "outputs": [
    {
     "data": {
      "text/html": [
       "<div>\n",
       "<style scoped>\n",
       "    .dataframe tbody tr th:only-of-type {\n",
       "        vertical-align: middle;\n",
       "    }\n",
       "\n",
       "    .dataframe tbody tr th {\n",
       "        vertical-align: top;\n",
       "    }\n",
       "\n",
       "    .dataframe thead th {\n",
       "        text-align: right;\n",
       "    }\n",
       "</style>\n",
       "<table border=\"1\" class=\"dataframe\">\n",
       "  <thead>\n",
       "    <tr style=\"text-align: right;\">\n",
       "      <th></th>\n",
       "      <th>id</th>\n",
       "      <th>date</th>\n",
       "      <th>diagnosis_code</th>\n",
       "    </tr>\n",
       "  </thead>\n",
       "  <tbody>\n",
       "    <tr>\n",
       "      <th>0</th>\n",
       "      <td>a775f995-cc76-43d2-b0f9-62a2cf4b878d</td>\n",
       "      <td>2020-05-15 05:49:48.000000</td>\n",
       "      <td>N40</td>\n",
       "    </tr>\n",
       "    <tr>\n",
       "      <th>1</th>\n",
       "      <td>2d3315bb-fa4f-4f0a-a998-ebda79bd6837</td>\n",
       "      <td>2020-05-05 09:45:47.000000</td>\n",
       "      <td>M19.88</td>\n",
       "    </tr>\n",
       "    <tr>\n",
       "      <th>2</th>\n",
       "      <td>bfa68d5c-bab4-4844-a83f-8023882520ce</td>\n",
       "      <td>2020-05-14 10:32:09.000000</td>\n",
       "      <td>E10.71</td>\n",
       "    </tr>\n",
       "    <tr>\n",
       "      <th>3</th>\n",
       "      <td>3675297b-22ef-437f-bb41-91e54ea5f827</td>\n",
       "      <td>2020-05-22 07:02:16.000000</td>\n",
       "      <td>H25.0</td>\n",
       "    </tr>\n",
       "    <tr>\n",
       "      <th>4</th>\n",
       "      <td>67ae0828-5bb0-4a2d-8166-9e8713755ad3</td>\n",
       "      <td>2020-05-26 10:24:06.000000</td>\n",
       "      <td>S42.20</td>\n",
       "    </tr>\n",
       "  </tbody>\n",
       "</table>\n",
       "</div>"
      ],
      "text/plain": [
       "                                     id  ... diagnosis_code\n",
       "0  a775f995-cc76-43d2-b0f9-62a2cf4b878d  ...            N40\n",
       "1  2d3315bb-fa4f-4f0a-a998-ebda79bd6837  ...         M19.88\n",
       "2  bfa68d5c-bab4-4844-a83f-8023882520ce  ...         E10.71\n",
       "3  3675297b-22ef-437f-bb41-91e54ea5f827  ...          H25.0\n",
       "4  67ae0828-5bb0-4a2d-8166-9e8713755ad3  ...         S42.20\n",
       "\n",
       "[5 rows x 3 columns]"
      ]
     },
     "execution_count": 10,
     "metadata": {},
     "output_type": "execute_result"
    }
   ],
   "source": [
    "t3 = pd.read_csv(\"data/Task3.csv\", parse_dates=[\"date\"])\n",
    "q = \"select * from t3 where strftime('%m', date) == '05'\"\n",
    "querydf(q).head() "
   ]
  },
  {
   "cell_type": "markdown",
   "metadata": {},
   "source": [
    "### 4. У файлі Task4.csv наведені дані по виписаним електронним направленням до лікаря. Деякі пацієнти отримали вже декілька направлень. Напишіть sql запит, який повертає список пацієнтів, які отримали більше 5 направлень, і кількість направлень, які вони отримали\n",
    "\n",
    "У Task4.csv: request_id - ідентифікатор направлення, patient_id - ідентифікатор пацієнта"
   ]
  },
  {
   "cell_type": "code",
   "execution_count": 11,
   "metadata": {},
   "outputs": [
    {
     "data": {
      "text/html": [
       "<div>\n",
       "<style scoped>\n",
       "    .dataframe tbody tr th:only-of-type {\n",
       "        vertical-align: middle;\n",
       "    }\n",
       "\n",
       "    .dataframe tbody tr th {\n",
       "        vertical-align: top;\n",
       "    }\n",
       "\n",
       "    .dataframe thead th {\n",
       "        text-align: right;\n",
       "    }\n",
       "</style>\n",
       "<table border=\"1\" class=\"dataframe\">\n",
       "  <thead>\n",
       "    <tr style=\"text-align: right;\">\n",
       "      <th></th>\n",
       "      <th>patient_id</th>\n",
       "      <th>count(request_id)</th>\n",
       "    </tr>\n",
       "  </thead>\n",
       "  <tbody>\n",
       "    <tr>\n",
       "      <th>0</th>\n",
       "      <td>033A0656200DF275B082C33033FF400429CC2E25155671...</td>\n",
       "      <td>6</td>\n",
       "    </tr>\n",
       "    <tr>\n",
       "      <th>1</th>\n",
       "      <td>0488F500C1332E6977E21C603900CBAA01A1B76A57FA32...</td>\n",
       "      <td>6</td>\n",
       "    </tr>\n",
       "    <tr>\n",
       "      <th>2</th>\n",
       "      <td>0A64EC8D80D6919E9CFB338E1B4E3998E785D405A27885...</td>\n",
       "      <td>6</td>\n",
       "    </tr>\n",
       "    <tr>\n",
       "      <th>3</th>\n",
       "      <td>10AE2F9D74AFC7DFD9308C8344BB331799600E623C3808...</td>\n",
       "      <td>6</td>\n",
       "    </tr>\n",
       "    <tr>\n",
       "      <th>4</th>\n",
       "      <td>14184622CC44525E8D7572E90A5224A94648CA50864370...</td>\n",
       "      <td>7</td>\n",
       "    </tr>\n",
       "  </tbody>\n",
       "</table>\n",
       "</div>"
      ],
      "text/plain": [
       "                                          patient_id  count(request_id)\n",
       "0  033A0656200DF275B082C33033FF400429CC2E25155671...                  6\n",
       "1  0488F500C1332E6977E21C603900CBAA01A1B76A57FA32...                  6\n",
       "2  0A64EC8D80D6919E9CFB338E1B4E3998E785D405A27885...                  6\n",
       "3  10AE2F9D74AFC7DFD9308C8344BB331799600E623C3808...                  6\n",
       "4  14184622CC44525E8D7572E90A5224A94648CA50864370...                  7"
      ]
     },
     "execution_count": 11,
     "metadata": {},
     "output_type": "execute_result"
    }
   ],
   "source": [
    "t4 = pd.read_csv(\"data/Task4.csv\")\n",
    "q = \"\"\" select patient_id, count(request_id)\n",
    "        from t4        \n",
    "        group by patient_id\n",
    "        having count(request_id) > 5\"\"\"\n",
    "querydf(q).head()"
   ]
  }
 ],
 "metadata": {
  "kernelspec": {
   "display_name": "Python 3 (Spyder)",
   "language": "python3",
   "name": "python3"
  },
  "language_info": {
   "codemirror_mode": {
    "name": "ipython",
    "version": 3
   },
   "file_extension": ".py",
   "mimetype": "text/x-python",
   "name": "python",
   "nbconvert_exporter": "python",
   "pygments_lexer": "ipython3",
   "version": "3.7.7"
  }
 },
 "nbformat": 4,
 "nbformat_minor": 2
}
