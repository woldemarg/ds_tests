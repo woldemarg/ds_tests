{
 "cells": [
  {
   "cell_type": "markdown",
   "metadata": {
    "collapsed": true
   },
   "source": [
    "# Виконайте завдання в цьому файлі і надішліть його у відповідь на пошту"
   ]
  },
  {
   "cell_type": "code",
   "execution_count": null,
   "metadata": {},
   "outputs": [],
   "source": [
    "!pip install pandasql"
   ]
  },
  {
   "cell_type": "code",
   "execution_count": 1,
   "metadata": {},
   "outputs": [],
   "source": [
    "from pandasql import sqldf"
   ]
  },
  {
   "cell_type": "code",
   "execution_count": 2,
   "metadata": {},
   "outputs": [],
   "source": [
    "import pandas as pd"
   ]
  },
  {
   "cell_type": "code",
   "execution_count": 3,
   "metadata": {},
   "outputs": [],
   "source": [
    "querydf = lambda q: sqldf(q, globals())"
   ]
  },
  {
   "cell_type": "markdown",
   "metadata": {},
   "source": [
    "# Pandas"
   ]
  },
  {
   "cell_type": "markdown",
   "metadata": {},
   "source": [
    "### 1. Для даних з файлу Task1.csv знайдіть всі мед. випадки, що стосуються новонароджених (діагноз починається з латинської \"P\"). Для них перевірте, чи в них коректно заповнений вік (до 1 року включно).\n",
    "#### Створіть колонку isneonatal, яку заповніть значеннями True для валідних випадків з новонародженими і False в іншому разі.\n",
    "У Task1.csv: id - ідентифікатор мед. випадку, age - вік пацієнта у роках, diagnosis_code - код діагноза"
   ]
  },
  {
   "cell_type": "code",
   "execution_count": null,
   "metadata": {},
   "outputs": [],
   "source": []
  },
  {
   "cell_type": "markdown",
   "metadata": {},
   "source": [
    "### 2. Мед. заклади, що лікують туберкульоз, отримують щомісячне фінансування за наперед визначеним договором. Але умовою договору є наявність ліцензії на мед. практику, тому НСЗУ оплачує тільки ті дні, в які була дійсна ліцензія.\n",
    "\n",
    "У Task2.csv: edrpou - код ЄДРПОУ заклада, date - дата, has_practice - індикатор, чи була в цей день у цього закладу дійсна мед. ліцензія\n",
    "#### Порахуйте для кожного закладу частку днів, в які була дійсна ліцензія"
   ]
  },
  {
   "cell_type": "code",
   "execution_count": null,
   "metadata": {},
   "outputs": [],
   "source": []
  },
  {
   "cell_type": "markdown",
   "metadata": {},
   "source": [
    "_На виході має вийти наступне:_"
   ]
  },
  {
   "cell_type": "code",
   "execution_count": 103,
   "metadata": {},
   "outputs": [
    {
     "data": {
      "text/plain": [
       "edrpou\n",
       "583867      0.903226\n",
       "710206      0.580645\n",
       "28924380    0.806452\n",
       "36183874    0.129032\n",
       "48270532    0.580645\n",
       "60203807    0.903226\n",
       "87493988    0.129032\n",
       "98730183    0.354839\n",
       "98890137    0.806452\n",
       "99900152    1.000000\n",
       "Name: has_practice, dtype: float64"
      ]
     },
     "execution_count": 103,
     "metadata": {},
     "output_type": "execute_result"
    }
   ],
   "source": []
  },
  {
   "cell_type": "markdown",
   "metadata": {},
   "source": [
    "# SQL"
   ]
  },
  {
   "cell_type": "markdown",
   "metadata": {},
   "source": [
    "## Для виконання завдань по SQL використайте функцію querydf з аргументом q"
   ]
  },
  {
   "cell_type": "markdown",
   "metadata": {},
   "source": [
    "_Приклад використання для даних з_ **Task3.csv**:"
   ]
  },
  {
   "cell_type": "code",
   "execution_count": 4,
   "metadata": {},
   "outputs": [],
   "source": [
    "df = pd.read_csv('Task3.csv')"
   ]
  },
  {
   "cell_type": "code",
   "execution_count": 5,
   "metadata": {},
   "outputs": [
    {
     "data": {
      "text/html": [
       "<div>\n",
       "<style scoped>\n",
       "    .dataframe tbody tr th:only-of-type {\n",
       "        vertical-align: middle;\n",
       "    }\n",
       "\n",
       "    .dataframe tbody tr th {\n",
       "        vertical-align: top;\n",
       "    }\n",
       "\n",
       "    .dataframe thead th {\n",
       "        text-align: right;\n",
       "    }\n",
       "</style>\n",
       "<table border=\"1\" class=\"dataframe\">\n",
       "  <thead>\n",
       "    <tr style=\"text-align: right;\">\n",
       "      <th></th>\n",
       "      <th>id</th>\n",
       "      <th>date</th>\n",
       "      <th>diagnosis_code</th>\n",
       "    </tr>\n",
       "  </thead>\n",
       "  <tbody>\n",
       "    <tr>\n",
       "      <td>0</td>\n",
       "      <td>a775f995-cc76-43d2-b0f9-62a2cf4b878d</td>\n",
       "      <td>2020-05-15 05:49:48+00:00</td>\n",
       "      <td>N40</td>\n",
       "    </tr>\n",
       "    <tr>\n",
       "      <td>1</td>\n",
       "      <td>79a6b980-dde2-48f3-8785-4b6b99dab440</td>\n",
       "      <td>2020-06-11 09:06:34+00:00</td>\n",
       "      <td>N40</td>\n",
       "    </tr>\n",
       "    <tr>\n",
       "      <td>2</td>\n",
       "      <td>9bdab22e-e2aa-4cf1-acbc-c7c634b31221</td>\n",
       "      <td>2020-06-12 09:51:04+00:00</td>\n",
       "      <td>N40</td>\n",
       "    </tr>\n",
       "    <tr>\n",
       "      <td>3</td>\n",
       "      <td>71fb7bd8-12e4-42cd-888e-b96258bfd748</td>\n",
       "      <td>2020-05-25 13:58:33+00:00</td>\n",
       "      <td>N40</td>\n",
       "    </tr>\n",
       "    <tr>\n",
       "      <td>4</td>\n",
       "      <td>1507571e-346d-40dc-9af4-8414818b4d8c</td>\n",
       "      <td>2020-06-10 08:09:00+00:00</td>\n",
       "      <td>N40</td>\n",
       "    </tr>\n",
       "    <tr>\n",
       "      <td>5</td>\n",
       "      <td>2e0df61b-ced9-44e8-b0fe-0ff8996d9730</td>\n",
       "      <td>2020-05-27 14:29:17+00:00</td>\n",
       "      <td>N40</td>\n",
       "    </tr>\n",
       "    <tr>\n",
       "      <td>6</td>\n",
       "      <td>6f585b9b-2627-4360-b844-69f016c116d1</td>\n",
       "      <td>2020-05-15 05:56:27+00:00</td>\n",
       "      <td>N40</td>\n",
       "    </tr>\n",
       "    <tr>\n",
       "      <td>7</td>\n",
       "      <td>79399d3a-73e0-42d1-ab7a-c313a5e3e429</td>\n",
       "      <td>2020-05-04 07:58:00+00:00</td>\n",
       "      <td>N40</td>\n",
       "    </tr>\n",
       "    <tr>\n",
       "      <td>8</td>\n",
       "      <td>1d96b6b1-4f64-4df2-b03e-4c20e9e955ef</td>\n",
       "      <td>2020-06-22 12:55:21+00:00</td>\n",
       "      <td>N40</td>\n",
       "    </tr>\n",
       "    <tr>\n",
       "      <td>9</td>\n",
       "      <td>188f67ca-8c39-4c89-88a1-3ca8ae50b0f4</td>\n",
       "      <td>2020-06-16 11:03:00+00:00</td>\n",
       "      <td>N40</td>\n",
       "    </tr>\n",
       "    <tr>\n",
       "      <td>10</td>\n",
       "      <td>b5f041dc-87fd-4067-8468-1dd48630b109</td>\n",
       "      <td>2020-05-26 10:22:53+00:00</td>\n",
       "      <td>N40</td>\n",
       "    </tr>\n",
       "    <tr>\n",
       "      <td>11</td>\n",
       "      <td>f1ba1a0e-a229-4782-914a-420bb8f28527</td>\n",
       "      <td>2020-06-10 15:18:00+00:00</td>\n",
       "      <td>N40</td>\n",
       "    </tr>\n",
       "    <tr>\n",
       "      <td>12</td>\n",
       "      <td>5a9f4630-990b-4b10-ac5a-54d5565351d9</td>\n",
       "      <td>2020-05-27 13:29:42+00:00</td>\n",
       "      <td>N40</td>\n",
       "    </tr>\n",
       "    <tr>\n",
       "      <td>13</td>\n",
       "      <td>e411ebe7-f9f6-44cb-8c13-853bf13a6724</td>\n",
       "      <td>2020-06-09 05:08:47+00:00</td>\n",
       "      <td>N40</td>\n",
       "    </tr>\n",
       "  </tbody>\n",
       "</table>\n",
       "</div>"
      ],
      "text/plain": [
       "                                      id                       date  \\\n",
       "0   a775f995-cc76-43d2-b0f9-62a2cf4b878d  2020-05-15 05:49:48+00:00   \n",
       "1   79a6b980-dde2-48f3-8785-4b6b99dab440  2020-06-11 09:06:34+00:00   \n",
       "2   9bdab22e-e2aa-4cf1-acbc-c7c634b31221  2020-06-12 09:51:04+00:00   \n",
       "3   71fb7bd8-12e4-42cd-888e-b96258bfd748  2020-05-25 13:58:33+00:00   \n",
       "4   1507571e-346d-40dc-9af4-8414818b4d8c  2020-06-10 08:09:00+00:00   \n",
       "5   2e0df61b-ced9-44e8-b0fe-0ff8996d9730  2020-05-27 14:29:17+00:00   \n",
       "6   6f585b9b-2627-4360-b844-69f016c116d1  2020-05-15 05:56:27+00:00   \n",
       "7   79399d3a-73e0-42d1-ab7a-c313a5e3e429  2020-05-04 07:58:00+00:00   \n",
       "8   1d96b6b1-4f64-4df2-b03e-4c20e9e955ef  2020-06-22 12:55:21+00:00   \n",
       "9   188f67ca-8c39-4c89-88a1-3ca8ae50b0f4  2020-06-16 11:03:00+00:00   \n",
       "10  b5f041dc-87fd-4067-8468-1dd48630b109  2020-05-26 10:22:53+00:00   \n",
       "11  f1ba1a0e-a229-4782-914a-420bb8f28527  2020-06-10 15:18:00+00:00   \n",
       "12  5a9f4630-990b-4b10-ac5a-54d5565351d9  2020-05-27 13:29:42+00:00   \n",
       "13  e411ebe7-f9f6-44cb-8c13-853bf13a6724  2020-06-09 05:08:47+00:00   \n",
       "\n",
       "   diagnosis_code  \n",
       "0             N40  \n",
       "1             N40  \n",
       "2             N40  \n",
       "3             N40  \n",
       "4             N40  \n",
       "5             N40  \n",
       "6             N40  \n",
       "7             N40  \n",
       "8             N40  \n",
       "9             N40  \n",
       "10            N40  \n",
       "11            N40  \n",
       "12            N40  \n",
       "13            N40  "
      ]
     },
     "execution_count": 5,
     "metadata": {},
     "output_type": "execute_result"
    }
   ],
   "source": [
    "q = \"select * from df where diagnosis_code = 'N40'\"\n",
    "querydf(q)"
   ]
  },
  {
   "cell_type": "markdown",
   "metadata": {},
   "source": [
    "### 3. Напишіть sql запит, щоб відфільтрувати серед мед. записів з Task3.csv всі записи за травень\n",
    "\n",
    "У Task3.csv: id - ідентифікатор мед. запису, date - дата випадку, diagnosis_code - код діагноза"
   ]
  },
  {
   "cell_type": "code",
   "execution_count": null,
   "metadata": {},
   "outputs": [],
   "source": [
    "q = ''"
   ]
  },
  {
   "cell_type": "markdown",
   "metadata": {},
   "source": [
    "### 4. У файлі Task4.csv наведені дані по виписаним електронним направленням до лікаря. Деякі пацієнти отримали вже декілька направлень. Напишіть sql запит, який повертає список пацієнтів, які отримали більше 5 направлень, і кількість направлень, які вони отримали\n",
    "\n",
    "У Task4.csv: request_id - ідентифікатор направлення, patient_id - ідентифікатор пацієнта"
   ]
  },
  {
   "cell_type": "code",
   "execution_count": null,
   "metadata": {},
   "outputs": [],
   "source": [
    "q = ''"
   ]
  }
 ],
 "metadata": {
  "kernelspec": {
   "display_name": "Python 3 (Spyder)",
   "language": "python3",
   "name": "python3"
  },
  "language_info": {
   "codemirror_mode": {
    "name": "ipython",
    "version": 3
   },
   "file_extension": ".py",
   "mimetype": "text/x-python",
   "name": "python",
   "nbconvert_exporter": "python",
   "pygments_lexer": "ipython3",
   "version": "3.7.7"
  }
 },
 "nbformat": 4,
 "nbformat_minor": 2
}
