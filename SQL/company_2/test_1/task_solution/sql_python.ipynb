{
  "nbformat": 4,
  "nbformat_minor": 0,
  "metadata": {
    "colab": {
      "name": "sql_python.ipynb",
      "provenance": [],
      "collapsed_sections": [
        "M7DBFuGR2sOf",
        "nSbomy1lAoUQ",
        "xXGHHXR4Puhf",
        "Faeu8LE_EJrn",
        "iUgZH6HHBure",
        "TkR5aEZ2B-ZX",
        "Yhk01JGAP5BY",
        "hNVCcrd6NLbK",
        "wx0XiUWSPfZH",
        "htyDfiH0Pj_u",
        "_u9Zu_kLR8R1",
        "-PFpQ1cXSnDE",
        "zb0Mm0P4ZtnP",
        "I5rGhaReZ8Zp",
        "fSfe0lpckh6S",
        "IP3jSxxz0NlQ",
        "13TJpNOrktGU",
        "z_dtCGRmk1fT",
        "toPUx4iXnlfm",
        "fRCpqdcV8v0I",
        "rlcmyUuwokYU",
        "MRJPkzijopji",
        "OoYG1LIfBMOF"
      ]
    },
    "kernelspec": {
      "name": "python3",
      "display_name": "Python 3"
    }
  },
  "cells": [
    {
      "cell_type": "code",
      "metadata": {
        "id": "o4jmRBp83bfS",
        "colab_type": "code",
        "colab": {}
      },
      "source": [
        "import sqlite3\n",
        "from sqlite3 import Error\n",
        "import pandas as pd"
      ],
      "execution_count": 0,
      "outputs": []
    },
    {
      "cell_type": "code",
      "metadata": {
        "id": "mgzQjyu4yMMZ",
        "colab_type": "code",
        "colab": {}
      },
      "source": [
        "def setup_task(queries):\n",
        "  \"\"\" Create database residing in RAM,\n",
        "  create tables with sql queries,\n",
        "  return db connection. \"\"\"\n",
        "  conn = None\n",
        "  try:\n",
        "    conn = sqlite3.connect(':memory:')\n",
        "    cur = conn.cursor()\n",
        "    for query in queries:\n",
        "      cur.execute(query)     \n",
        "  except Error as e:\n",
        "    print(e)\n",
        "  else:\n",
        "    print(\"DB setup has been successfully completed!\")\n",
        "    return conn"
      ],
      "execution_count": 0,
      "outputs": []
    },
    {
      "cell_type": "markdown",
      "metadata": {
        "id": "M7DBFuGR2sOf",
        "colab_type": "text"
      },
      "source": [
        "# Task 1: Departments' salaries"
      ]
    },
    {
      "cell_type": "markdown",
      "metadata": {
        "id": "nSbomy1lAoUQ",
        "colab_type": "text"
      },
      "source": [
        "## Setup task 1"
      ]
    },
    {
      "cell_type": "code",
      "metadata": {
        "id": "dmmeobqx7Us9",
        "colab_type": "code",
        "colab": {}
      },
      "source": [
        "create_departments =  \"\"\" CREATE TABLE IF NOT EXISTS departments (\n",
        "                                        id integer PRIMARY KEY,\n",
        "                                        name text NOT NULL                                        \n",
        "                                        );\n",
        "                      \"\"\""
      ],
      "execution_count": 0,
      "outputs": []
    },
    {
      "cell_type": "code",
      "metadata": {
        "id": "Ym7gAMsO-i9U",
        "colab_type": "code",
        "colab": {}
      },
      "source": [
        "insert_departments =  \"\"\" INSERT INTO departments (id, name)\n",
        "                          VALUES\n",
        "\t                        (\"1\", \"IT\"),\n",
        "                          (\"2\", \"Sales\");\t\n",
        "                      \"\"\""
      ],
      "execution_count": 0,
      "outputs": []
    },
    {
      "cell_type": "code",
      "metadata": {
        "id": "i6_Z_b9PGUo4",
        "colab_type": "code",
        "colab": {}
      },
      "source": [
        "create_employees =  \"\"\" CREATE TABLE IF NOT EXISTS employees (\n",
        "                                        id integer PRIMARY KEY,\n",
        "                                        name text NOT NULL,\n",
        "                                        salary integer NOT NULL,\n",
        "                                        department_id integer NOT NULL,\n",
        "                                        FOREIGN KEY(department_id) REFERENCES departments(id)                                        \n",
        "                                        );\n",
        "                    \"\"\""
      ],
      "execution_count": 0,
      "outputs": []
    },
    {
      "cell_type": "code",
      "metadata": {
        "id": "Ngu_oRWsMkPo",
        "colab_type": "code",
        "colab": {}
      },
      "source": [
        "insert_employees =  \"\"\" INSERT INTO employees (id, name, salary, department_id)\n",
        "                        VALUES\n",
        "\t                      (\"1\", \"Joe\", \"70000\", \"1\"),\n",
        "                        (\"2\", \"Henry\", \"80000\", \"2\"),\n",
        "                        (\"3\", \"Sam\", \"60000\", \"2\"),\n",
        "                        (\"4\", \"Max\", \"90000\", \"1\");\n",
        "                    \"\"\""
      ],
      "execution_count": 0,
      "outputs": []
    },
    {
      "cell_type": "code",
      "metadata": {
        "id": "wmua0DcJ0vHc",
        "colab_type": "code",
        "outputId": "4b7c5090-cb2d-48aa-aaec-1860753fe4cc",
        "colab": {
          "base_uri": "https://localhost:8080/",
          "height": 34
        }
      },
      "source": [
        "task_1_conn = setup_task([create_departments, insert_departments, create_employees, insert_employees])"
      ],
      "execution_count": 0,
      "outputs": [
        {
          "output_type": "stream",
          "text": [
            "DB setup has been successfully completed!\n"
          ],
          "name": "stdout"
        }
      ]
    },
    {
      "cell_type": "markdown",
      "metadata": {
        "id": "xXGHHXR4Puhf",
        "colab_type": "text"
      },
      "source": [
        "## Solutions task 1 (SQL)"
      ]
    },
    {
      "cell_type": "markdown",
      "metadata": {
        "id": "W66Z3gbWA2gs",
        "colab_type": "text"
      },
      "source": [
        "1.1. Напишите SQL запрос, который найдет самые большие зарплаты для каждого департамента\n"
      ]
    },
    {
      "cell_type": "code",
      "metadata": {
        "id": "6HtMCWzjEDBB",
        "colab_type": "code",
        "outputId": "5937961e-b731-4397-ac32-64d3dca54b13",
        "colab": {
          "base_uri": "https://localhost:8080/",
          "height": 142
        }
      },
      "source": [
        "pd.read_sql_query(\"\"\" SELECT department_id, t1.name, MAX(salary) AS max_salary\n",
        "                      FROM departments t1\n",
        "                      INNER JOIN employees t2\n",
        "                      ON t1.id = t2.department_id\n",
        "                      GROUP BY department_id; \"\"\",\n",
        "                  task_1_conn,\n",
        "                  index_col=\"department_id\")"
      ],
      "execution_count": 0,
      "outputs": [
        {
          "output_type": "execute_result",
          "data": {
            "text/html": [
              "<div>\n",
              "<style scoped>\n",
              "    .dataframe tbody tr th:only-of-type {\n",
              "        vertical-align: middle;\n",
              "    }\n",
              "\n",
              "    .dataframe tbody tr th {\n",
              "        vertical-align: top;\n",
              "    }\n",
              "\n",
              "    .dataframe thead th {\n",
              "        text-align: right;\n",
              "    }\n",
              "</style>\n",
              "<table border=\"1\" class=\"dataframe\">\n",
              "  <thead>\n",
              "    <tr style=\"text-align: right;\">\n",
              "      <th></th>\n",
              "      <th>name</th>\n",
              "      <th>max_salary</th>\n",
              "    </tr>\n",
              "    <tr>\n",
              "      <th>department_id</th>\n",
              "      <th></th>\n",
              "      <th></th>\n",
              "    </tr>\n",
              "  </thead>\n",
              "  <tbody>\n",
              "    <tr>\n",
              "      <th>1</th>\n",
              "      <td>IT</td>\n",
              "      <td>90000</td>\n",
              "    </tr>\n",
              "    <tr>\n",
              "      <th>2</th>\n",
              "      <td>Sales</td>\n",
              "      <td>80000</td>\n",
              "    </tr>\n",
              "  </tbody>\n",
              "</table>\n",
              "</div>"
            ],
            "text/plain": [
              "                name  max_salary\n",
              "department_id                   \n",
              "1                 IT       90000\n",
              "2              Sales       80000"
            ]
          },
          "metadata": {
            "tags": []
          },
          "execution_count": 8
        }
      ]
    },
    {
      "cell_type": "markdown",
      "metadata": {
        "id": "WFIRtWEVA_sO",
        "colab_type": "text"
      },
      "source": [
        "1.2. Напишите SQL запрос, который найдет среднюю зарплату для каждого департамента, исключая департаменты, в кот. средняя зарплата равна или ниже 7000"
      ]
    },
    {
      "cell_type": "code",
      "metadata": {
        "id": "kj8p2oCq766z",
        "colab_type": "code",
        "outputId": "0484733a-999f-4280-de24-84f3d672bf1e",
        "colab": {
          "base_uri": "https://localhost:8080/",
          "height": 111
        }
      },
      "source": [
        "pd.read_sql_query(\"\"\" SELECT department_id, t1.name, AVG(salary) AS avg_salary\n",
        "                      FROM departments t1\n",
        "                      INNER JOIN employees t2\n",
        "                      ON t1.id = t2.department_id\n",
        "                      GROUP BY department_id\n",
        "                      HAVING AVG(salary) > 70000; \"\"\",\n",
        "                  task_1_conn,\n",
        "                  index_col=\"department_id\")"
      ],
      "execution_count": 0,
      "outputs": [
        {
          "output_type": "execute_result",
          "data": {
            "text/html": [
              "<div>\n",
              "<style scoped>\n",
              "    .dataframe tbody tr th:only-of-type {\n",
              "        vertical-align: middle;\n",
              "    }\n",
              "\n",
              "    .dataframe tbody tr th {\n",
              "        vertical-align: top;\n",
              "    }\n",
              "\n",
              "    .dataframe thead th {\n",
              "        text-align: right;\n",
              "    }\n",
              "</style>\n",
              "<table border=\"1\" class=\"dataframe\">\n",
              "  <thead>\n",
              "    <tr style=\"text-align: right;\">\n",
              "      <th></th>\n",
              "      <th>name</th>\n",
              "      <th>avg_salary</th>\n",
              "    </tr>\n",
              "    <tr>\n",
              "      <th>department_id</th>\n",
              "      <th></th>\n",
              "      <th></th>\n",
              "    </tr>\n",
              "  </thead>\n",
              "  <tbody>\n",
              "    <tr>\n",
              "      <th>1</th>\n",
              "      <td>IT</td>\n",
              "      <td>80000.0</td>\n",
              "    </tr>\n",
              "  </tbody>\n",
              "</table>\n",
              "</div>"
            ],
            "text/plain": [
              "              name  avg_salary\n",
              "department_id                 \n",
              "1               IT     80000.0"
            ]
          },
          "metadata": {
            "tags": []
          },
          "execution_count": 9
        }
      ]
    },
    {
      "cell_type": "markdown",
      "metadata": {
        "id": "qp3OyQ-pBE6H",
        "colab_type": "text"
      },
      "source": [
        "1.3. Напишите SQL запрос, чтобы найти вторую самую высокую зарплату работника"
      ]
    },
    {
      "cell_type": "code",
      "metadata": {
        "id": "fyJqeZ5M94tU",
        "colab_type": "code",
        "outputId": "b177a0fd-8836-4481-e92e-fccff5de98e8",
        "colab": {
          "base_uri": "https://localhost:8080/",
          "height": 80
        }
      },
      "source": [
        "pd.read_sql_query(\"\"\" SELECT MAX(salary) AS second_max_salary\n",
        "                      FROM employees\n",
        "                      WHERE salary < (SELECT MAX(salary)\n",
        "                                      FROM employees); \"\"\",\n",
        "                  task_1_conn)"
      ],
      "execution_count": 0,
      "outputs": [
        {
          "output_type": "execute_result",
          "data": {
            "text/html": [
              "<div>\n",
              "<style scoped>\n",
              "    .dataframe tbody tr th:only-of-type {\n",
              "        vertical-align: middle;\n",
              "    }\n",
              "\n",
              "    .dataframe tbody tr th {\n",
              "        vertical-align: top;\n",
              "    }\n",
              "\n",
              "    .dataframe thead th {\n",
              "        text-align: right;\n",
              "    }\n",
              "</style>\n",
              "<table border=\"1\" class=\"dataframe\">\n",
              "  <thead>\n",
              "    <tr style=\"text-align: right;\">\n",
              "      <th></th>\n",
              "      <th>second_max_salary</th>\n",
              "    </tr>\n",
              "  </thead>\n",
              "  <tbody>\n",
              "    <tr>\n",
              "      <th>0</th>\n",
              "      <td>80000</td>\n",
              "    </tr>\n",
              "  </tbody>\n",
              "</table>\n",
              "</div>"
            ],
            "text/plain": [
              "   second_max_salary\n",
              "0              80000"
            ]
          },
          "metadata": {
            "tags": []
          },
          "execution_count": 10
        }
      ]
    },
    {
      "cell_type": "markdown",
      "metadata": {
        "id": "I9zuc_9TQuBF",
        "colab_type": "text"
      },
      "source": [
        "1.4. Сделать несколько вариантов для пункта 1.3 и провести профайлинг и выбрать какой запрос лучше. Как вы думаете почему\n",
        "\n"
      ]
    },
    {
      "cell_type": "code",
      "metadata": {
        "id": "B44CmeIci4yP",
        "colab_type": "code",
        "outputId": "2295a703-a4b9-496e-ea72-f2ea74c67918",
        "colab": {
          "base_uri": "https://localhost:8080/",
          "height": 80
        }
      },
      "source": [
        "pd.read_sql_query(\"\"\" SELECT salary AS second_max_salary\n",
        "                      FROM employees\n",
        "                      ORDER BY salary DESC\n",
        "                      LIMIT 1, 1; \"\"\",\n",
        "                  task_1_conn)"
      ],
      "execution_count": 0,
      "outputs": [
        {
          "output_type": "execute_result",
          "data": {
            "text/html": [
              "<div>\n",
              "<style scoped>\n",
              "    .dataframe tbody tr th:only-of-type {\n",
              "        vertical-align: middle;\n",
              "    }\n",
              "\n",
              "    .dataframe tbody tr th {\n",
              "        vertical-align: top;\n",
              "    }\n",
              "\n",
              "    .dataframe thead th {\n",
              "        text-align: right;\n",
              "    }\n",
              "</style>\n",
              "<table border=\"1\" class=\"dataframe\">\n",
              "  <thead>\n",
              "    <tr style=\"text-align: right;\">\n",
              "      <th></th>\n",
              "      <th>second_max_salary</th>\n",
              "    </tr>\n",
              "  </thead>\n",
              "  <tbody>\n",
              "    <tr>\n",
              "      <th>0</th>\n",
              "      <td>80000</td>\n",
              "    </tr>\n",
              "  </tbody>\n",
              "</table>\n",
              "</div>"
            ],
            "text/plain": [
              "   second_max_salary\n",
              "0              80000"
            ]
          },
          "metadata": {
            "tags": []
          },
          "execution_count": 11
        }
      ]
    },
    {
      "cell_type": "markdown",
      "metadata": {
        "id": "Nopoqp2pUon2",
        "colab_type": "text"
      },
      "source": [
        "Время работы алгоритмов п. 1.3 и 1.4: \n",
        "\n",
        "- для п.1.4: **O(n) = N^2** (для большинства алгоритмов сортировки)\n",
        "- для п.1.3: **O(n) = 3*N**: N (поиск максимального значения по исходному массиву) + N (отбор элементов меньше максимального значения) + N (выбор максимального значения из офильтрованого массива)"
      ]
    },
    {
      "cell_type": "code",
      "metadata": {
        "id": "QUY7bi7eRpvy",
        "colab_type": "code",
        "outputId": "34afb3a2-9d9b-4b16-8c5a-8671eafce5bc",
        "colab": {
          "base_uri": "https://localhost:8080/",
          "height": 119
        }
      },
      "source": [
        "prof_1_3 = (task_1_conn\n",
        "          .execute(\n",
        "          \"\"\" EXPLAIN QUERY PLAN\n",
        "                SELECT MAX(salary) AS second_max_salary\n",
        "                FROM employees\n",
        "                WHERE salary < (SELECT MAX(salary)\n",
        "                                FROM employees);\"\"\")\n",
        "          .fetchall())\n",
        "\n",
        "for el in prof_1_3:\n",
        "  print(el, \"\\n\")"
      ],
      "execution_count": 0,
      "outputs": [
        {
          "output_type": "stream",
          "text": [
            "(0, 0, 0, 'SEARCH TABLE employees') \n",
            "\n",
            "(0, 0, 0, 'EXECUTE SCALAR SUBQUERY 1') \n",
            "\n",
            "(1, 0, 0, 'SEARCH TABLE employees') \n",
            "\n"
          ],
          "name": "stdout"
        }
      ]
    },
    {
      "cell_type": "code",
      "metadata": {
        "id": "_3XEYWtLTHfF",
        "colab_type": "code",
        "outputId": "59981b36-3f62-4054-dcf7-3a1595b5150f",
        "colab": {
          "base_uri": "https://localhost:8080/",
          "height": 85
        }
      },
      "source": [
        "prof_1_4 = (task_1_conn\n",
        "          .execute(\n",
        "              \"\"\" EXPLAIN QUERY PLAN\n",
        "                    SELECT salary AS second_max_salary\n",
        "                    FROM employees\n",
        "                    ORDER BY salary DESC\n",
        "                    LIMIT 1, 1; \"\"\")\n",
        "          .fetchall())\n",
        "\n",
        "for el in prof_1_4:\n",
        "  print(el, \"\\n\")"
      ],
      "execution_count": 0,
      "outputs": [
        {
          "output_type": "stream",
          "text": [
            "(0, 0, 0, 'SCAN TABLE employees') \n",
            "\n",
            "(0, 0, 0, 'USE TEMP B-TREE FOR ORDER BY') \n",
            "\n"
          ],
          "name": "stdout"
        }
      ]
    },
    {
      "cell_type": "markdown",
      "metadata": {
        "id": "kmRjWrG3Whh_",
        "colab_type": "text"
      },
      "source": [
        "* SEARCH - проход по отдельным строкам таблицы\n",
        "* SCAN - проход по всей таблице "
      ]
    },
    {
      "cell_type": "markdown",
      "metadata": {
        "id": "Faeu8LE_EJrn",
        "colab_type": "text"
      },
      "source": [
        "## Solutions task 1 (pandas)"
      ]
    },
    {
      "cell_type": "code",
      "metadata": {
        "id": "z0w6yTVpETsc",
        "colab_type": "code",
        "colab": {}
      },
      "source": [
        "deps = pd.read_sql_query(\"SELECT * FROM departments\", task_1_conn, index_col=\"id\")\n",
        "emps = pd.read_sql_query(\"SELECT * FROM employees\", task_1_conn, index_col=\"id\")\n",
        "task_1_conn.close()"
      ],
      "execution_count": 0,
      "outputs": []
    },
    {
      "cell_type": "code",
      "metadata": {
        "id": "gzamKWuDFvap",
        "colab_type": "code",
        "colab": {}
      },
      "source": [
        "comb = deps.merge(emps, left_on=deps.index, right_on='department_id')"
      ],
      "execution_count": 0,
      "outputs": []
    },
    {
      "cell_type": "code",
      "metadata": {
        "id": "mOMg8XqsMKq6",
        "colab_type": "code",
        "outputId": "355dff69-a4ab-43a7-b8bc-ceaa4479f5c7",
        "colab": {
          "base_uri": "https://localhost:8080/",
          "height": 85
        }
      },
      "source": [
        "comb.groupby(\"name_x\")[\"salary\"].max()"
      ],
      "execution_count": 0,
      "outputs": [
        {
          "output_type": "execute_result",
          "data": {
            "text/plain": [
              "name_x\n",
              "IT       90000\n",
              "Sales    80000\n",
              "Name: salary, dtype: int64"
            ]
          },
          "metadata": {
            "tags": []
          },
          "execution_count": 16
        }
      ]
    },
    {
      "cell_type": "code",
      "metadata": {
        "id": "mNpuq8iLId6I",
        "colab_type": "code",
        "outputId": "f5434846-e6aa-491c-a65e-1087fae5a7ea",
        "colab": {
          "base_uri": "https://localhost:8080/",
          "height": 68
        }
      },
      "source": [
        "comb.groupby(\"name_x\")[\"salary\"].mean().where(lambda x: x > 70000).dropna()"
      ],
      "execution_count": 0,
      "outputs": [
        {
          "output_type": "execute_result",
          "data": {
            "text/plain": [
              "name_x\n",
              "IT    80000.0\n",
              "Name: salary, dtype: float64"
            ]
          },
          "metadata": {
            "tags": []
          },
          "execution_count": 17
        }
      ]
    },
    {
      "cell_type": "code",
      "metadata": {
        "id": "NZDHIUqKJQXh",
        "colab_type": "code",
        "outputId": "d1b8c0cc-e5f9-40f9-e754-7f019f0cf0a9",
        "colab": {
          "base_uri": "https://localhost:8080/",
          "height": 34
        }
      },
      "source": [
        "%%timeit\n",
        "emps_sort = emps.sort_values(by=\"salary\")\n",
        "emps_sort.loc[emps_sort.index[-2], \"salary\"]"
      ],
      "execution_count": 0,
      "outputs": [
        {
          "output_type": "stream",
          "text": [
            "1000 loops, best of 3: 432 µs per loop\n"
          ],
          "name": "stdout"
        }
      ]
    },
    {
      "cell_type": "code",
      "metadata": {
        "id": "9teA_KdLXfCV",
        "colab_type": "code",
        "outputId": "464b4416-dec3-4556-accf-e0da74887dbc",
        "colab": {
          "base_uri": "https://localhost:8080/",
          "height": 51
        }
      },
      "source": [
        "%timeit emps.salary.nlargest(2).iloc[1]"
      ],
      "execution_count": 0,
      "outputs": [
        {
          "output_type": "stream",
          "text": [
            "The slowest run took 4.60 times longer than the fastest. This could mean that an intermediate result is being cached.\n",
            "1000 loops, best of 3: 271 µs per loop\n"
          ],
          "name": "stdout"
        }
      ]
    },
    {
      "cell_type": "markdown",
      "metadata": {
        "id": "iUgZH6HHBure",
        "colab_type": "text"
      },
      "source": [
        "# Task 2: Employees and managers"
      ]
    },
    {
      "cell_type": "markdown",
      "metadata": {
        "id": "TkR5aEZ2B-ZX",
        "colab_type": "text"
      },
      "source": [
        "## Setup task 2"
      ]
    },
    {
      "cell_type": "code",
      "metadata": {
        "id": "JNFWuK91CHLz",
        "colab_type": "code",
        "colab": {}
      },
      "source": [
        "create_employees_2 =  \"\"\" CREATE TABLE IF NOT EXISTS employees (\n",
        "                                        id integer PRIMARY KEY,\n",
        "                                        name text NOT NULL,\n",
        "                                        salary integer NOT NULL,\n",
        "                                        manager_id integer NOT NULL,                                        \n",
        "                                        sex text NOT NULL,\n",
        "                                        empl_date text NOT NULL,\n",
        "                                        FOREIGN KEY(manager_id) REFERENCES employees(id) \n",
        "                                        );\n",
        "                      \"\"\""
      ],
      "execution_count": 0,
      "outputs": []
    },
    {
      "cell_type": "code",
      "metadata": {
        "id": "kL2RuW7NCRaq",
        "colab_type": "code",
        "colab": {}
      },
      "source": [
        "insert_employees_2 =  \"\"\" INSERT INTO employees (id, name, salary, manager_id, sex, empl_date)\n",
        "                          VALUES\n",
        "\t                        (\"1\", \"Joe\", \"70000\", \"3\", \"m\", \"20190301\"),\n",
        "                          (\"2\", \"Henry\", \"80000\", \"4\", \"m\", \"20190401\"),\n",
        "                          (\"3\", \"Sam\", \"60000\", \"NULL\", \"s\", \"20190501\"),\n",
        "                          (\"4\", \"Max\", \"90000\", \"NULL\", \"m\", \"20190101\");\n",
        "                      \"\"\""
      ],
      "execution_count": 0,
      "outputs": []
    },
    {
      "cell_type": "code",
      "metadata": {
        "id": "Llsg24x1Cpiv",
        "colab_type": "code",
        "outputId": "1d76fae6-35e1-457d-a5ef-2ef8eb396332",
        "colab": {
          "base_uri": "https://localhost:8080/",
          "height": 34
        }
      },
      "source": [
        "task_2_conn = setup_task([create_employees_2, insert_employees_2])"
      ],
      "execution_count": 0,
      "outputs": [
        {
          "output_type": "stream",
          "text": [
            "DB setup has been successfully completed!\n"
          ],
          "name": "stdout"
        }
      ]
    },
    {
      "cell_type": "markdown",
      "metadata": {
        "id": "Yhk01JGAP5BY",
        "colab_type": "text"
      },
      "source": [
        "## Solutions task 2 (SQL)"
      ]
    },
    {
      "cell_type": "markdown",
      "metadata": {
        "id": "v8Mh5GXnE19M",
        "colab_type": "text"
      },
      "source": [
        "2.1. Напишите SQL запрос который найдет имена всех работников, которые получают больше чем их менеджеры. Если у работника нет менеджера, они не должны попадать в выборку.\n"
      ]
    },
    {
      "cell_type": "code",
      "metadata": {
        "id": "8RrT41omDb8c",
        "colab_type": "code",
        "outputId": "73270a3a-e225-4b15-a8c4-4f6d5c0cbd6a",
        "colab": {
          "base_uri": "https://localhost:8080/",
          "height": 80
        }
      },
      "source": [
        "pd.read_sql_query(\"\"\" SELECT t1.name\n",
        "                      FROM employees t1\n",
        "                      INNER JOIN employees t2\n",
        "                      ON t1.manager_id = t2.id\n",
        "                      WHERE t1.salary > t2.salary; \"\"\",\n",
        "                  task_2_conn)"
      ],
      "execution_count": 0,
      "outputs": [
        {
          "output_type": "execute_result",
          "data": {
            "text/html": [
              "<div>\n",
              "<style scoped>\n",
              "    .dataframe tbody tr th:only-of-type {\n",
              "        vertical-align: middle;\n",
              "    }\n",
              "\n",
              "    .dataframe tbody tr th {\n",
              "        vertical-align: top;\n",
              "    }\n",
              "\n",
              "    .dataframe thead th {\n",
              "        text-align: right;\n",
              "    }\n",
              "</style>\n",
              "<table border=\"1\" class=\"dataframe\">\n",
              "  <thead>\n",
              "    <tr style=\"text-align: right;\">\n",
              "      <th></th>\n",
              "      <th>name</th>\n",
              "    </tr>\n",
              "  </thead>\n",
              "  <tbody>\n",
              "    <tr>\n",
              "      <th>0</th>\n",
              "      <td>Joe</td>\n",
              "    </tr>\n",
              "  </tbody>\n",
              "</table>\n",
              "</div>"
            ],
            "text/plain": [
              "  name\n",
              "0  Joe"
            ]
          },
          "metadata": {
            "tags": []
          },
          "execution_count": 23
        }
      ]
    },
    {
      "cell_type": "markdown",
      "metadata": {
        "id": "ujl_04kJH0_i",
        "colab_type": "text"
      },
      "source": [
        "2.2. Написать SQL запрос, где найти количество сотрудников в зависимости от пола и принятые на работу в диапазоне между 01/02/2019 и 31/11/2019.\n"
      ]
    },
    {
      "cell_type": "code",
      "metadata": {
        "id": "jKW_30EYH89i",
        "colab_type": "code",
        "outputId": "f117b1ab-bf77-40c0-c05a-9e446b678444",
        "colab": {
          "base_uri": "https://localhost:8080/",
          "height": 111
        }
      },
      "source": [
        "pd.read_sql_query(\"\"\" SELECT sex, COUNT(*) AS num_employees\n",
        "                      FROM employees\n",
        "                      WHERE empl_date BETWEEN '20190201' AND '20191131'\n",
        "                      GROUP BY sex; \"\"\",\n",
        "                  task_2_conn)"
      ],
      "execution_count": 0,
      "outputs": [
        {
          "output_type": "execute_result",
          "data": {
            "text/html": [
              "<div>\n",
              "<style scoped>\n",
              "    .dataframe tbody tr th:only-of-type {\n",
              "        vertical-align: middle;\n",
              "    }\n",
              "\n",
              "    .dataframe tbody tr th {\n",
              "        vertical-align: top;\n",
              "    }\n",
              "\n",
              "    .dataframe thead th {\n",
              "        text-align: right;\n",
              "    }\n",
              "</style>\n",
              "<table border=\"1\" class=\"dataframe\">\n",
              "  <thead>\n",
              "    <tr style=\"text-align: right;\">\n",
              "      <th></th>\n",
              "      <th>sex</th>\n",
              "      <th>num_employees</th>\n",
              "    </tr>\n",
              "  </thead>\n",
              "  <tbody>\n",
              "    <tr>\n",
              "      <th>0</th>\n",
              "      <td>m</td>\n",
              "      <td>2</td>\n",
              "    </tr>\n",
              "    <tr>\n",
              "      <th>1</th>\n",
              "      <td>s</td>\n",
              "      <td>1</td>\n",
              "    </tr>\n",
              "  </tbody>\n",
              "</table>\n",
              "</div>"
            ],
            "text/plain": [
              "  sex  num_employees\n",
              "0   m              2\n",
              "1   s              1"
            ]
          },
          "metadata": {
            "tags": []
          },
          "execution_count": 24
        }
      ]
    },
    {
      "cell_type": "markdown",
      "metadata": {
        "id": "jLIeX3YQN1YH",
        "colab_type": "text"
      },
      "source": [
        "2.3. Напишите SQL запрос, чтобы найти список сотрудников, в именах которых присутствует буква 'M' или 'm'\n"
      ]
    },
    {
      "cell_type": "code",
      "metadata": {
        "id": "eN9bLEsGN5y4",
        "colab_type": "code",
        "outputId": "310f8ed8-01ac-4cc4-9e33-a8257b360e78",
        "colab": {
          "base_uri": "https://localhost:8080/",
          "height": 111
        }
      },
      "source": [
        "pd.read_sql_query(\"\"\" SELECT *\n",
        "                      FROM employees\n",
        "                      WHERE name LIKE '%m%'; \"\"\",\n",
        "                  task_2_conn)"
      ],
      "execution_count": 0,
      "outputs": [
        {
          "output_type": "execute_result",
          "data": {
            "text/html": [
              "<div>\n",
              "<style scoped>\n",
              "    .dataframe tbody tr th:only-of-type {\n",
              "        vertical-align: middle;\n",
              "    }\n",
              "\n",
              "    .dataframe tbody tr th {\n",
              "        vertical-align: top;\n",
              "    }\n",
              "\n",
              "    .dataframe thead th {\n",
              "        text-align: right;\n",
              "    }\n",
              "</style>\n",
              "<table border=\"1\" class=\"dataframe\">\n",
              "  <thead>\n",
              "    <tr style=\"text-align: right;\">\n",
              "      <th></th>\n",
              "      <th>id</th>\n",
              "      <th>name</th>\n",
              "      <th>salary</th>\n",
              "      <th>manager_id</th>\n",
              "      <th>sex</th>\n",
              "      <th>empl_date</th>\n",
              "    </tr>\n",
              "  </thead>\n",
              "  <tbody>\n",
              "    <tr>\n",
              "      <th>0</th>\n",
              "      <td>3</td>\n",
              "      <td>Sam</td>\n",
              "      <td>60000</td>\n",
              "      <td>NULL</td>\n",
              "      <td>s</td>\n",
              "      <td>20190501</td>\n",
              "    </tr>\n",
              "    <tr>\n",
              "      <th>1</th>\n",
              "      <td>4</td>\n",
              "      <td>Max</td>\n",
              "      <td>90000</td>\n",
              "      <td>NULL</td>\n",
              "      <td>m</td>\n",
              "      <td>20190101</td>\n",
              "    </tr>\n",
              "  </tbody>\n",
              "</table>\n",
              "</div>"
            ],
            "text/plain": [
              "   id name  salary manager_id sex empl_date\n",
              "0   3  Sam   60000       NULL   s  20190501\n",
              "1   4  Max   90000       NULL   m  20190101"
            ]
          },
          "metadata": {
            "tags": []
          },
          "execution_count": 25
        }
      ]
    },
    {
      "cell_type": "markdown",
      "metadata": {
        "id": "hNVCcrd6NLbK",
        "colab_type": "text"
      },
      "source": [
        "## Solutions task 2 (pandas)"
      ]
    },
    {
      "cell_type": "code",
      "metadata": {
        "id": "blLl7n0cR3IP",
        "colab_type": "code",
        "colab": {}
      },
      "source": [
        "emp = pd.read_sql_query(\"SELECT * FROM employees\", task_2_conn, index_col=\"id\")\n",
        "task_2_conn.close()"
      ],
      "execution_count": 0,
      "outputs": []
    },
    {
      "cell_type": "code",
      "metadata": {
        "id": "uB5UjMFLOtak",
        "colab_type": "code",
        "outputId": "3158b129-0524-46e3-bef1-a9e835ce549b",
        "colab": {
          "base_uri": "https://localhost:8080/",
          "height": 51
        }
      },
      "source": [
        "comb_self = pd.merge(emp, emp, left_on=emp.index, right_on=\"manager_id\")\n",
        "comb_self.loc[comb_self[\"salary_y\"] > comb_self[\"salary_x\"], \"name_y\"]"
      ],
      "execution_count": 0,
      "outputs": [
        {
          "output_type": "execute_result",
          "data": {
            "text/plain": [
              "0    Joe\n",
              "Name: name_y, dtype: object"
            ]
          },
          "metadata": {
            "tags": []
          },
          "execution_count": 27
        }
      ]
    },
    {
      "cell_type": "code",
      "metadata": {
        "id": "fRZWJWGTQFlc",
        "colab_type": "code",
        "outputId": "cd5135b4-3ab7-4b5a-b81a-4783fba0fe77",
        "colab": {
          "base_uri": "https://localhost:8080/",
          "height": 85
        }
      },
      "source": [
        "emp_fil = emp.loc[(emp[\"empl_date\"] > \"20190201\") & (emp[\"empl_date\"] < \"20191131\")]\n",
        "emp_fil.groupby(\"sex\")[\"name\"].count()"
      ],
      "execution_count": 0,
      "outputs": [
        {
          "output_type": "execute_result",
          "data": {
            "text/plain": [
              "sex\n",
              "m    2\n",
              "s    1\n",
              "Name: name, dtype: int64"
            ]
          },
          "metadata": {
            "tags": []
          },
          "execution_count": 28
        }
      ]
    },
    {
      "cell_type": "code",
      "metadata": {
        "id": "w9unHi-KSBta",
        "colab_type": "code",
        "outputId": "5ee41fc5-fbbc-4570-af78-57b087b521af",
        "colab": {
          "base_uri": "https://localhost:8080/",
          "height": 142
        }
      },
      "source": [
        "emp[emp[\"name\"].str.contains(\"m|M\")]"
      ],
      "execution_count": 0,
      "outputs": [
        {
          "output_type": "execute_result",
          "data": {
            "text/html": [
              "<div>\n",
              "<style scoped>\n",
              "    .dataframe tbody tr th:only-of-type {\n",
              "        vertical-align: middle;\n",
              "    }\n",
              "\n",
              "    .dataframe tbody tr th {\n",
              "        vertical-align: top;\n",
              "    }\n",
              "\n",
              "    .dataframe thead th {\n",
              "        text-align: right;\n",
              "    }\n",
              "</style>\n",
              "<table border=\"1\" class=\"dataframe\">\n",
              "  <thead>\n",
              "    <tr style=\"text-align: right;\">\n",
              "      <th></th>\n",
              "      <th>name</th>\n",
              "      <th>salary</th>\n",
              "      <th>manager_id</th>\n",
              "      <th>sex</th>\n",
              "      <th>empl_date</th>\n",
              "    </tr>\n",
              "    <tr>\n",
              "      <th>id</th>\n",
              "      <th></th>\n",
              "      <th></th>\n",
              "      <th></th>\n",
              "      <th></th>\n",
              "      <th></th>\n",
              "    </tr>\n",
              "  </thead>\n",
              "  <tbody>\n",
              "    <tr>\n",
              "      <th>3</th>\n",
              "      <td>Sam</td>\n",
              "      <td>60000</td>\n",
              "      <td>NULL</td>\n",
              "      <td>s</td>\n",
              "      <td>20190501</td>\n",
              "    </tr>\n",
              "    <tr>\n",
              "      <th>4</th>\n",
              "      <td>Max</td>\n",
              "      <td>90000</td>\n",
              "      <td>NULL</td>\n",
              "      <td>m</td>\n",
              "      <td>20190101</td>\n",
              "    </tr>\n",
              "  </tbody>\n",
              "</table>\n",
              "</div>"
            ],
            "text/plain": [
              "   name  salary manager_id sex empl_date\n",
              "id                                      \n",
              "3   Sam   60000       NULL   s  20190501\n",
              "4   Max   90000       NULL   m  20190101"
            ]
          },
          "metadata": {
            "tags": []
          },
          "execution_count": 29
        }
      ]
    },
    {
      "cell_type": "markdown",
      "metadata": {
        "id": "wx0XiUWSPfZH",
        "colab_type": "text"
      },
      "source": [
        "# Task 3: Temperature"
      ]
    },
    {
      "cell_type": "markdown",
      "metadata": {
        "id": "htyDfiH0Pj_u",
        "colab_type": "text"
      },
      "source": [
        "## Setup task 3"
      ]
    },
    {
      "cell_type": "code",
      "metadata": {
        "id": "eHQar0drPowF",
        "colab_type": "code",
        "colab": {}
      },
      "source": [
        "create_weathers = \"\"\" CREATE TABLE IF NOT EXISTS weathers (\n",
        "                                      id integer PRIMARY KEY,\n",
        "                                      date text NOT NULL,\n",
        "                                      temperature integer NOT NULL\n",
        "                                      );\n",
        "                  \"\"\""
      ],
      "execution_count": 0,
      "outputs": []
    },
    {
      "cell_type": "code",
      "metadata": {
        "id": "x9skMOJ_Qc4o",
        "colab_type": "code",
        "colab": {}
      },
      "source": [
        "insert_weathers = \"\"\" INSERT INTO weathers (id, date, temperature)\n",
        "                          VALUES\n",
        "\t                        (\"1\", \"20160101\", \"10\"),\n",
        "                          (\"2\", \"20160102\", \"25\"),\n",
        "                          (\"3\", \"20160103\", \"20\"),\n",
        "                          (\"4\", \"20160104\", \"30\");\n",
        "                  \"\"\""
      ],
      "execution_count": 0,
      "outputs": []
    },
    {
      "cell_type": "code",
      "metadata": {
        "id": "MJQOyAQnRsbu",
        "colab_type": "code",
        "outputId": "2bf91365-99be-41c3-8e7f-427c0afcb812",
        "colab": {
          "base_uri": "https://localhost:8080/",
          "height": 34
        }
      },
      "source": [
        "task_3_conn = setup_task([create_weathers, insert_weathers])"
      ],
      "execution_count": 0,
      "outputs": [
        {
          "output_type": "stream",
          "text": [
            "DB setup has been successfully completed!\n"
          ],
          "name": "stdout"
        }
      ]
    },
    {
      "cell_type": "markdown",
      "metadata": {
        "id": "_u9Zu_kLR8R1",
        "colab_type": "text"
      },
      "source": [
        "## Solutions task 3 (SQL)"
      ]
    },
    {
      "cell_type": "markdown",
      "metadata": {
        "id": "s0vZ3yeKSOEv",
        "colab_type": "text"
      },
      "source": [
        "3.1. Напишите SQL запрос для выбора id всех записей, температура в которых была выше, чем в предыдущий день (чем вчера)"
      ]
    },
    {
      "cell_type": "code",
      "metadata": {
        "id": "VxsVQK3oR-LF",
        "colab_type": "code",
        "colab": {}
      },
      "source": [
        "# LAG () is not supported in current version of sqlite\n",
        "\n",
        "# SELECT id\n",
        "# FROM  (SELECT id,\n",
        "#               temperature - LAG(temperature, 1)\n",
        "#                             OVER (ORDER BY date) AS change\n",
        "#       FROM weathers) t1\n",
        "# WHERE change > 0"
      ],
      "execution_count": 0,
      "outputs": []
    },
    {
      "cell_type": "code",
      "metadata": {
        "id": "lMYfEqySQX3X",
        "colab_type": "code",
        "outputId": "f498797a-9044-4643-a03a-265da26a9f9c",
        "colab": {
          "base_uri": "https://localhost:8080/",
          "height": 111
        }
      },
      "source": [
        "pd.read_sql_query(\"\"\" SELECT id                      \n",
        "                      FROM weathers t1\n",
        "                      WHERE temperature - (SELECT t2.temperature \n",
        "                                          FROM weathers t2 \n",
        "                                          WHERE \n",
        "                                          t2.date < t1.date      \n",
        "                                          ORDER BY t2.date DESC\n",
        "                                          LIMIT 1\n",
        "                                          ) > 0; \"\"\",\n",
        "                  task_3_conn)"
      ],
      "execution_count": 0,
      "outputs": [
        {
          "output_type": "execute_result",
          "data": {
            "text/html": [
              "<div>\n",
              "<style scoped>\n",
              "    .dataframe tbody tr th:only-of-type {\n",
              "        vertical-align: middle;\n",
              "    }\n",
              "\n",
              "    .dataframe tbody tr th {\n",
              "        vertical-align: top;\n",
              "    }\n",
              "\n",
              "    .dataframe thead th {\n",
              "        text-align: right;\n",
              "    }\n",
              "</style>\n",
              "<table border=\"1\" class=\"dataframe\">\n",
              "  <thead>\n",
              "    <tr style=\"text-align: right;\">\n",
              "      <th></th>\n",
              "      <th>id</th>\n",
              "    </tr>\n",
              "  </thead>\n",
              "  <tbody>\n",
              "    <tr>\n",
              "      <th>0</th>\n",
              "      <td>2</td>\n",
              "    </tr>\n",
              "    <tr>\n",
              "      <th>1</th>\n",
              "      <td>4</td>\n",
              "    </tr>\n",
              "  </tbody>\n",
              "</table>\n",
              "</div>"
            ],
            "text/plain": [
              "   id\n",
              "0   2\n",
              "1   4"
            ]
          },
          "metadata": {
            "tags": []
          },
          "execution_count": 40
        }
      ]
    },
    {
      "cell_type": "markdown",
      "metadata": {
        "id": "-PFpQ1cXSnDE",
        "colab_type": "text"
      },
      "source": [
        "## Solutions task 3 (pandas)"
      ]
    },
    {
      "cell_type": "code",
      "metadata": {
        "id": "cylHh2EMetny",
        "colab_type": "code",
        "colab": {}
      },
      "source": [
        "weathers = pd.read_sql_query(\"SELECT * FROM weathers\", task_3_conn, index_col=\"id\")\n",
        "task_3_conn.close()"
      ],
      "execution_count": 0,
      "outputs": []
    },
    {
      "cell_type": "code",
      "metadata": {
        "id": "gHNMDJeuS4fA",
        "colab_type": "code",
        "colab": {}
      },
      "source": [
        "weathers[\"date\"] = pd.to_datetime(weathers[\"date\"])"
      ],
      "execution_count": 0,
      "outputs": []
    },
    {
      "cell_type": "code",
      "metadata": {
        "id": "hTWZslCITnLv",
        "colab_type": "code",
        "outputId": "7f28bc97-d516-4a6a-8878-d13b0df0cf52",
        "colab": {
          "base_uri": "https://localhost:8080/",
          "height": 34
        }
      },
      "source": [
        "weathers = weathers.sort_values(by=\"date\")\n",
        "weathers[\"prev_temperature\"] = weathers[\"temperature\"].shift(1)\n",
        "list(weathers.index[weathers[\"temperature\"] > weathers[\"prev_temperature\"]])"
      ],
      "execution_count": 0,
      "outputs": [
        {
          "output_type": "execute_result",
          "data": {
            "text/plain": [
              "[2, 4]"
            ]
          },
          "metadata": {
            "tags": []
          },
          "execution_count": 42
        }
      ]
    },
    {
      "cell_type": "markdown",
      "metadata": {
        "id": "zb0Mm0P4ZtnP",
        "colab_type": "text"
      },
      "source": [
        "# Task 4: Grades"
      ]
    },
    {
      "cell_type": "markdown",
      "metadata": {
        "id": "I5rGhaReZ8Zp",
        "colab_type": "text"
      },
      "source": [
        "## Setup task 4"
      ]
    },
    {
      "cell_type": "code",
      "metadata": {
        "id": "CseFwe9Kigvw",
        "colab_type": "code",
        "colab": {}
      },
      "source": [
        "create_tests =  \"\"\" CREATE TABLE IF NOT EXISTS tests (\n",
        "                                      id integer PRIMARY KEY,\n",
        "                                      description text NOT NULL                                      \n",
        "                                      );\n",
        "                \"\"\""
      ],
      "execution_count": 0,
      "outputs": []
    },
    {
      "cell_type": "code",
      "metadata": {
        "id": "TMYgOoEyi0ji",
        "colab_type": "code",
        "colab": {}
      },
      "source": [
        "insert_tests =  \"\"\" INSERT INTO tests (id, description)\n",
        "                          VALUES\n",
        "\t                        (\"1\", \"test_1\"),\n",
        "                          (\"2\", \"test_2\"),\n",
        "                          (\"3\", \"test_3\"),\n",
        "                          (\"4\", \"test_4\");\n",
        "                \"\"\""
      ],
      "execution_count": 0,
      "outputs": []
    },
    {
      "cell_type": "code",
      "metadata": {
        "id": "-SeOyinUaJIl",
        "colab_type": "code",
        "colab": {}
      },
      "source": [
        "create_grades = \"\"\" CREATE TABLE IF NOT EXISTS grades (\n",
        "                                      id integer PRIMARY KEY,\n",
        "                                      test_id integer NOT NULL,\n",
        "                                      grade text,\n",
        "                                      grader integer\n",
        "                                      );\n",
        "                \"\"\""
      ],
      "execution_count": 0,
      "outputs": []
    },
    {
      "cell_type": "code",
      "metadata": {
        "id": "z-WqWn2EaMFD",
        "colab_type": "code",
        "colab": {}
      },
      "source": [
        "insert_grades = \"\"\" INSERT INTO grades (id, test_id, grade, grader)\n",
        "                          VALUES\n",
        "\t                        (\"1\", \"1\", \"A\", \"1\"),\n",
        "                          (\"2\", \"1\", \"B\", \"2\"),\n",
        "                          (\"3\", \"2\", \"C\", \"2\"),\n",
        "                          (\"4\", \"2\", \"C\", \"3\"),\n",
        "                          (\"5\", \"3\", \"C\", \"1\"),\n",
        "                          (\"6\", \"3\", \"D\", \"3\"),\n",
        "                          (\"7\", \"4\", NULL, NULL);\n",
        "                \"\"\""
      ],
      "execution_count": 0,
      "outputs": []
    },
    {
      "cell_type": "code",
      "metadata": {
        "id": "UDaEnGRUch0y",
        "colab_type": "code",
        "outputId": "d965fed5-ceb3-48cc-f574-a12c3f7d98cb",
        "colab": {
          "base_uri": "https://localhost:8080/",
          "height": 34
        }
      },
      "source": [
        "task_4_conn = setup_task([create_tests, insert_tests, create_grades, insert_grades])"
      ],
      "execution_count": 0,
      "outputs": [
        {
          "output_type": "stream",
          "text": [
            "DB setup has been successfully completed!\n"
          ],
          "name": "stdout"
        }
      ]
    },
    {
      "cell_type": "markdown",
      "metadata": {
        "id": "fSfe0lpckh6S",
        "colab_type": "text"
      },
      "source": [
        "## Solutions task 4 (SQL)"
      ]
    },
    {
      "cell_type": "markdown",
      "metadata": {
        "id": "Dy7984rchqwd",
        "colab_type": "text"
      },
      "source": [
        "4.1. Написать SQL запрос для получения списка всех тестов, которые не были оценены grader=”grader1”.\n"
      ]
    },
    {
      "cell_type": "code",
      "metadata": {
        "id": "df_uUOW8dUqc",
        "colab_type": "code",
        "outputId": "5225934f-1d65-433d-cc0e-9eeed93aec83",
        "colab": {
          "base_uri": "https://localhost:8080/",
          "height": 142
        }
      },
      "source": [
        "pd.read_sql_query(\"\"\" SELECT id, description\n",
        "                      FROM tests\n",
        "                      WHERE id NOT IN (SELECT test_id\n",
        "                                      FROM grades\n",
        "                                  WHERE grader = 1)\n",
        "                        OR id IN (SELECT test_id\n",
        "                                  FROM grades\n",
        "                                  WHERE grader is NULL); \"\"\",\n",
        "                  task_4_conn,\n",
        "                  index_col=\"id\")"
      ],
      "execution_count": 0,
      "outputs": [
        {
          "output_type": "execute_result",
          "data": {
            "text/html": [
              "<div>\n",
              "<style scoped>\n",
              "    .dataframe tbody tr th:only-of-type {\n",
              "        vertical-align: middle;\n",
              "    }\n",
              "\n",
              "    .dataframe tbody tr th {\n",
              "        vertical-align: top;\n",
              "    }\n",
              "\n",
              "    .dataframe thead th {\n",
              "        text-align: right;\n",
              "    }\n",
              "</style>\n",
              "<table border=\"1\" class=\"dataframe\">\n",
              "  <thead>\n",
              "    <tr style=\"text-align: right;\">\n",
              "      <th></th>\n",
              "      <th>description</th>\n",
              "    </tr>\n",
              "    <tr>\n",
              "      <th>id</th>\n",
              "      <th></th>\n",
              "    </tr>\n",
              "  </thead>\n",
              "  <tbody>\n",
              "    <tr>\n",
              "      <th>2</th>\n",
              "      <td>test_2</td>\n",
              "    </tr>\n",
              "    <tr>\n",
              "      <th>4</th>\n",
              "      <td>test_4</td>\n",
              "    </tr>\n",
              "  </tbody>\n",
              "</table>\n",
              "</div>"
            ],
            "text/plain": [
              "   description\n",
              "id            \n",
              "2       test_2\n",
              "4       test_4"
            ]
          },
          "metadata": {
            "tags": []
          },
          "execution_count": 47
        }
      ]
    },
    {
      "cell_type": "markdown",
      "metadata": {
        "id": "IP3jSxxz0NlQ",
        "colab_type": "text"
      },
      "source": [
        "## Solutions task 4 (pandas)"
      ]
    },
    {
      "cell_type": "code",
      "metadata": {
        "id": "PUOWB175hGVY",
        "colab_type": "code",
        "colab": {}
      },
      "source": [
        "tests = pd.read_sql_query(\"SELECT * FROM tests\", task_4_conn, index_col=\"id\")\n",
        "grades = pd.read_sql_query(\"SELECT * FROM grades\", task_4_conn, index_col=\"id\")\n",
        "task_4_conn.close()"
      ],
      "execution_count": 0,
      "outputs": []
    },
    {
      "cell_type": "code",
      "metadata": {
        "id": "nt2i5sud2rBu",
        "colab_type": "code",
        "outputId": "6a01e73e-75cb-4d48-9b06-2733560d33e8",
        "colab": {
          "base_uri": "https://localhost:8080/",
          "height": 142
        }
      },
      "source": [
        "tests_by_grader_1 = (grades\n",
        "                     .groupby(\"test_id\")\n",
        "                     .filter(lambda g: any(g.grader == 1))[\"test_id\"]\n",
        "                     .unique())\n",
        "\n",
        "tests.loc[~tests.index.isin(tests_by_grader_1), :]"
      ],
      "execution_count": 0,
      "outputs": [
        {
          "output_type": "execute_result",
          "data": {
            "text/html": [
              "<div>\n",
              "<style scoped>\n",
              "    .dataframe tbody tr th:only-of-type {\n",
              "        vertical-align: middle;\n",
              "    }\n",
              "\n",
              "    .dataframe tbody tr th {\n",
              "        vertical-align: top;\n",
              "    }\n",
              "\n",
              "    .dataframe thead th {\n",
              "        text-align: right;\n",
              "    }\n",
              "</style>\n",
              "<table border=\"1\" class=\"dataframe\">\n",
              "  <thead>\n",
              "    <tr style=\"text-align: right;\">\n",
              "      <th></th>\n",
              "      <th>description</th>\n",
              "    </tr>\n",
              "    <tr>\n",
              "      <th>id</th>\n",
              "      <th></th>\n",
              "    </tr>\n",
              "  </thead>\n",
              "  <tbody>\n",
              "    <tr>\n",
              "      <th>2</th>\n",
              "      <td>test_2</td>\n",
              "    </tr>\n",
              "    <tr>\n",
              "      <th>4</th>\n",
              "      <td>test_4</td>\n",
              "    </tr>\n",
              "  </tbody>\n",
              "</table>\n",
              "</div>"
            ],
            "text/plain": [
              "   description\n",
              "id            \n",
              "2       test_2\n",
              "4       test_4"
            ]
          },
          "metadata": {
            "tags": []
          },
          "execution_count": 49
        }
      ]
    },
    {
      "cell_type": "markdown",
      "metadata": {
        "id": "13TJpNOrktGU",
        "colab_type": "text"
      },
      "source": [
        "# Task 5: Students"
      ]
    },
    {
      "cell_type": "markdown",
      "metadata": {
        "id": "z_dtCGRmk1fT",
        "colab_type": "text"
      },
      "source": [
        "## Setup task 5"
      ]
    },
    {
      "cell_type": "code",
      "metadata": {
        "id": "1Tx5Ugz6k4Xs",
        "colab_type": "code",
        "colab": {}
      },
      "source": [
        "create_students =   \"\"\" CREATE TABLE IF NOT EXISTS students (\n",
        "                                      student_id integer PRIMARY KEY,\n",
        "                                      mark integer NOT NULL                                      \n",
        "                                      );\n",
        "                    \"\"\""
      ],
      "execution_count": 0,
      "outputs": []
    },
    {
      "cell_type": "code",
      "metadata": {
        "id": "xBuO2KFMk9j7",
        "colab_type": "code",
        "colab": {}
      },
      "source": [
        "insert_students =   \"\"\" INSERT INTO students (student_id, mark)\n",
        "                          VALUES\n",
        "\t                        (\"1\", \"5\"),\n",
        "                          (\"2\", \"4\"),\n",
        "                          (\"3\", \"4\"),\n",
        "                          (\"4\", \"4\"),\n",
        "                          (\"5\", \"3\"),\n",
        "                          (\"6\", \"3\"),\n",
        "                          (\"7\", \"5\");\n",
        "                    \"\"\""
      ],
      "execution_count": 0,
      "outputs": []
    },
    {
      "cell_type": "code",
      "metadata": {
        "id": "HgzyRwK3l479",
        "colab_type": "code",
        "outputId": "3cfb2fe3-e41c-41d0-e385-79782fb9f26e",
        "colab": {
          "base_uri": "https://localhost:8080/",
          "height": 34
        }
      },
      "source": [
        "task_5_conn = setup_task([create_students, insert_students])"
      ],
      "execution_count": 0,
      "outputs": [
        {
          "output_type": "stream",
          "text": [
            "DB setup has been successfully completed!\n"
          ],
          "name": "stdout"
        }
      ]
    },
    {
      "cell_type": "markdown",
      "metadata": {
        "id": "toPUx4iXnlfm",
        "colab_type": "text"
      },
      "source": [
        "## Solutions task 5 (SQL)"
      ]
    },
    {
      "cell_type": "markdown",
      "metadata": {
        "id": "6-ULrWK1ntZb",
        "colab_type": "text"
      },
      "source": [
        "5.1. Найти всех студентов, чьи оценки являются больше, чем средние оценки, т.е. список студентов выше среднего"
      ]
    },
    {
      "cell_type": "code",
      "metadata": {
        "id": "bY5w7xufmDft",
        "colab_type": "code",
        "outputId": "3179afc1-fa80-4ee2-8278-89ed02bb8194",
        "colab": {
          "base_uri": "https://localhost:8080/",
          "height": 111
        }
      },
      "source": [
        "pd.read_sql_query(\"\"\" SELECT student_id\n",
        "                      FROM students\n",
        "                      WHERE mark > (SELECT AVG(Mark)\n",
        "                                    FROM students); \"\"\",\n",
        "                  task_5_conn)"
      ],
      "execution_count": 0,
      "outputs": [
        {
          "output_type": "execute_result",
          "data": {
            "text/html": [
              "<div>\n",
              "<style scoped>\n",
              "    .dataframe tbody tr th:only-of-type {\n",
              "        vertical-align: middle;\n",
              "    }\n",
              "\n",
              "    .dataframe tbody tr th {\n",
              "        vertical-align: top;\n",
              "    }\n",
              "\n",
              "    .dataframe thead th {\n",
              "        text-align: right;\n",
              "    }\n",
              "</style>\n",
              "<table border=\"1\" class=\"dataframe\">\n",
              "  <thead>\n",
              "    <tr style=\"text-align: right;\">\n",
              "      <th></th>\n",
              "      <th>student_id</th>\n",
              "    </tr>\n",
              "  </thead>\n",
              "  <tbody>\n",
              "    <tr>\n",
              "      <th>0</th>\n",
              "      <td>1</td>\n",
              "    </tr>\n",
              "    <tr>\n",
              "      <th>1</th>\n",
              "      <td>7</td>\n",
              "    </tr>\n",
              "  </tbody>\n",
              "</table>\n",
              "</div>"
            ],
            "text/plain": [
              "   student_id\n",
              "0           1\n",
              "1           7"
            ]
          },
          "metadata": {
            "tags": []
          },
          "execution_count": 53
        }
      ]
    },
    {
      "cell_type": "markdown",
      "metadata": {
        "id": "fRCpqdcV8v0I",
        "colab_type": "text"
      },
      "source": [
        "## Solutions task 5 (pandas)"
      ]
    },
    {
      "cell_type": "code",
      "metadata": {
        "id": "zcuhXn3XoUgv",
        "colab_type": "code",
        "colab": {}
      },
      "source": [
        "students = pd.read_sql_query(\"SELECT * FROM students\", task_5_conn)\n",
        "task_5_conn.close()"
      ],
      "execution_count": 0,
      "outputs": []
    },
    {
      "cell_type": "code",
      "metadata": {
        "id": "HMSWqf4T9dUQ",
        "colab_type": "code",
        "outputId": "753f5ead-08bd-415b-da7a-79f7c9665f5a",
        "colab": {
          "base_uri": "https://localhost:8080/",
          "height": 68
        }
      },
      "source": [
        "students.loc[students.mark > students.mark.mean(), \"student_id\"]"
      ],
      "execution_count": 0,
      "outputs": [
        {
          "output_type": "execute_result",
          "data": {
            "text/plain": [
              "0    1\n",
              "6    7\n",
              "Name: student_id, dtype: int64"
            ]
          },
          "metadata": {
            "tags": []
          },
          "execution_count": 55
        }
      ]
    },
    {
      "cell_type": "markdown",
      "metadata": {
        "id": "rlcmyUuwokYU",
        "colab_type": "text"
      },
      "source": [
        "# Task 6: Triggers"
      ]
    },
    {
      "cell_type": "markdown",
      "metadata": {
        "id": "MRJPkzijopji",
        "colab_type": "text"
      },
      "source": [
        "## Setup task 6"
      ]
    },
    {
      "cell_type": "code",
      "metadata": {
        "id": "eHWwm5-kpALE",
        "colab_type": "code",
        "colab": {}
      },
      "source": [
        "create_products =   \"\"\" CREATE TABLE IF NOT EXISTS products (\n",
        "                                      id integer PRIMARY KEY,\n",
        "                                      model text NOT NULL,\n",
        "                                      price integer NOT NULL                                      \n",
        "                                      );\n",
        "                    \"\"\""
      ],
      "execution_count": 0,
      "outputs": []
    },
    {
      "cell_type": "code",
      "metadata": {
        "id": "OTQ-KKsoplS0",
        "colab_type": "code",
        "colab": {}
      },
      "source": [
        "insert_products =   \"\"\" INSERT INTO products (id, model, price)\n",
        "                          VALUES\n",
        "\t                        (\"1\", \"brand_A\", \"5\"),\n",
        "                          (\"2\", \"brand_A\", \"10\"),\n",
        "                          (\"3\", \"brand_B\", \"15\");\n",
        "                    \"\"\""
      ],
      "execution_count": 0,
      "outputs": []
    },
    {
      "cell_type": "code",
      "metadata": {
        "id": "Xsj7p_Zvqb2O",
        "colab_type": "code",
        "colab": {}
      },
      "source": [
        "create_products_history =   \"\"\" CREATE TABLE IF NOT EXISTS products_history (\n",
        "                                      id integer PRIMARY KEY,\n",
        "                                      product_id integer NOT NULL,\n",
        "                                      model_old text NOT NULL,\n",
        "                                      model_new text NOT NULL,\n",
        "                                      price_old integer NOT NULL,\n",
        "                                      price_new integer NOT NULL,\n",
        "                                      upd_date text NOT NULL                                                                            \n",
        "                                      );\n",
        "                    \"\"\""
      ],
      "execution_count": 0,
      "outputs": []
    },
    {
      "cell_type": "code",
      "metadata": {
        "id": "955MbCyi6T4U",
        "colab_type": "code",
        "outputId": "159f6ae7-08c4-4ff7-b40d-dbfa9bcf4865",
        "colab": {
          "base_uri": "https://localhost:8080/",
          "height": 34
        }
      },
      "source": [
        "task_6_conn = setup_task([create_products, insert_products, create_products_history])"
      ],
      "execution_count": 0,
      "outputs": [
        {
          "output_type": "stream",
          "text": [
            "DB setup has been successfully completed!\n"
          ],
          "name": "stdout"
        }
      ]
    },
    {
      "cell_type": "markdown",
      "metadata": {
        "id": "OoYG1LIfBMOF",
        "colab_type": "text"
      },
      "source": [
        "## Solutions task 6 (SQL)"
      ]
    },
    {
      "cell_type": "markdown",
      "metadata": {
        "id": "ESHVDqwBA-t_",
        "colab_type": "text"
      },
      "source": [
        "6.1. Написать триггер, который заполняет отдельную таблицу ProductHistory данными, которые были актуальными на момент изменения информации о продукте\n"
      ]
    },
    {
      "cell_type": "code",
      "metadata": {
        "id": "aDSfDbAK6VCO",
        "colab_type": "code",
        "colab": {}
      },
      "source": [
        "create_trigger =  \"\"\" CREATE TRIGGER keep_products_history_after_update \n",
        "                    AFTER UPDATE ON products\n",
        "                    WHEN old.model <> new.model\n",
        "                    OR old.price <> new.price\n",
        "                      BEGIN\n",
        "\t                      INSERT INTO products_history (\n",
        "\t\t                      product_id,\n",
        "                          model_old,\n",
        "\t\t                      model_new,\n",
        "                          price_old,\n",
        "                          price_new,\t\n",
        "\t\t                      upd_date)\n",
        "                        VALUES (\n",
        "                          old.id,\n",
        "                          old.model,\n",
        "\t\t                      new.model,\n",
        "                          old.price,\n",
        "                          new.price,\t\t                      \t\n",
        "\t\t                      DATETIME('NOW'));\n",
        "                      END; \"\"\""
      ],
      "execution_count": 0,
      "outputs": []
    },
    {
      "cell_type": "code",
      "metadata": {
        "id": "CkwiT1-g_UqV",
        "colab_type": "code",
        "outputId": "c6601f42-9a74-4804-d571-06256ddfbfc8",
        "colab": {
          "base_uri": "https://localhost:8080/",
          "height": 34
        }
      },
      "source": [
        "task_6_conn.cursor().execute(create_trigger)"
      ],
      "execution_count": 0,
      "outputs": [
        {
          "output_type": "execute_result",
          "data": {
            "text/plain": [
              "<sqlite3.Cursor at 0x7f2a24804180>"
            ]
          },
          "metadata": {
            "tags": []
          },
          "execution_count": 61
        }
      ]
    },
    {
      "cell_type": "code",
      "metadata": {
        "id": "yJoSOBMR9Psa",
        "colab_type": "code",
        "outputId": "a9992896-ca75-4e1a-9e74-d00fc0fb247f",
        "colab": {
          "base_uri": "https://localhost:8080/",
          "height": 34
        }
      },
      "source": [
        "# check that products_history is empty\n",
        "len(pd.read_sql_query(\"SELECT * FROM products_history\", task_6_conn))"
      ],
      "execution_count": 0,
      "outputs": [
        {
          "output_type": "execute_result",
          "data": {
            "text/plain": [
              "0"
            ]
          },
          "metadata": {
            "tags": []
          },
          "execution_count": 62
        }
      ]
    },
    {
      "cell_type": "code",
      "metadata": {
        "id": "LnqHlpXG9wWR",
        "colab_type": "code",
        "outputId": "5cf32d3a-c36a-4a03-c334-06f4b28d370f",
        "colab": {
          "base_uri": "https://localhost:8080/",
          "height": 34
        }
      },
      "source": [
        "# update products by model\n",
        "task_6_conn.cursor().execute(\"UPDATE products SET model = 'brand_A' WHERE id = 3;\")"
      ],
      "execution_count": 0,
      "outputs": [
        {
          "output_type": "execute_result",
          "data": {
            "text/plain": [
              "<sqlite3.Cursor at 0x7f2a24847f80>"
            ]
          },
          "metadata": {
            "tags": []
          },
          "execution_count": 63
        }
      ]
    },
    {
      "cell_type": "code",
      "metadata": {
        "id": "XvXlS6GY-jQz",
        "colab_type": "code",
        "colab": {}
      },
      "source": [
        "# check update is correct\n",
        "pd.read_sql_query(\"SELECT * FROM products;\", task_6_conn, index_col=\"id\")"
      ],
      "execution_count": 0,
      "outputs": []
    },
    {
      "cell_type": "code",
      "metadata": {
        "id": "l4ZG2qOL-qkW",
        "colab_type": "code",
        "outputId": "5530b512-4258-4cd4-df87-022710b7af34",
        "colab": {
          "base_uri": "https://localhost:8080/",
          "height": 111
        }
      },
      "source": [
        "# check products_history;\n",
        "pd.read_sql_query(\"SELECT * FROM products_history\", task_6_conn, index_col=\"id\")"
      ],
      "execution_count": 0,
      "outputs": [
        {
          "output_type": "execute_result",
          "data": {
            "text/html": [
              "<div>\n",
              "<style scoped>\n",
              "    .dataframe tbody tr th:only-of-type {\n",
              "        vertical-align: middle;\n",
              "    }\n",
              "\n",
              "    .dataframe tbody tr th {\n",
              "        vertical-align: top;\n",
              "    }\n",
              "\n",
              "    .dataframe thead th {\n",
              "        text-align: right;\n",
              "    }\n",
              "</style>\n",
              "<table border=\"1\" class=\"dataframe\">\n",
              "  <thead>\n",
              "    <tr style=\"text-align: right;\">\n",
              "      <th></th>\n",
              "      <th>product_id</th>\n",
              "      <th>model_old</th>\n",
              "      <th>model_new</th>\n",
              "      <th>price_old</th>\n",
              "      <th>price_new</th>\n",
              "      <th>upd_date</th>\n",
              "    </tr>\n",
              "    <tr>\n",
              "      <th>id</th>\n",
              "      <th></th>\n",
              "      <th></th>\n",
              "      <th></th>\n",
              "      <th></th>\n",
              "      <th></th>\n",
              "      <th></th>\n",
              "    </tr>\n",
              "  </thead>\n",
              "  <tbody>\n",
              "    <tr>\n",
              "      <th>1</th>\n",
              "      <td>3</td>\n",
              "      <td>brand_B</td>\n",
              "      <td>brand_A</td>\n",
              "      <td>15</td>\n",
              "      <td>15</td>\n",
              "      <td>2020-05-08 14:10:53</td>\n",
              "    </tr>\n",
              "  </tbody>\n",
              "</table>\n",
              "</div>"
            ],
            "text/plain": [
              "    product_id model_old model_new  price_old  price_new             upd_date\n",
              "id                                                                           \n",
              "1            3   brand_B   brand_A         15         15  2020-05-08 14:10:53"
            ]
          },
          "metadata": {
            "tags": []
          },
          "execution_count": 64
        }
      ]
    },
    {
      "cell_type": "code",
      "metadata": {
        "id": "a_kwSexOB8Vu",
        "colab_type": "code",
        "outputId": "6e777b1d-972e-4c90-b71d-7ab897f15a6e",
        "colab": {
          "base_uri": "https://localhost:8080/",
          "height": 173
        }
      },
      "source": [
        "# another update by price and check\n",
        "task_6_conn.cursor().execute(\"UPDATE products SET price = 20 WHERE model = 'brand_A';\")\n",
        "pd.read_sql_query(\"SELECT * FROM products\", task_6_conn, index_col=\"id\")"
      ],
      "execution_count": 0,
      "outputs": [
        {
          "output_type": "execute_result",
          "data": {
            "text/html": [
              "<div>\n",
              "<style scoped>\n",
              "    .dataframe tbody tr th:only-of-type {\n",
              "        vertical-align: middle;\n",
              "    }\n",
              "\n",
              "    .dataframe tbody tr th {\n",
              "        vertical-align: top;\n",
              "    }\n",
              "\n",
              "    .dataframe thead th {\n",
              "        text-align: right;\n",
              "    }\n",
              "</style>\n",
              "<table border=\"1\" class=\"dataframe\">\n",
              "  <thead>\n",
              "    <tr style=\"text-align: right;\">\n",
              "      <th></th>\n",
              "      <th>model</th>\n",
              "      <th>price</th>\n",
              "    </tr>\n",
              "    <tr>\n",
              "      <th>id</th>\n",
              "      <th></th>\n",
              "      <th></th>\n",
              "    </tr>\n",
              "  </thead>\n",
              "  <tbody>\n",
              "    <tr>\n",
              "      <th>1</th>\n",
              "      <td>brand_A</td>\n",
              "      <td>20</td>\n",
              "    </tr>\n",
              "    <tr>\n",
              "      <th>2</th>\n",
              "      <td>brand_A</td>\n",
              "      <td>20</td>\n",
              "    </tr>\n",
              "    <tr>\n",
              "      <th>3</th>\n",
              "      <td>brand_A</td>\n",
              "      <td>20</td>\n",
              "    </tr>\n",
              "  </tbody>\n",
              "</table>\n",
              "</div>"
            ],
            "text/plain": [
              "      model  price\n",
              "id                \n",
              "1   brand_A     20\n",
              "2   brand_A     20\n",
              "3   brand_A     20"
            ]
          },
          "metadata": {
            "tags": []
          },
          "execution_count": 65
        }
      ]
    },
    {
      "cell_type": "code",
      "metadata": {
        "id": "BYBpDbvfCoRS",
        "colab_type": "code",
        "outputId": "5e2b6251-1470-4ea5-9e49-b686444fb29a",
        "colab": {
          "base_uri": "https://localhost:8080/",
          "height": 204
        }
      },
      "source": [
        "# check products_history;\n",
        "pd.read_sql_query(\"SELECT * FROM products_history\", task_6_conn, index_col=\"id\")"
      ],
      "execution_count": 0,
      "outputs": [
        {
          "output_type": "execute_result",
          "data": {
            "text/html": [
              "<div>\n",
              "<style scoped>\n",
              "    .dataframe tbody tr th:only-of-type {\n",
              "        vertical-align: middle;\n",
              "    }\n",
              "\n",
              "    .dataframe tbody tr th {\n",
              "        vertical-align: top;\n",
              "    }\n",
              "\n",
              "    .dataframe thead th {\n",
              "        text-align: right;\n",
              "    }\n",
              "</style>\n",
              "<table border=\"1\" class=\"dataframe\">\n",
              "  <thead>\n",
              "    <tr style=\"text-align: right;\">\n",
              "      <th></th>\n",
              "      <th>product_id</th>\n",
              "      <th>model_old</th>\n",
              "      <th>model_new</th>\n",
              "      <th>price_old</th>\n",
              "      <th>price_new</th>\n",
              "      <th>upd_date</th>\n",
              "    </tr>\n",
              "    <tr>\n",
              "      <th>id</th>\n",
              "      <th></th>\n",
              "      <th></th>\n",
              "      <th></th>\n",
              "      <th></th>\n",
              "      <th></th>\n",
              "      <th></th>\n",
              "    </tr>\n",
              "  </thead>\n",
              "  <tbody>\n",
              "    <tr>\n",
              "      <th>1</th>\n",
              "      <td>3</td>\n",
              "      <td>brand_B</td>\n",
              "      <td>brand_A</td>\n",
              "      <td>15</td>\n",
              "      <td>15</td>\n",
              "      <td>2020-05-08 14:10:53</td>\n",
              "    </tr>\n",
              "    <tr>\n",
              "      <th>2</th>\n",
              "      <td>1</td>\n",
              "      <td>brand_A</td>\n",
              "      <td>brand_A</td>\n",
              "      <td>5</td>\n",
              "      <td>20</td>\n",
              "      <td>2020-05-08 14:11:00</td>\n",
              "    </tr>\n",
              "    <tr>\n",
              "      <th>3</th>\n",
              "      <td>2</td>\n",
              "      <td>brand_A</td>\n",
              "      <td>brand_A</td>\n",
              "      <td>10</td>\n",
              "      <td>20</td>\n",
              "      <td>2020-05-08 14:11:00</td>\n",
              "    </tr>\n",
              "    <tr>\n",
              "      <th>4</th>\n",
              "      <td>3</td>\n",
              "      <td>brand_A</td>\n",
              "      <td>brand_A</td>\n",
              "      <td>15</td>\n",
              "      <td>20</td>\n",
              "      <td>2020-05-08 14:11:00</td>\n",
              "    </tr>\n",
              "  </tbody>\n",
              "</table>\n",
              "</div>"
            ],
            "text/plain": [
              "    product_id model_old model_new  price_old  price_new             upd_date\n",
              "id                                                                           \n",
              "1            3   brand_B   brand_A         15         15  2020-05-08 14:10:53\n",
              "2            1   brand_A   brand_A          5         20  2020-05-08 14:11:00\n",
              "3            2   brand_A   brand_A         10         20  2020-05-08 14:11:00\n",
              "4            3   brand_A   brand_A         15         20  2020-05-08 14:11:00"
            ]
          },
          "metadata": {
            "tags": []
          },
          "execution_count": 66
        }
      ]
    },
    {
      "cell_type": "code",
      "metadata": {
        "id": "1nv00G_f_y6s",
        "colab_type": "code",
        "colab": {}
      },
      "source": [
        "task_6_conn.close()"
      ],
      "execution_count": 0,
      "outputs": []
    }
  ]
}